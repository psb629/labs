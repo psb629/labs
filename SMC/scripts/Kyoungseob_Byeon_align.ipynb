{
 "cells": [
  {
   "cell_type": "code",
   "execution_count": 1,
   "metadata": {},
   "outputs": [],
   "source": [
    "import os\n",
    "from glob import glob\n",
    "from os.path import join, dirname\n",
    "import nibabel as nib\n",
    "import numpy as np"
   ]
  },
  {
   "cell_type": "code",
   "execution_count": 2,
   "metadata": {},
   "outputs": [],
   "source": [
    "path_work = '/Users/clmn/Desktop/Samsung_Hospital/SMC10'"
   ]
  },
  {
   "cell_type": "code",
   "execution_count": 3,
   "metadata": {},
   "outputs": [],
   "source": [
    "list_rest = glob(join(path_work, 'SMC*_fMRI.nii.gz'))\n",
    "list_T1w = glob(join(path_work, 'SMC*_T1.nii.gz'))"
   ]
  },
  {
   "cell_type": "code",
   "execution_count": 4,
   "metadata": {},
   "outputs": [
    {
     "name": "stdout",
     "output_type": "stream",
     "text": [
      "['/Users/clmn/Desktop/Samsung_Hospital/SMC10/SMC_2020_10_fMRI.nii.gz'] \n",
      " ['/Users/clmn/Desktop/Samsung_Hospital/SMC10/SMC_2020_10_T1.nii.gz']\n"
     ]
    }
   ],
   "source": [
    "print(list_rest,'\\n',list_T1w)"
   ]
  },
  {
   "cell_type": "code",
   "execution_count": 5,
   "metadata": {},
   "outputs": [],
   "source": [
    "idx = 0\n",
    "\n",
    "rest = list_rest[idx]\n",
    "T1w = list_T1w[idx]\n",
    "temp = rest.split(os.sep)[-1].split('_')\n",
    "sub_name = temp[0]+temp[2]\n",
    "\n",
    "path_prep = dirname(rest)\n",
    "path_anat = join(path_prep, 'anat')\n",
    "path_rest = join(path_prep, 'rest')\n",
    "\n",
    "os.makedirs(path_prep, exist_ok=True)\n",
    "os.makedirs(path_anat, exist_ok=True)\n",
    "os.makedirs(path_rest, exist_ok=True)"
   ]
  },
  {
   "cell_type": "code",
   "execution_count": 9,
   "metadata": {},
   "outputs": [
    {
     "data": {
      "text/plain": [
       "0"
      ]
     },
     "execution_count": 9,
     "metadata": {},
     "output_type": "execute_result"
    }
   ],
   "source": [
    "########\n",
    "# ANAT #\n",
    "########\n",
    "os.chdir(path_anat)\n",
    "os.system('3dcopy {} orig.nii.gz'.format(T1w))\n",
    "os.system('3dWarp -deoblique -prefix deoblique.nii.gz orig.nii.gz')\n",
    "os.system('3dresample -orient RAI -prefix rai.nii.gz -inset deoblique.nii.gz')\n",
    "os.system('3dUnifize -input rai.nii.gz -prefix unifize.nii.gz -clfrac 0.5')\n",
    "os.system('3dSkullStrip -orig_vol -input unifize.nii.gz -prefix ss.nii.gz')\n",
    "os.system('3dcopy ss.nii.gz ../rest/ss.nii.gz')\n",
    "\n",
    "########\n",
    "# REST #\n",
    "########\n",
    "os.chdir(path_rest)\n",
    "os.system('3dcopy {} orig.nii.gz'.format(rest))\n",
    "os.system('3dresample -orient RAI -prefix rai.nii.gz -inset orig.nii.gz')"
   ]
  },
  {
   "cell_type": "code",
   "execution_count": 10,
   "metadata": {},
   "outputs": [
    {
     "data": {
      "text/plain": [
       "0"
      ]
     },
     "execution_count": 10,
     "metadata": {},
     "output_type": "execute_result"
    }
   ],
   "source": [
    "#  Check Severe motion\n",
    "os.system(\n",
    "    'fsl_motion_outliers -i rai.nii.gz -o mot_confound '\n",
    "    '-s FD_metric -p FD_metric_plot --fd --thresh=0.5 -t ./')"
   ]
  },
  {
   "cell_type": "code",
   "execution_count": 11,
   "metadata": {},
   "outputs": [
    {
     "name": "stdout",
     "output_type": "stream",
     "text": [
      "3 Volumes should be removed\n"
     ]
    }
   ],
   "source": [
    "fd_met = np.loadtxt('FD_metric')\n",
    "\n",
    "severe_mot_vol = np.where(fd_met > 0.5)[0]\n",
    "if len(severe_mot_vol):\n",
    "    print('{} Volumes should be removed'.format(len(severe_mot_vol)))\n",
    "else:\n",
    "    print('No problem')"
   ]
  },
  {
   "cell_type": "code",
   "execution_count": 12,
   "metadata": {},
   "outputs": [
    {
     "data": {
      "text/plain": [
       "0"
      ]
     },
     "execution_count": 12,
     "metadata": {},
     "output_type": "execute_result"
    }
   ],
   "source": [
    "# Motion Correction\n",
    "nv = nib.load('rai.nii.gz').header['dim'][4]\n",
    "SBRef = int(nv//2)\n",
    "os.system('fslroi rai SBRef {} {}'.format(SBRef, 1)) # for vis check\n",
    "os.system(\n",
    "    'mcflirt -in rai.nii.gz -out mc '\n",
    "    '-mats -plots -refvol {} -rmsrel -rmsabs'.format(SBRef))"
   ]
  },
  {
   "cell_type": "code",
   "execution_count": 13,
   "metadata": {},
   "outputs": [
    {
     "data": {
      "text/plain": [
       "0"
      ]
     },
     "execution_count": 13,
     "metadata": {},
     "output_type": "execute_result"
    }
   ],
   "source": [
    "# Skull strip\n",
    "os.system('fslmaths mc -Tmean Tmean') # mean across time\n",
    "os.system('bet2 Tmean bin -f 0.3 -n -m') # skull binary image\n",
    "os.system('fslmaths mc -mas bin_mask bet') # masking\n",
    "os.system('fslstats bet -p 2 -p 98 > thres_val.txt')\n",
    "thres = np.loadtxt('thres_val.txt')[1] / 10\n",
    "os.system('fslmaths bet -thr {} -Tmin -bin bin_mask -odt char'.format(thres))\n",
    "os.system('fslstats mc -k bin_mask -p 50')\n",
    "os.system('fslmaths bin_mask -dilF bet')\n",
    "os.system('fslmaths mc -mas bet thr')"
   ]
  },
  {
   "cell_type": "code",
   "execution_count": 14,
   "metadata": {},
   "outputs": [
    {
     "data": {
      "text/plain": [
       "0"
      ]
     },
     "execution_count": 14,
     "metadata": {},
     "output_type": "execute_result"
    }
   ],
   "source": [
    "# Intensity normalization\n",
    "os.system('fslmaths thr -inm 10000 norm')\n",
    "os.system('fslmaths norm filt')\n",
    "\n",
    "TR = nib.load('rai.nii.gz').header['pixdim'][4]\n",
    "os.system('fslhd -x filt | sed \"s/ dt=.*/ dt = \"{:.3f}\"/g\" > tmpHeader'.format(TR))\n",
    "os.system('fslcreatehd tmpHeader filt')\n",
    "os.system('fslmaths filt -Tmean mean_filt')\n",
    "os.system('fslroi filt SBRef_filt {} {}'.format(SBRef, 1))"
   ]
  },
  {
   "cell_type": "code",
   "execution_count": null,
   "metadata": {},
   "outputs": [],
   "source": [
    "# Initial registration\n",
    "os.system(\n",
    "    'flirt -ref SBRef_filt -in ss -out HR2Func_ref '\n",
    "    '-omat HR2Func.mat -cost mutualinfo -dof 12 '\n",
    "    '-searchrx -90 90 -searchry -90 90 -searchrz -90 90 -interp trilinear')\n",
    "os.system('convert_xfm -inverse -omat Func2HR.mat HR2Func.mat')\n",
    "os.system(\n",
    "    'flirt -applyxfm -init Func2HR.mat -in filt '\n",
    "    '-ref ss -out Func2HR -interp trilinear')\n",
    "os.system(\n",
    "    'flirt -ref ss.nii.gz -in SBRef -out Func2HR_ref '\n",
    "    '-omat Func2HR.mat -cost mutualinfo -dof 12 '\n",
    "    '-searchrx -90 90 -searchry -90 90 -searchrz -90 90 -interp trilinear')\n",
    "os.system(\n",
    "    'flirt -applyxfm -init Func2HR.mat -in filt '\n",
    "    '-ref ss -out Func2HR -interp trilinear')"
   ]
  },
  {
   "cell_type": "code",
   "execution_count": null,
   "metadata": {},
   "outputs": [],
   "source": [
    "# ICA\n",
    "print('ICA-FIX...')\n",
    "os.makedirs('ICAFIX')\n",
    "os.makedirs('ICAFIX/mc')\n",
    "os.makedirs('ICAFIX/reg')\n",
    "\n",
    "shutil.copy2('filt.nii.gz', 'ICAFIX/filt.nii.gz')\n",
    "shutil.copy2('mc.par', 'ICAFIX/mc/prefilt_mcf.par')\n",
    "shutil.copy2('mean_filt.nii.gz', 'ICAFIX/mean_filt.nii.gz')\n",
    "os.system('fslmaths ICAFIX/mean_filt -bin ICAFIX/mask')\n",
    "\n",
    "shutil.copy2('mean_filt.nii.gz', 'ICAFIX/reg/example_func.nii.gz')\n",
    "shutil.copy2('ss.nii.gz', 'ICAFIX/reg/highres.nii.gz')\n",
    "shutil.copy2('HR2Func.mat', 'ICAFIX/reg/highres2example_func.mat')\n",
    "\n",
    "os.system(\n",
    "    'melodic -i ICAFIX/filt -o ICAFIX/filt.ica ' +\n",
    "    '-v --nobet --bgthreshold=3 --tr={0:.3f} --report -d {1} --mmthresh=0.5 --Ostats'.format(TR, 0))"
   ]
  },
  {
   "cell_type": "code",
   "execution_count": null,
   "metadata": {},
   "outputs": [],
   "source": [
    "# Extract features (for later training and/or classifying)\n",
    "os.system('fix -f ICAFIX')\n",
    "# classify ICA components using a specific training dataset\n",
    "fix_train = '/store4/ksbyeon/ETC/preprocessing/fix1.065/training_files/Standard.RData'\n",
    "os.system('fix -c ICAFIX {} 20'.format(fix_train))\n",
    "# apply cleanup, using artefacts listed in the .txt file\n",
    "os.system('fix -a ICAFIX/fix4melview_{}_thr20.txt -m -h 0 -A'.format(fix_train.split('/')[-1].split('.')[0]))\n",
    "shutil.copy2('ICAFIX/filt_clean.nii.gz', 'filt_clean.nii.gz')\n",
    "\n",
    "# Temporal filtering\n",
    "os.system('3dFourier -lowpass 0.08 -highpass 0.009 -prefix bpf.nii.gz -retrend filt_clean.nii.gz')\n",
    "\n",
    "# Spatial filtering\n",
    "# FWHM = np.ceil(2 * float(os.popen('3dinfo -adi rai.nii.gz').read()))\n",
    "FWHM = 5\n",
    "os.system('3dmerge -quiet -1blur_fwhm {0} -doall -prefix smt.nii.gz bpf.nii.gz'.format(FWHM))\n",
    "os.system('chmod 777 -R ./')"
   ]
  },
  {
   "cell_type": "code",
   "execution_count": null,
   "metadata": {},
   "outputs": [],
   "source": []
  }
 ],
 "metadata": {
  "kernelspec": {
   "display_name": "Python 3",
   "language": "python",
   "name": "python3"
  },
  "language_info": {
   "codemirror_mode": {
    "name": "ipython",
    "version": 3
   },
   "file_extension": ".py",
   "mimetype": "text/x-python",
   "name": "python",
   "nbconvert_exporter": "python",
   "pygments_lexer": "ipython3",
   "version": "3.8.3"
  }
 },
 "nbformat": 4,
 "nbformat_minor": 4
}
