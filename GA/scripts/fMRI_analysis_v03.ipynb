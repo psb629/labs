{
 "cells": [
  {
   "cell_type": "code",
   "execution_count": 1,
   "metadata": {},
   "outputs": [],
   "source": [
    "from glob import glob\n",
    "import sys\n",
    "import os\n",
    "# import psutil\n",
    "from os.path import join, dirname\n",
    "from os.path import getsize\n",
    "import pickle\n",
    "import numpy as np\n",
    "import pandas as pd\n",
    "import scipy.stats\n",
    "\n",
    "import matplotlib.pyplot as plt\n",
    "import seaborn as sns\n",
    "import statsmodels.stats.multitest\n",
    "\n",
    "# import nilearn.masking\n",
    "from nilearn import plotting as nplt\n",
    "from nilearn import image as niimg\n",
    "import nilearn.decoding\n",
    "\n",
    "from sklearn.discriminant_analysis import LinearDiscriminantAnalysis\n",
    "from sklearn.model_selection import cross_validate\n",
    "from sklearn.model_selection import GroupKFold\n",
    "from sklearn.preprocessing import StandardScaler\n",
    "# from sklearn.svm import LinearSVC\n",
    "\n",
    "import mydef_GA\n",
    "\n",
    "%matplotlib inline"
   ]
  },
  {
   "cell_type": "code",
   "execution_count": 2,
   "metadata": {},
   "outputs": [],
   "source": [
    "## LDA analysis\n",
    "lda = LinearDiscriminantAnalysis(solver='lsqr', shrinkage='auto')"
   ]
  },
  {
   "cell_type": "code",
   "execution_count": 3,
   "metadata": {},
   "outputs": [],
   "source": [
    "from datetime import date\n",
    "today = date.today().strftime(\"%Y%m%d\")"
   ]
  },
  {
   "cell_type": "code",
   "execution_count": 4,
   "metadata": {},
   "outputs": [],
   "source": [
    "root_dir = mydef_GA.root_dir\n",
    "\n",
    "script_dir = mydef_GA.script_dir\n",
    "\n",
    "fmri_dir = mydef_GA.fmri_dir\n",
    "LSS_dir = mydef_GA.LSS_dir\n",
    "mask_dir = mydef_GA.mask_dir\n",
    "dmn_dir = mydef_GA.dmn_dir\n",
    "loc_dir = mydef_GA.loc_dir"
   ]
  },
  {
   "cell_type": "code",
   "execution_count": 5,
   "metadata": {},
   "outputs": [],
   "source": [
    "subj_list = mydef_GA.subj_list\n",
    "stage_list = mydef_GA.stage_list"
   ]
  },
  {
   "cell_type": "code",
   "execution_count": 6,
   "metadata": {},
   "outputs": [],
   "source": [
    "## labeling with target position\n",
    "# 1 - 5 - 25 - 21 - 1 - 25 - 5 - 21 - 25 - 1 - 21 - 5 - 1 - ...\n",
    "##################\n",
    "#  1  2  3  4  5 #\n",
    "#  6  7  8  9 10 #\n",
    "# 11 12 13 14 15 #\n",
    "# 16 17 18 19 20 #\n",
    "# 21 22 23 24 25 #\n",
    "##################\n",
    "target_pos = []\n",
    "\n",
    "# with open(join(root_dir,'targetID.txt')) as file:\n",
    "with open(join(script_dir,'targetID.txt')) as file:\n",
    "    for line in file:\n",
    "        target_pos.append(int(line.strip()))\n",
    "        \n",
    "target_pos = target_pos[1:97]\n",
    "# target_path = list(range(1,13))*8"
   ]
  },
  {
   "cell_type": "code",
   "execution_count": 7,
   "metadata": {},
   "outputs": [],
   "source": [
    "## background image\n",
    "img_bg = join(mask_dir,'mni152_2009bet.nii.gz')"
   ]
  },
  {
   "cell_type": "markdown",
   "metadata": {},
   "source": [
    "# ROI list"
   ]
  },
  {
   "cell_type": "markdown",
   "metadata": {},
   "source": [
    "### Movement-related ROIs from localizer"
   ]
  },
  {
   "cell_type": "code",
   "execution_count": 8,
   "metadata": {},
   "outputs": [
    {
     "data": {
      "text/plain": [
       "{'n200_c1-1_L_M1': <nibabel.nifti1.Nifti1Image at 0x7fb1508c9e50>,\n",
       " 'n200_c1-2_L_S1': <nibabel.nifti1.Nifti1Image at 0x7fb140efd310>,\n",
       " 'n200_c1_L_Postcentral': <nibabel.nifti1.Nifti1Image at 0x7fb140efd670>,\n",
       " 'n200_c1_R_SPL': <nibabel.nifti1.Nifti1Image at 0x7fb140efda30>,\n",
       " 'n200_c2_R_CerebellumIV-V': <nibabel.nifti1.Nifti1Image at 0x7fb140efdbb0>,\n",
       " 'n200_c2_R_MFG': <nibabel.nifti1.Nifti1Image at 0x7fb1508c9220>,\n",
       " 'n200_c3_R_MTG': <nibabel.nifti1.Nifti1Image at 0x7fb140efd8e0>,\n",
       " 'n200_c3_R_Postcentral': <nibabel.nifti1.Nifti1Image at 0x7fb140efd910>,\n",
       " 'n200_c4_L_IFG': <nibabel.nifti1.Nifti1Image at 0x7fb140f09100>,\n",
       " 'n200_c4_L_Putamen': <nibabel.nifti1.Nifti1Image at 0x7fb140f095b0>,\n",
       " 'n200_c5_L_SPL': <nibabel.nifti1.Nifti1Image at 0x7fb140f09970>,\n",
       " 'n200_c5_R_SMA': <nibabel.nifti1.Nifti1Image at 0x7fb140f09d00>,\n",
       " 'n200_c6_R_CerebellumVIIIb': <nibabel.nifti1.Nifti1Image at 0x7fb140f09be0>,\n",
       " 'n200_c6_R_MFG': <nibabel.nifti1.Nifti1Image at 0x7fb140f0c430>,\n",
       " 'n200_c7_L_Thalamus': <nibabel.nifti1.Nifti1Image at 0x7fb140f0c790>,\n",
       " 'n200_c7_R_MFG2': <nibabel.nifti1.Nifti1Image at 0x7fb140f0cb50>,\n",
       " 'n200_c8_R_IFG': <nibabel.nifti1.Nifti1Image at 0x7fb140f0cfd0>,\n",
       " 'n200_c9_L_MTG': <nibabel.nifti1.Nifti1Image at 0x7fb140f0f0d0>}"
      ]
     },
     "execution_count": 8,
     "metadata": {},
     "output_type": "execute_result"
    }
   ],
   "source": [
    "## ROI\n",
    "roi_imgs = {}\n",
    "path_list = sorted(glob(join(mask_dir,'localizer','n200_*.nii')))\n",
    "for path in path_list:\n",
    "    roi = path.split('/')[-1].replace('_mask.nii', '')\n",
    "    roi_imgs[roi] = niimg.load_img(path)\n",
    "roi_imgs"
   ]
  },
  {
   "cell_type": "markdown",
   "metadata": {},
   "source": [
    "### Default Mode Network"
   ]
  },
  {
   "cell_type": "code",
   "execution_count": 9,
   "metadata": {},
   "outputs": [
    {
     "data": {
      "text/plain": [
       "{'Core': <nibabel.nifti1.Nifti1Image at 0x7fb1508c9e20>,\n",
       " 'dMsub': <nibabel.nifti1.Nifti1Image at 0x7fb140f282e0>,\n",
       " 'MTLsub': <nibabel.nifti1.Nifti1Image at 0x7fb140f28400>,\n",
       " 'Core_PCC_l': <nibabel.nifti1.Nifti1Image at 0x7fb140f286a0>,\n",
       " 'Core_PCC_r': <nibabel.nifti1.Nifti1Image at 0x7fb140f28a60>,\n",
       " 'Core_aMPFC_l': <nibabel.nifti1.Nifti1Image at 0x7fb140f28e20>,\n",
       " 'Core_aMPFC_r': <nibabel.nifti1.Nifti1Image at 0x7fb140f19280>,\n",
       " 'dMsub_LTC_l': <nibabel.nifti1.Nifti1Image at 0x7fb140f19610>,\n",
       " 'dMsub_LTC_r': <nibabel.nifti1.Nifti1Image at 0x7fb140f19a30>,\n",
       " 'dMsub_TPJ_l': <nibabel.nifti1.Nifti1Image at 0x7fb140f195e0>,\n",
       " 'dMsub_TPJ_r': <nibabel.nifti1.Nifti1Image at 0x7fb140f24160>,\n",
       " 'dMsub_TempP_l_temp': <nibabel.nifti1.Nifti1Image at 0x7fb140f24520>,\n",
       " 'dMsub_TempP_r_temp': <nibabel.nifti1.Nifti1Image at 0x7fb140f28340>,\n",
       " 'dMsub_dMPFC': <nibabel.nifti1.Nifti1Image at 0x7fb140f283d0>,\n",
       " 'MTLsub_HF_l': <nibabel.nifti1.Nifti1Image at 0x7fb140f24130>,\n",
       " 'MTLsub_HF_r': <nibabel.nifti1.Nifti1Image at 0x7fb140f24e20>,\n",
       " 'MTLsub_PHC_l': <nibabel.nifti1.Nifti1Image at 0x7fb140f2e0d0>,\n",
       " 'MTLsub_PHC_r': <nibabel.nifti1.Nifti1Image at 0x7fb140f2e340>,\n",
       " 'MTLsub_Rsp_l': <nibabel.nifti1.Nifti1Image at 0x7fb140f2e700>,\n",
       " 'MTLsub_Rsp_r': <nibabel.nifti1.Nifti1Image at 0x7fb140f2eac0>,\n",
       " 'MTLsub_pIPL_l': <nibabel.nifti1.Nifti1Image at 0x7fb140f323d0>,\n",
       " 'MTLsub_pIPL_r': <nibabel.nifti1.Nifti1Image at 0x7fb140f32280>,\n",
       " 'MTLsub_vMPFC': <nibabel.nifti1.Nifti1Image at 0x7fb140f32640>}"
      ]
     },
     "execution_count": 9,
     "metadata": {},
     "output_type": "execute_result"
    }
   ],
   "source": [
    "roi_imgs = {}\n",
    "roi_names = []\n",
    "\n",
    "## DMN regions(global)\n",
    "module_names = ['Core', 'dMsub', 'MTLsub']\n",
    "\n",
    "for name in module_names:\n",
    "    DMN_list = glob(join(dmn_dir, name+'.nii'))\n",
    "    for path in DMN_list:\n",
    "        fname = path.split('/')[-1].replace('.nii', '')\n",
    "        roi_imgs[fname] = nilearn.image.load_img(path)\n",
    "        roi_names.append(fname)\n",
    "        \n",
    "# ## DMN regions(detail)\n",
    "module_names = ['Core', 'dMsub', 'MTLsub']\n",
    "\n",
    "for name in module_names:\n",
    "    DMN_list = glob(join(dmn_dir, name+'_*.nii'))\n",
    "    for path in DMN_list:\n",
    "        fname = path.split('/')[-1].replace('.nii', '')\n",
    "        roi_imgs[fname] = nilearn.image.load_img(path)\n",
    "        roi_names.append(fname)\n",
    "\n",
    "roi_imgs"
   ]
  },
  {
   "cell_type": "markdown",
   "metadata": {},
   "source": [
    "### Ventral visual stream (TT_Daemon, Brodmann Area)"
   ]
  },
  {
   "cell_type": "code",
   "execution_count": 10,
   "metadata": {},
   "outputs": [
    {
     "data": {
      "text/plain": [
       "{'BA17L': <nibabel.nifti1.Nifti1Image at 0x7fb140f0f640>,\n",
       " 'BA17R': <nibabel.nifti1.Nifti1Image at 0x7fb140f0f490>,\n",
       " 'BA18L': <nibabel.nifti1.Nifti1Image at 0x7fb140f0fbe0>,\n",
       " 'BA18R': <nibabel.nifti1.Nifti1Image at 0x7fb140f32a30>,\n",
       " 'BA19L': <nibabel.nifti1.Nifti1Image at 0x7fb140f32d30>,\n",
       " 'BA19R': <nibabel.nifti1.Nifti1Image at 0x7fb140f37370>,\n",
       " 'BA20L': <nibabel.nifti1.Nifti1Image at 0x7fb140f37700>,\n",
       " 'BA20R': <nibabel.nifti1.Nifti1Image at 0x7fb140f37a90>,\n",
       " 'BA37L': <nibabel.nifti1.Nifti1Image at 0x7fb140f37eb0>,\n",
       " 'BA37R': <nibabel.nifti1.Nifti1Image at 0x7fb140f3f070>,\n",
       " 'BA38L': <nibabel.nifti1.Nifti1Image at 0x7fb140f3f580>,\n",
       " 'BA38R': <nibabel.nifti1.Nifti1Image at 0x7fb140f3f910>}"
      ]
     },
     "execution_count": 10,
     "metadata": {},
     "output_type": "execute_result"
    }
   ],
   "source": [
    "roi_imgs = {}\n",
    "path_list = glob(join(mask_dir, 'TT_Daemon', '*.brik1.BA???.*.nii.gz'))\n",
    "for path in path_list:\n",
    "    temp = path.split('/')[-1].replace('.nii.gz', '')\n",
    "    fname = temp.split('.')[2]\n",
    "    roi_imgs[fname] = nilearn.image.load_img(path)\n",
    "roi_imgs"
   ]
  },
  {
   "cell_type": "markdown",
   "metadata": {},
   "source": [
    "### Fan280"
   ]
  },
  {
   "cell_type": "code",
   "execution_count": 11,
   "metadata": {},
   "outputs": [],
   "source": [
    "fan_imgs={}\n",
    "path_list = glob(join(mask_dir,'fan280','*.nii.gz'))\n",
    "for path in path_list:\n",
    "    temp = path.split('/')[-1].replace('.nii.gz', '')\n",
    "    fname = temp.split('.')[-1]\n",
    "    fan_imgs[fname] = nilearn.image.load_img(path)"
   ]
  },
  {
   "cell_type": "markdown",
   "metadata": {},
   "source": [
    "# Encoded activity patterns"
   ]
  },
  {
   "cell_type": "code",
   "execution_count": 12,
   "metadata": {},
   "outputs": [
    {
     "name": "stdout",
     "output_type": "stream",
     "text": [
      "01 early_practice\r"
     ]
    }
   ],
   "source": [
    "subj = '01'\n",
    "stage = 'early_practice'\n",
    "beta = mydef_GA.load_betas(subj, stage)"
   ]
  },
  {
   "cell_type": "code",
   "execution_count": null,
   "metadata": {},
   "outputs": [],
   "source": [
    "_, axes = plt.subplots(2,2,figsize=(20,20))\n",
    "axes = np.concatenate(axes)\n",
    "\n",
    "# subj = random.sample(range(30),k=1)[0]\n",
    "# print('subj : GA%s'%nn_list[subj])\n",
    "cnt = 0\n",
    "for mapping in ['practiced', 'unpracticed']:\n",
    "    for stage in ['Early', 'Late']:\n",
    "        corr_mat = np.ones((len(rois),len(rois)))\n",
    "        for i, ff in enumerate(rois):\n",
    "            for j, tt in enumerate(rois[(i+1):]):\n",
    "                corr_mat[i,j+i+1] = np.mean(scores[stage,mapping,(*sorted((ff,tt)),)])\n",
    "#                 corr_mat[i,j+i+1] = scores[stage,mapping,(*sorted((ff,tt)),)][subj]\n",
    "                corr_mat[j+i+1,i] = corr_mat[i,j+i+1]\n",
    "        nplt.plot_matrix(corr_mat, labels=rois\n",
    "                         , colorbar=False, auto_fit=True\n",
    "                         , vmax=1., vmin=-1., axes=axes[cnt]\n",
    "                         , title=\"%s / %s\"%(stage,mapping)\n",
    "                        )\n",
    "        cnt += 1"
   ]
  }
 ],
 "metadata": {
  "kernelspec": {
   "display_name": "Python 3",
   "language": "python",
   "name": "python3"
  },
  "language_info": {
   "codemirror_mode": {
    "name": "ipython",
    "version": 3
   },
   "file_extension": ".py",
   "mimetype": "text/x-python",
   "name": "python",
   "nbconvert_exporter": "python",
   "pygments_lexer": "ipython3",
   "version": "3.8.5"
  }
 },
 "nbformat": 4,
 "nbformat_minor": 4
}
