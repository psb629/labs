{
 "cells": [
  {
   "cell_type": "code",
   "execution_count": 1,
   "metadata": {},
   "outputs": [],
   "source": [
    "from datetime import date\n",
    "from glob import glob\n",
    "import os, sys\n",
    "from os.path import join, dirname\n",
    "import pickle\n",
    "import numpy as np\n",
    "import pandas as pd\n",
    "import scipy.stats\n",
    "import matplotlib.pyplot as plt\n",
    "import seaborn as sns\n",
    "from sklearn.discriminant_analysis import LinearDiscriminantAnalysis\n",
    "import nilearn.image, nilearn.masking\n",
    "from nilearn import plotting as nplt"
   ]
  },
  {
   "cell_type": "code",
   "execution_count": 2,
   "metadata": {},
   "outputs": [],
   "source": [
    "# To make plots using Matplotlib, you must first enable IPython's matplotlib mode.\n",
    "# To do this, run the %matplotlib magic command to enable plotting in the current Notebook.\n",
    "# This magic takes an optional argument that specifies which Matplotlib backend should be used. \n",
    "# Most of the time, in the Notebook, you will want to use the inline backend,\n",
    "# which will embed plots inside the Notebook:\n",
    "%matplotlib inline"
   ]
  },
  {
   "cell_type": "code",
   "execution_count": 3,
   "metadata": {},
   "outputs": [],
   "source": [
    "sigma_1 = 0.682689492137\n",
    "sigma_2 = 0.954499736104\n",
    "sigma_3 = 0.997300203937\n",
    "today = date.today().strftime(\"%Y%m%d\")"
   ]
  },
  {
   "cell_type": "code",
   "execution_count": 4,
   "metadata": {},
   "outputs": [],
   "source": [
    "fMRI_dir = '/Volumes/T7SSD1/GA/fMRI_data'\n",
    "preproc_dir = fMRI_dir + '/preproc_data'\n",
    "stat_dir = fMRI_dir + '/stats'\n",
    "mask_dir = fMRI_dir + '/masks'\n",
    "\n",
    "mask_full_dir = mask_dir + '/full'                # tlrc\n",
    "mask_caudate_dir = mask_dir + '/GA_caudate_roi'   # orig\n",
    "mask_split_dir = mask_dir + '/split_roi'          # orig\n",
    "mask_caudate_fin_dir = mask_caudate_dir + '/slicer_2/tlrc_resam_fullmask' # MNI"
   ]
  },
  {
   "cell_type": "code",
   "execution_count": 7,
   "metadata": {},
   "outputs": [],
   "source": [
    "subj_list = ['01', '02', '05', '07', '08', '11', '12', '13', '14', '15',\n",
    "             '18', '19', '20', '21', '23', '26', '27', '28', '29', '30',\n",
    "             '31', '32', '33', '34', '35', '36', '37', '38', '42', '44']"
   ]
  },
  {
   "cell_type": "code",
   "execution_count": null,
   "metadata": {},
   "outputs": [],
   "source": []
  }
 ],
 "metadata": {
  "kernelspec": {
   "display_name": "Python 3",
   "language": "python",
   "name": "python3"
  },
  "language_info": {
   "codemirror_mode": {
    "name": "ipython",
    "version": 3
   },
   "file_extension": ".py",
   "mimetype": "text/x-python",
   "name": "python",
   "nbconvert_exporter": "python",
   "pygments_lexer": "ipython3",
   "version": "3.8.2"
  }
 },
 "nbformat": 4,
 "nbformat_minor": 4
}
