{
 "cells": [
  {
   "cell_type": "code",
   "execution_count": 1,
   "metadata": {},
   "outputs": [
    {
     "name": "stderr",
     "output_type": "stream",
     "text": [
      "/usr/local/anaconda3/envs/sampark/lib/python3.7/site-packages/nilearn/datasets/__init__.py:90: FutureWarning: Fetchers from the nilearn.datasets module will be updated in version 0.9 to return python strings instead of bytes and Pandas dataframes instead of Numpy arrays.\n",
      "  \"Numpy arrays.\", FutureWarning)\n"
     ]
    }
   ],
   "source": [
    "from glob import glob\n",
    "import sys\n",
    "import getpass\n",
    "import os\n",
    "# import psutil\n",
    "from os.path import join, dirname\n",
    "from os.path import getsize\n",
    "import pickle\n",
    "import numpy as np\n",
    "import pandas as pd\n",
    "import scipy\n",
    "\n",
    "import matplotlib.pyplot as plt\n",
    "%matplotlib inline\n",
    "import seaborn as sns\n",
    "import statsmodels.stats.multitest\n",
    "# from statsmodels.sandbox.stats.multicomp import multipletests\n",
    "\n",
    "# import nilearn.masking\n",
    "from nilearn import plotting as nplt\n",
    "from nilearn import image as niimg\n",
    "import nilearn.decoding\n",
    "\n",
    "from sklearn.discriminant_analysis import LinearDiscriminantAnalysis\n",
    "from sklearn.model_selection import cross_validate\n",
    "from sklearn.model_selection import GroupKFold\n",
    "from sklearn.preprocessing import StandardScaler\n",
    "# from sklearn.svm import LinearSVC\n",
    "\n",
    "# import mydef as my Class correction for projects\n",
    "import mydef"
   ]
  },
  {
   "cell_type": "code",
   "execution_count": 2,
   "metadata": {},
   "outputs": [
    {
     "name": "stdout",
     "output_type": "stream",
     "text": [
      "Google Drive is detected!\n"
     ]
    }
   ],
   "source": [
    "GA = mydef.GA()"
   ]
  },
  {
   "cell_type": "markdown",
   "metadata": {},
   "source": [
    "## Visual areas and DMN Core"
   ]
  },
  {
   "cell_type": "code",
   "execution_count": 3,
   "metadata": {},
   "outputs": [
    {
     "name": "stdout",
     "output_type": "stream",
     "text": [
      "Google Drive is detected!\n"
     ]
    }
   ],
   "source": [
    "GA.__init__()\n",
    "GA.load_fan()"
   ]
  },
  {
   "cell_type": "code",
   "execution_count": 4,
   "metadata": {},
   "outputs": [
    {
     "data": {
      "text/plain": [
       "dict_keys(['Core_PCC_r', 'Core_aMPFC_l', 'Core_PCC_l', 'Core_aMPFC_r', 'FuG_L_3_2', 'FuG_R_3_2', 'MVOcC_L_5_1', 'MVOcC_R_5_1', 'MVOcC_L_5_3', 'MVOcC_R_5_3', 'MVOcC_R_5_4', 'LOcC_L_4_1', 'LOcC_R_4_1', 'LOcC_L_4_3', 'LOcC_R_4_3', 'LOcC_L_4_4', 'LOcC_R_4_4', 'LOcC_L_2_2'])"
      ]
     },
     "execution_count": 4,
     "metadata": {},
     "output_type": "execute_result"
    }
   ],
   "source": [
    "## DMN regions\n",
    "module_names = ['Core']\n",
    "\n",
    "for name in module_names:\n",
    "    temp = glob(join(GA.dir_dmn, name+'_*.nii'))\n",
    "    for path in temp:\n",
    "        fname = path.split('/')[-1].replace('.nii', '')\n",
    "        GA.roi_imgs[fname] = nilearn.image.load_img(path)\n",
    "\n",
    "## yeo_17network == 1\n",
    "dt = pd.DataFrame()\n",
    "for nn in [1]:\n",
    "    dt = dt.append(GA.fan_info[(GA.fan_info.yeo_17network == nn)])\n",
    "for idx in dt.index:\n",
    "    nn = dt.loc[idx,'label']\n",
    "    region = dt.loc[idx,'region']\n",
    "    GA.roi_imgs[region] = GA.fan_imgs[str(nn)]\n",
    "\n",
    "GA.roi_imgs.keys()"
   ]
  },
  {
   "cell_type": "markdown",
   "metadata": {},
   "source": [
    "### *calculate task-related networks (run once)"
   ]
  },
  {
   "cell_type": "code",
   "execution_count": null,
   "metadata": {},
   "outputs": [
    {
     "name": "stdout",
     "output_type": "stream",
     "text": [
      "01 late r01\t\t\t\t\r"
     ]
    }
   ],
   "source": [
    "GA.make_wit_functional_correl(GA.roi_imgs)"
   ]
  },
  {
   "cell_type": "markdown",
   "metadata": {},
   "source": [
    "### save the result"
   ]
  },
  {
   "cell_type": "code",
   "execution_count": null,
   "metadata": {},
   "outputs": [],
   "source": [
    "GA.save_pkl(data=GA.wit_functional_correl, suffix='bp_demean.errts_correl.MO.RO.Yeo1-Core')"
   ]
  },
  {
   "cell_type": "markdown",
   "metadata": {},
   "source": [
    "## Fan280"
   ]
  },
  {
   "cell_type": "code",
   "execution_count": 3,
   "metadata": {},
   "outputs": [
    {
     "name": "stdout",
     "output_type": "stream",
     "text": [
      "Google Drive is detected!\n"
     ]
    }
   ],
   "source": [
    "GA.__init__()\n",
    "GA.load_fan()"
   ]
  },
  {
   "cell_type": "code",
   "execution_count": 10,
   "metadata": {},
   "outputs": [],
   "source": [
    "## make full mask\n",
    "fname = join(GA.dir_mask,'fan280','fan.roi.GA.001.nii.gz')\n",
    "fmask = nilearn.image.load_img(fname)\n",
    "temp = nilearn.image.math_img(img1=fmask, formula='img1 * 0.')\n",
    "for region, img in GA.fan_imgs.items():\n",
    "    temp = nilearn.image.math_img(img1=temp, img2=img, formula='img1 + img2')\n",
    "fmask = temp"
   ]
  },
  {
   "cell_type": "code",
   "execution_count": 11,
   "metadata": {},
   "outputs": [
    {
     "data": {
      "text/plain": [
       "66189.0"
      ]
     },
     "execution_count": 11,
     "metadata": {},
     "output_type": "execute_result"
    }
   ],
   "source": [
    "np.sum(temp.get_fdata())"
   ]
  },
  {
   "cell_type": "code",
   "execution_count": null,
   "metadata": {},
   "outputs": [],
   "source": [
    "GA.save_pkl(data=GA.wit_functional_correl, suffix='bp_demean.errts_correl.MO.RO.Fan280')"
   ]
  }
 ],
 "metadata": {
  "kernelspec": {
   "display_name": "sampark",
   "language": "python",
   "name": "sampark"
  },
  "language_info": {
   "codemirror_mode": {
    "name": "ipython",
    "version": 3
   },
   "file_extension": ".py",
   "mimetype": "text/x-python",
   "name": "python",
   "nbconvert_exporter": "python",
   "pygments_lexer": "ipython3",
   "version": "3.7.10"
  }
 },
 "nbformat": 4,
 "nbformat_minor": 4
}
