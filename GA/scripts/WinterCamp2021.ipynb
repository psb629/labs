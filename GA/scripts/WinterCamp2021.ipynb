{
 "cells": [
  {
   "cell_type": "markdown",
   "metadata": {},
   "source": [
    "# *Cloud Storage"
   ]
  },
  {
   "cell_type": "markdown",
   "metadata": {},
   "source": [
    "https://drive.google.com/drive/folders/1VQgQeyEuADpT82NCIDLzbRKcTOImM1-s?usp=sharing"
   ]
  },
  {
   "cell_type": "markdown",
   "metadata": {},
   "source": [
    "Files with numeric file names are data from human subjects. You should decompress these files into preproc_data directory which is in WinterCamp2021.zip ."
   ]
  },
  {
   "cell_type": "markdown",
   "metadata": {},
   "source": [
    "# *Modules"
   ]
  },
  {
   "cell_type": "code",
   "execution_count": 1,
   "metadata": {},
   "outputs": [],
   "source": [
    "from glob import glob\n",
    "import sys\n",
    "from os.path import join, dirname\n",
    "# from os.path import getsize\n",
    "import pickle\n",
    "import numpy as np\n",
    "import pandas as pd\n",
    "import scipy.stats\n",
    "import matplotlib.pyplot as plt\n",
    "import seaborn as sns\n",
    "import statsmodels.stats.multitest\n",
    "\n",
    "%matplotlib inline"
   ]
  },
  {
   "cell_type": "markdown",
   "metadata": {},
   "source": [
    "$\\textbf{Nilearn}$ enables approachable and versatile analyses of brain volumes. It provides statistical and machine-learning tools : https://nilearn.github.io/"
   ]
  },
  {
   "cell_type": "code",
   "execution_count": 2,
   "metadata": {},
   "outputs": [
    {
     "name": "stderr",
     "output_type": "stream",
     "text": [
      "/Users/clmn/.local/lib/python3.8/site-packages/sklearn/utils/deprecation.py:143: FutureWarning: The sklearn.linear_model.base module is  deprecated in version 0.22 and will be removed in version 0.24. The corresponding classes / functions should instead be imported from sklearn.linear_model. Anything that cannot be imported from sklearn.linear_model is now part of the private API.\n",
      "  warnings.warn(message, FutureWarning)\n"
     ]
    }
   ],
   "source": [
    "# import nilearn.masking\n",
    "from nilearn import plotting as nplt\n",
    "from nilearn import image as niimg\n",
    "import nilearn.decoding"
   ]
  },
  {
   "cell_type": "markdown",
   "metadata": {},
   "source": [
    "$\\textbf{Scikit-learn}$ is an open source machine learning library that supports supervised and unsupervised learning. It also provides various tools for model fitting, data preprocessing, model selection and evaluation, and many other utilities : https://scikit-learn.org/stable/#"
   ]
  },
  {
   "cell_type": "code",
   "execution_count": 3,
   "metadata": {},
   "outputs": [],
   "source": [
    "from sklearn.discriminant_analysis import LinearDiscriminantAnalysis\n",
    "from sklearn.model_selection import cross_validate\n",
    "from sklearn.model_selection import GroupKFold\n",
    "from sklearn.svm import LinearSVC"
   ]
  },
  {
   "cell_type": "code",
   "execution_count": 4,
   "metadata": {},
   "outputs": [],
   "source": [
    "# from datetime import date\n",
    "# today = date.today().strftime(\"%Y%m%d\")"
   ]
  },
  {
   "cell_type": "markdown",
   "metadata": {},
   "source": [
    "# *create variables that point to the location of the configuration"
   ]
  },
  {
   "cell_type": "code",
   "execution_count": 5,
   "metadata": {},
   "outputs": [],
   "source": [
    "root_dir = '/Volumes/T7SSD1/WinterCamp2021' # check where the data is downloaded on your disk"
   ]
  },
  {
   "cell_type": "code",
   "execution_count": 6,
   "metadata": {},
   "outputs": [],
   "source": [
    "preproc_dir = root_dir + '/preproc_data'\n",
    "mask_dir = root_dir + '/masks'\n",
    "loc_dir = mask_dir + '/localizer'"
   ]
  },
  {
   "cell_type": "markdown",
   "metadata": {},
   "source": [
    "# *MVPA\n",
    "#### Multi-voxel pattern analysis (MVPA) is gaining increasing interest in the neuroimaging community because it allows to detect differences between conditions with higher sensitivity than conventional univariate analysis by focusing on the analysis and comparison of distributed patterns of activity. In such a multivariate approach, data from individual voxels within a region are jointly analyzed. Furthermore, MVPA is often presented in the context of \"brain reading\" applications reporting that specific mental states or representational content can be decoded from fMRI activity patterns after performing a \"training\" or \"learning phase. In this context, MVPA tools are often referred to as classifiers or, more generally, learning machines. The latter names stress that many MVPA tools originate from a field called machine learning, a branch of artificial intelligence."
   ]
  },
  {
   "cell_type": "code",
   "execution_count": 7,
   "metadata": {},
   "outputs": [],
   "source": [
    "subj_list = ['01', '02', '05', '07', '08', '11', '12', '13', '14', '15',\n",
    "             '18', '19', '20', '21', '23', '26', '27', '28', '29', '30',\n",
    "             '31', '32', '33', '34', '35', '36', '37', '38', '42', '44']\n",
    "stage_list = ['early_practice', 'early_unpractice', 'late_practice', 'late_unpractice']"
   ]
  },
  {
   "cell_type": "code",
   "execution_count": 8,
   "metadata": {},
   "outputs": [],
   "source": [
    "def load_betas(subj, stage):\n",
    "    assert subj in subj_list\n",
    "    print(subj, end='\\r')\n",
    "\n",
    "    a, b = stage.split('_')\n",
    "    assert ((a == 'early')|(a == 'late'))\n",
    "    assert ((b == 'practice')|(b == 'unpractice'))\n",
    "    g = 'GA' if a == 'early' else 'GB'\n",
    "    run_list = ['r01', 'r02', 'r03'] if b == 'practice' else ['r01', 'r05', 'r06']\n",
    "    \n",
    "    ## load betas\n",
    "    temp = {}\n",
    "    for run in run_list:\n",
    "        temp[g+subj, run] = niimg.load_img(join(preproc_dir,subj,'betasLSS.%s.%s.nii.gz'%(g+subj,run)))\n",
    "\n",
    "    ## We suppose to exclude the first slice from the last dimension of this 4D-image\n",
    "    for key, value in temp.items():\n",
    "        temp[key] = niimg.index_img(value, np.arange(1, 97))\n",
    "\n",
    "    ## new arrangement of previous data\n",
    "    beta = {}\n",
    "    beta[subj, stage] = niimg.concat_imgs([temp[g+subj, run] for run in run_list])\n",
    "        \n",
    "    return beta"
   ]
  },
  {
   "cell_type": "code",
   "execution_count": 9,
   "metadata": {},
   "outputs": [],
   "source": [
    "subj = '01'\n",
    "stage = 'late_practice'"
   ]
  },
  {
   "cell_type": "code",
   "execution_count": 10,
   "metadata": {},
   "outputs": [
    {
     "name": "stdout",
     "output_type": "stream",
     "text": [
      "{('01', 'late_practice'): <nibabel.nifti1.Nifti1Image object at 0x7ffe62227e80>}\n",
      "(72, 85, 72, 288)\n"
     ]
    }
   ],
   "source": [
    "beta = load_betas(subj,stage)\n",
    "print(beta)\n",
    "print(beta[subj,stage].shape)"
   ]
  },
  {
   "cell_type": "code",
   "execution_count": 11,
   "metadata": {},
   "outputs": [],
   "source": [
    "## labeling with target position\n",
    "##################\n",
    "#  1  2  3  4  5 #\n",
    "#  6  7  8  9 10 #\n",
    "# 11 12 13 14 15 #\n",
    "# 16 17 18 19 20 #\n",
    "# 21 22 23 24 25 #\n",
    "##################\n",
    "target_pos = []\n",
    "\n",
    "with open(join(root_dir,'targetID.txt')) as file:\n",
    "    for line in file:\n",
    "        target_pos.append(int(line.strip()))\n",
    "        \n",
    "target_pos = target_pos[1:97]\n",
    "# target_path = list(range(1,13))*8"
   ]
  },
  {
   "cell_type": "code",
   "execution_count": 12,
   "metadata": {},
   "outputs": [
    {
     "name": "stdout",
     "output_type": "stream",
     "text": [
      "target_pos:\n",
      " [5, 25, 21, 1, 25, 5, 21, 25, 1, 21, 5, 1, 5, 25, 21, 1, 25, 5, 21, 25, 1, 21, 5, 1, 5, 25, 21, 1, 25, 5, 21, 25, 1, 21, 5, 1, 5, 25, 21, 1, 25, 5, 21, 25, 1, 21, 5, 1, 5, 25, 21, 1, 25, 5, 21, 25, 1, 21, 5, 1, 5, 25, 21, 1, 25, 5, 21, 25, 1, 21, 5, 1, 5, 25, 21, 1, 25, 5, 21, 25, 1, 21, 5, 1, 5, 25, 21, 1, 25, 5, 21, 25, 1, 21, 5, 1]\n"
     ]
    }
   ],
   "source": [
    "print('target_pos:\\n',target_pos)"
   ]
  },
  {
   "cell_type": "markdown",
   "metadata": {},
   "source": [
    "## *Movement-related ROIs from localizer"
   ]
  },
  {
   "cell_type": "code",
   "execution_count": 13,
   "metadata": {},
   "outputs": [],
   "source": [
    "ROI_imgs = {}\n",
    "## ROIs\n",
    "path_list = sorted(glob(join(mask_dir,'localizer','n200_*.nii')))\n",
    "for path in path_list:\n",
    "    roi = path.split('/')[-1].replace('_mask.nii', '')\n",
    "    ROI_imgs[roi] = niimg.load_img(path)"
   ]
  },
  {
   "cell_type": "code",
   "execution_count": 14,
   "metadata": {},
   "outputs": [
    {
     "data": {
      "text/plain": [
       "{'n200_c1-1_L_M1': <nibabel.nifti1.Nifti1Image at 0x7ffe62227790>,\n",
       " 'n200_c1-2_L_S1': <nibabel.nifti1.Nifti1Image at 0x7ffe62227dc0>,\n",
       " 'n200_c2_R_CerebellumIV-V': <nibabel.nifti1.Nifti1Image at 0x7ffe62227f40>,\n",
       " 'n200_c3_R_Postcentral': <nibabel.nifti1.Nifti1Image at 0x7ffe62253070>,\n",
       " 'n200_c4_L_Putamen': <nibabel.nifti1.Nifti1Image at 0x7ffe62253130>,\n",
       " 'n200_c5_R_SMA': <nibabel.nifti1.Nifti1Image at 0x7ffe70a10bb0>,\n",
       " 'n200_c6_R_CerebellumVIIIb': <nibabel.nifti1.Nifti1Image at 0x7ffe62235610>,\n",
       " 'n200_c7_L_Thalamus': <nibabel.nifti1.Nifti1Image at 0x7ffe62253700>}"
      ]
     },
     "execution_count": 14,
     "metadata": {},
     "output_type": "execute_result"
    }
   ],
   "source": [
    "ROI_imgs"
   ]
  },
  {
   "cell_type": "markdown",
   "metadata": {},
   "source": [
    "### *cross validation"
   ]
  },
  {
   "cell_type": "code",
   "execution_count": 15,
   "metadata": {},
   "outputs": [],
   "source": [
    "def fast_masking(img, roi):\n",
    "    # img : data (NIFTI image)\n",
    "    # roi : mask (NIFTI image)\n",
    "    # output : (trials, voxels)-dimensional fdata array\n",
    "    img_data = img.get_fdata()\n",
    "    roi_mask = roi.get_fdata().astype(bool)\n",
    "    \n",
    "    if img_data.shape[:3] != roi_mask.shape:\n",
    "        raise ValueError('different shape while masking! img=%s and roi=%s' % (img_data.shape, roi_mask.shape))\n",
    "        \n",
    "    return img_data[roi_mask, :].T    # the shape is (trials, voxels) which is to cross-validate for runs"
   ]
  },
  {
   "cell_type": "code",
   "execution_count": 16,
   "metadata": {},
   "outputs": [],
   "source": [
    "## LDA analysis\n",
    "estimator = LinearDiscriminantAnalysis(solver='lsqr', shrinkage='auto')"
   ]
  },
  {
   "cell_type": "code",
   "execution_count": 17,
   "metadata": {},
   "outputs": [],
   "source": [
    "def cross_valid(beta, ROI_imgs, estimator):\n",
    "    # output : A leave-one-run-out cross-validation (LORO-CV) result.\n",
    "    #          Automatically save it as pickle file to root_dir\n",
    "    ## set the parameters\n",
    "    nrun = 3\n",
    "    cv = GroupKFold(nrun)\n",
    "    y = [j for i in range(nrun) for j in target_pos] ## answer : [5, 25, 21, 1, 25,...]\n",
    "    group = [i for i in range(nrun) for j in target_pos] ## run number : [0, 0, ..., 1, 1, ..., 2, 2]\n",
    "    \n",
    "    ## cross-validation\n",
    "    scores = {}\n",
    "    for subj, stage in beta.keys():\n",
    "        for name, img in ROI_imgs.items():\n",
    "            print(subj, stage, name, end='\\r')\n",
    "            X = fast_masking(img=beta[subj, stage], roi=img)\n",
    "            score = cross_validate(estimator=estimator, X=X, y=y, groups=group\n",
    "                                   , cv=cv, return_estimator=True, return_train_score=True)\n",
    "            scores[subj, stage, name] = score['test_score']\n",
    "    return scores"
   ]
  },
  {
   "cell_type": "code",
   "execution_count": 18,
   "metadata": {},
   "outputs": [
    {
     "name": "stdout",
     "output_type": "stream",
     "text": [
      "01 late_practice n200_c7_L_ThalamusumVIIIb\r"
     ]
    },
    {
     "data": {
      "text/plain": [
       "{('01',\n",
       "  'late_practice',\n",
       "  'n200_c1-1_L_M1'): array([0.3125    , 0.35416667, 0.3125    ]),\n",
       " ('01',\n",
       "  'late_practice',\n",
       "  'n200_c1-2_L_S1'): array([0.4375    , 0.40625   , 0.29166667]),\n",
       " ('01',\n",
       "  'late_practice',\n",
       "  'n200_c2_R_CerebellumIV-V'): array([0.25      , 0.27083333, 0.26041667]),\n",
       " ('01',\n",
       "  'late_practice',\n",
       "  'n200_c3_R_Postcentral'): array([0.375     , 0.30208333, 0.28125   ]),\n",
       " ('01',\n",
       "  'late_practice',\n",
       "  'n200_c4_L_Putamen'): array([0.28125   , 0.28125   , 0.23958333]),\n",
       " ('01',\n",
       "  'late_practice',\n",
       "  'n200_c5_R_SMA'): array([0.33333333, 0.28125   , 0.22916667]),\n",
       " ('01',\n",
       "  'late_practice',\n",
       "  'n200_c6_R_CerebellumVIIIb'): array([0.28125   , 0.30208333, 0.3125    ]),\n",
       " ('01',\n",
       "  'late_practice',\n",
       "  'n200_c7_L_Thalamus'): array([0.22916667, 0.22916667, 0.28125   ])}"
      ]
     },
     "execution_count": 18,
     "metadata": {},
     "output_type": "execute_result"
    }
   ],
   "source": [
    "scores = cross_valid(beta, ROI_imgs, estimator)\n",
    "scores"
   ]
  },
  {
   "cell_type": "markdown",
   "metadata": {},
   "source": [
    "### group analysis (Optional)"
   ]
  },
  {
   "cell_type": "code",
   "execution_count": 19,
   "metadata": {},
   "outputs": [
    {
     "name": "stdout",
     "output_type": "stream",
     "text": [
      "44\r"
     ]
    }
   ],
   "source": [
    "betas = {}\n",
    "for subj in subj_list:\n",
    "    for stage in stage_list:\n",
    "        beta = load_betas(subj, stage)\n",
    "        betas[subj, stage] = beta[subj, stage]"
   ]
  },
  {
   "cell_type": "code",
   "execution_count": 21,
   "metadata": {},
   "outputs": [
    {
     "name": "stdout",
     "output_type": "stream",
     "text": [
      "44 late_unpractice n200_c7_L_ThalamusumVIIIbb\r"
     ]
    }
   ],
   "source": [
    "scores = cross_valid(betas, ROI_imgs, estimator)"
   ]
  },
  {
   "cell_type": "code",
   "execution_count": 23,
   "metadata": {},
   "outputs": [],
   "source": [
    "## Save it as .pickle\n",
    "path = join(root_dir,'n30_dec-acc_move-rel.pkl')\n",
    "with open(path,\"wb\") as fw:\n",
    "    pickle.dump(scores, fw)"
   ]
  },
  {
   "cell_type": "markdown",
   "metadata": {},
   "source": [
    "### *read the above pickle"
   ]
  },
  {
   "cell_type": "code",
   "execution_count": 7,
   "metadata": {},
   "outputs": [],
   "source": [
    "path = join(root_dir,'210219_n30_dec-acc_move-rel.pkl')"
   ]
  },
  {
   "cell_type": "code",
   "execution_count": 8,
   "metadata": {},
   "outputs": [],
   "source": [
    "## Load pickle\n",
    "with open(path,\"rb\") as fr:\n",
    "    scores = pickle.load(file=fr)"
   ]
  },
  {
   "cell_type": "markdown",
   "metadata": {},
   "source": [
    "### *Data table"
   ]
  },
  {
   "cell_type": "code",
   "execution_count": 11,
   "metadata": {},
   "outputs": [],
   "source": [
    "def make_wit_df(scroes):\n",
    "    wit_df = pd.DataFrame(columns=['subj','ROI','visit','mapping','accuracy_1','accuracy_2','accuracy_3','mean_accuracy'])\n",
    "\n",
    "    for keys, values in scores.items():\n",
    "        v, m = keys[1].split('_')\n",
    "        wit_df = wit_df.append(\n",
    "            {'subj': keys[0]\n",
    "             ,'ROI': keys[2]\n",
    "             ,'visit': v\n",
    "             ,'mapping': m\n",
    "             ,'accuracy_1': values[0]\n",
    "             ,'accuracy_2': values[1]\n",
    "             ,'accuracy_3': values[2]\n",
    "             ,'mean_accuracy': np.mean(values)}\n",
    "            , ignore_index=True)\n",
    "    return wit_df"
   ]
  },
  {
   "cell_type": "code",
   "execution_count": 12,
   "metadata": {},
   "outputs": [
    {
     "data": {
      "text/html": [
       "<div>\n",
       "<style scoped>\n",
       "    .dataframe tbody tr th:only-of-type {\n",
       "        vertical-align: middle;\n",
       "    }\n",
       "\n",
       "    .dataframe tbody tr th {\n",
       "        vertical-align: top;\n",
       "    }\n",
       "\n",
       "    .dataframe thead th {\n",
       "        text-align: right;\n",
       "    }\n",
       "</style>\n",
       "<table border=\"1\" class=\"dataframe\">\n",
       "  <thead>\n",
       "    <tr style=\"text-align: right;\">\n",
       "      <th></th>\n",
       "      <th>subj</th>\n",
       "      <th>ROI</th>\n",
       "      <th>visit</th>\n",
       "      <th>mapping</th>\n",
       "      <th>accuracy_1</th>\n",
       "      <th>accuracy_2</th>\n",
       "      <th>accuracy_3</th>\n",
       "      <th>mean_accuracy</th>\n",
       "    </tr>\n",
       "  </thead>\n",
       "  <tbody>\n",
       "    <tr>\n",
       "      <th>0</th>\n",
       "      <td>01</td>\n",
       "      <td>n200_c1-1_L_M1</td>\n",
       "      <td>early</td>\n",
       "      <td>practice</td>\n",
       "      <td>0.375000</td>\n",
       "      <td>0.375000</td>\n",
       "      <td>0.354167</td>\n",
       "      <td>0.368056</td>\n",
       "    </tr>\n",
       "    <tr>\n",
       "      <th>1</th>\n",
       "      <td>01</td>\n",
       "      <td>n200_c1-2_L_S1</td>\n",
       "      <td>early</td>\n",
       "      <td>practice</td>\n",
       "      <td>0.343750</td>\n",
       "      <td>0.385417</td>\n",
       "      <td>0.343750</td>\n",
       "      <td>0.357639</td>\n",
       "    </tr>\n",
       "    <tr>\n",
       "      <th>2</th>\n",
       "      <td>01</td>\n",
       "      <td>n200_c2_R_CerebellumIV-V</td>\n",
       "      <td>early</td>\n",
       "      <td>practice</td>\n",
       "      <td>0.239583</td>\n",
       "      <td>0.218750</td>\n",
       "      <td>0.322917</td>\n",
       "      <td>0.260417</td>\n",
       "    </tr>\n",
       "    <tr>\n",
       "      <th>3</th>\n",
       "      <td>01</td>\n",
       "      <td>n200_c3_R_Postcentral</td>\n",
       "      <td>early</td>\n",
       "      <td>practice</td>\n",
       "      <td>0.312500</td>\n",
       "      <td>0.291667</td>\n",
       "      <td>0.333333</td>\n",
       "      <td>0.312500</td>\n",
       "    </tr>\n",
       "    <tr>\n",
       "      <th>4</th>\n",
       "      <td>01</td>\n",
       "      <td>n200_c4_L_Putamen</td>\n",
       "      <td>early</td>\n",
       "      <td>practice</td>\n",
       "      <td>0.250000</td>\n",
       "      <td>0.322917</td>\n",
       "      <td>0.208333</td>\n",
       "      <td>0.260417</td>\n",
       "    </tr>\n",
       "    <tr>\n",
       "      <th>...</th>\n",
       "      <td>...</td>\n",
       "      <td>...</td>\n",
       "      <td>...</td>\n",
       "      <td>...</td>\n",
       "      <td>...</td>\n",
       "      <td>...</td>\n",
       "      <td>...</td>\n",
       "      <td>...</td>\n",
       "    </tr>\n",
       "    <tr>\n",
       "      <th>955</th>\n",
       "      <td>44</td>\n",
       "      <td>n200_c3_R_Postcentral</td>\n",
       "      <td>late</td>\n",
       "      <td>unpractice</td>\n",
       "      <td>0.302083</td>\n",
       "      <td>0.312500</td>\n",
       "      <td>0.302083</td>\n",
       "      <td>0.305556</td>\n",
       "    </tr>\n",
       "    <tr>\n",
       "      <th>956</th>\n",
       "      <td>44</td>\n",
       "      <td>n200_c4_L_Putamen</td>\n",
       "      <td>late</td>\n",
       "      <td>unpractice</td>\n",
       "      <td>0.281250</td>\n",
       "      <td>0.250000</td>\n",
       "      <td>0.250000</td>\n",
       "      <td>0.260417</td>\n",
       "    </tr>\n",
       "    <tr>\n",
       "      <th>957</th>\n",
       "      <td>44</td>\n",
       "      <td>n200_c5_R_SMA</td>\n",
       "      <td>late</td>\n",
       "      <td>unpractice</td>\n",
       "      <td>0.239583</td>\n",
       "      <td>0.312500</td>\n",
       "      <td>0.302083</td>\n",
       "      <td>0.284722</td>\n",
       "    </tr>\n",
       "    <tr>\n",
       "      <th>958</th>\n",
       "      <td>44</td>\n",
       "      <td>n200_c6_R_CerebellumVIIIb</td>\n",
       "      <td>late</td>\n",
       "      <td>unpractice</td>\n",
       "      <td>0.322917</td>\n",
       "      <td>0.291667</td>\n",
       "      <td>0.229167</td>\n",
       "      <td>0.281250</td>\n",
       "    </tr>\n",
       "    <tr>\n",
       "      <th>959</th>\n",
       "      <td>44</td>\n",
       "      <td>n200_c7_L_Thalamus</td>\n",
       "      <td>late</td>\n",
       "      <td>unpractice</td>\n",
       "      <td>0.239583</td>\n",
       "      <td>0.291667</td>\n",
       "      <td>0.250000</td>\n",
       "      <td>0.260417</td>\n",
       "    </tr>\n",
       "  </tbody>\n",
       "</table>\n",
       "<p>960 rows × 8 columns</p>\n",
       "</div>"
      ],
      "text/plain": [
       "    subj                        ROI  visit     mapping  accuracy_1  \\\n",
       "0     01             n200_c1-1_L_M1  early    practice    0.375000   \n",
       "1     01             n200_c1-2_L_S1  early    practice    0.343750   \n",
       "2     01   n200_c2_R_CerebellumIV-V  early    practice    0.239583   \n",
       "3     01      n200_c3_R_Postcentral  early    practice    0.312500   \n",
       "4     01          n200_c4_L_Putamen  early    practice    0.250000   \n",
       "..   ...                        ...    ...         ...         ...   \n",
       "955   44      n200_c3_R_Postcentral   late  unpractice    0.302083   \n",
       "956   44          n200_c4_L_Putamen   late  unpractice    0.281250   \n",
       "957   44              n200_c5_R_SMA   late  unpractice    0.239583   \n",
       "958   44  n200_c6_R_CerebellumVIIIb   late  unpractice    0.322917   \n",
       "959   44         n200_c7_L_Thalamus   late  unpractice    0.239583   \n",
       "\n",
       "     accuracy_2  accuracy_3  mean_accuracy  \n",
       "0      0.375000    0.354167       0.368056  \n",
       "1      0.385417    0.343750       0.357639  \n",
       "2      0.218750    0.322917       0.260417  \n",
       "3      0.291667    0.333333       0.312500  \n",
       "4      0.322917    0.208333       0.260417  \n",
       "..          ...         ...            ...  \n",
       "955    0.312500    0.302083       0.305556  \n",
       "956    0.250000    0.250000       0.260417  \n",
       "957    0.312500    0.302083       0.284722  \n",
       "958    0.291667    0.229167       0.281250  \n",
       "959    0.291667    0.250000       0.260417  \n",
       "\n",
       "[960 rows x 8 columns]"
      ]
     },
     "execution_count": 12,
     "metadata": {},
     "output_type": "execute_result"
    }
   ],
   "source": [
    "wit_df = make_wit_df(scores)\n",
    "wit_df"
   ]
  },
  {
   "cell_type": "markdown",
   "metadata": {},
   "source": [
    "### t-test (Optional)"
   ]
  },
  {
   "cell_type": "code",
   "execution_count": 12,
   "metadata": {},
   "outputs": [],
   "source": [
    "ROI_list = wit_df.ROI.unique()"
   ]
  },
  {
   "cell_type": "code",
   "execution_count": 13,
   "metadata": {},
   "outputs": [],
   "source": [
    "def wit_df_t_test(wit_df, cond_A, cond_B):\n",
    "    ## cond_A vs. cond_B :\n",
    "    ### early_practice vs. late_practice\n",
    "    ### early_unpractice vs. late_unpractice\n",
    "    ### early_practice vs. early_unpractice\n",
    "    ### late_practice vs. late_unpractice\n",
    "    a1, a2 = cond_A.split('_')\n",
    "    assert a1 in ['early', 'late']\n",
    "    assert a2 in ['practice', 'unpractice']\n",
    "    b1, b2 = cond_B.split('_')\n",
    "    assert b1 in ['early', 'late']\n",
    "    assert b2 in ['practice', 'unpractice']\n",
    "    \n",
    "    if a1 == b1:\n",
    "        steady = a1\n",
    "        compare = [a2,b2]\n",
    "    elif a2 == b2:\n",
    "        steady = a2\n",
    "        compare = [a1,b1]        \n",
    "\n",
    "    ttest = {}\n",
    "    pvals = {}\n",
    "    \n",
    "    ROI_list = wit_df.ROI.unique()\n",
    "    for roi in ROI_list:\n",
    "        A = wit_df[(wit_df.ROI==roi)&(wit_df.stage==cond_A)]['mean_accuracy']\n",
    "        B = wit_df[(wit_df.ROI==roi)&(wit_df.stage==cond_B)]['mean_accuracy']\n",
    "        ttest[roi,steady,compare[0]+'_vs_'+compare[1]] = scipy.stats.ttest_rel(A, B)\n",
    "        pvals[roi,steady,compare[0]+'_vs_'+compare[1]] = statsmodels.stats.multitest.fdrcorrection(ttest[roi,steady,compare[0]+'_vs_'+compare[1]].pvalue)\n",
    "        \n",
    "    return pvals"
   ]
  },
  {
   "cell_type": "code",
   "execution_count": 14,
   "metadata": {},
   "outputs": [
    {
     "ename": "TypeError",
     "evalue": "wit_df_t_test() got an unexpected keyword argument 'cond_A'",
     "output_type": "error",
     "traceback": [
      "\u001b[0;31m---------------------------------------------------------------------------\u001b[0m",
      "\u001b[0;31mTypeError\u001b[0m                                 Traceback (most recent call last)",
      "\u001b[0;32m<ipython-input-14-1ab212210da6>\u001b[0m in \u001b[0;36m<module>\u001b[0;34m\u001b[0m\n\u001b[0;32m----> 1\u001b[0;31m \u001b[0mwit_df_t_test\u001b[0m\u001b[0;34m(\u001b[0m\u001b[0mwit_df\u001b[0m\u001b[0;34m=\u001b[0m\u001b[0mwit_df\u001b[0m\u001b[0;34m,\u001b[0m \u001b[0mcond_A\u001b[0m\u001b[0;34m=\u001b[0m\u001b[0;34m'early_practice'\u001b[0m\u001b[0;34m,\u001b[0m \u001b[0mcond_B\u001b[0m\u001b[0;34m=\u001b[0m\u001b[0;34m'late_practice'\u001b[0m\u001b[0;34m)\u001b[0m\u001b[0;34m\u001b[0m\u001b[0;34m\u001b[0m\u001b[0m\n\u001b[0m",
      "\u001b[0;31mTypeError\u001b[0m: wit_df_t_test() got an unexpected keyword argument 'cond_A'"
     ]
    }
   ],
   "source": [
    "wit_df_t_test(wit_df=wit_df, cond_A='early_practice', cond_B='late_practice')"
   ]
  },
  {
   "cell_type": "markdown",
   "metadata": {},
   "source": [
    "### *Drawing figures"
   ]
  },
  {
   "cell_type": "code",
   "execution_count": 15,
   "metadata": {},
   "outputs": [],
   "source": [
    "## background image\n",
    "img_bg = join(root_dir,'mni152_2009bet.nii.gz')"
   ]
  },
  {
   "cell_type": "code",
   "execution_count": 24,
   "metadata": {},
   "outputs": [],
   "source": [
    "sns.set(style=\"ticks\", context='talk')\n",
    "palette = ['#C5C7D2', '#00A8AA', '#C5C7D2', '#00A8AA']\n",
    "\n",
    "def draw_lineplot(roi_name, title, ax=None):\n",
    "    \n",
    "    sub_df = wit_df[wit_df['roi_name'] == roi_name]\n",
    "    ax = sns.pointplot(x='Stage', y='Mean Accuracy', hue='Mapping', data=sub_df, ax=ax,\n",
    "                  palette=palette, markers='s', scale=1, ci=68, errwidth=2, capsize=0.1)\n",
    "    sns.despine()\n",
    "    \n",
    "    ax.set_xlim((-0.4, 1.4))\n",
    "    ax.set_ylim(0.225, 0.55)\n",
    "    ax.set_yticks(np.arange(.25,.70,.15))\n",
    "    ax.set_ylabel('Decoding Accuracy')\n",
    "    ax.axhline(y=0.25, color='k', linestyle='--', alpha=0.25)\n",
    "#     ax.get_legend().remove()\n",
    "    ax.legend(loc='best', frameon=True)\n",
    "    ax.set_title(title)\n",
    "    \n",
    "    return ax"
   ]
  },
  {
   "cell_type": "code",
   "execution_count": 16,
   "metadata": {},
   "outputs": [],
   "source": [
    "sns.set(style=\"ticks\", context='talk')\n",
    "palette = ['#C5C7D2', '#00A8AA', '#C5C7D2', '#00A8AA']\n",
    "\n",
    "def draw_lineplot(wit_df, ROI_name, title, ax=None):\n",
    "    temp = wit_df[wit_df.ROI==ROI_name]\n",
    "    ax = sns.pointplot(x='visit', y='mean_accuracy', hue='mapping', data=temp, ax=ax\n",
    "                       , palette=palette, markers='s', scale=1, ci=68, errwidth=2, capsize=0.1)\n",
    "    sns.despine()\n",
    "    \n",
    "    ax.set_xlim((-0.4, 1.4))\n",
    "    ax.set_ylim(0.225, 0.55)\n",
    "    ax.set_yticks(np.arange(.25,.70,.15))\n",
    "    ax.set_ylabel('Decoding Accuracy')\n",
    "    ax.axhline(y=0.25, color='k', linestyle='--', alpha=0.25)\n",
    "#     ax.get_legend().remove()\n",
    "    ax.legend(loc='best', frameon=True)\n",
    "    ax.set_title(title)\n",
    "    \n",
    "    return ax"
   ]
  },
  {
   "cell_type": "code",
   "execution_count": 17,
   "metadata": {
    "scrolled": false
   },
   "outputs": [
    {
     "ename": "NameError",
     "evalue": "name 'roi_names' is not defined",
     "output_type": "error",
     "traceback": [
      "\u001b[0;31m---------------------------------------------------------------------------\u001b[0m",
      "\u001b[0;31mNameError\u001b[0m                                 Traceback (most recent call last)",
      "\u001b[0;32m<ipython-input-17-5aad87b21e64>\u001b[0m in \u001b[0;36m<module>\u001b[0;34m\u001b[0m\n\u001b[1;32m     13\u001b[0m \u001b[0maxes\u001b[0m \u001b[0;34m=\u001b[0m \u001b[0mnp\u001b[0m\u001b[0;34m.\u001b[0m\u001b[0mconcatenate\u001b[0m\u001b[0;34m(\u001b[0m\u001b[0maxes\u001b[0m\u001b[0;34m)\u001b[0m\u001b[0;34m\u001b[0m\u001b[0;34m\u001b[0m\u001b[0m\n\u001b[1;32m     14\u001b[0m \u001b[0;32mfor\u001b[0m \u001b[0midx\u001b[0m\u001b[0;34m,\u001b[0m \u001b[0mname\u001b[0m \u001b[0;32min\u001b[0m \u001b[0menumerate\u001b[0m\u001b[0;34m(\u001b[0m\u001b[0mtitle_list\u001b[0m\u001b[0;34m)\u001b[0m\u001b[0;34m:\u001b[0m\u001b[0;34m\u001b[0m\u001b[0;34m\u001b[0m\u001b[0m\n\u001b[0;32m---> 15\u001b[0;31m     \u001b[0mroi_name\u001b[0m \u001b[0;34m=\u001b[0m \u001b[0mroi_names\u001b[0m\u001b[0;34m[\u001b[0m\u001b[0midx\u001b[0m\u001b[0;34m]\u001b[0m\u001b[0;34m\u001b[0m\u001b[0;34m\u001b[0m\u001b[0m\n\u001b[0m\u001b[1;32m     16\u001b[0m     \u001b[0max\u001b[0m \u001b[0;34m=\u001b[0m \u001b[0mdraw_lineplot\u001b[0m\u001b[0;34m(\u001b[0m\u001b[0mroi_name\u001b[0m\u001b[0;34m,\u001b[0m \u001b[0mname\u001b[0m\u001b[0;34m,\u001b[0m \u001b[0max\u001b[0m\u001b[0;34m=\u001b[0m\u001b[0maxes\u001b[0m\u001b[0;34m[\u001b[0m\u001b[0midx\u001b[0m\u001b[0;34m+\u001b[0m\u001b[0;34m(\u001b[0m\u001b[0midx\u001b[0m\u001b[0;34m//\u001b[0m\u001b[0mncol\u001b[0m\u001b[0;34m)\u001b[0m\u001b[0;34m*\u001b[0m\u001b[0mncol\u001b[0m\u001b[0;34m]\u001b[0m\u001b[0;34m)\u001b[0m\u001b[0;34m\u001b[0m\u001b[0;34m\u001b[0m\u001b[0m\n\u001b[1;32m     17\u001b[0m     nplt.plot_roi(roi_img=roi_imgs[roi_name], bg_img=img_bg, title=name\n",
      "\u001b[0;31mNameError\u001b[0m: name 'roi_names' is not defined"
     ]
    },
    {
     "data": {
      "image/png": "[encoded data removed]",
      "text/plain": [
       "<Figure size 2304x2304 with 16 Axes>"
      ]
     },
     "metadata": {},
     "output_type": "display_data"
    }
   ],
   "source": [
    "title_list = ['Left Precentral'\n",
    "              , 'Left Postcentral'\n",
    "              , 'Right Cerebellum IV-V'\n",
    "              , 'Right Postcentral'\n",
    "              , 'Left Putamen'\n",
    "              , 'Right SMA'\n",
    "              , 'Right Cerebellum VIIIb'\n",
    "              , 'Left Thalamus']\n",
    "ncol = 4\n",
    "nrow = 4\n",
    "magn = 8\n",
    "_, axes = plt.subplots(nrow,ncol,figsize=(ncol*magn,nrow*magn))\n",
    "axes = np.concatenate(axes)\n",
    "for idx, title in enumerate(title_list):\n",
    "    ax = draw_lineplot(wit_df, ROI_name=, title, ax=axes[idx+(idx//ncol)*ncol])\n",
    "    nplt.plot_roi(roi_img=roi_imgs[roi_name], bg_img=img_bg, title=name\n",
    "                  , draw_cross=False, black_bg=False\n",
    "                  , display_mode='ortho', axes=axes[idx+(idx//ncol)*ncol+ncol])"
   ]
  },
  {
   "cell_type": "markdown",
   "metadata": {},
   "source": [
    "## SearchLight"
   ]
  },
  {
   "cell_type": "code",
   "execution_count": 15,
   "metadata": {},
   "outputs": [],
   "source": [
    "def run_searchlight(full_mask, X, y, group, cv, estimator, radius, chance_level):\n",
    "\n",
    "    searchlight = nilearn.decoding.SearchLight(\n",
    "        full_mask\n",
    "        , radius=radius\n",
    "        , estimator=estimator\n",
    "        , n_jobs=4\n",
    "        , verbose=False\n",
    "        , cv=cv\n",
    "        , scoring='balanced_accuracy'\n",
    "    )\n",
    "\n",
    "    searchlight.fit(X, y, group)\n",
    "    score = searchlight.scores_ - chance_level\n",
    "\n",
    "    return nilearn.image.new_img_like(full_mask, score)"
   ]
  },
  {
   "cell_type": "code",
   "execution_count": 21,
   "metadata": {},
   "outputs": [],
   "source": [
    "def searchlight(estimator, radius, chance_level, output_dir, prefix):\n",
    "    \n",
    "    os.makedirs(output_dir, exist_ok=True)\n",
    "    \n",
    "    nrun=3\n",
    "    cv = GroupKFold(nrun)\n",
    "    y = [j for i in range(nrun) for j in target_pos] # answer\n",
    "    group = [i for i in range(nrun) for j in target_pos] # run number\n",
    "    \n",
    "    for ii in id_list:\n",
    "        for nn in nn_list:\n",
    "            subj = ii + nn\n",
    "            print(subj, end='\\r')\n",
    "            path = join(mask_dir,'full','full_mask.GA%s.nii.gz'%nn)\n",
    "            full_mask = nilearn.image.load_img(path)\n",
    "            X = nilearn.image.concat_imgs(np.array([data[subj,rr] for rr in run_list[:3]]))\n",
    "            searchlight_img = run_searchlight(full_mask, X, y, group, cv, estimator, radius, chance_level)\n",
    "            searchlight_img.to_filename(join(output_dir,'%s.%s.r%d.nii.gz'%(prefix, subj, radius)))"
   ]
  },
  {
   "cell_type": "code",
   "execution_count": 22,
   "metadata": {},
   "outputs": [
    {
     "name": "stdout",
     "output_type": "stream",
     "text": [
      "GA33\r"
     ]
    },
    {
     "ename": "KeyboardInterrupt",
     "evalue": "",
     "output_type": "error",
     "traceback": [
      "\u001b[0;31m---------------------------------------------------------------------------\u001b[0m",
      "\u001b[0;31mKeyboardInterrupt\u001b[0m                         Traceback (most recent call last)",
      "\u001b[0;32m<ipython-input-22-e7479686fdf7>\u001b[0m in \u001b[0;36m<module>\u001b[0;34m\u001b[0m\n\u001b[1;32m      4\u001b[0m \u001b[0mchance_level\u001b[0m\u001b[0;34m=\u001b[0m\u001b[0;36m0.25\u001b[0m\u001b[0;34m\u001b[0m\u001b[0;34m\u001b[0m\u001b[0m\n\u001b[1;32m      5\u001b[0m \u001b[0moutput_dir\u001b[0m \u001b[0;34m=\u001b[0m \u001b[0mjoin\u001b[0m\u001b[0;34m(\u001b[0m\u001b[0mroot_dir\u001b[0m\u001b[0;34m,\u001b[0m\u001b[0;34m'searchlight'\u001b[0m\u001b[0;34m)\u001b[0m\u001b[0;34m\u001b[0m\u001b[0;34m\u001b[0m\u001b[0m\n\u001b[0;32m----> 6\u001b[0;31m \u001b[0msearchlight\u001b[0m\u001b[0;34m(\u001b[0m\u001b[0mestimator\u001b[0m\u001b[0;34m,\u001b[0m \u001b[0mradius\u001b[0m\u001b[0;34m,\u001b[0m \u001b[0mchance_level\u001b[0m\u001b[0;34m,\u001b[0m \u001b[0moutput_dir\u001b[0m\u001b[0;34m,\u001b[0m \u001b[0mprefix\u001b[0m\u001b[0;34m=\u001b[0m\u001b[0;34m'lda'\u001b[0m\u001b[0;34m)\u001b[0m\u001b[0;34m\u001b[0m\u001b[0;34m\u001b[0m\u001b[0m\n\u001b[0m",
      "\u001b[0;32m<ipython-input-21-e749c4996a1b>\u001b[0m in \u001b[0;36msearchlight\u001b[0;34m(estimator, radius, chance_level, output_dir, prefix)\u001b[0m\n\u001b[1;32m     15\u001b[0m             \u001b[0mfull_mask\u001b[0m \u001b[0;34m=\u001b[0m \u001b[0mnilearn\u001b[0m\u001b[0;34m.\u001b[0m\u001b[0mimage\u001b[0m\u001b[0;34m.\u001b[0m\u001b[0mload_img\u001b[0m\u001b[0;34m(\u001b[0m\u001b[0mpath\u001b[0m\u001b[0;34m)\u001b[0m\u001b[0;34m\u001b[0m\u001b[0;34m\u001b[0m\u001b[0m\n\u001b[1;32m     16\u001b[0m             \u001b[0mX\u001b[0m \u001b[0;34m=\u001b[0m \u001b[0mnilearn\u001b[0m\u001b[0;34m.\u001b[0m\u001b[0mimage\u001b[0m\u001b[0;34m.\u001b[0m\u001b[0mconcat_imgs\u001b[0m\u001b[0;34m(\u001b[0m\u001b[0mnp\u001b[0m\u001b[0;34m.\u001b[0m\u001b[0marray\u001b[0m\u001b[0;34m(\u001b[0m\u001b[0;34m[\u001b[0m\u001b[0mdata\u001b[0m\u001b[0;34m[\u001b[0m\u001b[0msubj\u001b[0m\u001b[0;34m,\u001b[0m\u001b[0mrr\u001b[0m\u001b[0;34m]\u001b[0m \u001b[0;32mfor\u001b[0m \u001b[0mrr\u001b[0m \u001b[0;32min\u001b[0m \u001b[0mrun_list\u001b[0m\u001b[0;34m[\u001b[0m\u001b[0;34m:\u001b[0m\u001b[0;36m3\u001b[0m\u001b[0;34m]\u001b[0m\u001b[0;34m]\u001b[0m\u001b[0;34m)\u001b[0m\u001b[0;34m)\u001b[0m\u001b[0;34m\u001b[0m\u001b[0;34m\u001b[0m\u001b[0m\n\u001b[0;32m---> 17\u001b[0;31m             \u001b[0msearchlight_img\u001b[0m \u001b[0;34m=\u001b[0m \u001b[0mrun_searchlight\u001b[0m\u001b[0;34m(\u001b[0m\u001b[0mfull_mask\u001b[0m\u001b[0;34m,\u001b[0m \u001b[0mX\u001b[0m\u001b[0;34m,\u001b[0m \u001b[0my\u001b[0m\u001b[0;34m,\u001b[0m \u001b[0mgroup\u001b[0m\u001b[0;34m,\u001b[0m \u001b[0mcv\u001b[0m\u001b[0;34m,\u001b[0m \u001b[0mestimator\u001b[0m\u001b[0;34m,\u001b[0m \u001b[0mradius\u001b[0m\u001b[0;34m,\u001b[0m \u001b[0mchance_level\u001b[0m\u001b[0;34m)\u001b[0m\u001b[0;34m\u001b[0m\u001b[0;34m\u001b[0m\u001b[0m\n\u001b[0m\u001b[1;32m     18\u001b[0m             \u001b[0msearchlight_img\u001b[0m\u001b[0;34m.\u001b[0m\u001b[0mto_filename\u001b[0m\u001b[0;34m(\u001b[0m\u001b[0mjoin\u001b[0m\u001b[0;34m(\u001b[0m\u001b[0moutput_dir\u001b[0m\u001b[0;34m,\u001b[0m\u001b[0;34m'%s.%s.r%d.nii.gz'\u001b[0m\u001b[0;34m%\u001b[0m\u001b[0;34m(\u001b[0m\u001b[0mprefix\u001b[0m\u001b[0;34m,\u001b[0m \u001b[0msubj\u001b[0m\u001b[0;34m,\u001b[0m \u001b[0mradius\u001b[0m\u001b[0;34m)\u001b[0m\u001b[0;34m)\u001b[0m\u001b[0;34m)\u001b[0m\u001b[0;34m\u001b[0m\u001b[0;34m\u001b[0m\u001b[0m\n",
      "\u001b[0;32m<ipython-input-15-e2187782f103>\u001b[0m in \u001b[0;36mrun_searchlight\u001b[0;34m(full_mask, X, y, group, cv, estimator, radius, chance_level)\u001b[0m\n\u001b[1;32m     11\u001b[0m     )\n\u001b[1;32m     12\u001b[0m \u001b[0;34m\u001b[0m\u001b[0m\n\u001b[0;32m---> 13\u001b[0;31m     \u001b[0msearchlight\u001b[0m\u001b[0;34m.\u001b[0m\u001b[0mfit\u001b[0m\u001b[0;34m(\u001b[0m\u001b[0mX\u001b[0m\u001b[0;34m,\u001b[0m \u001b[0my\u001b[0m\u001b[0;34m,\u001b[0m \u001b[0mgroup\u001b[0m\u001b[0;34m)\u001b[0m\u001b[0;34m\u001b[0m\u001b[0;34m\u001b[0m\u001b[0m\n\u001b[0m\u001b[1;32m     14\u001b[0m     \u001b[0mscore\u001b[0m \u001b[0;34m=\u001b[0m \u001b[0msearchlight\u001b[0m\u001b[0;34m.\u001b[0m\u001b[0mscores_\u001b[0m \u001b[0;34m-\u001b[0m \u001b[0mchance_level\u001b[0m\u001b[0;34m\u001b[0m\u001b[0;34m\u001b[0m\u001b[0m\n\u001b[1;32m     15\u001b[0m \u001b[0;34m\u001b[0m\u001b[0m\n",
      "\u001b[0;32m/usr/local/anaconda3/lib/python3.8/site-packages/nilearn/decoding/searchlight.py\u001b[0m in \u001b[0;36mfit\u001b[0;34m(self, imgs, y, groups)\u001b[0m\n\u001b[1;32m    303\u001b[0m         \u001b[0mprocess_mask_coords\u001b[0m \u001b[0;34m=\u001b[0m \u001b[0mnp\u001b[0m\u001b[0;34m.\u001b[0m\u001b[0masarray\u001b[0m\u001b[0;34m(\u001b[0m\u001b[0mprocess_mask_coords\u001b[0m\u001b[0;34m)\u001b[0m\u001b[0;34m.\u001b[0m\u001b[0mT\u001b[0m\u001b[0;34m\u001b[0m\u001b[0;34m\u001b[0m\u001b[0m\n\u001b[1;32m    304\u001b[0m \u001b[0;34m\u001b[0m\u001b[0m\n\u001b[0;32m--> 305\u001b[0;31m         X, A = _apply_mask_and_get_affinity(\n\u001b[0m\u001b[1;32m    306\u001b[0m             \u001b[0mprocess_mask_coords\u001b[0m\u001b[0;34m,\u001b[0m \u001b[0mimgs\u001b[0m\u001b[0;34m,\u001b[0m \u001b[0mself\u001b[0m\u001b[0;34m.\u001b[0m\u001b[0mradius\u001b[0m\u001b[0;34m,\u001b[0m \u001b[0;32mTrue\u001b[0m\u001b[0;34m,\u001b[0m\u001b[0;34m\u001b[0m\u001b[0;34m\u001b[0m\u001b[0m\n\u001b[1;32m    307\u001b[0m             mask_img=self.mask_img)\n",
      "\u001b[0;32m/usr/local/anaconda3/lib/python3.8/site-packages/nilearn/input_data/nifti_spheres_masker.py\u001b[0m in \u001b[0;36m_apply_mask_and_get_affinity\u001b[0;34m(seeds, niimg, radius, allow_overlap, mask_img)\u001b[0m\n\u001b[1;32m     93\u001b[0m         \u001b[0mnearest\u001b[0m \u001b[0;34m=\u001b[0m \u001b[0;34m(\u001b[0m\u001b[0mnearest\u001b[0m\u001b[0;34m[\u001b[0m\u001b[0;36m0\u001b[0m\u001b[0;34m]\u001b[0m\u001b[0;34m,\u001b[0m \u001b[0mnearest\u001b[0m\u001b[0;34m[\u001b[0m\u001b[0;36m1\u001b[0m\u001b[0;34m]\u001b[0m\u001b[0;34m,\u001b[0m \u001b[0mnearest\u001b[0m\u001b[0;34m[\u001b[0m\u001b[0;36m2\u001b[0m\u001b[0;34m]\u001b[0m\u001b[0;34m)\u001b[0m\u001b[0;34m\u001b[0m\u001b[0;34m\u001b[0m\u001b[0m\n\u001b[1;32m     94\u001b[0m         \u001b[0;32mtry\u001b[0m\u001b[0;34m:\u001b[0m\u001b[0;34m\u001b[0m\u001b[0;34m\u001b[0m\u001b[0m\n\u001b[0;32m---> 95\u001b[0;31m             \u001b[0mnearests\u001b[0m\u001b[0;34m.\u001b[0m\u001b[0mappend\u001b[0m\u001b[0;34m(\u001b[0m\u001b[0mmask_coords\u001b[0m\u001b[0;34m.\u001b[0m\u001b[0mindex\u001b[0m\u001b[0;34m(\u001b[0m\u001b[0mnearest\u001b[0m\u001b[0;34m)\u001b[0m\u001b[0;34m)\u001b[0m\u001b[0;34m\u001b[0m\u001b[0;34m\u001b[0m\u001b[0m\n\u001b[0m\u001b[1;32m     96\u001b[0m         \u001b[0;32mexcept\u001b[0m \u001b[0mValueError\u001b[0m\u001b[0;34m:\u001b[0m\u001b[0;34m\u001b[0m\u001b[0;34m\u001b[0m\u001b[0m\n\u001b[1;32m     97\u001b[0m             \u001b[0mnearests\u001b[0m\u001b[0;34m.\u001b[0m\u001b[0mappend\u001b[0m\u001b[0;34m(\u001b[0m\u001b[0;32mNone\u001b[0m\u001b[0;34m)\u001b[0m\u001b[0;34m\u001b[0m\u001b[0;34m\u001b[0m\u001b[0m\n",
      "\u001b[0;31mKeyboardInterrupt\u001b[0m: "
     ]
    }
   ],
   "source": [
    "# estimator = LinearSVC(max_iter=1000)\n",
    "estimator = LinearDiscriminantAnalysis(solver='lsqr', shrinkage='auto')\n",
    "radius=6\n",
    "chance_level=0.25\n",
    "output_dir = join(root_dir,'searchlight')\n",
    "searchlight(estimator, radius, chance_level, output_dir, prefix='lda')"
   ]
  },
  {
   "cell_type": "markdown",
   "metadata": {},
   "source": [
    "### Visualization"
   ]
  },
  {
   "cell_type": "code",
   "execution_count": null,
   "metadata": {},
   "outputs": [],
   "source": []
  }
 ],
 "metadata": {
  "kernelspec": {
   "display_name": "Python 3",
   "language": "python",
   "name": "python3"
  },
  "language_info": {
   "codemirror_mode": {
    "name": "ipython",
    "version": 3
   },
   "file_extension": ".py",
   "mimetype": "text/x-python",
   "name": "python",
   "nbconvert_exporter": "python",
   "pygments_lexer": "ipython3",
   "version": "3.8.2"
  }
 },
 "nbformat": 4,
 "nbformat_minor": 4
}
