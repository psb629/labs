{
 "cells": [
  {
   "cell_type": "code",
   "execution_count": 1,
   "metadata": {},
   "outputs": [
    {
     "name": "stderr",
     "output_type": "stream",
     "text": [
      "/usr/local/anaconda3/envs/sampark/lib/python3.7/site-packages/nilearn/datasets/__init__.py:90: FutureWarning: Fetchers from the nilearn.datasets module will be updated in version 0.9 to return python strings instead of bytes and Pandas dataframes instead of Numpy arrays.\n",
      "  \"Numpy arrays.\", FutureWarning)\n"
     ]
    }
   ],
   "source": [
    "from glob import glob\n",
    "import sys\n",
    "import getpass\n",
    "import os\n",
    "# import psutil\n",
    "from os.path import join, dirname\n",
    "from os.path import getsize\n",
    "import pickle\n",
    "import numpy as np\n",
    "import pandas as pd\n",
    "import scipy\n",
    "\n",
    "import matplotlib.pyplot as plt\n",
    "%matplotlib inline\n",
    "import seaborn as sns\n",
    "import statsmodels.stats.multitest\n",
    "# from statsmodels.sandbox.stats.multicomp import multipletests\n",
    "\n",
    "# import nilearn.masking\n",
    "from nilearn import plotting as nplt\n",
    "from nilearn import image as niimg\n",
    "import nilearn.decoding\n",
    "\n",
    "from sklearn.discriminant_analysis import LinearDiscriminantAnalysis\n",
    "from sklearn.model_selection import cross_validate\n",
    "from sklearn.model_selection import GroupKFold\n",
    "from sklearn.preprocessing import StandardScaler\n",
    "# from sklearn.svm import LinearSVC\n",
    "\n",
    "# import mydef as my Class correction for projects\n",
    "import mydef"
   ]
  },
  {
   "cell_type": "code",
   "execution_count": 2,
   "metadata": {
    "scrolled": true
   },
   "outputs": [
    {
     "name": "stdout",
     "output_type": "stream",
     "text": [
      "Google Drive is detected!\n"
     ]
    }
   ],
   "source": [
    "GA = mydef.GA()"
   ]
  },
  {
   "cell_type": "markdown",
   "metadata": {},
   "source": [
    "## 1. ROI list"
   ]
  },
  {
   "cell_type": "markdown",
   "metadata": {},
   "source": [
    "   - Localizer"
   ]
  },
  {
   "cell_type": "code",
   "execution_count": 3,
   "metadata": {},
   "outputs": [
    {
     "data": {
      "text/plain": [
       "{'n200_c1-1_L_M1': <nibabel.nifti1.Nifti1Image at 0x7fcc806ff290>,\n",
       " 'n200_c1-2_L_S1': <nibabel.nifti1.Nifti1Image at 0x7fcc7191e210>,\n",
       " 'n200_c1_L_Postcentral': <nibabel.nifti1.Nifti1Image at 0x7fcc7191e490>,\n",
       " 'n200_c1_R_SPL': <nibabel.nifti1.Nifti1Image at 0x7fcc7191e6d0>,\n",
       " 'n200_c2_R_CerebellumIV-V': <nibabel.nifti1.Nifti1Image at 0x7fcc7191e890>,\n",
       " 'n200_c2_R_MFG': <nibabel.nifti1.Nifti1Image at 0x7fcc7191ead0>,\n",
       " 'n200_c3_R_MTG': <nibabel.nifti1.Nifti1Image at 0x7fcc7191ed10>,\n",
       " 'n200_c3_R_Postcentral': <nibabel.nifti1.Nifti1Image at 0x7fcc7191ef10>,\n",
       " 'n200_c4_L_IFG': <nibabel.nifti1.Nifti1Image at 0x7fcc715841d0>,\n",
       " 'n200_c4_L_Putamen': <nibabel.nifti1.Nifti1Image at 0x7fcc71584310>,\n",
       " 'n200_c5_L_SPL': <nibabel.nifti1.Nifti1Image at 0x7fcc71584550>,\n",
       " 'n200_c5_R_SMA': <nibabel.nifti1.Nifti1Image at 0x7fcc71584750>,\n",
       " 'n200_c6_R_CerebellumVIIIb': <nibabel.nifti1.Nifti1Image at 0x7fcc71584890>,\n",
       " 'n200_c6_R_MFG': <nibabel.nifti1.Nifti1Image at 0x7fcc71584b50>,\n",
       " 'n200_c7_L_Thalamus': <nibabel.nifti1.Nifti1Image at 0x7fcc71584d10>,\n",
       " 'n200_c7_R_MFG2': <nibabel.nifti1.Nifti1Image at 0x7fcc71584d90>,\n",
       " 'n200_c8_R_IFG': <nibabel.nifti1.Nifti1Image at 0x7fcc7158c110>,\n",
       " 'n200_c9_L_MTG': <nibabel.nifti1.Nifti1Image at 0x7fcc7158c410>}"
      ]
     },
     "execution_count": 3,
     "metadata": {},
     "output_type": "execute_result"
    }
   ],
   "source": [
    "## ROI\n",
    "path_list = sorted(glob(join(GA.dir_mask,'localizer','n200_*.nii')))\n",
    "for path in path_list:\n",
    "    roi = path.split('/')[-1].replace('_mask.nii', '')\n",
    "    GA.roi_imgs[roi] = niimg.load_img(path)\n",
    "GA.roi_imgs"
   ]
  },
  {
   "cell_type": "code",
   "execution_count": 4,
   "metadata": {
    "scrolled": true
   },
   "outputs": [
    {
     "data": {
      "text/plain": [
       "{'n200_c1_L_Postcentral': <nibabel.nifti1.Nifti1Image at 0x7fcc7191e490>,\n",
       " 'n200_c2_R_CerebellumIV-V': <nibabel.nifti1.Nifti1Image at 0x7fcc7191e890>,\n",
       " 'n200_c3_R_Postcentral': <nibabel.nifti1.Nifti1Image at 0x7fcc7191ef10>,\n",
       " 'n200_c4_L_Putamen': <nibabel.nifti1.Nifti1Image at 0x7fcc71584310>,\n",
       " 'n200_c5_R_SMA': <nibabel.nifti1.Nifti1Image at 0x7fcc71584750>,\n",
       " 'n200_c6_R_CerebellumVIIIb': <nibabel.nifti1.Nifti1Image at 0x7fcc71584890>,\n",
       " 'n200_c7_L_Thalamus': <nibabel.nifti1.Nifti1Image at 0x7fcc71584d10>}"
      ]
     },
     "execution_count": 4,
     "metadata": {},
     "output_type": "execute_result"
    }
   ],
   "source": [
    "key_list = ['n200_c1_L_Postcentral'\n",
    "            , 'n200_c2_R_CerebellumIV-V'\n",
    "            , 'n200_c3_R_Postcentral'\n",
    "            , 'n200_c4_L_Putamen'\n",
    "            , 'n200_c5_R_SMA'\n",
    "            , 'n200_c6_R_CerebellumVIIIb'\n",
    "            , 'n200_c7_L_Thalamus']\n",
    "temp = {}\n",
    "for key in key_list:\n",
    "    temp[key] = GA.roi_imgs[key]\n",
    "GA.roi_imgs = temp\n",
    "GA.roi_imgs"
   ]
  },
  {
   "cell_type": "markdown",
   "metadata": {},
   "source": [
    "   - DMN"
   ]
  },
  {
   "cell_type": "markdown",
   "metadata": {},
   "source": [
    "   - Visual Area"
   ]
  },
  {
   "cell_type": "markdown",
   "metadata": {},
   "source": [
    "## 2. Visualization ROIs"
   ]
  },
  {
   "cell_type": "code",
   "execution_count": null,
   "metadata": {},
   "outputs": [],
   "source": [
    "GA.draw_rois"
   ]
  },
  {
   "cell_type": "markdown",
   "metadata": {},
   "source": [
    "## *3. Calculation (run once)"
   ]
  },
  {
   "cell_type": "code",
   "execution_count": 5,
   "metadata": {},
   "outputs": [
    {
     "name": "stdout",
     "output_type": "stream",
     "text": [
      "44 late_unpractice n200_c7_L_ThalamusumVIIIbb\r"
     ]
    }
   ],
   "source": [
    "for subj in GA.list_subj:\n",
    "    for stage in GA.list_stage:\n",
    "        GA.cross_valid(GA.load_beta(subj, stage), GA.lda)"
   ]
  },
  {
   "cell_type": "code",
   "execution_count": 6,
   "metadata": {},
   "outputs": [],
   "source": [
    "## save the result as a pickle file\n",
    "GA.save_as_pkl(data=GA.scores, suffix='7localizers')"
   ]
  },
  {
   "cell_type": "code",
   "execution_count": null,
   "metadata": {},
   "outputs": [],
   "source": []
  }
 ],
 "metadata": {
  "kernelspec": {
   "display_name": "sampark",
   "language": "python",
   "name": "sampark"
  },
  "language_info": {
   "codemirror_mode": {
    "name": "ipython",
    "version": 3
   },
   "file_extension": ".py",
   "mimetype": "text/x-python",
   "name": "python",
   "nbconvert_exporter": "python",
   "pygments_lexer": "ipython3",
   "version": "3.7.10"
  }
 },
 "nbformat": 4,
 "nbformat_minor": 4
}
