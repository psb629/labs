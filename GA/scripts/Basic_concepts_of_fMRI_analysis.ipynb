{
 "cells": [
  {
   "cell_type": "markdown",
   "metadata": {},
   "source": [
    "# First level models"
   ]
  },
  {
   "cell_type": "markdown",
   "metadata": {},
   "source": [
    "## HRF models"
   ]
  },
  {
   "cell_type": "markdown",
   "metadata": {},
   "source": [
    "Nilearn offers a few different HRF models including the commonly used double-gamma SPM (statistical parametric mapping, 'spm') model and the model shape proposed by G. Glover ('glover'), both allowing the option of adding time and dispersion derivatives. The addition of these derivatives allows to better model any uncertainty in timing information. In addition, an FIR (finite impulse response, 'fir') model of the HRF is also available."
   ]
  },
  {
   "cell_type": "markdown",
   "metadata": {},
   "source": [
    "### Set up some parameters for model display"
   ]
  },
  {
   "cell_type": "markdown",
   "metadata": {},
   "source": [
    "To get an impulse reponse, we simulate a single event occurring at time t=0, with duration 1s."
   ]
  },
  {
   "cell_type": "code",
   "execution_count": 1,
   "metadata": {},
   "outputs": [],
   "source": [
    "import numpy as np\n",
    "frame_times = np.linspace(0, 30, 61)\n",
    "onset, amplitude, duration = 0., 1., 1.\n",
    "exp_condition = np.array((onset, duration, amplitude)).reshape(3, 1)"
   ]
  },
  {
   "cell_type": "markdown",
   "metadata": {},
   "source": [
    "We sample this on a fris for display"
   ]
  },
  {
   "cell_type": "code",
   "execution_count": 2,
   "metadata": {},
   "outputs": [],
   "source": [
    "stim = np.zeros_like(frame_times)\n",
    "stim[(frame_times > onset) * (frame_times <= onset + duration)] = amplitude"
   ]
  },
  {
   "cell_type": "markdown",
   "metadata": {},
   "source": [
    "Now we have to define the candidate hrf models."
   ]
  },
  {
   "cell_type": "code",
   "execution_count": 3,
   "metadata": {},
   "outputs": [],
   "source": [
    "hrf_models = [None, 'glover + derivative', 'glover + derivative + dispersion']"
   ]
  },
  {
   "cell_type": "markdown",
   "metadata": {},
   "source": [
    "### Sample the hrf"
   ]
  },
  {
   "cell_type": "code",
   "execution_count": 4,
   "metadata": {},
   "outputs": [
    {
     "name": "stderr",
     "output_type": "stream",
     "text": [
      "/usr/local/anaconda3/envs/sampark/lib/python3.7/site-packages/nilearn/glm/__init__.py:56: FutureWarning: The nilearn.glm module is experimental. It may change in any future release of Nilearn.\n",
      "  'It may change in any future release of Nilearn.', FutureWarning)\n"
     ]
    },
    {
     "data": {
      "image/png": "[encoded data removed]",
      "text/plain": [
       "<Figure size 648x288 with 3 Axes>"
      ]
     },
     "metadata": {
      "needs_background": "light"
     },
     "output_type": "display_data"
    }
   ],
   "source": [
    "from nilearn.glm.first_level import compute_regressor\n",
    "import matplotlib.pyplot as plt\n",
    "\n",
    "fig = plt.figure(figsize=(9, 4))\n",
    "for i, hrf_model in enumerate(hrf_models):\n",
    "    # obtain the signal of interest by convolution\n",
    "    signal, name = compute_regressor(\n",
    "        exp_condition, hrf_model, frame_times, con_id='main',\n",
    "        oversampling=16)\n",
    "\n",
    "    # plot this\n",
    "    plt.subplot(1, 3, i + 1)\n",
    "    plt.fill(frame_times, stim, 'k', alpha=.5, label='stimulus')\n",
    "    for j in range(signal.shape[1]):\n",
    "        plt.plot(frame_times, signal.T[j], label=name[j])\n",
    "    plt.xlabel('time (s)')\n",
    "    plt.legend(loc=1)\n",
    "    plt.title(hrf_model)\n",
    "\n",
    "# adjust the plot\n",
    "plt.subplots_adjust(bottom=.12)\n",
    "plt.show()"
   ]
  },
  {
   "cell_type": "markdown",
   "metadata": {},
   "source": [
    "## Design matrix: event-based and time series-based"
   ]
  },
  {
   "cell_type": "markdown",
   "metadata": {},
   "source": [
    "### Event-based"
   ]
  },
  {
   "cell_type": "markdown",
   "metadata": {},
   "source": [
    "To create an event-based design matrix, information about the trial type, onset time and duration of the events in the experiment are necessary. This can be provided by the user, or be part of the dataset if using a BIDS-compatible dataset or one of the nilearn dataset fetcher functions like nilearn.datasets.fetch_spm_multimodal_fmri, nilearn.datasets.fetch_language_localizer_demo_dataset, etc.\n",
    "\n",
    "Refer to the examples below for usage under the different scenarios:\n",
    "\n",
    "* User-defined: Examples of design matrices\n",
    "\n",
    "* Using an OpenNEURO dataset: First level analysis of a complete BIDS dataset from openneuro\n",
    "\n",
    "* Uing nilearn fetcher functions: Single-subject data (two sessions) in native space\n",
    "\n",
    "To ascertain that the sequence of events provided to the first level model is accurate, Nilearn provides an event visualization function called nilearn.plotting.plot_event. Sample usage for this is available in Decoding of a dataset after GLM fit for signal extraction.\n",
    "\n",
    "Once the events are defined, the design matrix is created using the nilearn.glm.first_level.make_first_level_design_matrix function:"
   ]
  },
  {
   "cell_type": "markdown",
   "metadata": {},
   "source": [
    "### Examples of design matrices"
   ]
  },
  {
   "cell_type": "markdown",
   "metadata": {},
   "source": [
    "Three examples of design matrices specification and computation for first-level fMRI data analysis (event-related design, block design, FIR design).\n",
    "\n",
    "This examples requires matplotlib."
   ]
  },
  {
   "cell_type": "code",
   "execution_count": 5,
   "metadata": {},
   "outputs": [],
   "source": [
    "try:\n",
    "    import matplotlib.pyplot as plt\n",
    "except ImportError:\n",
    "    raise RuntimeError(\"This script needs the matplotlib library\")"
   ]
  },
  {
   "cell_type": "markdown",
   "metadata": {},
   "source": [
    "#### Define parameters"
   ]
  },
  {
   "cell_type": "markdown",
   "metadata": {},
   "source": [
    "At first, we define parameters related to the images acquisition."
   ]
  },
  {
   "cell_type": "code",
   "execution_count": 6,
   "metadata": {},
   "outputs": [],
   "source": [
    "import numpy as np\n",
    "tr = 1.0  # repetition time is 1 second\n",
    "n_scans = 128  # the acquisition comprises 128 scans\n",
    "frame_times = np.arange(n_scans) * tr  # here are the correspoding frame times"
   ]
  },
  {
   "cell_type": "markdown",
   "metadata": {},
   "source": [
    "Then we define parameters related to the experimental design."
   ]
  },
  {
   "cell_type": "code",
   "execution_count": 7,
   "metadata": {},
   "outputs": [],
   "source": [
    "# these are the types of the different trials\n",
    "conditions = ['c0', 'c0', 'c0', 'c1', 'c1', 'c1', 'c3', 'c3', 'c3']\n",
    "duration = [1., 1., 1., 1., 1., 1., 1., 1., 1.]\n",
    "# these are the corresponding onset times\n",
    "onsets = [30., 70., 100., 10., 30., 90., 30., 40., 60.]\n",
    "# Next, we simulate 6 motion parameters jointly observed with fMRI acquisitions\n",
    "motion = np.cumsum(np.random.randn(n_scans, 6), 0)\n",
    "# The 6 parameters correspond to three translations and three\n",
    "# rotations describing rigid body motion\n",
    "add_reg_names = ['tx', 'ty', 'tz', 'rx', 'ry', 'rz']"
   ]
  },
  {
   "cell_type": "markdown",
   "metadata": {},
   "source": [
    "#### Create design matrices"
   ]
  },
  {
   "cell_type": "markdown",
   "metadata": {},
   "source": [
    "The same parameters allow us to obtain a variety of design matrices. We first create an events object."
   ]
  },
  {
   "cell_type": "code",
   "execution_count": 8,
   "metadata": {},
   "outputs": [],
   "source": [
    "import pandas as pd\n",
    "events = pd.DataFrame({'trial_type': conditions, 'onset': onsets,\n",
    "                       'duration': duration})"
   ]
  },
  {
   "cell_type": "markdown",
   "metadata": {},
   "source": [
    "We sample the events into a design matrix, also including additional regressors."
   ]
  },
  {
   "cell_type": "code",
   "execution_count": 9,
   "metadata": {},
   "outputs": [],
   "source": [
    "hrf_model = 'glover'\n",
    "from nilearn.glm.first_level import make_first_level_design_matrix\n",
    "X1 = make_first_level_design_matrix(\n",
    "    frame_times, events, drift_model='polynomial', drift_order=3,\n",
    "    add_regs=motion, add_reg_names=add_reg_names, hrf_model=hrf_model)"
   ]
  },
  {
   "cell_type": "markdown",
   "metadata": {},
   "source": [
    "Now we compute a block design matrix. We add duration to create the blocks. For this we first define an event structure that includes the duration parameter."
   ]
  },
  {
   "cell_type": "code",
   "execution_count": 10,
   "metadata": {},
   "outputs": [],
   "source": [
    "duration = 7. * np.ones(len(conditions))\n",
    "events = pd.DataFrame({'trial_type': conditions, 'onset': onsets,\n",
    "                       'duration': duration})"
   ]
  },
  {
   "cell_type": "code",
   "execution_count": 11,
   "metadata": {},
   "outputs": [
    {
     "data": {
      "text/html": [
       "<div>\n",
       "<style scoped>\n",
       "    .dataframe tbody tr th:only-of-type {\n",
       "        vertical-align: middle;\n",
       "    }\n",
       "\n",
       "    .dataframe tbody tr th {\n",
       "        vertical-align: top;\n",
       "    }\n",
       "\n",
       "    .dataframe thead th {\n",
       "        text-align: right;\n",
       "    }\n",
       "</style>\n",
       "<table border=\"1\" class=\"dataframe\">\n",
       "  <thead>\n",
       "    <tr style=\"text-align: right;\">\n",
       "      <th></th>\n",
       "      <th>trial_type</th>\n",
       "      <th>onset</th>\n",
       "      <th>duration</th>\n",
       "    </tr>\n",
       "  </thead>\n",
       "  <tbody>\n",
       "    <tr>\n",
       "      <th>0</th>\n",
       "      <td>c0</td>\n",
       "      <td>30.0</td>\n",
       "      <td>7.0</td>\n",
       "    </tr>\n",
       "    <tr>\n",
       "      <th>1</th>\n",
       "      <td>c0</td>\n",
       "      <td>70.0</td>\n",
       "      <td>7.0</td>\n",
       "    </tr>\n",
       "    <tr>\n",
       "      <th>2</th>\n",
       "      <td>c0</td>\n",
       "      <td>100.0</td>\n",
       "      <td>7.0</td>\n",
       "    </tr>\n",
       "    <tr>\n",
       "      <th>3</th>\n",
       "      <td>c1</td>\n",
       "      <td>10.0</td>\n",
       "      <td>7.0</td>\n",
       "    </tr>\n",
       "    <tr>\n",
       "      <th>4</th>\n",
       "      <td>c1</td>\n",
       "      <td>30.0</td>\n",
       "      <td>7.0</td>\n",
       "    </tr>\n",
       "    <tr>\n",
       "      <th>5</th>\n",
       "      <td>c1</td>\n",
       "      <td>90.0</td>\n",
       "      <td>7.0</td>\n",
       "    </tr>\n",
       "    <tr>\n",
       "      <th>6</th>\n",
       "      <td>c3</td>\n",
       "      <td>30.0</td>\n",
       "      <td>7.0</td>\n",
       "    </tr>\n",
       "    <tr>\n",
       "      <th>7</th>\n",
       "      <td>c3</td>\n",
       "      <td>40.0</td>\n",
       "      <td>7.0</td>\n",
       "    </tr>\n",
       "    <tr>\n",
       "      <th>8</th>\n",
       "      <td>c3</td>\n",
       "      <td>60.0</td>\n",
       "      <td>7.0</td>\n",
       "    </tr>\n",
       "  </tbody>\n",
       "</table>\n",
       "</div>"
      ],
      "text/plain": [
       "  trial_type  onset  duration\n",
       "0         c0   30.0       7.0\n",
       "1         c0   70.0       7.0\n",
       "2         c0  100.0       7.0\n",
       "3         c1   10.0       7.0\n",
       "4         c1   30.0       7.0\n",
       "5         c1   90.0       7.0\n",
       "6         c3   30.0       7.0\n",
       "7         c3   40.0       7.0\n",
       "8         c3   60.0       7.0"
      ]
     },
     "execution_count": 11,
     "metadata": {},
     "output_type": "execute_result"
    }
   ],
   "source": [
    "events"
   ]
  },
  {
   "cell_type": "markdown",
   "metadata": {},
   "source": [
    "Then we sample the design matrix."
   ]
  },
  {
   "cell_type": "code",
   "execution_count": 12,
   "metadata": {},
   "outputs": [],
   "source": [
    "X2 = make_first_level_design_matrix(frame_times, events,\n",
    "                                    drift_model='polynomial', drift_order=3,\n",
    "                                    hrf_model=hrf_model)"
   ]
  },
  {
   "cell_type": "code",
   "execution_count": 13,
   "metadata": {},
   "outputs": [
    {
     "data": {
      "text/html": [
       "<div>\n",
       "<style scoped>\n",
       "    .dataframe tbody tr th:only-of-type {\n",
       "        vertical-align: middle;\n",
       "    }\n",
       "\n",
       "    .dataframe tbody tr th {\n",
       "        vertical-align: top;\n",
       "    }\n",
       "\n",
       "    .dataframe thead th {\n",
       "        text-align: right;\n",
       "    }\n",
       "</style>\n",
       "<table border=\"1\" class=\"dataframe\">\n",
       "  <thead>\n",
       "    <tr style=\"text-align: right;\">\n",
       "      <th></th>\n",
       "      <th>c0</th>\n",
       "      <th>c1</th>\n",
       "      <th>c3</th>\n",
       "      <th>drift_1</th>\n",
       "      <th>drift_2</th>\n",
       "      <th>drift_3</th>\n",
       "      <th>constant</th>\n",
       "    </tr>\n",
       "  </thead>\n",
       "  <tbody>\n",
       "    <tr>\n",
       "      <th>0.0</th>\n",
       "      <td>0.000000</td>\n",
       "      <td>0.000000</td>\n",
       "      <td>0.0</td>\n",
       "      <td>-0.500000</td>\n",
       "      <td>0.165354</td>\n",
       "      <td>-0.048825</td>\n",
       "      <td>1.0</td>\n",
       "    </tr>\n",
       "    <tr>\n",
       "      <th>1.0</th>\n",
       "      <td>0.000000</td>\n",
       "      <td>0.000000</td>\n",
       "      <td>0.0</td>\n",
       "      <td>-0.492126</td>\n",
       "      <td>0.157542</td>\n",
       "      <td>-0.044212</td>\n",
       "      <td>1.0</td>\n",
       "    </tr>\n",
       "    <tr>\n",
       "      <th>2.0</th>\n",
       "      <td>0.000000</td>\n",
       "      <td>0.000000</td>\n",
       "      <td>0.0</td>\n",
       "      <td>-0.484252</td>\n",
       "      <td>0.149854</td>\n",
       "      <td>-0.039781</td>\n",
       "      <td>1.0</td>\n",
       "    </tr>\n",
       "    <tr>\n",
       "      <th>3.0</th>\n",
       "      <td>0.000000</td>\n",
       "      <td>0.000000</td>\n",
       "      <td>0.0</td>\n",
       "      <td>-0.476378</td>\n",
       "      <td>0.142290</td>\n",
       "      <td>-0.035531</td>\n",
       "      <td>1.0</td>\n",
       "    </tr>\n",
       "    <tr>\n",
       "      <th>4.0</th>\n",
       "      <td>0.000000</td>\n",
       "      <td>0.000000</td>\n",
       "      <td>0.0</td>\n",
       "      <td>-0.468504</td>\n",
       "      <td>0.134850</td>\n",
       "      <td>-0.031458</td>\n",
       "      <td>1.0</td>\n",
       "    </tr>\n",
       "    <tr>\n",
       "      <th>...</th>\n",
       "      <td>...</td>\n",
       "      <td>...</td>\n",
       "      <td>...</td>\n",
       "      <td>...</td>\n",
       "      <td>...</td>\n",
       "      <td>...</td>\n",
       "      <td>...</td>\n",
       "    </tr>\n",
       "    <tr>\n",
       "      <th>123.0</th>\n",
       "      <td>-0.107319</td>\n",
       "      <td>-0.001217</td>\n",
       "      <td>0.0</td>\n",
       "      <td>0.468504</td>\n",
       "      <td>0.134850</td>\n",
       "      <td>0.031458</td>\n",
       "      <td>1.0</td>\n",
       "    </tr>\n",
       "    <tr>\n",
       "      <th>124.0</th>\n",
       "      <td>-0.077760</td>\n",
       "      <td>-0.000679</td>\n",
       "      <td>0.0</td>\n",
       "      <td>0.476378</td>\n",
       "      <td>0.142290</td>\n",
       "      <td>0.035531</td>\n",
       "      <td>1.0</td>\n",
       "    </tr>\n",
       "    <tr>\n",
       "      <th>125.0</th>\n",
       "      <td>-0.054376</td>\n",
       "      <td>-0.000366</td>\n",
       "      <td>0.0</td>\n",
       "      <td>0.484252</td>\n",
       "      <td>0.149854</td>\n",
       "      <td>0.039781</td>\n",
       "      <td>1.0</td>\n",
       "    </tr>\n",
       "    <tr>\n",
       "      <th>126.0</th>\n",
       "      <td>-0.036842</td>\n",
       "      <td>-0.000187</td>\n",
       "      <td>0.0</td>\n",
       "      <td>0.492126</td>\n",
       "      <td>0.157542</td>\n",
       "      <td>0.044212</td>\n",
       "      <td>1.0</td>\n",
       "    </tr>\n",
       "    <tr>\n",
       "      <th>127.0</th>\n",
       "      <td>-0.024262</td>\n",
       "      <td>-0.000086</td>\n",
       "      <td>0.0</td>\n",
       "      <td>0.500000</td>\n",
       "      <td>0.165354</td>\n",
       "      <td>0.048825</td>\n",
       "      <td>1.0</td>\n",
       "    </tr>\n",
       "  </tbody>\n",
       "</table>\n",
       "<p>128 rows × 7 columns</p>\n",
       "</div>"
      ],
      "text/plain": [
       "             c0        c1   c3   drift_1   drift_2   drift_3  constant\n",
       "0.0    0.000000  0.000000  0.0 -0.500000  0.165354 -0.048825       1.0\n",
       "1.0    0.000000  0.000000  0.0 -0.492126  0.157542 -0.044212       1.0\n",
       "2.0    0.000000  0.000000  0.0 -0.484252  0.149854 -0.039781       1.0\n",
       "3.0    0.000000  0.000000  0.0 -0.476378  0.142290 -0.035531       1.0\n",
       "4.0    0.000000  0.000000  0.0 -0.468504  0.134850 -0.031458       1.0\n",
       "...         ...       ...  ...       ...       ...       ...       ...\n",
       "123.0 -0.107319 -0.001217  0.0  0.468504  0.134850  0.031458       1.0\n",
       "124.0 -0.077760 -0.000679  0.0  0.476378  0.142290  0.035531       1.0\n",
       "125.0 -0.054376 -0.000366  0.0  0.484252  0.149854  0.039781       1.0\n",
       "126.0 -0.036842 -0.000187  0.0  0.492126  0.157542  0.044212       1.0\n",
       "127.0 -0.024262 -0.000086  0.0  0.500000  0.165354  0.048825       1.0\n",
       "\n",
       "[128 rows x 7 columns]"
      ]
     },
     "execution_count": 13,
     "metadata": {},
     "output_type": "execute_result"
    }
   ],
   "source": [
    "X2"
   ]
  },
  {
   "cell_type": "markdown",
   "metadata": {},
   "source": [
    "Finally we compute a FIR model"
   ]
  },
  {
   "cell_type": "code",
   "execution_count": 14,
   "metadata": {},
   "outputs": [],
   "source": [
    "vents = pd.DataFrame({'trial_type': conditions, 'onset': onsets,\n",
    "                       'duration': duration})\n",
    "hrf_model = 'FIR'\n",
    "X3 = make_first_level_design_matrix(frame_times, events, hrf_model='fir',\n",
    "                                    drift_model='polynomial', drift_order=3,\n",
    "                                    fir_delays=np.arange(1, 6))"
   ]
  },
  {
   "cell_type": "markdown",
   "metadata": {},
   "source": [
    "Here are the three designs side by side."
   ]
  },
  {
   "cell_type": "code",
   "execution_count": 17,
   "metadata": {},
   "outputs": [
    {
     "data": {
      "text/plain": [
       "Text(0.5, 1.0, 'FIR design matrix')"
      ]
     },
     "execution_count": 17,
     "metadata": {},
     "output_type": "execute_result"
    },
    {
     "data": {
      "image/png": "[encoded data removed]",
      "text/plain": [
       "<Figure size 720x432 with 3 Axes>"
      ]
     },
     "metadata": {
      "needs_background": "light"
     },
     "output_type": "display_data"
    }
   ],
   "source": [
    "from nilearn.plotting import plot_design_matrix\n",
    "fig, (ax1, ax2, ax3) = plt.subplots(figsize=(10, 6), nrows=1, ncols=3)\n",
    "plot_design_matrix(X1, ax=ax1)\n",
    "ax1.set_title('Event-related design matrix', fontsize=12)\n",
    "plot_design_matrix(X2, ax=ax2)\n",
    "ax2.set_title('Block design matrix', fontsize=12)\n",
    "plot_design_matrix(X3, ax=ax3)\n",
    "ax3.set_title('FIR design matrix', fontsize=12)"
   ]
  },
  {
   "cell_type": "code",
   "execution_count": 18,
   "metadata": {},
   "outputs": [
    {
     "data": {
      "text/html": [
       "<div>\n",
       "<style scoped>\n",
       "    .dataframe tbody tr th:only-of-type {\n",
       "        vertical-align: middle;\n",
       "    }\n",
       "\n",
       "    .dataframe tbody tr th {\n",
       "        vertical-align: top;\n",
       "    }\n",
       "\n",
       "    .dataframe thead th {\n",
       "        text-align: right;\n",
       "    }\n",
       "</style>\n",
       "<table border=\"1\" class=\"dataframe\">\n",
       "  <thead>\n",
       "    <tr style=\"text-align: right;\">\n",
       "      <th></th>\n",
       "      <th>c0</th>\n",
       "      <th>c1</th>\n",
       "      <th>c3</th>\n",
       "      <th>tx</th>\n",
       "      <th>ty</th>\n",
       "      <th>tz</th>\n",
       "      <th>rx</th>\n",
       "      <th>ry</th>\n",
       "      <th>rz</th>\n",
       "      <th>drift_1</th>\n",
       "      <th>drift_2</th>\n",
       "      <th>drift_3</th>\n",
       "      <th>constant</th>\n",
       "    </tr>\n",
       "  </thead>\n",
       "  <tbody>\n",
       "    <tr>\n",
       "      <th>0.0</th>\n",
       "      <td>0.000000</td>\n",
       "      <td>0.0</td>\n",
       "      <td>0.0</td>\n",
       "      <td>1.223663</td>\n",
       "      <td>0.202005</td>\n",
       "      <td>0.686439</td>\n",
       "      <td>2.271672</td>\n",
       "      <td>-1.338333</td>\n",
       "      <td>-0.391045</td>\n",
       "      <td>-0.500000</td>\n",
       "      <td>0.165354</td>\n",
       "      <td>-0.048825</td>\n",
       "      <td>1.0</td>\n",
       "    </tr>\n",
       "    <tr>\n",
       "      <th>1.0</th>\n",
       "      <td>0.000000</td>\n",
       "      <td>0.0</td>\n",
       "      <td>0.0</td>\n",
       "      <td>2.119100</td>\n",
       "      <td>0.944458</td>\n",
       "      <td>-0.132147</td>\n",
       "      <td>1.898886</td>\n",
       "      <td>-1.132782</td>\n",
       "      <td>-0.626529</td>\n",
       "      <td>-0.492126</td>\n",
       "      <td>0.157542</td>\n",
       "      <td>-0.044212</td>\n",
       "      <td>1.0</td>\n",
       "    </tr>\n",
       "    <tr>\n",
       "      <th>2.0</th>\n",
       "      <td>0.000000</td>\n",
       "      <td>0.0</td>\n",
       "      <td>0.0</td>\n",
       "      <td>2.910918</td>\n",
       "      <td>1.367322</td>\n",
       "      <td>0.039447</td>\n",
       "      <td>2.110618</td>\n",
       "      <td>-0.603765</td>\n",
       "      <td>-1.455722</td>\n",
       "      <td>-0.484252</td>\n",
       "      <td>0.149854</td>\n",
       "      <td>-0.039781</td>\n",
       "      <td>1.0</td>\n",
       "    </tr>\n",
       "    <tr>\n",
       "      <th>3.0</th>\n",
       "      <td>0.000000</td>\n",
       "      <td>0.0</td>\n",
       "      <td>0.0</td>\n",
       "      <td>4.156370</td>\n",
       "      <td>0.293955</td>\n",
       "      <td>0.894961</td>\n",
       "      <td>1.725818</td>\n",
       "      <td>-1.608481</td>\n",
       "      <td>-1.166957</td>\n",
       "      <td>-0.476378</td>\n",
       "      <td>0.142290</td>\n",
       "      <td>-0.035531</td>\n",
       "      <td>1.0</td>\n",
       "    </tr>\n",
       "    <tr>\n",
       "      <th>4.0</th>\n",
       "      <td>0.000000</td>\n",
       "      <td>0.0</td>\n",
       "      <td>0.0</td>\n",
       "      <td>3.806885</td>\n",
       "      <td>-0.806188</td>\n",
       "      <td>1.102518</td>\n",
       "      <td>1.245760</td>\n",
       "      <td>-0.474800</td>\n",
       "      <td>-3.095360</td>\n",
       "      <td>-0.468504</td>\n",
       "      <td>0.134850</td>\n",
       "      <td>-0.031458</td>\n",
       "      <td>1.0</td>\n",
       "    </tr>\n",
       "    <tr>\n",
       "      <th>...</th>\n",
       "      <td>...</td>\n",
       "      <td>...</td>\n",
       "      <td>...</td>\n",
       "      <td>...</td>\n",
       "      <td>...</td>\n",
       "      <td>...</td>\n",
       "      <td>...</td>\n",
       "      <td>...</td>\n",
       "      <td>...</td>\n",
       "      <td>...</td>\n",
       "      <td>...</td>\n",
       "      <td>...</td>\n",
       "      <td>...</td>\n",
       "    </tr>\n",
       "    <tr>\n",
       "      <th>123.0</th>\n",
       "      <td>-0.003874</td>\n",
       "      <td>0.0</td>\n",
       "      <td>0.0</td>\n",
       "      <td>29.767882</td>\n",
       "      <td>-1.160549</td>\n",
       "      <td>26.193354</td>\n",
       "      <td>12.298878</td>\n",
       "      <td>-8.399290</td>\n",
       "      <td>-35.643596</td>\n",
       "      <td>0.468504</td>\n",
       "      <td>0.134850</td>\n",
       "      <td>0.031458</td>\n",
       "      <td>1.0</td>\n",
       "    </tr>\n",
       "    <tr>\n",
       "      <th>124.0</th>\n",
       "      <td>-0.002443</td>\n",
       "      <td>0.0</td>\n",
       "      <td>0.0</td>\n",
       "      <td>28.005927</td>\n",
       "      <td>-0.016576</td>\n",
       "      <td>28.013171</td>\n",
       "      <td>12.672964</td>\n",
       "      <td>-9.883672</td>\n",
       "      <td>-37.222066</td>\n",
       "      <td>0.476378</td>\n",
       "      <td>0.142290</td>\n",
       "      <td>0.035531</td>\n",
       "      <td>1.0</td>\n",
       "    </tr>\n",
       "    <tr>\n",
       "      <th>125.0</th>\n",
       "      <td>-0.001506</td>\n",
       "      <td>0.0</td>\n",
       "      <td>0.0</td>\n",
       "      <td>27.277129</td>\n",
       "      <td>-0.102047</td>\n",
       "      <td>27.989306</td>\n",
       "      <td>14.015126</td>\n",
       "      <td>-9.253687</td>\n",
       "      <td>-38.209974</td>\n",
       "      <td>0.484252</td>\n",
       "      <td>0.149854</td>\n",
       "      <td>0.039781</td>\n",
       "      <td>1.0</td>\n",
       "    </tr>\n",
       "    <tr>\n",
       "      <th>126.0</th>\n",
       "      <td>-0.000909</td>\n",
       "      <td>0.0</td>\n",
       "      <td>0.0</td>\n",
       "      <td>29.487267</td>\n",
       "      <td>-0.800749</td>\n",
       "      <td>29.578809</td>\n",
       "      <td>14.918600</td>\n",
       "      <td>-8.889266</td>\n",
       "      <td>-36.785843</td>\n",
       "      <td>0.492126</td>\n",
       "      <td>0.157542</td>\n",
       "      <td>0.044212</td>\n",
       "      <td>1.0</td>\n",
       "    </tr>\n",
       "    <tr>\n",
       "      <th>127.0</th>\n",
       "      <td>-0.000538</td>\n",
       "      <td>0.0</td>\n",
       "      <td>0.0</td>\n",
       "      <td>29.154865</td>\n",
       "      <td>-1.024103</td>\n",
       "      <td>28.964202</td>\n",
       "      <td>16.984123</td>\n",
       "      <td>-11.098479</td>\n",
       "      <td>-37.107185</td>\n",
       "      <td>0.500000</td>\n",
       "      <td>0.165354</td>\n",
       "      <td>0.048825</td>\n",
       "      <td>1.0</td>\n",
       "    </tr>\n",
       "  </tbody>\n",
       "</table>\n",
       "<p>128 rows × 13 columns</p>\n",
       "</div>"
      ],
      "text/plain": [
       "             c0   c1   c3         tx        ty         tz         rx  \\\n",
       "0.0    0.000000  0.0  0.0   1.223663  0.202005   0.686439   2.271672   \n",
       "1.0    0.000000  0.0  0.0   2.119100  0.944458  -0.132147   1.898886   \n",
       "2.0    0.000000  0.0  0.0   2.910918  1.367322   0.039447   2.110618   \n",
       "3.0    0.000000  0.0  0.0   4.156370  0.293955   0.894961   1.725818   \n",
       "4.0    0.000000  0.0  0.0   3.806885 -0.806188   1.102518   1.245760   \n",
       "...         ...  ...  ...        ...       ...        ...        ...   \n",
       "123.0 -0.003874  0.0  0.0  29.767882 -1.160549  26.193354  12.298878   \n",
       "124.0 -0.002443  0.0  0.0  28.005927 -0.016576  28.013171  12.672964   \n",
       "125.0 -0.001506  0.0  0.0  27.277129 -0.102047  27.989306  14.015126   \n",
       "126.0 -0.000909  0.0  0.0  29.487267 -0.800749  29.578809  14.918600   \n",
       "127.0 -0.000538  0.0  0.0  29.154865 -1.024103  28.964202  16.984123   \n",
       "\n",
       "              ry         rz   drift_1   drift_2   drift_3  constant  \n",
       "0.0    -1.338333  -0.391045 -0.500000  0.165354 -0.048825       1.0  \n",
       "1.0    -1.132782  -0.626529 -0.492126  0.157542 -0.044212       1.0  \n",
       "2.0    -0.603765  -1.455722 -0.484252  0.149854 -0.039781       1.0  \n",
       "3.0    -1.608481  -1.166957 -0.476378  0.142290 -0.035531       1.0  \n",
       "4.0    -0.474800  -3.095360 -0.468504  0.134850 -0.031458       1.0  \n",
       "...          ...        ...       ...       ...       ...       ...  \n",
       "123.0  -8.399290 -35.643596  0.468504  0.134850  0.031458       1.0  \n",
       "124.0  -9.883672 -37.222066  0.476378  0.142290  0.035531       1.0  \n",
       "125.0  -9.253687 -38.209974  0.484252  0.149854  0.039781       1.0  \n",
       "126.0  -8.889266 -36.785843  0.492126  0.157542  0.044212       1.0  \n",
       "127.0 -11.098479 -37.107185  0.500000  0.165354  0.048825       1.0  \n",
       "\n",
       "[128 rows x 13 columns]"
      ]
     },
     "execution_count": 18,
     "metadata": {},
     "output_type": "execute_result"
    }
   ],
   "source": [
    "X1"
   ]
  },
  {
   "cell_type": "markdown",
   "metadata": {},
   "source": [
    "- - -"
   ]
  },
  {
   "cell_type": "markdown",
   "metadata": {},
   "source": [
    "# GA data"
   ]
  },
  {
   "cell_type": "code",
   "execution_count": 1,
   "metadata": {},
   "outputs": [
    {
     "name": "stderr",
     "output_type": "stream",
     "text": [
      "/usr/local/anaconda3/envs/sampark/lib/python3.7/site-packages/nilearn/datasets/__init__.py:90: FutureWarning: Fetchers from the nilearn.datasets module will be updated in version 0.9 to return python strings instead of bytes and Pandas dataframes instead of Numpy arrays.\n",
      "  \"Numpy arrays.\", FutureWarning)\n"
     ]
    }
   ],
   "source": [
    "import numpy as np\n",
    "import pandas as pd\n",
    "import os\n",
    "from nilearn import plotting as niplt\n",
    "from nilearn import image as niimg\n",
    "from nilearn.glm.first_level import make_first_level_design_matrix as nimat"
   ]
  },
  {
   "cell_type": "code",
   "execution_count": 2,
   "metadata": {},
   "outputs": [],
   "source": [
    "script_dir = '.'\n",
    "# root_dir = '/Users/clmn/Desktop/GA'\n",
    "root_dir = '/Users/clmnlab/Desktop/GA'\n",
    "\n",
    "preproc_dir = root_dir + '/fMRI_data/preproc_data'\n",
    "reg_dir = root_dir + '/behav_data/regressors'"
   ]
  },
  {
   "cell_type": "code",
   "execution_count": 3,
   "metadata": {},
   "outputs": [],
   "source": [
    "subj = '01'\n",
    "visit = 'early'\n",
    "run = 1"
   ]
  },
  {
   "cell_type": "code",
   "execution_count": 4,
   "metadata": {},
   "outputs": [],
   "source": [
    "gg = 'GA' if visit=='early' else('GB' if visit=='late' else 'invalid')"
   ]
  },
  {
   "cell_type": "markdown",
   "metadata": {},
   "source": [
    "## pb02"
   ]
  },
  {
   "cell_type": "code",
   "execution_count": 14,
   "metadata": {},
   "outputs": [],
   "source": [
    "tr = .46  # repetition time is 1 second\n",
    "n_scans = 1096  # the acquisition comprises 128 scans\n",
    "frame_times = np.arange(n_scans) * tr  # here are the correspoding frame times"
   ]
  },
  {
   "cell_type": "code",
   "execution_count": null,
   "metadata": {},
   "outputs": [],
   "source": []
  },
  {
   "cell_type": "markdown",
   "metadata": {},
   "source": [
    "## Regressors"
   ]
  },
  {
   "cell_type": "markdown",
   "metadata": {},
   "source": [
    "motion regressors"
   ]
  },
  {
   "cell_type": "code",
   "execution_count": 5,
   "metadata": {},
   "outputs": [],
   "source": [
    "motion_headers = ['roll', 'pitch', 'yaw', 'dS', 'dL', 'dP']\n",
    "motions = []\n",
    "with open(os.path.join(preproc_dir,subj,'motion_demean.%s%s.r%02d.1D'%(gg,subj,run))) as fr:\n",
    "    for line in fr:\n",
    "        motions.append((np.array(line.strip().split(' ')).astype(float)))\n",
    "motions = np.array(motions)"
   ]
  },
  {
   "cell_type": "markdown",
   "metadata": {},
   "source": [
    "MO regressor\n",
    "\n",
    "개념: early 와 late 에서 Movement 와 Reward 의 correlation 이 너무 높아서 (움직임이 많으면 답을 찾고 있는 상황/움직임이 적으면 답을 맞추고 있는 상황), overall movement 를 regress out 하기 위함"
   ]
  },
  {
   "cell_type": "code",
   "execution_count": 6,
   "metadata": {},
   "outputs": [],
   "source": [
    "MO = []\n",
    "with open(os.path.join(reg_dir,'displacement','%s%s.onset.AM1.disp.ideal.run1to3.xmat.1D'%(gg,subj))) as fr:\n",
    "    for line in fr:\n",
    "        if line[0]==' ':\n",
    "            MO.append(line.strip().split(' ')[-1])\n",
    "MO = np.array(MO).astype(float)[1096*(run-1):1096*(run)]\n",
    "MO = MO-MO.mean()"
   ]
  },
  {
   "cell_type": "markdown",
   "metadata": {},
   "source": [
    "target ID"
   ]
  },
  {
   "cell_type": "code",
   "execution_count": 7,
   "metadata": {},
   "outputs": [],
   "source": [
    "conditions = []\n",
    "with open(os.path.join(script_dir,'targetID.txt')) as fr:\n",
    "    for line in fr:\n",
    "        conditions.append(int(line.strip()))\n",
    "conditions = conditions[:97]"
   ]
  },
  {
   "cell_type": "markdown",
   "metadata": {},
   "source": [
    "onset time of targets"
   ]
  },
  {
   "cell_type": "code",
   "execution_count": 8,
   "metadata": {},
   "outputs": [],
   "source": [
    "temp = {}\n",
    "for target in [1, 5, 21, 25]:\n",
    "    with open(os.path.join(reg_dir,'4targets','%s%s.onset.prac.target%d.txt'%(gg,subj,target))) as fr:\n",
    "        for rr, line in enumerate(fr):\n",
    "            temp[rr+1, target] = np.array(line.strip().split(' ')).astype(float)\n",
    "            \n",
    "onsets = np.sort(np.concatenate([temp[run, target] for target in [1,5,21,25]]))"
   ]
  },
  {
   "cell_type": "markdown",
   "metadata": {},
   "source": [
    "duration time for each target to be displayed"
   ]
  },
  {
   "cell_type": "code",
   "execution_count": 9,
   "metadata": {},
   "outputs": [],
   "source": [
    "durations = [5 for i in range(97)]"
   ]
  },
  {
   "cell_type": "markdown",
   "metadata": {},
   "source": [
    "events in each trial"
   ]
  },
  {
   "cell_type": "code",
   "execution_count": 10,
   "metadata": {},
   "outputs": [],
   "source": [
    "events = pd.DataFrame({'trial_type': conditions, 'onset': onsets,\n",
    "                       'duration': durations})"
   ]
  },
  {
   "cell_type": "code",
   "execution_count": 11,
   "metadata": {},
   "outputs": [
    {
     "data": {
      "text/html": [
       "<div>\n",
       "<style scoped>\n",
       "    .dataframe tbody tr th:only-of-type {\n",
       "        vertical-align: middle;\n",
       "    }\n",
       "\n",
       "    .dataframe tbody tr th {\n",
       "        vertical-align: top;\n",
       "    }\n",
       "\n",
       "    .dataframe thead th {\n",
       "        text-align: right;\n",
       "    }\n",
       "</style>\n",
       "<table border=\"1\" class=\"dataframe\">\n",
       "  <thead>\n",
       "    <tr style=\"text-align: right;\">\n",
       "      <th></th>\n",
       "      <th>trial_type</th>\n",
       "      <th>onset</th>\n",
       "      <th>duration</th>\n",
       "    </tr>\n",
       "  </thead>\n",
       "  <tbody>\n",
       "    <tr>\n",
       "      <th>0</th>\n",
       "      <td>1</td>\n",
       "      <td>2.043</td>\n",
       "      <td>5</td>\n",
       "    </tr>\n",
       "    <tr>\n",
       "      <th>1</th>\n",
       "      <td>5</td>\n",
       "      <td>7.068</td>\n",
       "      <td>5</td>\n",
       "    </tr>\n",
       "    <tr>\n",
       "      <th>2</th>\n",
       "      <td>25</td>\n",
       "      <td>12.065</td>\n",
       "      <td>5</td>\n",
       "    </tr>\n",
       "    <tr>\n",
       "      <th>3</th>\n",
       "      <td>21</td>\n",
       "      <td>17.091</td>\n",
       "      <td>5</td>\n",
       "    </tr>\n",
       "    <tr>\n",
       "      <th>4</th>\n",
       "      <td>1</td>\n",
       "      <td>22.098</td>\n",
       "      <td>5</td>\n",
       "    </tr>\n",
       "    <tr>\n",
       "      <th>...</th>\n",
       "      <td>...</td>\n",
       "      <td>...</td>\n",
       "      <td>...</td>\n",
       "    </tr>\n",
       "    <tr>\n",
       "      <th>92</th>\n",
       "      <td>25</td>\n",
       "      <td>462.079</td>\n",
       "      <td>5</td>\n",
       "    </tr>\n",
       "    <tr>\n",
       "      <th>93</th>\n",
       "      <td>1</td>\n",
       "      <td>467.078</td>\n",
       "      <td>5</td>\n",
       "    </tr>\n",
       "    <tr>\n",
       "      <th>94</th>\n",
       "      <td>21</td>\n",
       "      <td>472.082</td>\n",
       "      <td>5</td>\n",
       "    </tr>\n",
       "    <tr>\n",
       "      <th>95</th>\n",
       "      <td>5</td>\n",
       "      <td>477.081</td>\n",
       "      <td>5</td>\n",
       "    </tr>\n",
       "    <tr>\n",
       "      <th>96</th>\n",
       "      <td>1</td>\n",
       "      <td>482.081</td>\n",
       "      <td>5</td>\n",
       "    </tr>\n",
       "  </tbody>\n",
       "</table>\n",
       "<p>97 rows × 3 columns</p>\n",
       "</div>"
      ],
      "text/plain": [
       "    trial_type    onset  duration\n",
       "0            1    2.043         5\n",
       "1            5    7.068         5\n",
       "2           25   12.065         5\n",
       "3           21   17.091         5\n",
       "4            1   22.098         5\n",
       "..         ...      ...       ...\n",
       "92          25  462.079         5\n",
       "93           1  467.078         5\n",
       "94          21  472.082         5\n",
       "95           5  477.081         5\n",
       "96           1  482.081         5\n",
       "\n",
       "[97 rows x 3 columns]"
      ]
     },
     "execution_count": 11,
     "metadata": {},
     "output_type": "execute_result"
    }
   ],
   "source": [
    "events"
   ]
  },
  {
   "cell_type": "markdown",
   "metadata": {},
   "source": [
    "## Design Matrix"
   ]
  },
  {
   "cell_type": "code",
   "execution_count": 12,
   "metadata": {},
   "outputs": [],
   "source": [
    "add_regs = np.array([list(a)+[b] for a, b in zip(motions, MO)])"
   ]
  },
  {
   "cell_type": "code",
   "execution_count": 15,
   "metadata": {},
   "outputs": [
    {
     "data": {
      "text/plain": [
       "<AxesSubplot:label='conditions', ylabel='scan number'>"
      ]
     },
     "execution_count": 15,
     "metadata": {},
     "output_type": "execute_result"
    },
    {
     "data": {
      "image/png": "[encoded data removed]",
      "text/plain": [
       "<Figure size 336.96x720 with 1 Axes>"
      ]
     },
     "metadata": {
      "needs_background": "light"
     },
     "output_type": "display_data"
    }
   ],
   "source": [
    "X1 = nimat(frame_times, events, drift_model='polynomial', drift_order=4\n",
    "           , add_regs=add_regs, add_reg_names=motion_headers+['MO'], hrf_model='glover')\n",
    "niplt.plot_design_matrix(X1)"
   ]
  },
  {
   "cell_type": "markdown",
   "metadata": {},
   "source": [
    "### LSS"
   ]
  },
  {
   "cell_type": "code",
   "execution_count": 22,
   "metadata": {},
   "outputs": [],
   "source": [
    "col_header = ['Run#%d#Pol#%d'%(run,pol) for pol in range(5)] + ['beta#%02d'%k for k in range(97)] + ['roll', 'pitch', 'yaw', 'dS', 'dL', 'dP', 'MO']\n",
    "temp = []\n",
    "with open(os.path.join(preproc_dir,subj,'X.xmatLSS.MO.shortdur.%s%s.r%02d.1D'%(gg,subj,run))) as fr:\n",
    "    for line in fr:\n",
    "        if line[0]==' ':\n",
    "            temp.append(np.array(line.strip().split(' ')).astype(float))\n",
    "X = pd.DataFrame(temp, columns=col_header, index=frame_times)"
   ]
  },
  {
   "cell_type": "code",
   "execution_count": 23,
   "metadata": {},
   "outputs": [
    {
     "data": {
      "text/html": [
       "<div>\n",
       "<style scoped>\n",
       "    .dataframe tbody tr th:only-of-type {\n",
       "        vertical-align: middle;\n",
       "    }\n",
       "\n",
       "    .dataframe tbody tr th {\n",
       "        vertical-align: top;\n",
       "    }\n",
       "\n",
       "    .dataframe thead th {\n",
       "        text-align: right;\n",
       "    }\n",
       "</style>\n",
       "<table border=\"1\" class=\"dataframe\">\n",
       "  <thead>\n",
       "    <tr style=\"text-align: right;\">\n",
       "      <th></th>\n",
       "      <th>Run#1#Pol#0</th>\n",
       "      <th>Run#1#Pol#1</th>\n",
       "      <th>Run#1#Pol#2</th>\n",
       "      <th>Run#1#Pol#3</th>\n",
       "      <th>Run#1#Pol#4</th>\n",
       "      <th>beta#00</th>\n",
       "      <th>beta#01</th>\n",
       "      <th>beta#02</th>\n",
       "      <th>beta#03</th>\n",
       "      <th>beta#04</th>\n",
       "      <th>...</th>\n",
       "      <th>beta#94</th>\n",
       "      <th>beta#95</th>\n",
       "      <th>beta#96</th>\n",
       "      <th>roll</th>\n",
       "      <th>pitch</th>\n",
       "      <th>yaw</th>\n",
       "      <th>dS</th>\n",
       "      <th>dL</th>\n",
       "      <th>dP</th>\n",
       "      <th>MO</th>\n",
       "    </tr>\n",
       "  </thead>\n",
       "  <tbody>\n",
       "    <tr>\n",
       "      <th>0.00</th>\n",
       "      <td>1.0</td>\n",
       "      <td>-1.000000</td>\n",
       "      <td>0.999087</td>\n",
       "      <td>-1.000000</td>\n",
       "      <td>0.999085</td>\n",
       "      <td>0.0</td>\n",
       "      <td>0.0</td>\n",
       "      <td>0.0</td>\n",
       "      <td>0.0</td>\n",
       "      <td>0.0</td>\n",
       "      <td>...</td>\n",
       "      <td>0.0</td>\n",
       "      <td>0.0</td>\n",
       "      <td>0.0</td>\n",
       "      <td>-0.375759</td>\n",
       "      <td>1.294870</td>\n",
       "      <td>-0.238131</td>\n",
       "      <td>-0.243781</td>\n",
       "      <td>-0.32071</td>\n",
       "      <td>-0.320976</td>\n",
       "      <td>-17.407801</td>\n",
       "    </tr>\n",
       "    <tr>\n",
       "      <th>0.46</th>\n",
       "      <td>1.0</td>\n",
       "      <td>-0.998174</td>\n",
       "      <td>0.993612</td>\n",
       "      <td>-0.989066</td>\n",
       "      <td>0.980895</td>\n",
       "      <td>0.0</td>\n",
       "      <td>0.0</td>\n",
       "      <td>0.0</td>\n",
       "      <td>0.0</td>\n",
       "      <td>0.0</td>\n",
       "      <td>...</td>\n",
       "      <td>0.0</td>\n",
       "      <td>0.0</td>\n",
       "      <td>0.0</td>\n",
       "      <td>-0.362159</td>\n",
       "      <td>1.323970</td>\n",
       "      <td>-0.235931</td>\n",
       "      <td>-0.248781</td>\n",
       "      <td>-0.32881</td>\n",
       "      <td>-0.310076</td>\n",
       "      <td>-17.407801</td>\n",
       "    </tr>\n",
       "    <tr>\n",
       "      <th>0.92</th>\n",
       "      <td>1.0</td>\n",
       "      <td>-0.996347</td>\n",
       "      <td>0.988148</td>\n",
       "      <td>-0.978182</td>\n",
       "      <td>0.962854</td>\n",
       "      <td>0.0</td>\n",
       "      <td>0.0</td>\n",
       "      <td>0.0</td>\n",
       "      <td>0.0</td>\n",
       "      <td>0.0</td>\n",
       "      <td>...</td>\n",
       "      <td>0.0</td>\n",
       "      <td>0.0</td>\n",
       "      <td>0.0</td>\n",
       "      <td>-0.351759</td>\n",
       "      <td>1.297270</td>\n",
       "      <td>-0.240531</td>\n",
       "      <td>-0.281881</td>\n",
       "      <td>-0.32761</td>\n",
       "      <td>-0.348076</td>\n",
       "      <td>-17.407801</td>\n",
       "    </tr>\n",
       "    <tr>\n",
       "      <th>1.38</th>\n",
       "      <td>1.0</td>\n",
       "      <td>-0.994521</td>\n",
       "      <td>0.982693</td>\n",
       "      <td>-0.967348</td>\n",
       "      <td>0.944963</td>\n",
       "      <td>0.0</td>\n",
       "      <td>0.0</td>\n",
       "      <td>0.0</td>\n",
       "      <td>0.0</td>\n",
       "      <td>0.0</td>\n",
       "      <td>...</td>\n",
       "      <td>0.0</td>\n",
       "      <td>0.0</td>\n",
       "      <td>0.0</td>\n",
       "      <td>-0.354059</td>\n",
       "      <td>1.306270</td>\n",
       "      <td>-0.233531</td>\n",
       "      <td>-0.243281</td>\n",
       "      <td>-0.33581</td>\n",
       "      <td>-0.364076</td>\n",
       "      <td>-17.407801</td>\n",
       "    </tr>\n",
       "    <tr>\n",
       "      <th>1.84</th>\n",
       "      <td>1.0</td>\n",
       "      <td>-0.992694</td>\n",
       "      <td>0.977249</td>\n",
       "      <td>-0.956564</td>\n",
       "      <td>0.927220</td>\n",
       "      <td>0.0</td>\n",
       "      <td>0.0</td>\n",
       "      <td>0.0</td>\n",
       "      <td>0.0</td>\n",
       "      <td>0.0</td>\n",
       "      <td>...</td>\n",
       "      <td>0.0</td>\n",
       "      <td>0.0</td>\n",
       "      <td>0.0</td>\n",
       "      <td>-0.347459</td>\n",
       "      <td>1.269270</td>\n",
       "      <td>-0.246531</td>\n",
       "      <td>-0.236781</td>\n",
       "      <td>-0.32141</td>\n",
       "      <td>-0.356776</td>\n",
       "      <td>-17.407801</td>\n",
       "    </tr>\n",
       "    <tr>\n",
       "      <th>...</th>\n",
       "      <td>...</td>\n",
       "      <td>...</td>\n",
       "      <td>...</td>\n",
       "      <td>...</td>\n",
       "      <td>...</td>\n",
       "      <td>...</td>\n",
       "      <td>...</td>\n",
       "      <td>...</td>\n",
       "      <td>...</td>\n",
       "      <td>...</td>\n",
       "      <td>...</td>\n",
       "      <td>...</td>\n",
       "      <td>...</td>\n",
       "      <td>...</td>\n",
       "      <td>...</td>\n",
       "      <td>...</td>\n",
       "      <td>...</td>\n",
       "      <td>...</td>\n",
       "      <td>...</td>\n",
       "      <td>...</td>\n",
       "      <td>...</td>\n",
       "    </tr>\n",
       "    <tr>\n",
       "      <th>501.86</th>\n",
       "      <td>1.0</td>\n",
       "      <td>0.992694</td>\n",
       "      <td>0.977249</td>\n",
       "      <td>0.956564</td>\n",
       "      <td>0.927220</td>\n",
       "      <td>0.0</td>\n",
       "      <td>0.0</td>\n",
       "      <td>0.0</td>\n",
       "      <td>0.0</td>\n",
       "      <td>0.0</td>\n",
       "      <td>...</td>\n",
       "      <td>0.0</td>\n",
       "      <td>0.0</td>\n",
       "      <td>0.0</td>\n",
       "      <td>-0.132059</td>\n",
       "      <td>0.370066</td>\n",
       "      <td>0.302969</td>\n",
       "      <td>0.091418</td>\n",
       "      <td>0.17549</td>\n",
       "      <td>-0.158776</td>\n",
       "      <td>-17.387861</td>\n",
       "    </tr>\n",
       "    <tr>\n",
       "      <th>502.32</th>\n",
       "      <td>1.0</td>\n",
       "      <td>0.994521</td>\n",
       "      <td>0.982693</td>\n",
       "      <td>0.967348</td>\n",
       "      <td>0.944963</td>\n",
       "      <td>0.0</td>\n",
       "      <td>0.0</td>\n",
       "      <td>0.0</td>\n",
       "      <td>0.0</td>\n",
       "      <td>0.0</td>\n",
       "      <td>...</td>\n",
       "      <td>0.0</td>\n",
       "      <td>0.0</td>\n",
       "      <td>0.0</td>\n",
       "      <td>-0.124959</td>\n",
       "      <td>0.299966</td>\n",
       "      <td>0.291969</td>\n",
       "      <td>0.094118</td>\n",
       "      <td>0.18199</td>\n",
       "      <td>-0.090676</td>\n",
       "      <td>-17.407801</td>\n",
       "    </tr>\n",
       "    <tr>\n",
       "      <th>502.78</th>\n",
       "      <td>1.0</td>\n",
       "      <td>0.996347</td>\n",
       "      <td>0.988148</td>\n",
       "      <td>0.978182</td>\n",
       "      <td>0.962854</td>\n",
       "      <td>0.0</td>\n",
       "      <td>0.0</td>\n",
       "      <td>0.0</td>\n",
       "      <td>0.0</td>\n",
       "      <td>0.0</td>\n",
       "      <td>...</td>\n",
       "      <td>0.0</td>\n",
       "      <td>0.0</td>\n",
       "      <td>0.0</td>\n",
       "      <td>-0.136959</td>\n",
       "      <td>0.239566</td>\n",
       "      <td>0.322869</td>\n",
       "      <td>0.126619</td>\n",
       "      <td>0.17629</td>\n",
       "      <td>-0.058876</td>\n",
       "      <td>-17.407801</td>\n",
       "    </tr>\n",
       "    <tr>\n",
       "      <th>503.24</th>\n",
       "      <td>1.0</td>\n",
       "      <td>0.998174</td>\n",
       "      <td>0.993612</td>\n",
       "      <td>0.989066</td>\n",
       "      <td>0.980895</td>\n",
       "      <td>0.0</td>\n",
       "      <td>0.0</td>\n",
       "      <td>0.0</td>\n",
       "      <td>0.0</td>\n",
       "      <td>0.0</td>\n",
       "      <td>...</td>\n",
       "      <td>0.0</td>\n",
       "      <td>0.0</td>\n",
       "      <td>0.0</td>\n",
       "      <td>-0.143459</td>\n",
       "      <td>0.265066</td>\n",
       "      <td>0.309369</td>\n",
       "      <td>0.141419</td>\n",
       "      <td>0.17319</td>\n",
       "      <td>-0.019576</td>\n",
       "      <td>-17.407801</td>\n",
       "    </tr>\n",
       "    <tr>\n",
       "      <th>503.70</th>\n",
       "      <td>1.0</td>\n",
       "      <td>1.000000</td>\n",
       "      <td>0.999087</td>\n",
       "      <td>1.000000</td>\n",
       "      <td>0.999085</td>\n",
       "      <td>0.0</td>\n",
       "      <td>0.0</td>\n",
       "      <td>0.0</td>\n",
       "      <td>0.0</td>\n",
       "      <td>0.0</td>\n",
       "      <td>...</td>\n",
       "      <td>0.0</td>\n",
       "      <td>0.0</td>\n",
       "      <td>0.0</td>\n",
       "      <td>-0.130359</td>\n",
       "      <td>0.183466</td>\n",
       "      <td>0.300569</td>\n",
       "      <td>0.161319</td>\n",
       "      <td>0.18239</td>\n",
       "      <td>-0.060276</td>\n",
       "      <td>-17.407801</td>\n",
       "    </tr>\n",
       "  </tbody>\n",
       "</table>\n",
       "<p>1096 rows × 109 columns</p>\n",
       "</div>"
      ],
      "text/plain": [
       "        Run#1#Pol#0  Run#1#Pol#1  Run#1#Pol#2  Run#1#Pol#3  Run#1#Pol#4  \\\n",
       "0.00            1.0    -1.000000     0.999087    -1.000000     0.999085   \n",
       "0.46            1.0    -0.998174     0.993612    -0.989066     0.980895   \n",
       "0.92            1.0    -0.996347     0.988148    -0.978182     0.962854   \n",
       "1.38            1.0    -0.994521     0.982693    -0.967348     0.944963   \n",
       "1.84            1.0    -0.992694     0.977249    -0.956564     0.927220   \n",
       "...             ...          ...          ...          ...          ...   \n",
       "501.86          1.0     0.992694     0.977249     0.956564     0.927220   \n",
       "502.32          1.0     0.994521     0.982693     0.967348     0.944963   \n",
       "502.78          1.0     0.996347     0.988148     0.978182     0.962854   \n",
       "503.24          1.0     0.998174     0.993612     0.989066     0.980895   \n",
       "503.70          1.0     1.000000     0.999087     1.000000     0.999085   \n",
       "\n",
       "        beta#00  beta#01  beta#02  beta#03  beta#04  ...  beta#94  beta#95  \\\n",
       "0.00        0.0      0.0      0.0      0.0      0.0  ...      0.0      0.0   \n",
       "0.46        0.0      0.0      0.0      0.0      0.0  ...      0.0      0.0   \n",
       "0.92        0.0      0.0      0.0      0.0      0.0  ...      0.0      0.0   \n",
       "1.38        0.0      0.0      0.0      0.0      0.0  ...      0.0      0.0   \n",
       "1.84        0.0      0.0      0.0      0.0      0.0  ...      0.0      0.0   \n",
       "...         ...      ...      ...      ...      ...  ...      ...      ...   \n",
       "501.86      0.0      0.0      0.0      0.0      0.0  ...      0.0      0.0   \n",
       "502.32      0.0      0.0      0.0      0.0      0.0  ...      0.0      0.0   \n",
       "502.78      0.0      0.0      0.0      0.0      0.0  ...      0.0      0.0   \n",
       "503.24      0.0      0.0      0.0      0.0      0.0  ...      0.0      0.0   \n",
       "503.70      0.0      0.0      0.0      0.0      0.0  ...      0.0      0.0   \n",
       "\n",
       "        beta#96      roll     pitch       yaw        dS       dL        dP  \\\n",
       "0.00        0.0 -0.375759  1.294870 -0.238131 -0.243781 -0.32071 -0.320976   \n",
       "0.46        0.0 -0.362159  1.323970 -0.235931 -0.248781 -0.32881 -0.310076   \n",
       "0.92        0.0 -0.351759  1.297270 -0.240531 -0.281881 -0.32761 -0.348076   \n",
       "1.38        0.0 -0.354059  1.306270 -0.233531 -0.243281 -0.33581 -0.364076   \n",
       "1.84        0.0 -0.347459  1.269270 -0.246531 -0.236781 -0.32141 -0.356776   \n",
       "...         ...       ...       ...       ...       ...      ...       ...   \n",
       "501.86      0.0 -0.132059  0.370066  0.302969  0.091418  0.17549 -0.158776   \n",
       "502.32      0.0 -0.124959  0.299966  0.291969  0.094118  0.18199 -0.090676   \n",
       "502.78      0.0 -0.136959  0.239566  0.322869  0.126619  0.17629 -0.058876   \n",
       "503.24      0.0 -0.143459  0.265066  0.309369  0.141419  0.17319 -0.019576   \n",
       "503.70      0.0 -0.130359  0.183466  0.300569  0.161319  0.18239 -0.060276   \n",
       "\n",
       "               MO  \n",
       "0.00   -17.407801  \n",
       "0.46   -17.407801  \n",
       "0.92   -17.407801  \n",
       "1.38   -17.407801  \n",
       "1.84   -17.407801  \n",
       "...           ...  \n",
       "501.86 -17.387861  \n",
       "502.32 -17.407801  \n",
       "502.78 -17.407801  \n",
       "503.24 -17.407801  \n",
       "503.70 -17.407801  \n",
       "\n",
       "[1096 rows x 109 columns]"
      ]
     },
     "execution_count": 23,
     "metadata": {},
     "output_type": "execute_result"
    }
   ],
   "source": [
    "X"
   ]
  },
  {
   "cell_type": "code",
   "execution_count": 24,
   "metadata": {
    "scrolled": true
   },
   "outputs": [
    {
     "data": {
      "text/plain": [
       "<AxesSubplot:label='conditions', ylabel='scan number'>"
      ]
     },
     "execution_count": 24,
     "metadata": {},
     "output_type": "execute_result"
    },
    {
     "data": {
      "image/png": "[encoded data removed]",
      "text/plain": [
       "<Figure size 1877.04x720 with 1 Axes>"
      ]
     },
     "metadata": {
      "needs_background": "light"
     },
     "output_type": "display_data"
    }
   ],
   "source": [
    "niplt.plot_design_matrix(X)"
   ]
  },
  {
   "cell_type": "code",
   "execution_count": 25,
   "metadata": {},
   "outputs": [
    {
     "data": {
      "text/html": [
       "<div>\n",
       "<style scoped>\n",
       "    .dataframe tbody tr th:only-of-type {\n",
       "        vertical-align: middle;\n",
       "    }\n",
       "\n",
       "    .dataframe tbody tr th {\n",
       "        vertical-align: top;\n",
       "    }\n",
       "\n",
       "    .dataframe thead th {\n",
       "        text-align: right;\n",
       "    }\n",
       "</style>\n",
       "<table border=\"1\" class=\"dataframe\">\n",
       "  <thead>\n",
       "    <tr style=\"text-align: right;\">\n",
       "      <th></th>\n",
       "      <th>roll</th>\n",
       "      <th>pitch</th>\n",
       "      <th>yaw</th>\n",
       "      <th>dS</th>\n",
       "      <th>dL</th>\n",
       "      <th>dP</th>\n",
       "      <th>MO</th>\n",
       "    </tr>\n",
       "  </thead>\n",
       "  <tbody>\n",
       "    <tr>\n",
       "      <th>0.00</th>\n",
       "      <td>-0.375759</td>\n",
       "      <td>1.294870</td>\n",
       "      <td>-0.238131</td>\n",
       "      <td>-0.243781</td>\n",
       "      <td>-0.32071</td>\n",
       "      <td>-0.320976</td>\n",
       "      <td>-17.407801</td>\n",
       "    </tr>\n",
       "    <tr>\n",
       "      <th>0.46</th>\n",
       "      <td>-0.362159</td>\n",
       "      <td>1.323970</td>\n",
       "      <td>-0.235931</td>\n",
       "      <td>-0.248781</td>\n",
       "      <td>-0.32881</td>\n",
       "      <td>-0.310076</td>\n",
       "      <td>-17.407801</td>\n",
       "    </tr>\n",
       "    <tr>\n",
       "      <th>0.92</th>\n",
       "      <td>-0.351759</td>\n",
       "      <td>1.297270</td>\n",
       "      <td>-0.240531</td>\n",
       "      <td>-0.281881</td>\n",
       "      <td>-0.32761</td>\n",
       "      <td>-0.348076</td>\n",
       "      <td>-17.407801</td>\n",
       "    </tr>\n",
       "    <tr>\n",
       "      <th>1.38</th>\n",
       "      <td>-0.354059</td>\n",
       "      <td>1.306270</td>\n",
       "      <td>-0.233531</td>\n",
       "      <td>-0.243281</td>\n",
       "      <td>-0.33581</td>\n",
       "      <td>-0.364076</td>\n",
       "      <td>-17.407801</td>\n",
       "    </tr>\n",
       "    <tr>\n",
       "      <th>1.84</th>\n",
       "      <td>-0.347459</td>\n",
       "      <td>1.269270</td>\n",
       "      <td>-0.246531</td>\n",
       "      <td>-0.236781</td>\n",
       "      <td>-0.32141</td>\n",
       "      <td>-0.356776</td>\n",
       "      <td>-17.407801</td>\n",
       "    </tr>\n",
       "    <tr>\n",
       "      <th>...</th>\n",
       "      <td>...</td>\n",
       "      <td>...</td>\n",
       "      <td>...</td>\n",
       "      <td>...</td>\n",
       "      <td>...</td>\n",
       "      <td>...</td>\n",
       "      <td>...</td>\n",
       "    </tr>\n",
       "    <tr>\n",
       "      <th>501.86</th>\n",
       "      <td>-0.132059</td>\n",
       "      <td>0.370066</td>\n",
       "      <td>0.302969</td>\n",
       "      <td>0.091418</td>\n",
       "      <td>0.17549</td>\n",
       "      <td>-0.158776</td>\n",
       "      <td>-17.387861</td>\n",
       "    </tr>\n",
       "    <tr>\n",
       "      <th>502.32</th>\n",
       "      <td>-0.124959</td>\n",
       "      <td>0.299966</td>\n",
       "      <td>0.291969</td>\n",
       "      <td>0.094118</td>\n",
       "      <td>0.18199</td>\n",
       "      <td>-0.090676</td>\n",
       "      <td>-17.407801</td>\n",
       "    </tr>\n",
       "    <tr>\n",
       "      <th>502.78</th>\n",
       "      <td>-0.136959</td>\n",
       "      <td>0.239566</td>\n",
       "      <td>0.322869</td>\n",
       "      <td>0.126619</td>\n",
       "      <td>0.17629</td>\n",
       "      <td>-0.058876</td>\n",
       "      <td>-17.407801</td>\n",
       "    </tr>\n",
       "    <tr>\n",
       "      <th>503.24</th>\n",
       "      <td>-0.143459</td>\n",
       "      <td>0.265066</td>\n",
       "      <td>0.309369</td>\n",
       "      <td>0.141419</td>\n",
       "      <td>0.17319</td>\n",
       "      <td>-0.019576</td>\n",
       "      <td>-17.407801</td>\n",
       "    </tr>\n",
       "    <tr>\n",
       "      <th>503.70</th>\n",
       "      <td>-0.130359</td>\n",
       "      <td>0.183466</td>\n",
       "      <td>0.300569</td>\n",
       "      <td>0.161319</td>\n",
       "      <td>0.18239</td>\n",
       "      <td>-0.060276</td>\n",
       "      <td>-17.407801</td>\n",
       "    </tr>\n",
       "  </tbody>\n",
       "</table>\n",
       "<p>1096 rows × 7 columns</p>\n",
       "</div>"
      ],
      "text/plain": [
       "            roll     pitch       yaw        dS       dL        dP         MO\n",
       "0.00   -0.375759  1.294870 -0.238131 -0.243781 -0.32071 -0.320976 -17.407801\n",
       "0.46   -0.362159  1.323970 -0.235931 -0.248781 -0.32881 -0.310076 -17.407801\n",
       "0.92   -0.351759  1.297270 -0.240531 -0.281881 -0.32761 -0.348076 -17.407801\n",
       "1.38   -0.354059  1.306270 -0.233531 -0.243281 -0.33581 -0.364076 -17.407801\n",
       "1.84   -0.347459  1.269270 -0.246531 -0.236781 -0.32141 -0.356776 -17.407801\n",
       "...          ...       ...       ...       ...      ...       ...        ...\n",
       "501.86 -0.132059  0.370066  0.302969  0.091418  0.17549 -0.158776 -17.387861\n",
       "502.32 -0.124959  0.299966  0.291969  0.094118  0.18199 -0.090676 -17.407801\n",
       "502.78 -0.136959  0.239566  0.322869  0.126619  0.17629 -0.058876 -17.407801\n",
       "503.24 -0.143459  0.265066  0.309369  0.141419  0.17319 -0.019576 -17.407801\n",
       "503.70 -0.130359  0.183466  0.300569  0.161319  0.18239 -0.060276 -17.407801\n",
       "\n",
       "[1096 rows x 7 columns]"
      ]
     },
     "execution_count": 25,
     "metadata": {},
     "output_type": "execute_result"
    }
   ],
   "source": [
    "X[motion_headers+['MO']]"
   ]
  },
  {
   "cell_type": "code",
   "execution_count": 26,
   "metadata": {},
   "outputs": [
    {
     "data": {
      "text/html": [
       "<div>\n",
       "<style scoped>\n",
       "    .dataframe tbody tr th:only-of-type {\n",
       "        vertical-align: middle;\n",
       "    }\n",
       "\n",
       "    .dataframe tbody tr th {\n",
       "        vertical-align: top;\n",
       "    }\n",
       "\n",
       "    .dataframe thead th {\n",
       "        text-align: right;\n",
       "    }\n",
       "</style>\n",
       "<table border=\"1\" class=\"dataframe\">\n",
       "  <thead>\n",
       "    <tr style=\"text-align: right;\">\n",
       "      <th></th>\n",
       "      <th>roll</th>\n",
       "      <th>pitch</th>\n",
       "      <th>yaw</th>\n",
       "      <th>dS</th>\n",
       "      <th>dL</th>\n",
       "      <th>dP</th>\n",
       "      <th>MO</th>\n",
       "    </tr>\n",
       "  </thead>\n",
       "  <tbody>\n",
       "    <tr>\n",
       "      <th>0.00</th>\n",
       "      <td>-0.375759</td>\n",
       "      <td>1.294870</td>\n",
       "      <td>-0.238131</td>\n",
       "      <td>-0.243781</td>\n",
       "      <td>-0.32071</td>\n",
       "      <td>-0.320976</td>\n",
       "      <td>-17.407802</td>\n",
       "    </tr>\n",
       "    <tr>\n",
       "      <th>0.46</th>\n",
       "      <td>-0.362159</td>\n",
       "      <td>1.323970</td>\n",
       "      <td>-0.235931</td>\n",
       "      <td>-0.248781</td>\n",
       "      <td>-0.32881</td>\n",
       "      <td>-0.310076</td>\n",
       "      <td>-17.407802</td>\n",
       "    </tr>\n",
       "    <tr>\n",
       "      <th>0.92</th>\n",
       "      <td>-0.351759</td>\n",
       "      <td>1.297270</td>\n",
       "      <td>-0.240531</td>\n",
       "      <td>-0.281881</td>\n",
       "      <td>-0.32761</td>\n",
       "      <td>-0.348076</td>\n",
       "      <td>-17.407802</td>\n",
       "    </tr>\n",
       "    <tr>\n",
       "      <th>1.38</th>\n",
       "      <td>-0.354059</td>\n",
       "      <td>1.306270</td>\n",
       "      <td>-0.233531</td>\n",
       "      <td>-0.243281</td>\n",
       "      <td>-0.33581</td>\n",
       "      <td>-0.364076</td>\n",
       "      <td>-17.407802</td>\n",
       "    </tr>\n",
       "    <tr>\n",
       "      <th>1.84</th>\n",
       "      <td>-0.347459</td>\n",
       "      <td>1.269270</td>\n",
       "      <td>-0.246531</td>\n",
       "      <td>-0.236781</td>\n",
       "      <td>-0.32141</td>\n",
       "      <td>-0.356776</td>\n",
       "      <td>-17.407802</td>\n",
       "    </tr>\n",
       "    <tr>\n",
       "      <th>...</th>\n",
       "      <td>...</td>\n",
       "      <td>...</td>\n",
       "      <td>...</td>\n",
       "      <td>...</td>\n",
       "      <td>...</td>\n",
       "      <td>...</td>\n",
       "      <td>...</td>\n",
       "    </tr>\n",
       "    <tr>\n",
       "      <th>501.86</th>\n",
       "      <td>-0.132059</td>\n",
       "      <td>0.370066</td>\n",
       "      <td>0.302969</td>\n",
       "      <td>0.091419</td>\n",
       "      <td>0.17549</td>\n",
       "      <td>-0.158776</td>\n",
       "      <td>-17.387863</td>\n",
       "    </tr>\n",
       "    <tr>\n",
       "      <th>502.32</th>\n",
       "      <td>-0.124959</td>\n",
       "      <td>0.299966</td>\n",
       "      <td>0.291969</td>\n",
       "      <td>0.094119</td>\n",
       "      <td>0.18199</td>\n",
       "      <td>-0.090676</td>\n",
       "      <td>-17.407802</td>\n",
       "    </tr>\n",
       "    <tr>\n",
       "      <th>502.78</th>\n",
       "      <td>-0.136959</td>\n",
       "      <td>0.239566</td>\n",
       "      <td>0.322869</td>\n",
       "      <td>0.126619</td>\n",
       "      <td>0.17629</td>\n",
       "      <td>-0.058876</td>\n",
       "      <td>-17.407802</td>\n",
       "    </tr>\n",
       "    <tr>\n",
       "      <th>503.24</th>\n",
       "      <td>-0.143459</td>\n",
       "      <td>0.265066</td>\n",
       "      <td>0.309369</td>\n",
       "      <td>0.141419</td>\n",
       "      <td>0.17319</td>\n",
       "      <td>-0.019576</td>\n",
       "      <td>-17.407802</td>\n",
       "    </tr>\n",
       "    <tr>\n",
       "      <th>503.70</th>\n",
       "      <td>-0.130359</td>\n",
       "      <td>0.183466</td>\n",
       "      <td>0.300569</td>\n",
       "      <td>0.161319</td>\n",
       "      <td>0.18239</td>\n",
       "      <td>-0.060276</td>\n",
       "      <td>-17.407802</td>\n",
       "    </tr>\n",
       "  </tbody>\n",
       "</table>\n",
       "<p>1096 rows × 7 columns</p>\n",
       "</div>"
      ],
      "text/plain": [
       "            roll     pitch       yaw        dS       dL        dP         MO\n",
       "0.00   -0.375759  1.294870 -0.238131 -0.243781 -0.32071 -0.320976 -17.407802\n",
       "0.46   -0.362159  1.323970 -0.235931 -0.248781 -0.32881 -0.310076 -17.407802\n",
       "0.92   -0.351759  1.297270 -0.240531 -0.281881 -0.32761 -0.348076 -17.407802\n",
       "1.38   -0.354059  1.306270 -0.233531 -0.243281 -0.33581 -0.364076 -17.407802\n",
       "1.84   -0.347459  1.269270 -0.246531 -0.236781 -0.32141 -0.356776 -17.407802\n",
       "...          ...       ...       ...       ...      ...       ...        ...\n",
       "501.86 -0.132059  0.370066  0.302969  0.091419  0.17549 -0.158776 -17.387863\n",
       "502.32 -0.124959  0.299966  0.291969  0.094119  0.18199 -0.090676 -17.407802\n",
       "502.78 -0.136959  0.239566  0.322869  0.126619  0.17629 -0.058876 -17.407802\n",
       "503.24 -0.143459  0.265066  0.309369  0.141419  0.17319 -0.019576 -17.407802\n",
       "503.70 -0.130359  0.183466  0.300569  0.161319  0.18239 -0.060276 -17.407802\n",
       "\n",
       "[1096 rows x 7 columns]"
      ]
     },
     "execution_count": 26,
     "metadata": {},
     "output_type": "execute_result"
    }
   ],
   "source": [
    "X1[motion_headers+['MO']]"
   ]
  },
  {
   "cell_type": "code",
   "execution_count": null,
   "metadata": {},
   "outputs": [],
   "source": []
  }
 ],
 "metadata": {
  "kernelspec": {
   "display_name": "sampark",
   "language": "python",
   "name": "sampark"
  },
  "language_info": {
   "codemirror_mode": {
    "name": "ipython",
    "version": 3
   },
   "file_extension": ".py",
   "mimetype": "text/x-python",
   "name": "python",
   "nbconvert_exporter": "python",
   "pygments_lexer": "ipython3",
   "version": "3.7.10"
  }
 },
 "nbformat": 4,
 "nbformat_minor": 4
}
