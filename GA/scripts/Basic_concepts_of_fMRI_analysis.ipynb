{
 "cells": [
  {
   "cell_type": "markdown",
   "metadata": {},
   "source": [
    "# First level models"
   ]
  },
  {
   "cell_type": "markdown",
   "metadata": {},
   "source": [
    "## HRF models"
   ]
  },
  {
   "cell_type": "markdown",
   "metadata": {},
   "source": [
    "Nilearn offers a few different HRF models including the commonly used double-gamma SPM (statistical parametric mapping, 'spm') model and the model shape proposed by G. Glover ('glover'), both allowing the option of adding time and dispersion derivatives. The addition of these derivatives allows to better model any uncertainty in timing information. In addition, an FIR (finite impulse response, 'fir') model of the HRF is also available."
   ]
  },
  {
   "cell_type": "markdown",
   "metadata": {},
   "source": [
    "### Set up some parameters for model display"
   ]
  },
  {
   "cell_type": "markdown",
   "metadata": {},
   "source": [
    "To get an impulse reponse, we simulate a single event occurring at time t=0, with duration 1s."
   ]
  },
  {
   "cell_type": "code",
   "execution_count": 1,
   "metadata": {},
   "outputs": [],
   "source": [
    "import numpy as np\n",
    "frame_times = np.linspace(0, 30, 61)\n",
    "onset, amplitude, duration = 0., 1., 1.\n",
    "exp_condition = np.array((onset, duration, amplitude)).reshape(3, 1)"
   ]
  },
  {
   "cell_type": "markdown",
   "metadata": {},
   "source": [
    "We sample this on a fris for display"
   ]
  },
  {
   "cell_type": "code",
   "execution_count": 2,
   "metadata": {},
   "outputs": [],
   "source": [
    "stim = np.zeros_like(frame_times)\n",
    "stim[(frame_times > onset) * (frame_times <= onset + duration)] = amplitude"
   ]
  },
  {
   "cell_type": "markdown",
   "metadata": {},
   "source": [
    "Now we have to define the candidate hrf models."
   ]
  },
  {
   "cell_type": "code",
   "execution_count": 3,
   "metadata": {},
   "outputs": [],
   "source": [
    "hrf_models = [None, 'glover + derivative', 'glover + derivative + dispersion']"
   ]
  },
  {
   "cell_type": "markdown",
   "metadata": {},
   "source": [
    "### Sample the hrf"
   ]
  },
  {
   "cell_type": "code",
   "execution_count": 4,
   "metadata": {},
   "outputs": [
    {
     "name": "stderr",
     "output_type": "stream",
     "text": [
      "/usr/local/anaconda3/envs/sampark/lib/python3.7/site-packages/nilearn/glm/__init__.py:56: FutureWarning: The nilearn.glm module is experimental. It may change in any future release of Nilearn.\n",
      "  'It may change in any future release of Nilearn.', FutureWarning)\n"
     ]
    },
    {
     "data": {
      "image/png": "[encoded data removed]",
      "text/plain": [
       "<Figure size 648x288 with 3 Axes>"
      ]
     },
     "metadata": {
      "needs_background": "light"
     },
     "output_type": "display_data"
    }
   ],
   "source": [
    "from nilearn.glm.first_level import compute_regressor\n",
    "import matplotlib.pyplot as plt\n",
    "\n",
    "fig = plt.figure(figsize=(9, 4))\n",
    "for i, hrf_model in enumerate(hrf_models):\n",
    "    # obtain the signal of interest by convolution\n",
    "    signal, name = compute_regressor(\n",
    "        exp_condition, hrf_model, frame_times, con_id='main',\n",
    "        oversampling=16)\n",
    "\n",
    "    # plot this\n",
    "    plt.subplot(1, 3, i + 1)\n",
    "    plt.fill(frame_times, stim, 'k', alpha=.5, label='stimulus')\n",
    "    for j in range(signal.shape[1]):\n",
    "        plt.plot(frame_times, signal.T[j], label=name[j])\n",
    "    plt.xlabel('time (s)')\n",
    "    plt.legend(loc=1)\n",
    "    plt.title(hrf_model)\n",
    "\n",
    "# adjust the plot\n",
    "plt.subplots_adjust(bottom=.12)\n",
    "plt.show()"
   ]
  },
  {
   "cell_type": "markdown",
   "metadata": {},
   "source": [
    "## Design matrix: event-based and time series-based"
   ]
  },
  {
   "cell_type": "markdown",
   "metadata": {},
   "source": [
    "### Event-based"
   ]
  },
  {
   "cell_type": "markdown",
   "metadata": {},
   "source": [
    "To create an event-based design matrix, information about the trial type, onset time and duration of the events in the experiment are necessary. This can be provided by the user, or be part of the dataset if using a BIDS-compatible dataset or one of the nilearn dataset fetcher functions like nilearn.datasets.fetch_spm_multimodal_fmri, nilearn.datasets.fetch_language_localizer_demo_dataset, etc.\n",
    "\n",
    "Refer to the examples below for usage under the different scenarios:\n",
    "\n",
    "* User-defined: Examples of design matrices\n",
    "\n",
    "* Using an OpenNEURO dataset: First level analysis of a complete BIDS dataset from openneuro\n",
    "\n",
    "* Uing nilearn fetcher functions: Single-subject data (two sessions) in native space\n",
    "\n",
    "To ascertain that the sequence of events provided to the first level model is accurate, Nilearn provides an event visualization function called nilearn.plotting.plot_event. Sample usage for this is available in Decoding of a dataset after GLM fit for signal extraction.\n",
    "\n",
    "Once the events are defined, the design matrix is created using the nilearn.glm.first_level.make_first_level_design_matrix function:"
   ]
  },
  {
   "cell_type": "markdown",
   "metadata": {},
   "source": [
    "### Examples of design matrices"
   ]
  },
  {
   "cell_type": "markdown",
   "metadata": {},
   "source": [
    "Three examples of design matrices specification and computation for first-level fMRI data analysis (event-related design, block design, FIR design).\n",
    "\n",
    "This examples requires matplotlib."
   ]
  },
  {
   "cell_type": "code",
   "execution_count": 5,
   "metadata": {},
   "outputs": [],
   "source": [
    "try:\n",
    "    import matplotlib.pyplot as plt\n",
    "except ImportError:\n",
    "    raise RuntimeError(\"This script needs the matplotlib library\")"
   ]
  },
  {
   "cell_type": "markdown",
   "metadata": {},
   "source": [
    "#### Define parameters"
   ]
  },
  {
   "cell_type": "markdown",
   "metadata": {},
   "source": [
    "At first, we define parameters related to the images acquisition."
   ]
  },
  {
   "cell_type": "code",
   "execution_count": 6,
   "metadata": {},
   "outputs": [
    {
     "data": {
      "text/plain": [
       "(128,)"
      ]
     },
     "execution_count": 6,
     "metadata": {},
     "output_type": "execute_result"
    }
   ],
   "source": [
    "import numpy as np\n",
    "tr = 1.0  # repetition time is 1 second\n",
    "n_scans = 128  # the acquisition comprises 128 scans\n",
    "frame_times = np.arange(n_scans) * tr  # here are the correspoding frame times\n",
    "frame_times.shape"
   ]
  },
  {
   "cell_type": "markdown",
   "metadata": {},
   "source": [
    "Then we define parameters related to the experimental design."
   ]
  },
  {
   "cell_type": "code",
   "execution_count": 7,
   "metadata": {},
   "outputs": [
    {
     "data": {
      "text/plain": [
       "(128, 6)"
      ]
     },
     "execution_count": 7,
     "metadata": {},
     "output_type": "execute_result"
    }
   ],
   "source": [
    "# these are the types of the different trials\n",
    "conditions = ['c0', 'c0', 'c0', 'c1', 'c1', 'c1', 'c3', 'c3', 'c3']\n",
    "duration = [1., 1., 1., 1., 1., 1., 1., 1., 1.]\n",
    "# these are the corresponding onset times\n",
    "onsets = [30., 70., 100., 10., 30., 90., 30., 40., 60.]\n",
    "# Next, we simulate 6 motion parameters jointly observed with fMRI acquisitions\n",
    "motion = np.cumsum(np.random.randn(n_scans, 6), 0)\n",
    "# The 6 parameters correspond to three translations and three\n",
    "# rotations describing rigid body motion\n",
    "add_reg_names = ['tx', 'ty', 'tz', 'rx', 'ry', 'rz']\n",
    "\n",
    "motion.shape"
   ]
  },
  {
   "cell_type": "markdown",
   "metadata": {},
   "source": [
    "#### Create design matrices"
   ]
  },
  {
   "cell_type": "markdown",
   "metadata": {},
   "source": [
    "The same parameters allow us to obtain a variety of design matrices. We first create an events object."
   ]
  },
  {
   "cell_type": "code",
   "execution_count": 8,
   "metadata": {},
   "outputs": [
    {
     "data": {
      "text/plain": [
       "(9, 3)"
      ]
     },
     "execution_count": 8,
     "metadata": {},
     "output_type": "execute_result"
    }
   ],
   "source": [
    "import pandas as pd\n",
    "events = pd.DataFrame({'trial_type': conditions, 'onset': onsets,\n",
    "                       'duration': duration})\n",
    "events.shape"
   ]
  },
  {
   "cell_type": "markdown",
   "metadata": {},
   "source": [
    "We sample the events into a design matrix, also including additional regressors."
   ]
  },
  {
   "cell_type": "code",
   "execution_count": 9,
   "metadata": {},
   "outputs": [
    {
     "data": {
      "text/plain": [
       "(128, 13)"
      ]
     },
     "execution_count": 9,
     "metadata": {},
     "output_type": "execute_result"
    }
   ],
   "source": [
    "hrf_model = 'glover'\n",
    "from nilearn.glm.first_level import make_first_level_design_matrix\n",
    "X1 = make_first_level_design_matrix(\n",
    "    frame_times, events, drift_model='polynomial', drift_order=3,\n",
    "    add_regs=motion, add_reg_names=add_reg_names, hrf_model=hrf_model)\n",
    "X1.shape"
   ]
  },
  {
   "cell_type": "markdown",
   "metadata": {},
   "source": [
    "Now we compute a block design matrix. We add duration to create the blocks. For this we first define an event structure that includes the duration parameter."
   ]
  },
  {
   "cell_type": "code",
   "execution_count": 10,
   "metadata": {},
   "outputs": [
    {
     "data": {
      "text/plain": [
       "(9, 3)"
      ]
     },
     "execution_count": 10,
     "metadata": {},
     "output_type": "execute_result"
    }
   ],
   "source": [
    "duration = 7. * np.ones(len(conditions))\n",
    "events = pd.DataFrame({'trial_type': conditions, 'onset': onsets,\n",
    "                       'duration': duration})\n",
    "events.shape"
   ]
  },
  {
   "cell_type": "markdown",
   "metadata": {},
   "source": [
    "Then we sample the design matrix."
   ]
  },
  {
   "cell_type": "code",
   "execution_count": 11,
   "metadata": {},
   "outputs": [
    {
     "data": {
      "text/plain": [
       "(128, 7)"
      ]
     },
     "execution_count": 11,
     "metadata": {},
     "output_type": "execute_result"
    }
   ],
   "source": [
    "X2 = make_first_level_design_matrix(frame_times, events,\n",
    "                                    drift_model='polynomial', drift_order=3,\n",
    "                                    hrf_model=hrf_model)\n",
    "X2.shape"
   ]
  },
  {
   "cell_type": "markdown",
   "metadata": {},
   "source": [
    "Finally we compute a FIR model"
   ]
  },
  {
   "cell_type": "code",
   "execution_count": 12,
   "metadata": {
    "scrolled": true
   },
   "outputs": [
    {
     "data": {
      "text/plain": [
       "(9, 3)"
      ]
     },
     "execution_count": 12,
     "metadata": {},
     "output_type": "execute_result"
    }
   ],
   "source": [
    "events = pd.DataFrame({'trial_type': conditions, 'onset': onsets,\n",
    "                       'duration': duration})\n",
    "events.shape"
   ]
  },
  {
   "cell_type": "code",
   "execution_count": 13,
   "metadata": {},
   "outputs": [
    {
     "data": {
      "text/plain": [
       "(128, 25)"
      ]
     },
     "execution_count": 13,
     "metadata": {},
     "output_type": "execute_result"
    }
   ],
   "source": [
    "# hrf_model = 'FIR'\n",
    "X3 = make_first_level_design_matrix(frame_times, events, hrf_model='fir', fir_delays=np.arange(1, 6),\n",
    "                                    drift_model='polynomial', drift_order=3,\n",
    "                                    add_regs=np.array(motion), add_reg_names=add_reg_names)\n",
    "X3.shape"
   ]
  },
  {
   "cell_type": "markdown",
   "metadata": {},
   "source": [
    "Here are the three designs side by side."
   ]
  },
  {
   "cell_type": "code",
   "execution_count": 14,
   "metadata": {},
   "outputs": [
    {
     "name": "stderr",
     "output_type": "stream",
     "text": [
      "/usr/local/anaconda3/envs/sampark/lib/python3.7/site-packages/nilearn/datasets/__init__.py:90: FutureWarning: Fetchers from the nilearn.datasets module will be updated in version 0.9 to return python strings instead of bytes and Pandas dataframes instead of Numpy arrays.\n",
      "  \"Numpy arrays.\", FutureWarning)\n"
     ]
    },
    {
     "data": {
      "text/plain": [
       "Text(0.5, 1.0, 'FIR design matrix')"
      ]
     },
     "execution_count": 14,
     "metadata": {},
     "output_type": "execute_result"
    },
    {
     "data": {
      "image/png": "[encoded data removed]",
      "text/plain": [
       "<Figure size 720x432 with 3 Axes>"
      ]
     },
     "metadata": {
      "needs_background": "light"
     },
     "output_type": "display_data"
    }
   ],
   "source": [
    "from nilearn.plotting import plot_design_matrix\n",
    "fig, (ax1, ax2, ax3) = plt.subplots(figsize=(10, 6), nrows=1, ncols=3)\n",
    "plot_design_matrix(X1, ax=ax1)\n",
    "ax1.set_title('Event-related design matrix', fontsize=12)\n",
    "plot_design_matrix(X2, ax=ax2)\n",
    "ax2.set_title('Block design matrix', fontsize=12)\n",
    "plot_design_matrix(X3, ax=ax3)\n",
    "ax3.set_title('FIR design matrix', fontsize=12)"
   ]
  },
  {
   "cell_type": "markdown",
   "metadata": {},
   "source": [
    "- - -"
   ]
  },
  {
   "cell_type": "markdown",
   "metadata": {},
   "source": [
    "# GA data"
   ]
  },
  {
   "cell_type": "code",
   "execution_count": 15,
   "metadata": {},
   "outputs": [],
   "source": [
    "import numpy as np\n",
    "import pandas as pd\n",
    "from os.path import join\n",
    "# import getpass\n",
    "from nilearn.plotting import plot_design_matrix\n",
    "# from nilearn import image as niimg\n",
    "# import nilearn.glm.first_level as niglm\n",
    "from nilearn.glm.first_level import make_first_level_design_matrix\n",
    "from nilearn.glm.first_level import compute_regressor\n",
    "\n",
    "script_dir = '.'\n",
    "root_dir = join('/Volumes','GoogleDrive','내 드라이브','GA')\n",
    "\n",
    "preproc_dir = root_dir + '/fMRI_data/preproc_data'\n",
    "reg_dir = root_dir + '/behav_data/regressors'\n",
    "\n",
    "subj = '01'\n",
    "visit = 'early'\n",
    "run = 1\n",
    "\n",
    "gg = 'GA' if visit=='early' else('GB' if visit=='late' else 'invalid')\n",
    "\n",
    "tr = .46  # repetition time is 0.46 second\n",
    "n_scans = 1096  # the acquisition comprises 1096 scans\n",
    "frame_times = np.arange(n_scans) * tr  # here are the correspoding frame times"
   ]
  },
  {
   "cell_type": "markdown",
   "metadata": {},
   "source": [
    "## pb02"
   ]
  },
  {
   "cell_type": "code",
   "execution_count": null,
   "metadata": {},
   "outputs": [],
   "source": []
  },
  {
   "cell_type": "markdown",
   "metadata": {},
   "source": [
    "## Regressors"
   ]
  },
  {
   "cell_type": "markdown",
   "metadata": {},
   "source": [
    "motion regressors"
   ]
  },
  {
   "cell_type": "code",
   "execution_count": 16,
   "metadata": {},
   "outputs": [
    {
     "data": {
      "text/plain": [
       "(1096, 6)"
      ]
     },
     "execution_count": 16,
     "metadata": {},
     "output_type": "execute_result"
    }
   ],
   "source": [
    "motion_headers = ['roll', 'pitch', 'yaw', 'dS', 'dL', 'dP']\n",
    "motions = []\n",
    "with open(join(preproc_dir,subj,'motion_demean.%s%s.r%02d.1D'%(gg,subj,run))) as fr:\n",
    "    for line in fr:\n",
    "        motions.append((np.array(line.strip().split(' ')).astype(float)))\n",
    "motions = np.array(motions)\n",
    "motions.shape"
   ]
  },
  {
   "cell_type": "markdown",
   "metadata": {},
   "source": [
    "MO regressor\n",
    "\n",
    "개념: early 와 late 에서 Movement 와 Reward 의 correlation 이 너무 높아서 (움직임이 많으면 답을 찾고 있는 상황/움직임이 적으면 답을 맞추고 있는 상황), overall movement 를 regress out 하기 위함"
   ]
  },
  {
   "cell_type": "code",
   "execution_count": 17,
   "metadata": {},
   "outputs": [
    {
     "data": {
      "text/plain": [
       "(1096,)"
      ]
     },
     "execution_count": 17,
     "metadata": {},
     "output_type": "execute_result"
    }
   ],
   "source": [
    "MO = []\n",
    "with open(join(reg_dir,'displacement','%s%s.onset.AM1.disp.ideal.run1to3.xmat.1D'%(gg,subj))) as fr:\n",
    "    for line in fr:\n",
    "        if line[0]==' ':\n",
    "            MO.append(line.strip().split(' ')[-1])\n",
    "MO = np.array(MO).astype(float)[1096*(run-1):1096*(run)]\n",
    "MO = MO-MO.mean()\n",
    "MO.shape"
   ]
  },
  {
   "cell_type": "markdown",
   "metadata": {},
   "source": [
    "target ID"
   ]
  },
  {
   "cell_type": "code",
   "execution_count": 18,
   "metadata": {},
   "outputs": [
    {
     "data": {
      "text/plain": [
       "(97,)"
      ]
     },
     "execution_count": 18,
     "metadata": {},
     "output_type": "execute_result"
    }
   ],
   "source": [
    "conditions = []\n",
    "with open(join(script_dir,'targetID.txt')) as fr:\n",
    "    for line in fr:\n",
    "        conditions.append(int(line.strip()))\n",
    "conditions = np.array(conditions[:97])\n",
    "conditions.shape"
   ]
  },
  {
   "cell_type": "markdown",
   "metadata": {},
   "source": [
    "onset time of targets"
   ]
  },
  {
   "cell_type": "code",
   "execution_count": 19,
   "metadata": {},
   "outputs": [
    {
     "data": {
      "text/plain": [
       "(97,)"
      ]
     },
     "execution_count": 19,
     "metadata": {},
     "output_type": "execute_result"
    }
   ],
   "source": [
    "temp = {}\n",
    "for target in [1, 5, 21, 25]:\n",
    "    with open(join(reg_dir,'4targets','%s%s.onset.prac.target%d.txt'%(gg,subj,target))) as fr:\n",
    "        for rr, line in enumerate(fr):\n",
    "            temp[rr+1, target] = np.array(line.strip().split(' ')).astype(float)\n",
    "            \n",
    "onsets = np.sort(np.concatenate([temp[run, target] for target in [1,5,21,25]]))\n",
    "onsets.shape"
   ]
  },
  {
   "cell_type": "markdown",
   "metadata": {},
   "source": [
    "duration time for each target to be displayed"
   ]
  },
  {
   "cell_type": "code",
   "execution_count": 20,
   "metadata": {},
   "outputs": [
    {
     "data": {
      "text/plain": [
       "(97,)"
      ]
     },
     "execution_count": 20,
     "metadata": {},
     "output_type": "execute_result"
    }
   ],
   "source": [
    "durations = np.array([5 for i in range(97)])\n",
    "durations.shape"
   ]
  },
  {
   "cell_type": "markdown",
   "metadata": {},
   "source": [
    "events in each trial"
   ]
  },
  {
   "cell_type": "code",
   "execution_count": 21,
   "metadata": {},
   "outputs": [
    {
     "data": {
      "text/plain": [
       "(97, 3)"
      ]
     },
     "execution_count": 21,
     "metadata": {},
     "output_type": "execute_result"
    }
   ],
   "source": [
    "events = pd.DataFrame({'trial_type': conditions, 'onset': onsets,\n",
    "                       'duration': durations})\n",
    "events.shape"
   ]
  },
  {
   "cell_type": "code",
   "execution_count": 22,
   "metadata": {},
   "outputs": [
    {
     "data": {
      "text/html": [
       "<div>\n",
       "<style scoped>\n",
       "    .dataframe tbody tr th:only-of-type {\n",
       "        vertical-align: middle;\n",
       "    }\n",
       "\n",
       "    .dataframe tbody tr th {\n",
       "        vertical-align: top;\n",
       "    }\n",
       "\n",
       "    .dataframe thead th {\n",
       "        text-align: right;\n",
       "    }\n",
       "</style>\n",
       "<table border=\"1\" class=\"dataframe\">\n",
       "  <thead>\n",
       "    <tr style=\"text-align: right;\">\n",
       "      <th></th>\n",
       "      <th>trial_type</th>\n",
       "      <th>onset</th>\n",
       "      <th>duration</th>\n",
       "    </tr>\n",
       "  </thead>\n",
       "  <tbody>\n",
       "    <tr>\n",
       "      <th>0</th>\n",
       "      <td>1</td>\n",
       "      <td>2.043</td>\n",
       "      <td>5</td>\n",
       "    </tr>\n",
       "    <tr>\n",
       "      <th>1</th>\n",
       "      <td>5</td>\n",
       "      <td>7.068</td>\n",
       "      <td>5</td>\n",
       "    </tr>\n",
       "    <tr>\n",
       "      <th>2</th>\n",
       "      <td>25</td>\n",
       "      <td>12.065</td>\n",
       "      <td>5</td>\n",
       "    </tr>\n",
       "    <tr>\n",
       "      <th>3</th>\n",
       "      <td>21</td>\n",
       "      <td>17.091</td>\n",
       "      <td>5</td>\n",
       "    </tr>\n",
       "    <tr>\n",
       "      <th>4</th>\n",
       "      <td>1</td>\n",
       "      <td>22.098</td>\n",
       "      <td>5</td>\n",
       "    </tr>\n",
       "    <tr>\n",
       "      <th>...</th>\n",
       "      <td>...</td>\n",
       "      <td>...</td>\n",
       "      <td>...</td>\n",
       "    </tr>\n",
       "    <tr>\n",
       "      <th>92</th>\n",
       "      <td>25</td>\n",
       "      <td>462.079</td>\n",
       "      <td>5</td>\n",
       "    </tr>\n",
       "    <tr>\n",
       "      <th>93</th>\n",
       "      <td>1</td>\n",
       "      <td>467.078</td>\n",
       "      <td>5</td>\n",
       "    </tr>\n",
       "    <tr>\n",
       "      <th>94</th>\n",
       "      <td>21</td>\n",
       "      <td>472.082</td>\n",
       "      <td>5</td>\n",
       "    </tr>\n",
       "    <tr>\n",
       "      <th>95</th>\n",
       "      <td>5</td>\n",
       "      <td>477.081</td>\n",
       "      <td>5</td>\n",
       "    </tr>\n",
       "    <tr>\n",
       "      <th>96</th>\n",
       "      <td>1</td>\n",
       "      <td>482.081</td>\n",
       "      <td>5</td>\n",
       "    </tr>\n",
       "  </tbody>\n",
       "</table>\n",
       "<p>97 rows × 3 columns</p>\n",
       "</div>"
      ],
      "text/plain": [
       "    trial_type    onset  duration\n",
       "0            1    2.043         5\n",
       "1            5    7.068         5\n",
       "2           25   12.065         5\n",
       "3           21   17.091         5\n",
       "4            1   22.098         5\n",
       "..         ...      ...       ...\n",
       "92          25  462.079         5\n",
       "93           1  467.078         5\n",
       "94          21  472.082         5\n",
       "95           5  477.081         5\n",
       "96           1  482.081         5\n",
       "\n",
       "[97 rows x 3 columns]"
      ]
     },
     "execution_count": 22,
     "metadata": {},
     "output_type": "execute_result"
    }
   ],
   "source": [
    "events"
   ]
  },
  {
   "cell_type": "markdown",
   "metadata": {},
   "source": [
    "## Design Matrix"
   ]
  },
  {
   "cell_type": "code",
   "execution_count": 23,
   "metadata": {},
   "outputs": [
    {
     "data": {
      "text/plain": [
       "(1096, 7)"
      ]
     },
     "execution_count": 23,
     "metadata": {},
     "output_type": "execute_result"
    }
   ],
   "source": [
    "motion_regs = np.array([list(a)+[b] for a, b in zip(motions, MO)])\n",
    "motion_regs.shape"
   ]
  },
  {
   "cell_type": "markdown",
   "metadata": {},
   "source": [
    "1) Event-related design matrix"
   ]
  },
  {
   "cell_type": "code",
   "execution_count": 24,
   "metadata": {},
   "outputs": [
    {
     "data": {
      "text/plain": [
       "<AxesSubplot:label='conditions', ylabel='scan number'>"
      ]
     },
     "execution_count": 24,
     "metadata": {},
     "output_type": "execute_result"
    },
    {
     "data": {
      "image/png": "[encoded data removed]",
      "text/plain": [
       "<Figure size 336.96x720 with 1 Axes>"
      ]
     },
     "metadata": {
      "needs_background": "light"
     },
     "output_type": "display_data"
    }
   ],
   "source": [
    "X_glover = make_first_level_design_matrix(\n",
    "    frame_times, events, hrf_model = 'glover'\n",
    "    , drift_model = 'polynomial', drift_order = 4\n",
    "    , add_regs= motion_regs, add_reg_names = motion_headers+['MO'])\n",
    "plot_design_matrix(X_glover)"
   ]
  },
  {
   "cell_type": "markdown",
   "metadata": {},
   "source": [
    "2) FIR design matrix"
   ]
  },
  {
   "cell_type": "code",
   "execution_count": 25,
   "metadata": {},
   "outputs": [
    {
     "ename": "ValueError",
     "evalue": "Incorrect number of additional regressor names was provided(6 provided, 7 expected",
     "output_type": "error",
     "traceback": [
      "\u001b[0;31m---------------------------------------------------------------------------\u001b[0m",
      "\u001b[0;31mValueError\u001b[0m                                Traceback (most recent call last)",
      "\u001b[0;32m<ipython-input-25-56abea7c0abc>\u001b[0m in \u001b[0;36m<module>\u001b[0;34m\u001b[0m\n\u001b[1;32m      2\u001b[0m     \u001b[0mframe_times\u001b[0m\u001b[0;34m,\u001b[0m \u001b[0mevents\u001b[0m\u001b[0;34m,\u001b[0m \u001b[0mhrf_model\u001b[0m \u001b[0;34m=\u001b[0m \u001b[0;34m'fir'\u001b[0m\u001b[0;34m,\u001b[0m \u001b[0mfir_delays\u001b[0m\u001b[0;34m=\u001b[0m\u001b[0mnp\u001b[0m\u001b[0;34m.\u001b[0m\u001b[0marange\u001b[0m\u001b[0;34m(\u001b[0m\u001b[0;36m1\u001b[0m\u001b[0;34m,\u001b[0m\u001b[0;36m4\u001b[0m\u001b[0;34m)\u001b[0m\u001b[0;34m\u001b[0m\u001b[0;34m\u001b[0m\u001b[0m\n\u001b[1;32m      3\u001b[0m     \u001b[0;34m,\u001b[0m \u001b[0mdrift_model\u001b[0m \u001b[0;34m=\u001b[0m \u001b[0;34m'polynomial'\u001b[0m\u001b[0;34m,\u001b[0m \u001b[0mdrift_order\u001b[0m \u001b[0;34m=\u001b[0m \u001b[0;36m4\u001b[0m\u001b[0;34m\u001b[0m\u001b[0;34m\u001b[0m\u001b[0m\n\u001b[0;32m----> 4\u001b[0;31m     , add_regs= motion_regs, add_reg_names = motion_headers)\n\u001b[0m\u001b[1;32m      5\u001b[0m \u001b[0mplot_design_matrix\u001b[0m\u001b[0;34m(\u001b[0m\u001b[0mX_fir\u001b[0m\u001b[0;34m)\u001b[0m\u001b[0;34m\u001b[0m\u001b[0;34m\u001b[0m\u001b[0m\n",
      "\u001b[0;32m/usr/local/anaconda3/envs/sampark/lib/python3.7/site-packages/nilearn/glm/first_level/design_matrix.py\u001b[0m in \u001b[0;36mmake_first_level_design_matrix\u001b[0;34m(frame_times, events, hrf_model, drift_model, high_pass, drift_order, fir_delays, add_regs, add_reg_names, min_onset, oversampling)\u001b[0m\n\u001b[1;32m    349\u001b[0m             \u001b[0;34m'Incorrect number of additional regressor names was provided'\u001b[0m\u001b[0;34m\u001b[0m\u001b[0;34m\u001b[0m\u001b[0m\n\u001b[1;32m    350\u001b[0m             '(%d provided, %d expected' % (len(add_reg_names),\n\u001b[0;32m--> 351\u001b[0;31m                                            n_add_regs))\n\u001b[0m\u001b[1;32m    352\u001b[0m \u001b[0;34m\u001b[0m\u001b[0m\n\u001b[1;32m    353\u001b[0m     \u001b[0;31m# computation of the matrix\u001b[0m\u001b[0;34m\u001b[0m\u001b[0;34m\u001b[0m\u001b[0;34m\u001b[0m\u001b[0m\n",
      "\u001b[0;31mValueError\u001b[0m: Incorrect number of additional regressor names was provided(6 provided, 7 expected"
     ]
    }
   ],
   "source": [
    "X_fir = make_first_level_design_matrix(\n",
    "    frame_times, events, hrf_model = 'fir', fir_delays=np.arange(1,4)\n",
    "    , drift_model = 'polynomial', drift_order = 4\n",
    "    , add_regs= motion_regs, add_reg_names = motion_headers)\n",
    "plot_design_matrix(X_fir)"
   ]
  },
  {
   "cell_type": "markdown",
   "metadata": {},
   "source": [
    "### LSS"
   ]
  },
  {
   "cell_type": "markdown",
   "metadata": {},
   "source": [
    "hand-maded LSS"
   ]
  },
  {
   "cell_type": "code",
   "execution_count": null,
   "metadata": {},
   "outputs": [],
   "source": [
    "events_LSS = events\n",
    "events_LSS['trial_type'] = range(97)"
   ]
  },
  {
   "cell_type": "code",
   "execution_count": null,
   "metadata": {},
   "outputs": [],
   "source": [
    "temp = make_first_level_design_matrix(\n",
    "    frame_times, events_LSS, drift_model='polynomial', drift_order=4\n",
    "    , add_regs=motion_regs, add_reg_names=motion_headers+['MO'], hrf_model='glover')"
   ]
  },
  {
   "cell_type": "code",
   "execution_count": null,
   "metadata": {},
   "outputs": [],
   "source": [
    "X_LSS = pd.DataFrame(index=frame_times, columns=['constant','drift_1','drift_2','drift_3','drift_4']+list(range(97))+motion_headers+['MO'])\n",
    "for col in temp.columns:\n",
    "    X_LSS[col] = temp[col]"
   ]
  },
  {
   "cell_type": "code",
   "execution_count": null,
   "metadata": {},
   "outputs": [],
   "source": [
    "plot_design_matrix(X_LSS)"
   ]
  },
  {
   "cell_type": "markdown",
   "metadata": {},
   "source": [
    "Compare it with a design matrix which is from 3dLSS"
   ]
  },
  {
   "cell_type": "code",
   "execution_count": null,
   "metadata": {},
   "outputs": [],
   "source": [
    "col_header = ['Run#%d#Pol#%d'%(run,pol) for pol in range(5)] + ['beta#%02d'%k for k in range(97)] + ['roll', 'pitch', 'yaw', 'dS', 'dL', 'dP', 'MO']\n",
    "temp = []\n",
    "with open(join(preproc_dir,subj,'X.xmatLSS.MO.shortdur.%s%s.r%02d.1D'%(gg,subj,run))) as fr:\n",
    "    for line in fr:\n",
    "        if line[0]==' ':\n",
    "            temp.append(np.array(line.strip().split(' ')).astype(float))\n",
    "X_3dLSS = pd.DataFrame(temp, columns=col_header, index=frame_times)"
   ]
  },
  {
   "cell_type": "code",
   "execution_count": null,
   "metadata": {
    "scrolled": true
   },
   "outputs": [],
   "source": [
    "plot_design_matrix(X_3dLSS)"
   ]
  },
  {
   "cell_type": "code",
   "execution_count": null,
   "metadata": {},
   "outputs": [],
   "source": []
  }
 ],
 "metadata": {
  "kernelspec": {
   "display_name": "sampark",
   "language": "python",
   "name": "sampark"
  },
  "language_info": {
   "codemirror_mode": {
    "name": "ipython",
    "version": 3
   },
   "file_extension": ".py",
   "mimetype": "text/x-python",
   "name": "python",
   "nbconvert_exporter": "python",
   "pygments_lexer": "ipython3",
   "version": "3.7.10"
  }
 },
 "nbformat": 4,
 "nbformat_minor": 4
}
