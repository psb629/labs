{
 "cells": [
  {
   "cell_type": "markdown",
   "metadata": {},
   "source": [
    "# First level models"
   ]
  },
  {
   "cell_type": "markdown",
   "metadata": {},
   "source": [
    "## HRF models"
   ]
  },
  {
   "cell_type": "markdown",
   "metadata": {},
   "source": [
    "Nilearn offers a few different HRF models including the commonly used double-gamma SPM (statistical parametric mapping, 'spm') model and the model shape proposed by G. Glover ('glover'), both allowing the option of adding time and dispersion derivatives. The addition of these derivatives allows to better model any uncertainty in timing information. In addition, an FIR (finite impulse response, 'fir') model of the HRF is also available."
   ]
  },
  {
   "cell_type": "markdown",
   "metadata": {},
   "source": [
    "### Set up some parameters for model display"
   ]
  },
  {
   "cell_type": "markdown",
   "metadata": {},
   "source": [
    "To get an impulse reponse, we simulate a single event occurring at time t=0, with duration 1s."
   ]
  },
  {
   "cell_type": "code",
   "execution_count": 1,
   "metadata": {},
   "outputs": [],
   "source": [
    "import numpy as np\n",
    "frame_times = np.linspace(0, 30, 61)\n",
    "onset, amplitude, duration = 0., 1., 1.\n",
    "exp_condition = np.array((onset, duration, amplitude)).reshape(3, 1)"
   ]
  },
  {
   "cell_type": "markdown",
   "metadata": {},
   "source": [
    "We sample this on a fris for display"
   ]
  },
  {
   "cell_type": "code",
   "execution_count": 2,
   "metadata": {},
   "outputs": [],
   "source": [
    "stim = np.zeros_like(frame_times)\n",
    "stim[(frame_times > onset) * (frame_times <= onset + duration)] = amplitude"
   ]
  },
  {
   "cell_type": "markdown",
   "metadata": {},
   "source": [
    "Now we have to define the candidate hrf models."
   ]
  },
  {
   "cell_type": "code",
   "execution_count": 3,
   "metadata": {},
   "outputs": [],
   "source": [
    "hrf_models = [None, 'glover + derivative', 'glover + derivative + dispersion']"
   ]
  },
  {
   "cell_type": "markdown",
   "metadata": {},
   "source": [
    "### Sample the hrf"
   ]
  },
  {
   "cell_type": "code",
   "execution_count": 4,
   "metadata": {},
   "outputs": [
    {
     "name": "stderr",
     "output_type": "stream",
     "text": [
      "/usr/local/anaconda3/envs/sampark/lib/python3.7/site-packages/nilearn/glm/__init__.py:56: FutureWarning: The nilearn.glm module is experimental. It may change in any future release of Nilearn.\n",
      "  'It may change in any future release of Nilearn.', FutureWarning)\n"
     ]
    },
    {
     "data": {
      "image/png": "[encoded data removed]",
      "text/plain": [
       "<Figure size 648x288 with 3 Axes>"
      ]
     },
     "metadata": {
      "needs_background": "light"
     },
     "output_type": "display_data"
    }
   ],
   "source": [
    "from nilearn.glm.first_level import compute_regressor\n",
    "import matplotlib.pyplot as plt\n",
    "\n",
    "fig = plt.figure(figsize=(9, 4))\n",
    "for i, hrf_model in enumerate(hrf_models):\n",
    "    # obtain the signal of interest by convolution\n",
    "    signal, name = compute_regressor(\n",
    "        exp_condition, hrf_model, frame_times, con_id='main',\n",
    "        oversampling=16)\n",
    "\n",
    "    # plot this\n",
    "    plt.subplot(1, 3, i + 1)\n",
    "    plt.fill(frame_times, stim, 'k', alpha=.5, label='stimulus')\n",
    "    for j in range(signal.shape[1]):\n",
    "        plt.plot(frame_times, signal.T[j], label=name[j])\n",
    "    plt.xlabel('time (s)')\n",
    "    plt.legend(loc=1)\n",
    "    plt.title(hrf_model)\n",
    "\n",
    "# adjust the plot\n",
    "plt.subplots_adjust(bottom=.12)\n",
    "plt.show()"
   ]
  },
  {
   "cell_type": "markdown",
   "metadata": {},
   "source": [
    "## Design matrix: event-based and time series-based"
   ]
  },
  {
   "cell_type": "markdown",
   "metadata": {},
   "source": [
    "### Event-based"
   ]
  },
  {
   "cell_type": "markdown",
   "metadata": {},
   "source": [
    "To create an event-based design matrix, information about the trial type, onset time and duration of the events in the experiment are necessary. This can be provided by the user, or be part of the dataset if using a BIDS-compatible dataset or one of the nilearn dataset fetcher functions like nilearn.datasets.fetch_spm_multimodal_fmri, nilearn.datasets.fetch_language_localizer_demo_dataset, etc.\n",
    "\n",
    "Refer to the examples below for usage under the different scenarios:\n",
    "\n",
    "* User-defined: Examples of design matrices\n",
    "\n",
    "* Using an OpenNEURO dataset: First level analysis of a complete BIDS dataset from openneuro\n",
    "\n",
    "* Uing nilearn fetcher functions: Single-subject data (two sessions) in native space\n",
    "\n",
    "To ascertain that the sequence of events provided to the first level model is accurate, Nilearn provides an event visualization function called nilearn.plotting.plot_event. Sample usage for this is available in Decoding of a dataset after GLM fit for signal extraction.\n",
    "\n",
    "Once the events are defined, the design matrix is created using the nilearn.glm.first_level.make_first_level_design_matrix function:"
   ]
  },
  {
   "cell_type": "markdown",
   "metadata": {},
   "source": [
    "### Examples of design matrices"
   ]
  },
  {
   "cell_type": "markdown",
   "metadata": {},
   "source": [
    "Three examples of design matrices specification and computation for first-level fMRI data analysis (event-related design, block design, FIR design).\n",
    "\n",
    "This examples requires matplotlib."
   ]
  },
  {
   "cell_type": "code",
   "execution_count": 5,
   "metadata": {},
   "outputs": [],
   "source": [
    "try:\n",
    "    import matplotlib.pyplot as plt\n",
    "except ImportError:\n",
    "    raise RuntimeError(\"This script needs the matplotlib library\")"
   ]
  },
  {
   "cell_type": "markdown",
   "metadata": {},
   "source": [
    "#### Define parameters"
   ]
  },
  {
   "cell_type": "markdown",
   "metadata": {},
   "source": [
    "At first, we define parameters related to the images acquisition."
   ]
  },
  {
   "cell_type": "code",
   "execution_count": 6,
   "metadata": {},
   "outputs": [],
   "source": [
    "import numpy as np\n",
    "tr = 1.0  # repetition time is 1 second\n",
    "n_scans = 128  # the acquisition comprises 128 scans\n",
    "frame_times = np.arange(n_scans) * tr  # here are the correspoding frame times"
   ]
  },
  {
   "cell_type": "markdown",
   "metadata": {},
   "source": [
    "Then we define parameters related to the experimental design."
   ]
  },
  {
   "cell_type": "code",
   "execution_count": 7,
   "metadata": {},
   "outputs": [],
   "source": [
    "# these are the types of the different trials\n",
    "conditions = ['c0', 'c0', 'c0', 'c1', 'c1', 'c1', 'c3', 'c3', 'c3']\n",
    "duration = [1., 1., 1., 1., 1., 1., 1., 1., 1.]\n",
    "# these are the corresponding onset times\n",
    "onsets = [30., 70., 100., 10., 30., 90., 30., 40., 60.]\n",
    "# Next, we simulate 6 motion parameters jointly observed with fMRI acquisitions\n",
    "motion = np.cumsum(np.random.randn(n_scans, 6), 0)\n",
    "# The 6 parameters correspond to three translations and three\n",
    "# rotations describing rigid body motion\n",
    "add_reg_names = ['tx', 'ty', 'tz', 'rx', 'ry', 'rz']"
   ]
  },
  {
   "cell_type": "markdown",
   "metadata": {},
   "source": [
    "#### Create design matrices"
   ]
  },
  {
   "cell_type": "markdown",
   "metadata": {},
   "source": [
    "The same parameters allow us to obtain a variety of design matrices. We first create an events object."
   ]
  },
  {
   "cell_type": "code",
   "execution_count": 4,
   "metadata": {},
   "outputs": [],
   "source": [
    "import pandas as pd\n",
    "events = pd.DataFrame({'trial_type': conditions, 'onset': onsets,\n",
    "                       'duration': duration})"
   ]
  },
  {
   "cell_type": "markdown",
   "metadata": {},
   "source": [
    "We sample the events into a design matrix, also including additional regressors."
   ]
  },
  {
   "cell_type": "code",
   "execution_count": 5,
   "metadata": {},
   "outputs": [
    {
     "name": "stderr",
     "output_type": "stream",
     "text": [
      "/usr/local/anaconda3/envs/sampark/lib/python3.7/site-packages/nilearn/glm/__init__.py:56: FutureWarning: The nilearn.glm module is experimental. It may change in any future release of Nilearn.\n",
      "  'It may change in any future release of Nilearn.', FutureWarning)\n"
     ]
    }
   ],
   "source": [
    "hrf_model = 'glover'\n",
    "from nilearn.glm.first_level import make_first_level_design_matrix\n",
    "X1 = make_first_level_design_matrix(\n",
    "    frame_times, events, drift_model='polynomial', drift_order=3,\n",
    "    add_regs=motion, add_reg_names=add_reg_names, hrf_model=hrf_model)"
   ]
  },
  {
   "cell_type": "markdown",
   "metadata": {},
   "source": [
    "Now we compute a block design matrix. We add duration to create the blocks. For this we first define an event structure that includes the duration parameter."
   ]
  },
  {
   "cell_type": "code",
   "execution_count": 6,
   "metadata": {},
   "outputs": [],
   "source": [
    "duration = 7. * np.ones(len(conditions))\n",
    "events = pd.DataFrame({'trial_type': conditions, 'onset': onsets,\n",
    "                       'duration': duration})"
   ]
  },
  {
   "cell_type": "code",
   "execution_count": 8,
   "metadata": {},
   "outputs": [
    {
     "data": {
      "text/html": [
       "<div>\n",
       "<style scoped>\n",
       "    .dataframe tbody tr th:only-of-type {\n",
       "        vertical-align: middle;\n",
       "    }\n",
       "\n",
       "    .dataframe tbody tr th {\n",
       "        vertical-align: top;\n",
       "    }\n",
       "\n",
       "    .dataframe thead th {\n",
       "        text-align: right;\n",
       "    }\n",
       "</style>\n",
       "<table border=\"1\" class=\"dataframe\">\n",
       "  <thead>\n",
       "    <tr style=\"text-align: right;\">\n",
       "      <th></th>\n",
       "      <th>trial_type</th>\n",
       "      <th>onset</th>\n",
       "      <th>duration</th>\n",
       "    </tr>\n",
       "  </thead>\n",
       "  <tbody>\n",
       "    <tr>\n",
       "      <th>0</th>\n",
       "      <td>c0</td>\n",
       "      <td>30.0</td>\n",
       "      <td>7.0</td>\n",
       "    </tr>\n",
       "    <tr>\n",
       "      <th>1</th>\n",
       "      <td>c0</td>\n",
       "      <td>70.0</td>\n",
       "      <td>7.0</td>\n",
       "    </tr>\n",
       "    <tr>\n",
       "      <th>2</th>\n",
       "      <td>c0</td>\n",
       "      <td>100.0</td>\n",
       "      <td>7.0</td>\n",
       "    </tr>\n",
       "    <tr>\n",
       "      <th>3</th>\n",
       "      <td>c1</td>\n",
       "      <td>10.0</td>\n",
       "      <td>7.0</td>\n",
       "    </tr>\n",
       "    <tr>\n",
       "      <th>4</th>\n",
       "      <td>c1</td>\n",
       "      <td>30.0</td>\n",
       "      <td>7.0</td>\n",
       "    </tr>\n",
       "    <tr>\n",
       "      <th>5</th>\n",
       "      <td>c1</td>\n",
       "      <td>90.0</td>\n",
       "      <td>7.0</td>\n",
       "    </tr>\n",
       "    <tr>\n",
       "      <th>6</th>\n",
       "      <td>c3</td>\n",
       "      <td>30.0</td>\n",
       "      <td>7.0</td>\n",
       "    </tr>\n",
       "    <tr>\n",
       "      <th>7</th>\n",
       "      <td>c3</td>\n",
       "      <td>40.0</td>\n",
       "      <td>7.0</td>\n",
       "    </tr>\n",
       "    <tr>\n",
       "      <th>8</th>\n",
       "      <td>c3</td>\n",
       "      <td>60.0</td>\n",
       "      <td>7.0</td>\n",
       "    </tr>\n",
       "  </tbody>\n",
       "</table>\n",
       "</div>"
      ],
      "text/plain": [
       "  trial_type  onset  duration\n",
       "0         c0   30.0       7.0\n",
       "1         c0   70.0       7.0\n",
       "2         c0  100.0       7.0\n",
       "3         c1   10.0       7.0\n",
       "4         c1   30.0       7.0\n",
       "5         c1   90.0       7.0\n",
       "6         c3   30.0       7.0\n",
       "7         c3   40.0       7.0\n",
       "8         c3   60.0       7.0"
      ]
     },
     "execution_count": 8,
     "metadata": {},
     "output_type": "execute_result"
    }
   ],
   "source": [
    "events"
   ]
  },
  {
   "cell_type": "markdown",
   "metadata": {},
   "source": [
    "Then we sample the design matrix."
   ]
  },
  {
   "cell_type": "code",
   "execution_count": 7,
   "metadata": {},
   "outputs": [],
   "source": [
    "X2 = make_first_level_design_matrix(frame_times, events,\n",
    "                                    drift_model='polynomial', drift_order=3,\n",
    "                                    hrf_model=hrf_model)"
   ]
  },
  {
   "cell_type": "code",
   "execution_count": 9,
   "metadata": {},
   "outputs": [
    {
     "data": {
      "text/html": [
       "<div>\n",
       "<style scoped>\n",
       "    .dataframe tbody tr th:only-of-type {\n",
       "        vertical-align: middle;\n",
       "    }\n",
       "\n",
       "    .dataframe tbody tr th {\n",
       "        vertical-align: top;\n",
       "    }\n",
       "\n",
       "    .dataframe thead th {\n",
       "        text-align: right;\n",
       "    }\n",
       "</style>\n",
       "<table border=\"1\" class=\"dataframe\">\n",
       "  <thead>\n",
       "    <tr style=\"text-align: right;\">\n",
       "      <th></th>\n",
       "      <th>c0</th>\n",
       "      <th>c1</th>\n",
       "      <th>c3</th>\n",
       "      <th>drift_1</th>\n",
       "      <th>drift_2</th>\n",
       "      <th>drift_3</th>\n",
       "      <th>constant</th>\n",
       "    </tr>\n",
       "  </thead>\n",
       "  <tbody>\n",
       "    <tr>\n",
       "      <th>0.0</th>\n",
       "      <td>0.000000</td>\n",
       "      <td>0.000000</td>\n",
       "      <td>0.0</td>\n",
       "      <td>-0.500000</td>\n",
       "      <td>0.165354</td>\n",
       "      <td>-0.048825</td>\n",
       "      <td>1.0</td>\n",
       "    </tr>\n",
       "    <tr>\n",
       "      <th>1.0</th>\n",
       "      <td>0.000000</td>\n",
       "      <td>0.000000</td>\n",
       "      <td>0.0</td>\n",
       "      <td>-0.492126</td>\n",
       "      <td>0.157542</td>\n",
       "      <td>-0.044212</td>\n",
       "      <td>1.0</td>\n",
       "    </tr>\n",
       "    <tr>\n",
       "      <th>2.0</th>\n",
       "      <td>0.000000</td>\n",
       "      <td>0.000000</td>\n",
       "      <td>0.0</td>\n",
       "      <td>-0.484252</td>\n",
       "      <td>0.149854</td>\n",
       "      <td>-0.039781</td>\n",
       "      <td>1.0</td>\n",
       "    </tr>\n",
       "    <tr>\n",
       "      <th>3.0</th>\n",
       "      <td>0.000000</td>\n",
       "      <td>0.000000</td>\n",
       "      <td>0.0</td>\n",
       "      <td>-0.476378</td>\n",
       "      <td>0.142290</td>\n",
       "      <td>-0.035531</td>\n",
       "      <td>1.0</td>\n",
       "    </tr>\n",
       "    <tr>\n",
       "      <th>4.0</th>\n",
       "      <td>0.000000</td>\n",
       "      <td>0.000000</td>\n",
       "      <td>0.0</td>\n",
       "      <td>-0.468504</td>\n",
       "      <td>0.134850</td>\n",
       "      <td>-0.031458</td>\n",
       "      <td>1.0</td>\n",
       "    </tr>\n",
       "    <tr>\n",
       "      <th>...</th>\n",
       "      <td>...</td>\n",
       "      <td>...</td>\n",
       "      <td>...</td>\n",
       "      <td>...</td>\n",
       "      <td>...</td>\n",
       "      <td>...</td>\n",
       "      <td>...</td>\n",
       "    </tr>\n",
       "    <tr>\n",
       "      <th>123.0</th>\n",
       "      <td>-0.107319</td>\n",
       "      <td>-0.001217</td>\n",
       "      <td>0.0</td>\n",
       "      <td>0.468504</td>\n",
       "      <td>0.134850</td>\n",
       "      <td>0.031458</td>\n",
       "      <td>1.0</td>\n",
       "    </tr>\n",
       "    <tr>\n",
       "      <th>124.0</th>\n",
       "      <td>-0.077760</td>\n",
       "      <td>-0.000679</td>\n",
       "      <td>0.0</td>\n",
       "      <td>0.476378</td>\n",
       "      <td>0.142290</td>\n",
       "      <td>0.035531</td>\n",
       "      <td>1.0</td>\n",
       "    </tr>\n",
       "    <tr>\n",
       "      <th>125.0</th>\n",
       "      <td>-0.054376</td>\n",
       "      <td>-0.000366</td>\n",
       "      <td>0.0</td>\n",
       "      <td>0.484252</td>\n",
       "      <td>0.149854</td>\n",
       "      <td>0.039781</td>\n",
       "      <td>1.0</td>\n",
       "    </tr>\n",
       "    <tr>\n",
       "      <th>126.0</th>\n",
       "      <td>-0.036842</td>\n",
       "      <td>-0.000187</td>\n",
       "      <td>0.0</td>\n",
       "      <td>0.492126</td>\n",
       "      <td>0.157542</td>\n",
       "      <td>0.044212</td>\n",
       "      <td>1.0</td>\n",
       "    </tr>\n",
       "    <tr>\n",
       "      <th>127.0</th>\n",
       "      <td>-0.024262</td>\n",
       "      <td>-0.000086</td>\n",
       "      <td>0.0</td>\n",
       "      <td>0.500000</td>\n",
       "      <td>0.165354</td>\n",
       "      <td>0.048825</td>\n",
       "      <td>1.0</td>\n",
       "    </tr>\n",
       "  </tbody>\n",
       "</table>\n",
       "<p>128 rows × 7 columns</p>\n",
       "</div>"
      ],
      "text/plain": [
       "             c0        c1   c3   drift_1   drift_2   drift_3  constant\n",
       "0.0    0.000000  0.000000  0.0 -0.500000  0.165354 -0.048825       1.0\n",
       "1.0    0.000000  0.000000  0.0 -0.492126  0.157542 -0.044212       1.0\n",
       "2.0    0.000000  0.000000  0.0 -0.484252  0.149854 -0.039781       1.0\n",
       "3.0    0.000000  0.000000  0.0 -0.476378  0.142290 -0.035531       1.0\n",
       "4.0    0.000000  0.000000  0.0 -0.468504  0.134850 -0.031458       1.0\n",
       "...         ...       ...  ...       ...       ...       ...       ...\n",
       "123.0 -0.107319 -0.001217  0.0  0.468504  0.134850  0.031458       1.0\n",
       "124.0 -0.077760 -0.000679  0.0  0.476378  0.142290  0.035531       1.0\n",
       "125.0 -0.054376 -0.000366  0.0  0.484252  0.149854  0.039781       1.0\n",
       "126.0 -0.036842 -0.000187  0.0  0.492126  0.157542  0.044212       1.0\n",
       "127.0 -0.024262 -0.000086  0.0  0.500000  0.165354  0.048825       1.0\n",
       "\n",
       "[128 rows x 7 columns]"
      ]
     },
     "execution_count": 9,
     "metadata": {},
     "output_type": "execute_result"
    }
   ],
   "source": [
    "X2"
   ]
  },
  {
   "cell_type": "markdown",
   "metadata": {},
   "source": [
    "Finally we compute a FIR model"
   ]
  },
  {
   "cell_type": "code",
   "execution_count": 20,
   "metadata": {},
   "outputs": [],
   "source": [
    "vents = pd.DataFrame({'trial_type': conditions, 'onset': onsets,\n",
    "                       'duration': duration})\n",
    "hrf_model = 'FIR'\n",
    "X3 = make_first_level_design_matrix(frame_times, events, hrf_model='fir',\n",
    "                                    drift_model='polynomial', drift_order=3,\n",
    "                                    fir_delays=np.arange(1, 6))"
   ]
  },
  {
   "cell_type": "markdown",
   "metadata": {},
   "source": [
    "Here are the three designs side by side."
   ]
  },
  {
   "cell_type": "code",
   "execution_count": 21,
   "metadata": {},
   "outputs": [
    {
     "name": "stderr",
     "output_type": "stream",
     "text": [
      "/usr/local/anaconda3/envs/sampark/lib/python3.7/site-packages/nilearn/datasets/__init__.py:90: FutureWarning: Fetchers from the nilearn.datasets module will be updated in version 0.9 to return python strings instead of bytes and Pandas dataframes instead of Numpy arrays.\n",
      "  \"Numpy arrays.\", FutureWarning)\n"
     ]
    },
    {
     "data": {
      "text/plain": [
       "Text(0.5, 1.0, 'FIR design matrix')"
      ]
     },
     "execution_count": 21,
     "metadata": {},
     "output_type": "execute_result"
    },
    {
     "data": {
      "image/png": "[encoded data removed]",
      "text/plain": [
       "<Figure size 720x432 with 3 Axes>"
      ]
     },
     "metadata": {
      "needs_background": "light"
     },
     "output_type": "display_data"
    }
   ],
   "source": [
    "from nilearn.plotting import plot_design_matrix\n",
    "fig, (ax1, ax2, ax3) = plt.subplots(figsize=(10, 6), nrows=1, ncols=3)\n",
    "plot_design_matrix(X1, ax=ax1)\n",
    "ax1.set_title('Event-related design matrix', fontsize=12)\n",
    "plot_design_matrix(X2, ax=ax2)\n",
    "ax2.set_title('Block design matrix', fontsize=12)\n",
    "plot_design_matrix(X3, ax=ax3)\n",
    "ax3.set_title('FIR design matrix', fontsize=12)"
   ]
  },
  {
   "cell_type": "markdown",
   "metadata": {},
   "source": [
    "Let’s improve the layout and show the result."
   ]
  },
  {
   "cell_type": "code",
   "execution_count": 22,
   "metadata": {},
   "outputs": [
    {
     "data": {
      "text/plain": [
       "<Figure size 432x288 with 0 Axes>"
      ]
     },
     "metadata": {},
     "output_type": "display_data"
    }
   ],
   "source": [
    "plt.subplots_adjust(left=0.08, top=0.9, bottom=0.21, right=0.96, wspace=0.3)\n",
    "plt.show()"
   ]
  },
  {
   "cell_type": "code",
   "execution_count": 24,
   "metadata": {},
   "outputs": [
    {
     "data": {
      "text/html": [
       "<div>\n",
       "<style scoped>\n",
       "    .dataframe tbody tr th:only-of-type {\n",
       "        vertical-align: middle;\n",
       "    }\n",
       "\n",
       "    .dataframe tbody tr th {\n",
       "        vertical-align: top;\n",
       "    }\n",
       "\n",
       "    .dataframe thead th {\n",
       "        text-align: right;\n",
       "    }\n",
       "</style>\n",
       "<table border=\"1\" class=\"dataframe\">\n",
       "  <thead>\n",
       "    <tr style=\"text-align: right;\">\n",
       "      <th></th>\n",
       "      <th>c0</th>\n",
       "      <th>c1</th>\n",
       "      <th>c3</th>\n",
       "      <th>tx</th>\n",
       "      <th>ty</th>\n",
       "      <th>tz</th>\n",
       "      <th>rx</th>\n",
       "      <th>ry</th>\n",
       "      <th>rz</th>\n",
       "      <th>drift_1</th>\n",
       "      <th>drift_2</th>\n",
       "      <th>drift_3</th>\n",
       "      <th>constant</th>\n",
       "    </tr>\n",
       "  </thead>\n",
       "  <tbody>\n",
       "    <tr>\n",
       "      <th>0.0</th>\n",
       "      <td>0.000000</td>\n",
       "      <td>0.0</td>\n",
       "      <td>0.0</td>\n",
       "      <td>-1.125966</td>\n",
       "      <td>-0.941740</td>\n",
       "      <td>0.874823</td>\n",
       "      <td>-0.342980</td>\n",
       "      <td>0.340728</td>\n",
       "      <td>-0.375917</td>\n",
       "      <td>-0.500000</td>\n",
       "      <td>0.165354</td>\n",
       "      <td>-0.048825</td>\n",
       "      <td>1.0</td>\n",
       "    </tr>\n",
       "    <tr>\n",
       "      <th>1.0</th>\n",
       "      <td>0.000000</td>\n",
       "      <td>0.0</td>\n",
       "      <td>0.0</td>\n",
       "      <td>-2.681180</td>\n",
       "      <td>-2.002716</td>\n",
       "      <td>0.647684</td>\n",
       "      <td>-0.718242</td>\n",
       "      <td>-0.793178</td>\n",
       "      <td>-2.178323</td>\n",
       "      <td>-0.492126</td>\n",
       "      <td>0.157542</td>\n",
       "      <td>-0.044212</td>\n",
       "      <td>1.0</td>\n",
       "    </tr>\n",
       "    <tr>\n",
       "      <th>2.0</th>\n",
       "      <td>0.000000</td>\n",
       "      <td>0.0</td>\n",
       "      <td>0.0</td>\n",
       "      <td>-3.344201</td>\n",
       "      <td>-2.031302</td>\n",
       "      <td>0.618724</td>\n",
       "      <td>-0.769689</td>\n",
       "      <td>-2.628772</td>\n",
       "      <td>-3.279157</td>\n",
       "      <td>-0.484252</td>\n",
       "      <td>0.149854</td>\n",
       "      <td>-0.039781</td>\n",
       "      <td>1.0</td>\n",
       "    </tr>\n",
       "    <tr>\n",
       "      <th>3.0</th>\n",
       "      <td>0.000000</td>\n",
       "      <td>0.0</td>\n",
       "      <td>0.0</td>\n",
       "      <td>-2.008020</td>\n",
       "      <td>-0.352622</td>\n",
       "      <td>-2.034682</td>\n",
       "      <td>-1.700089</td>\n",
       "      <td>-3.028847</td>\n",
       "      <td>-2.359170</td>\n",
       "      <td>-0.476378</td>\n",
       "      <td>0.142290</td>\n",
       "      <td>-0.035531</td>\n",
       "      <td>1.0</td>\n",
       "    </tr>\n",
       "    <tr>\n",
       "      <th>4.0</th>\n",
       "      <td>0.000000</td>\n",
       "      <td>0.0</td>\n",
       "      <td>0.0</td>\n",
       "      <td>-1.662025</td>\n",
       "      <td>-2.256627</td>\n",
       "      <td>-4.732764</td>\n",
       "      <td>-1.681009</td>\n",
       "      <td>-2.617752</td>\n",
       "      <td>-3.006732</td>\n",
       "      <td>-0.468504</td>\n",
       "      <td>0.134850</td>\n",
       "      <td>-0.031458</td>\n",
       "      <td>1.0</td>\n",
       "    </tr>\n",
       "    <tr>\n",
       "      <th>...</th>\n",
       "      <td>...</td>\n",
       "      <td>...</td>\n",
       "      <td>...</td>\n",
       "      <td>...</td>\n",
       "      <td>...</td>\n",
       "      <td>...</td>\n",
       "      <td>...</td>\n",
       "      <td>...</td>\n",
       "      <td>...</td>\n",
       "      <td>...</td>\n",
       "      <td>...</td>\n",
       "      <td>...</td>\n",
       "      <td>...</td>\n",
       "    </tr>\n",
       "    <tr>\n",
       "      <th>123.0</th>\n",
       "      <td>-0.003874</td>\n",
       "      <td>0.0</td>\n",
       "      <td>0.0</td>\n",
       "      <td>7.634845</td>\n",
       "      <td>-17.882547</td>\n",
       "      <td>-17.789335</td>\n",
       "      <td>0.613092</td>\n",
       "      <td>-12.773408</td>\n",
       "      <td>-14.548635</td>\n",
       "      <td>0.468504</td>\n",
       "      <td>0.134850</td>\n",
       "      <td>0.031458</td>\n",
       "      <td>1.0</td>\n",
       "    </tr>\n",
       "    <tr>\n",
       "      <th>124.0</th>\n",
       "      <td>-0.002443</td>\n",
       "      <td>0.0</td>\n",
       "      <td>0.0</td>\n",
       "      <td>7.529394</td>\n",
       "      <td>-18.682742</td>\n",
       "      <td>-18.126342</td>\n",
       "      <td>1.231341</td>\n",
       "      <td>-13.200877</td>\n",
       "      <td>-14.893382</td>\n",
       "      <td>0.476378</td>\n",
       "      <td>0.142290</td>\n",
       "      <td>0.035531</td>\n",
       "      <td>1.0</td>\n",
       "    </tr>\n",
       "    <tr>\n",
       "      <th>125.0</th>\n",
       "      <td>-0.001506</td>\n",
       "      <td>0.0</td>\n",
       "      <td>0.0</td>\n",
       "      <td>7.598867</td>\n",
       "      <td>-19.394052</td>\n",
       "      <td>-17.826521</td>\n",
       "      <td>-0.198869</td>\n",
       "      <td>-13.785205</td>\n",
       "      <td>-14.131489</td>\n",
       "      <td>0.484252</td>\n",
       "      <td>0.149854</td>\n",
       "      <td>0.039781</td>\n",
       "      <td>1.0</td>\n",
       "    </tr>\n",
       "    <tr>\n",
       "      <th>126.0</th>\n",
       "      <td>-0.000909</td>\n",
       "      <td>0.0</td>\n",
       "      <td>0.0</td>\n",
       "      <td>8.402167</td>\n",
       "      <td>-19.214209</td>\n",
       "      <td>-18.098800</td>\n",
       "      <td>-2.123994</td>\n",
       "      <td>-13.424725</td>\n",
       "      <td>-12.197906</td>\n",
       "      <td>0.492126</td>\n",
       "      <td>0.157542</td>\n",
       "      <td>0.044212</td>\n",
       "      <td>1.0</td>\n",
       "    </tr>\n",
       "    <tr>\n",
       "      <th>127.0</th>\n",
       "      <td>-0.000538</td>\n",
       "      <td>0.0</td>\n",
       "      <td>0.0</td>\n",
       "      <td>7.624438</td>\n",
       "      <td>-17.970855</td>\n",
       "      <td>-17.636443</td>\n",
       "      <td>-3.385784</td>\n",
       "      <td>-14.842039</td>\n",
       "      <td>-11.230228</td>\n",
       "      <td>0.500000</td>\n",
       "      <td>0.165354</td>\n",
       "      <td>0.048825</td>\n",
       "      <td>1.0</td>\n",
       "    </tr>\n",
       "  </tbody>\n",
       "</table>\n",
       "<p>128 rows × 13 columns</p>\n",
       "</div>"
      ],
      "text/plain": [
       "             c0   c1   c3        tx         ty         tz        rx  \\\n",
       "0.0    0.000000  0.0  0.0 -1.125966  -0.941740   0.874823 -0.342980   \n",
       "1.0    0.000000  0.0  0.0 -2.681180  -2.002716   0.647684 -0.718242   \n",
       "2.0    0.000000  0.0  0.0 -3.344201  -2.031302   0.618724 -0.769689   \n",
       "3.0    0.000000  0.0  0.0 -2.008020  -0.352622  -2.034682 -1.700089   \n",
       "4.0    0.000000  0.0  0.0 -1.662025  -2.256627  -4.732764 -1.681009   \n",
       "...         ...  ...  ...       ...        ...        ...       ...   \n",
       "123.0 -0.003874  0.0  0.0  7.634845 -17.882547 -17.789335  0.613092   \n",
       "124.0 -0.002443  0.0  0.0  7.529394 -18.682742 -18.126342  1.231341   \n",
       "125.0 -0.001506  0.0  0.0  7.598867 -19.394052 -17.826521 -0.198869   \n",
       "126.0 -0.000909  0.0  0.0  8.402167 -19.214209 -18.098800 -2.123994   \n",
       "127.0 -0.000538  0.0  0.0  7.624438 -17.970855 -17.636443 -3.385784   \n",
       "\n",
       "              ry         rz   drift_1   drift_2   drift_3  constant  \n",
       "0.0     0.340728  -0.375917 -0.500000  0.165354 -0.048825       1.0  \n",
       "1.0    -0.793178  -2.178323 -0.492126  0.157542 -0.044212       1.0  \n",
       "2.0    -2.628772  -3.279157 -0.484252  0.149854 -0.039781       1.0  \n",
       "3.0    -3.028847  -2.359170 -0.476378  0.142290 -0.035531       1.0  \n",
       "4.0    -2.617752  -3.006732 -0.468504  0.134850 -0.031458       1.0  \n",
       "...          ...        ...       ...       ...       ...       ...  \n",
       "123.0 -12.773408 -14.548635  0.468504  0.134850  0.031458       1.0  \n",
       "124.0 -13.200877 -14.893382  0.476378  0.142290  0.035531       1.0  \n",
       "125.0 -13.785205 -14.131489  0.484252  0.149854  0.039781       1.0  \n",
       "126.0 -13.424725 -12.197906  0.492126  0.157542  0.044212       1.0  \n",
       "127.0 -14.842039 -11.230228  0.500000  0.165354  0.048825       1.0  \n",
       "\n",
       "[128 rows x 13 columns]"
      ]
     },
     "execution_count": 24,
     "metadata": {},
     "output_type": "execute_result"
    }
   ],
   "source": [
    "X1"
   ]
  },
  {
   "cell_type": "markdown",
   "metadata": {},
   "source": [
    "- - -"
   ]
  },
  {
   "cell_type": "markdown",
   "metadata": {},
   "source": [
    "# GA data"
   ]
  },
  {
   "cell_type": "code",
   "execution_count": 11,
   "metadata": {},
   "outputs": [
    {
     "name": "stderr",
     "output_type": "stream",
     "text": [
      "/usr/local/anaconda3/envs/sampark/lib/python3.7/site-packages/nilearn/datasets/__init__.py:90: FutureWarning: Fetchers from the nilearn.datasets module will be updated in version 0.9 to return python strings instead of bytes and Pandas dataframes instead of Numpy arrays.\n",
      "  \"Numpy arrays.\", FutureWarning)\n"
     ]
    }
   ],
   "source": [
    "import numpy as np\n",
    "import pandas as pd\n",
    "import os\n",
    "from nilearn import plotting as niplt\n",
    "from nilearn import image as niimg\n",
    "from nilearn.glm.first_level import make_first_level_design_matrix as nimat"
   ]
  },
  {
   "cell_type": "code",
   "execution_count": 12,
   "metadata": {},
   "outputs": [],
   "source": [
    "script_dir = '.'\n",
    "root_dir = '/Users/clmn/Desktop/GA'\n",
    "\n",
    "preproc_dir = root_dir + '/fMRI_data/preproc_data'\n",
    "reg_dir = root_dir + '/behav_data/regressors'"
   ]
  },
  {
   "cell_type": "code",
   "execution_count": 13,
   "metadata": {},
   "outputs": [],
   "source": [
    "subj = 'GA01'\n",
    "run = 1"
   ]
  },
  {
   "cell_type": "markdown",
   "metadata": {},
   "source": [
    "## pb02"
   ]
  },
  {
   "cell_type": "code",
   "execution_count": null,
   "metadata": {},
   "outputs": [],
   "source": []
  },
  {
   "cell_type": "markdown",
   "metadata": {},
   "source": [
    "## Regressors"
   ]
  },
  {
   "cell_type": "code",
   "execution_count": 14,
   "metadata": {},
   "outputs": [],
   "source": [
    "tr = .46  # repetition time is 1 second\n",
    "n_scans = 1096  # the acquisition comprises 128 scans\n",
    "frame_times = np.arange(n_scans) * tr  # here are the correspoding frame times"
   ]
  },
  {
   "cell_type": "code",
   "execution_count": 19,
   "metadata": {},
   "outputs": [],
   "source": [
    "motions = []\n",
    "with"
   ]
  },
  {
   "cell_type": "code",
   "execution_count": 20,
   "metadata": {},
   "outputs": [],
   "source": [
    "conditions = []\n",
    "with open(os.path.join(script_dir,'targetID.txt')) as fr:\n",
    "    for line in fr:\n",
    "        conditions.append(int(line.strip()))\n",
    "conditions = conditions[:97]"
   ]
  },
  {
   "cell_type": "code",
   "execution_count": 21,
   "metadata": {},
   "outputs": [],
   "source": [
    "temp = {}\n",
    "for target in [1, 5, 21, 25]:\n",
    "    with open(os.path.join(reg_dir,'4targets','%s.onset.prac.target%d.txt'%(subj,target))) as fr:\n",
    "        for rr, line in enumerate(fr):\n",
    "            temp[rr+1, target] = np.array(line.strip().split(' ')).astype(float)\n",
    "            \n",
    "onsets = np.sort(np.concatenate([temp[run, target] for target in [1,5,21,25]]))"
   ]
  },
  {
   "cell_type": "code",
   "execution_count": 22,
   "metadata": {},
   "outputs": [],
   "source": [
    "durations = [5 for i in range(97)]"
   ]
  },
  {
   "cell_type": "code",
   "execution_count": 23,
   "metadata": {},
   "outputs": [],
   "source": [
    "events = pd.DataFrame({'trial_type': conditions, 'onset': onsets,\n",
    "                       'duration': durations})"
   ]
  },
  {
   "cell_type": "code",
   "execution_count": 24,
   "metadata": {},
   "outputs": [
    {
     "data": {
      "text/html": [
       "<div>\n",
       "<style scoped>\n",
       "    .dataframe tbody tr th:only-of-type {\n",
       "        vertical-align: middle;\n",
       "    }\n",
       "\n",
       "    .dataframe tbody tr th {\n",
       "        vertical-align: top;\n",
       "    }\n",
       "\n",
       "    .dataframe thead th {\n",
       "        text-align: right;\n",
       "    }\n",
       "</style>\n",
       "<table border=\"1\" class=\"dataframe\">\n",
       "  <thead>\n",
       "    <tr style=\"text-align: right;\">\n",
       "      <th></th>\n",
       "      <th>trial_type</th>\n",
       "      <th>onset</th>\n",
       "      <th>duration</th>\n",
       "    </tr>\n",
       "  </thead>\n",
       "  <tbody>\n",
       "    <tr>\n",
       "      <th>0</th>\n",
       "      <td>1</td>\n",
       "      <td>2.043</td>\n",
       "      <td>5</td>\n",
       "    </tr>\n",
       "    <tr>\n",
       "      <th>1</th>\n",
       "      <td>5</td>\n",
       "      <td>7.068</td>\n",
       "      <td>5</td>\n",
       "    </tr>\n",
       "    <tr>\n",
       "      <th>2</th>\n",
       "      <td>25</td>\n",
       "      <td>12.065</td>\n",
       "      <td>5</td>\n",
       "    </tr>\n",
       "    <tr>\n",
       "      <th>3</th>\n",
       "      <td>21</td>\n",
       "      <td>17.091</td>\n",
       "      <td>5</td>\n",
       "    </tr>\n",
       "    <tr>\n",
       "      <th>4</th>\n",
       "      <td>1</td>\n",
       "      <td>22.098</td>\n",
       "      <td>5</td>\n",
       "    </tr>\n",
       "    <tr>\n",
       "      <th>...</th>\n",
       "      <td>...</td>\n",
       "      <td>...</td>\n",
       "      <td>...</td>\n",
       "    </tr>\n",
       "    <tr>\n",
       "      <th>92</th>\n",
       "      <td>25</td>\n",
       "      <td>462.079</td>\n",
       "      <td>5</td>\n",
       "    </tr>\n",
       "    <tr>\n",
       "      <th>93</th>\n",
       "      <td>1</td>\n",
       "      <td>467.078</td>\n",
       "      <td>5</td>\n",
       "    </tr>\n",
       "    <tr>\n",
       "      <th>94</th>\n",
       "      <td>21</td>\n",
       "      <td>472.082</td>\n",
       "      <td>5</td>\n",
       "    </tr>\n",
       "    <tr>\n",
       "      <th>95</th>\n",
       "      <td>5</td>\n",
       "      <td>477.081</td>\n",
       "      <td>5</td>\n",
       "    </tr>\n",
       "    <tr>\n",
       "      <th>96</th>\n",
       "      <td>1</td>\n",
       "      <td>482.081</td>\n",
       "      <td>5</td>\n",
       "    </tr>\n",
       "  </tbody>\n",
       "</table>\n",
       "<p>97 rows × 3 columns</p>\n",
       "</div>"
      ],
      "text/plain": [
       "    trial_type    onset  duration\n",
       "0            1    2.043         5\n",
       "1            5    7.068         5\n",
       "2           25   12.065         5\n",
       "3           21   17.091         5\n",
       "4            1   22.098         5\n",
       "..         ...      ...       ...\n",
       "92          25  462.079         5\n",
       "93           1  467.078         5\n",
       "94          21  472.082         5\n",
       "95           5  477.081         5\n",
       "96           1  482.081         5\n",
       "\n",
       "[97 rows x 3 columns]"
      ]
     },
     "execution_count": 24,
     "metadata": {},
     "output_type": "execute_result"
    }
   ],
   "source": [
    "events"
   ]
  },
  {
   "cell_type": "markdown",
   "metadata": {},
   "source": [
    "## Design Matrix"
   ]
  },
  {
   "cell_type": "code",
   "execution_count": null,
   "metadata": {},
   "outputs": [],
   "source": [
    "motion"
   ]
  },
  {
   "cell_type": "code",
   "execution_count": null,
   "metadata": {},
   "outputs": [],
   "source": [
    "X1 = nimat(frame_times, events, drift_model='polynomial', drift_order=4\n",
    "           , add_regs=motion, add_reg_names=add_reg_names, hrf_model=hrf_model)"
   ]
  },
  {
   "cell_type": "code",
   "execution_count": 14,
   "metadata": {},
   "outputs": [
    {
     "data": {
      "text/plain": [
       "<AxesSubplot:label='conditions', ylabel='scan number'>"
      ]
     },
     "execution_count": 14,
     "metadata": {},
     "output_type": "execute_result"
    },
    {
     "data": {
      "image/png": "[encoded data removed]",
      "text/plain": [
       "<Figure size 221.04x720 with 1 Axes>"
      ]
     },
     "metadata": {
      "needs_background": "light"
     },
     "output_type": "display_data"
    }
   ],
   "source": [
    "X2 = nimat(frame_times, events,\n",
    "           drift_model='polynomial', drift_order=4,\n",
    "           hrf_model='glover')\n",
    "niplt.plot_design_matrix(X2)"
   ]
  },
  {
   "cell_type": "markdown",
   "metadata": {},
   "source": [
    "### LSS"
   ]
  },
  {
   "cell_type": "code",
   "execution_count": 5,
   "metadata": {},
   "outputs": [],
   "source": [
    "col_header = ['Run#%d#Pol#%d'%(run,pol) for pol in range(5)] + ['beta#%02d'%k for k in range(97)] + ['roll', 'pitch', 'yaw', 'dS', 'dL', 'dP', 'MO']\n",
    "X = pd.read_csv(os.path.join(data_dir,'X.xmatLSS.MO.shortdur.%s.r01.1D'%subj), header=None, sep='\\s+')\n",
    "X.rename(columns={d:s for d,s in zip(range(len(col_header)),col_header)}, inplace=True)"
   ]
  },
  {
   "cell_type": "code",
   "execution_count": 6,
   "metadata": {},
   "outputs": [
    {
     "data": {
      "text/plain": [
       "<AxesSubplot:label='conditions', ylabel='scan number'>"
      ]
     },
     "execution_count": 6,
     "metadata": {},
     "output_type": "execute_result"
    },
    {
     "data": {
      "image/png": "[encoded data removed]",
      "text/plain": [
       "<Figure size 1877.04x720 with 1 Axes>"
      ]
     },
     "metadata": {
      "needs_background": "light"
     },
     "output_type": "display_data"
    }
   ],
   "source": [
    "nplt.plot_design_matrix(X)"
   ]
  },
  {
   "cell_type": "code",
   "execution_count": null,
   "metadata": {},
   "outputs": [],
   "source": []
  }
 ],
 "metadata": {
  "kernelspec": {
   "display_name": "sampark",
   "language": "python",
   "name": "sampark"
  },
  "language_info": {
   "codemirror_mode": {
    "name": "ipython",
    "version": 3
   },
   "file_extension": ".py",
   "mimetype": "text/x-python",
   "name": "python",
   "nbconvert_exporter": "python",
   "pygments_lexer": "ipython3",
   "version": "3.7.10"
  }
 },
 "nbformat": 4,
 "nbformat_minor": 4
}
