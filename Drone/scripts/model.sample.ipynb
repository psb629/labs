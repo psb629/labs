{
 "cells": [
  {
   "cell_type": "code",
   "execution_count": 3,
   "id": "ebf6583d",
   "metadata": {},
   "outputs": [
    {
     "ename": "UnityEnvironmentException",
     "evalue": "Couldn't launch the 환경의 경로 environment. Provided filename does not match any environments.",
     "output_type": "error",
     "traceback": [
      "\u001b[0;31m---------------------------------------------------------------------------\u001b[0m",
      "\u001b[0;31mUnityEnvironmentException\u001b[0m                 Traceback (most recent call last)",
      "\u001b[0;32m/tmp/ipykernel_2123179/1411488316.py\u001b[0m in \u001b[0;36m<module>\u001b[0;34m\u001b[0m\n\u001b[1;32m      9\u001b[0m     env = UnityEnvironment(file_name='환경의 경로', \n\u001b[1;32m     10\u001b[0m                            \u001b[0mworker_id\u001b[0m\u001b[0;34m=\u001b[0m\u001b[0mnp\u001b[0m\u001b[0;34m.\u001b[0m\u001b[0mrandom\u001b[0m\u001b[0;34m.\u001b[0m\u001b[0mrandint\u001b[0m\u001b[0;34m(\u001b[0m\u001b[0;36m65535\u001b[0m\u001b[0;34m)\u001b[0m\u001b[0;34m,\u001b[0m\u001b[0;34m\u001b[0m\u001b[0;34m\u001b[0m\u001b[0m\n\u001b[0;32m---> 11\u001b[0;31m                            side_channels=[engine_configuration_channel])\n\u001b[0m\u001b[1;32m     12\u001b[0m     \u001b[0menv\u001b[0m\u001b[0;34m.\u001b[0m\u001b[0mreset\u001b[0m\u001b[0;34m(\u001b[0m\u001b[0;34m)\u001b[0m\u001b[0;34m\u001b[0m\u001b[0;34m\u001b[0m\u001b[0m\n\u001b[1;32m     13\u001b[0m \u001b[0;34m\u001b[0m\u001b[0m\n",
      "\u001b[0;32m~/anaconda3/envs/drone/lib/python3.7/site-packages/mlagents_envs/environment.py\u001b[0m in \u001b[0;36m__init__\u001b[0;34m(self, file_name, worker_id, base_port, seed, no_graphics, timeout_wait, additional_args, side_channels, log_folder)\u001b[0m\n\u001b[1;32m    202\u001b[0m             \u001b[0;32mtry\u001b[0m\u001b[0;34m:\u001b[0m\u001b[0;34m\u001b[0m\u001b[0;34m\u001b[0m\u001b[0m\n\u001b[1;32m    203\u001b[0m                 self._process = env_utils.launch_executable(\n\u001b[0;32m--> 204\u001b[0;31m                     \u001b[0mfile_name\u001b[0m\u001b[0;34m,\u001b[0m \u001b[0mself\u001b[0m\u001b[0;34m.\u001b[0m\u001b[0m_executable_args\u001b[0m\u001b[0;34m(\u001b[0m\u001b[0;34m)\u001b[0m\u001b[0;34m\u001b[0m\u001b[0;34m\u001b[0m\u001b[0m\n\u001b[0m\u001b[1;32m    205\u001b[0m                 )\n\u001b[1;32m    206\u001b[0m             \u001b[0;32mexcept\u001b[0m \u001b[0mUnityEnvironmentException\u001b[0m\u001b[0;34m:\u001b[0m\u001b[0;34m\u001b[0m\u001b[0;34m\u001b[0m\u001b[0m\n",
      "\u001b[0;32m~/anaconda3/envs/drone/lib/python3.7/site-packages/mlagents_envs/env_utils.py\u001b[0m in \u001b[0;36mlaunch_executable\u001b[0;34m(file_name, args)\u001b[0m\n\u001b[1;32m    100\u001b[0m     \u001b[0;32mif\u001b[0m \u001b[0mlaunch_string\u001b[0m \u001b[0;32mis\u001b[0m \u001b[0;32mNone\u001b[0m\u001b[0;34m:\u001b[0m\u001b[0;34m\u001b[0m\u001b[0;34m\u001b[0m\u001b[0m\n\u001b[1;32m    101\u001b[0m         raise UnityEnvironmentException(\n\u001b[0;32m--> 102\u001b[0;31m             \u001b[0;34mf\"Couldn't launch the {file_name} environment. Provided filename does not match any environments.\"\u001b[0m\u001b[0;34m\u001b[0m\u001b[0;34m\u001b[0m\u001b[0m\n\u001b[0m\u001b[1;32m    103\u001b[0m         )\n\u001b[1;32m    104\u001b[0m     \u001b[0;32melse\u001b[0m\u001b[0;34m:\u001b[0m\u001b[0;34m\u001b[0m\u001b[0;34m\u001b[0m\u001b[0m\n",
      "\u001b[0;31mUnityEnvironmentException\u001b[0m: Couldn't launch the 환경의 경로 environment. Provided filename does not match any environments."
     ]
    }
   ],
   "source": [
    "from mlagents_envs.environment import UnityEnvironment, ActionTuple\n",
    "from mlagents_envs.side_channel.engine_configuration_channel import EngineConfigurationChannel\n",
    "\n",
    "import numpy as np \n",
    "\n",
    "if __name__ == '__main__':\n",
    "    # 환경 정의 및 설정 \n",
    "    engine_configuration_channel = EngineConfigurationChannel()\n",
    "    env = UnityEnvironment(file_name='환경의 경로', \n",
    "                           worker_id=np.random.randint(65535),\n",
    "                           side_channels=[engine_configuration_channel])\n",
    "    env.reset()\n",
    "\n",
    "    # behavior 이름 불러오기 및 timescale 설정\n",
    "    behavior_name = list(env.behavior_specs)[0]\n",
    "    engine_configuration_channel.set_configuration_parameters(time_scale=1)\n",
    "\n",
    "    # 전체 진행을 위한 반복문 (10 에피소드 반복)\n",
    "    for ep in range(10):\n",
    "        # 환경 초기화 \n",
    "        env.reset()\n",
    "\n",
    "        # decision_steps와 terminal_steps 정의\n",
    "        decision_steps, terminal_steps = env.get_steps(behavior_name)\n",
    "\n",
    "        # 파라미터 초기화 \n",
    "        done = False\n",
    "        ep_rewards = 0\n",
    "\n",
    "        # 에피소드 진행을 위한 while문 \n",
    "        while not done:\n",
    "            # 랜덤 행동 설정\n",
    "            random_action = np.random.randn(len(decision_steps),3)\n",
    "\n",
    "            action_tuple = ActionTuple()\n",
    "            action_tuple.add_continuous(random_action)\n",
    "\n",
    "            env.set_actions(behavior_name, action_tuple)\n",
    "\n",
    "            # 행동 수행 \n",
    "            env.step()\n",
    "\n",
    "            # 행동 수행 후 에이전트의 정보 (상태, 보상, 종료 여부) 취득\n",
    "            decision_steps, terminal_steps = env.get_steps(behavior_name)\n",
    "            \n",
    "            done = len(terminal_steps.agent_id)>0\n",
    "            reward = terminal_steps.reward[0] if done else decision_steps.reward[0]\n",
    "\n",
    "            if done:\n",
    "                next_state = [terminal_steps.obs[i][0] for i in range(6)]\n",
    "            else:\n",
    "                next_state = [decision_steps.obs[i][0] for i in range(6)]\n",
    "\n",
    "            # 매 스텝 보상을 에피소드에 대한 누적보상에 더해줌 \n",
    "            ep_rewards += reward \n",
    "        \n",
    "        # 누적 보상 출력\n",
    "        print('total reward for ep {} is {}'.format(ep, ep_rewards))\n",
    "\n",
    "    # 환경 종료 \n",
    "    env.close()"
   ]
  },
  {
   "cell_type": "code",
   "execution_count": null,
   "id": "4f425c9f",
   "metadata": {},
   "outputs": [],
   "source": []
  }
 ],
 "metadata": {
  "kernelspec": {
   "display_name": "drone",
   "language": "python",
   "name": "drone"
  },
  "language_info": {
   "codemirror_mode": {
    "name": "ipython",
    "version": 3
   },
   "file_extension": ".py",
   "mimetype": "text/x-python",
   "name": "python",
   "nbconvert_exporter": "python",
   "pygments_lexer": "ipython3",
   "version": "3.7.10"
  }
 },
 "nbformat": 4,
 "nbformat_minor": 5
}
