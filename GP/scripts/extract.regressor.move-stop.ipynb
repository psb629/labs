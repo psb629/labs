{
 "cells": [
  {
   "cell_type": "code",
   "execution_count": 1,
   "id": "7d9d0ddf",
   "metadata": {},
   "outputs": [],
   "source": [
    "import numpy as np\n",
    "import pandas as pd\n",
    "import scipy.io\n",
    "from scipy import special\n",
    "from scipy import optimize\n",
    "from scipy import stats\n",
    "import matplotlib.pyplot as plt\n",
    "import seaborn as sns\n",
    "import plotly as py\n",
    "import plotly.express as px\n",
    "from datetime import date\n",
    "from glob import glob\n",
    "from os.path import join, exists\n",
    "from os import makedirs\n",
    "import random\n",
    "from random import random as rand\n",
    "\n",
    "from datetime import date\n",
    "\n",
    "from tqdm import tqdm\n",
    "\n",
    "from sklearn.preprocessing import normalize"
   ]
  },
  {
   "cell_type": "code",
   "execution_count": 2,
   "id": "888fb664",
   "metadata": {},
   "outputs": [],
   "source": [
    "## date\n",
    "today = date.today().strftime(\"%Y%m%d\")"
   ]
  },
  {
   "cell_type": "code",
   "execution_count": 3,
   "id": "ae9fb933",
   "metadata": {},
   "outputs": [],
   "source": [
    "dir_github = '/home/sungbeenpark/Github/labs/GP'\n",
    "\n",
    "dir_root = '/mnt/ext5/GP'\n",
    "# dir_root = dir_github\n",
    "dir_behav = join(dir_root, 'behav_data')\n",
    "\n",
    "dir_reg = join(dir_behav, 'regressors/move-stop')\n",
    "makedirs(dir_reg, exist_ok=True)\n",
    "\n",
    "dir_output = dir_reg"
   ]
  },
  {
   "cell_type": "code",
   "execution_count": 4,
   "id": "a377cef8",
   "metadata": {},
   "outputs": [],
   "source": [
    "list_dlPFC_cTBS = [\n",
    "    '09', '10', '18', '21', '22'\n",
    "    , '24', '27', '34', '35', '36'\n",
    "    , '38', '42'\n",
    "]\n",
    "list_M1_cTBS = [\n",
    "    '08', '11', '17', '19', '20'\n",
    "    , '26', '32', '33', '37', '39'\n",
    "    , '40', '41'\n",
    "]\n",
    "list_dlPFC_20 = [\n",
    "    '43', '44', '45', '46', '47'\n",
    "    , '48', '49', '50', '51', '53'\n",
    "    , '54', '55'\n",
    "]\n",
    "list_unknown = [\n",
    "    '56', '57', '58', '59', '61'\n",
    "    , '62'\n",
    "]"
   ]
  },
  {
   "cell_type": "code",
   "execution_count": 5,
   "id": "cd92c90f",
   "metadata": {},
   "outputs": [],
   "source": [
    "list_subj = np.concatenate((list_dlPFC_cTBS, list_M1_cTBS, list_dlPFC_20, list_unknown))"
   ]
  },
  {
   "cell_type": "markdown",
   "id": "1c2b82d4",
   "metadata": {},
   "source": [
    "---"
   ]
  },
  {
   "cell_type": "code",
   "execution_count": 7,
   "id": "efe58791",
   "metadata": {},
   "outputs": [],
   "source": [
    "for nn in list_subj:\n",
    "    subj = 'GP'+nn\n",
    "    if exists(join(dir_output,'%s.Move.1D'%(subj))):\n",
    "        continue\n",
    "    fname = join(dir_behav, '%s-Cali.mat'%subj)\n",
    "    datum = scipy.io.loadmat(fname)\n",
    "    list_onsettime = datum['LearnTrialStartTime'][0]*0.001\n",
    "\n",
    "    Move = []\n",
    "    Stop = []\n",
    "    for ii, onsettime in enumerate(list_onsettime):\n",
    "        if ii%2==0:\n",
    "            ## Move\n",
    "            Move.append('%.1f:60.0'%onsettime)\n",
    "        else:\n",
    "            ## Stop\n",
    "            Stop.append('%.1f:60.0'%onsettime)\n",
    "\n",
    "    ## save it\n",
    "    np.savetxt(\n",
    "        join(dir_output,'%s.Move.1D'%(subj)), Move, fmt='%s'\n",
    "        , newline=' '\n",
    "    )\n",
    "    np.savetxt(\n",
    "        join(dir_output,'%s.Stop.1D'%(subj)), Stop, fmt='%s'\n",
    "        , newline=' '\n",
    "    )"
   ]
  },
  {
   "cell_type": "code",
   "execution_count": null,
   "id": "d9c92c78",
   "metadata": {},
   "outputs": [],
   "source": []
  }
 ],
 "metadata": {
  "kernelspec": {
   "display_name": "GA",
   "language": "python",
   "name": "ga"
  },
  "language_info": {
   "codemirror_mode": {
    "name": "ipython",
    "version": 3
   },
   "file_extension": ".py",
   "mimetype": "text/x-python",
   "name": "python",
   "nbconvert_exporter": "python",
   "pygments_lexer": "ipython3",
   "version": "3.9.6"
  }
 },
 "nbformat": 4,
 "nbformat_minor": 5
}
