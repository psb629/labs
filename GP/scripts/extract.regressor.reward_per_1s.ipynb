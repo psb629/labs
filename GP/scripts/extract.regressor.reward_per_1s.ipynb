{
 "cells": [
  {
   "cell_type": "code",
   "execution_count": 1,
   "id": "7d9d0ddf",
   "metadata": {},
   "outputs": [],
   "source": [
    "import numpy as np\n",
    "import pandas as pd\n",
    "import scipy.io\n",
    "from scipy import special\n",
    "from scipy import optimize\n",
    "from scipy import stats\n",
    "import matplotlib.pyplot as plt\n",
    "import seaborn as sns\n",
    "import plotly as py\n",
    "import plotly.express as px\n",
    "from datetime import date\n",
    "from glob import glob\n",
    "from os.path import join, exists\n",
    "from os import makedirs\n",
    "import random\n",
    "from random import random as rand\n",
    "\n",
    "from datetime import date\n",
    "\n",
    "from tqdm import tqdm"
   ]
  },
  {
   "cell_type": "code",
   "execution_count": 2,
   "id": "888fb664",
   "metadata": {},
   "outputs": [],
   "source": [
    "## date\n",
    "today = date.today().strftime(\"%Y%m%d\")"
   ]
  },
  {
   "cell_type": "code",
   "execution_count": 3,
   "id": "ae9fb933",
   "metadata": {},
   "outputs": [],
   "source": [
    "dir_root = '/mnt/ext5/GP'\n",
    "dir_behav = join(dir_root, 'behav_data')\n",
    "\n",
    "dir_reg = join(dir_behav, 'regressors/AM')\n",
    "makedirs(dir_reg, exist_ok=True)"
   ]
  },
  {
   "cell_type": "code",
   "execution_count": 4,
   "id": "85bb6694",
   "metadata": {},
   "outputs": [],
   "source": [
    "list_subj = [\n",
    "    '09', '10', '18', '21', '22'\n",
    "    , '24', '27', '34', '35', '36'\n",
    "    , '38', '42', '08', '11', '17'\n",
    "    , '19', '20', '26', '32', '33'\n",
    "    , '37', '39', '40', '41', '43'\n",
    "    , '44', '45', '46', '47', '48'\n",
    "    , '49', '50', '51', '53', '54'\n",
    "    , '55', '56', '57', '58', '59'\n",
    "    , '61', '62'\n",
    "]"
   ]
  },
  {
   "cell_type": "code",
   "execution_count": 5,
   "id": "6ab8bc54",
   "metadata": {},
   "outputs": [],
   "source": [
    "def convert_ID(ID):\n",
    "    ##################   ##################\n",
    "    #  1  2  3  4  5 #   #        2       #\n",
    "    #  6  7  8  9 10 #   #        1       #\n",
    "    # 11 12 13 14 15 # = # -2 -1  0  1  2 #\n",
    "    # 16 17 18 19 20 #   #       -1       #\n",
    "    # 21 22 23 24 25 #   #       -2       #\n",
    "    ##################   ##################\n",
    "    x = np.kron(np.ones(5),np.arange(-2,3)).astype(int)\n",
    "    y = np.kron(np.arange(2,-3,-1),np.ones(5)).astype(int)\n",
    "    pos = np.array((x[ID-1],y[ID-1]))\n",
    "    return pos"
   ]
  },
  {
   "cell_type": "code",
   "execution_count": 6,
   "id": "99d3cdc5",
   "metadata": {},
   "outputs": [],
   "source": [
    "def calc_hit(behav_data):\n",
    "\n",
    "    datum = scipy.io.loadmat(behav_data)\n",
    "    \n",
    "    ## second per trial\n",
    "    spt = 5\n",
    "    ## frame per trial\n",
    "    fpt = 60*spt\n",
    "    ## the number of trials per run\n",
    "    tpr = 96+1\n",
    "    ## the number of runs\n",
    "    nrun = 3\n",
    "\n",
    "    ## target ID\n",
    "    tmp = datum['targetID'][0]\n",
    "    targetID = tmp[tmp!=0][:tpr*nrun]\n",
    "\n",
    "    bx = datum['boxSize'][0][0]\n",
    "    pos = bx*convert_ID(targetID)\n",
    "    \n",
    "    ## 60 Hz * {5 s/trial * (1 trial + 12 trial/block * 8 block)}/Run * 3 Run = 87300\n",
    "    allXY = datum['allXY']\n",
    "    \n",
    "    xFrame, yFrame = np.array([datum['xFrame'].squeeze(), datum['yFrame'].squeeze()]).astype(int)\n",
    "    \n",
    "    ## target position\n",
    "    tmp = np.zeros(allXY.shape)\n",
    "    for i in range(fpt*tpr*nrun):\n",
    "        t = np.floor(i/fpt).astype(int)\n",
    "        tmp[0][i], tmp[1][i] = pos[0][t], pos[1][t]\n",
    "\n",
    "    ## Is it hit?\n",
    "    err = allXY - tmp\n",
    "    hit = np.zeros(fpt*tpr*nrun)\n",
    "    for i in range(fpt*tpr*nrun):\n",
    "        hit[i] = abs(err[0][i]) <= bx*.5 and abs(err[1][i]) <= bx*.5\n",
    "        \n",
    "    return hit"
   ]
  },
  {
   "cell_type": "code",
   "execution_count": 7,
   "id": "e41b3ef7",
   "metadata": {
    "scrolled": true
   },
   "outputs": [],
   "source": [
    "ntrial = 97\n",
    "sec_per_trial = 5\n",
    "tot_sec = sec_per_trial*ntrial\n",
    "\n",
    "for nn in list_subj:\n",
    "    subj = 'GP%s'%nn\n",
    "    if exists(join(dir_reg,'%s.AM.onset-reward.1D'%subj)):\n",
    "        continue\n",
    "    ## reward per second\n",
    "    hit = calc_hit(join(dir_behav, '%s-fmri.mat'%subj))\n",
    "    tmp = hit.reshape((3,97,5,60))\n",
    "    hit = np.mean(tmp, axis=3)\n",
    "\n",
    "    ## load onset times\n",
    "    datum = scipy.io.loadmat(join(dir_behav, '%s-fmri.mat'%subj))\n",
    "    onsettime = np.ones((3,97)) * np.nan\n",
    "    tmp = datum['LearnTrialStartTime'][0]\n",
    "    ii = 1\n",
    "    while tmp[ii-1]<tmp[ii]:\n",
    "        ii += 1\n",
    "\n",
    "    regressor = [[],[],[]]\n",
    "    for run in range(3):\n",
    "        onsettime[run] = tmp[ii+97*run:ii+97*(run+1)] / 1000.\n",
    "        ## upsampling\n",
    "        upsampled_onsettime = np.ones(tot_sec) * np.nan\n",
    "        for trial in range(ntrial):\n",
    "            upsampled_onsettime[trial*5] = onsettime[run][trial]\n",
    "            upsampled_onsettime[trial*5 + 1] = onsettime[run][trial] + 1.\n",
    "            upsampled_onsettime[trial*5 + 2] = onsettime[run][trial] + 2.\n",
    "            upsampled_onsettime[trial*5 + 3] = onsettime[run][trial] + 3.\n",
    "            upsampled_onsettime[trial*5 + 4] = onsettime[run][trial] + 4.\n",
    "        ## ???\n",
    "    #     upsampled_onsettime += 0.5\n",
    "        for sec in range(tot_sec):\n",
    "            trial = sec//5\n",
    "            ss = sec%5\n",
    "            regressor[run].append('%.2f*%.3f'%(upsampled_onsettime[sec],hit[run,trial,ss]))\n",
    "\n",
    "    np.savetxt(\n",
    "        join(dir_reg,'%s.AM.onset-reward.1D'%subj), regressor, fmt='%s'\n",
    "        , delimiter=' ', newline='\\n'\n",
    "    )"
   ]
  },
  {
   "cell_type": "code",
   "execution_count": null,
   "id": "7c63e1b3",
   "metadata": {},
   "outputs": [],
   "source": []
  }
 ],
 "metadata": {
  "kernelspec": {
   "display_name": "GA",
   "language": "python",
   "name": "ga"
  },
  "language_info": {
   "codemirror_mode": {
    "name": "ipython",
    "version": 3
   },
   "file_extension": ".py",
   "mimetype": "text/x-python",
   "name": "python",
   "nbconvert_exporter": "python",
   "pygments_lexer": "ipython3",
   "version": "3.9.6"
  }
 },
 "nbformat": 4,
 "nbformat_minor": 5
}
