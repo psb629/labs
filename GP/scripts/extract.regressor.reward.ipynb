{
 "cells": [
  {
   "cell_type": "code",
   "execution_count": 1,
   "id": "7d9d0ddf",
   "metadata": {},
   "outputs": [],
   "source": [
    "import numpy as np\n",
    "import pandas as pd\n",
    "import scipy.io\n",
    "from scipy import special\n",
    "from scipy import optimize\n",
    "from scipy import stats\n",
    "import matplotlib.pyplot as plt\n",
    "import seaborn as sns\n",
    "import plotly as py\n",
    "import plotly.express as px\n",
    "from datetime import date\n",
    "from glob import glob\n",
    "from os.path import join, exists\n",
    "import random\n",
    "from random import random as rand\n",
    "\n",
    "from datetime import date\n",
    "\n",
    "from tqdm import tqdm"
   ]
  },
  {
   "cell_type": "code",
   "execution_count": 2,
   "id": "888fb664",
   "metadata": {},
   "outputs": [],
   "source": [
    "## date\n",
    "today = date.today().strftime(\"%Y%m%d\")"
   ]
  },
  {
   "cell_type": "code",
   "execution_count": 3,
   "id": "6ab8bc54",
   "metadata": {},
   "outputs": [],
   "source": [
    "def convert_ID(ID):\n",
    "    ##################   ##################\n",
    "    #  1  2  3  4  5 #   #        2       #\n",
    "    #  6  7  8  9 10 #   #        1       #\n",
    "    # 11 12 13 14 15 # = # -2 -1  0  1  2 #\n",
    "    # 16 17 18 19 20 #   #       -1       #\n",
    "    # 21 22 23 24 25 #   #       -2       #\n",
    "    ##################   ##################\n",
    "    x = np.kron(np.ones(5),np.arange(-2,3)).astype(int)\n",
    "    y = np.kron(np.arange(2,-3,-1),np.ones(5)).astype(int)\n",
    "    pos = np.array((x[ID-1],y[ID-1]))\n",
    "    return pos"
   ]
  },
  {
   "cell_type": "code",
   "execution_count": 9,
   "id": "99d3cdc5",
   "metadata": {},
   "outputs": [],
   "source": [
    "def calc_hit(behav_data):\n",
    "\n",
    "    datum = scipy.io.loadmat(behav_data)\n",
    "    \n",
    "    ## second per trial\n",
    "    spt = 5\n",
    "    ## frame per trial\n",
    "    fpt = 60*spt\n",
    "    ## the number of trials per run\n",
    "    tpr = 96+1\n",
    "    ## the number of runs\n",
    "    nrun = 3\n",
    "\n",
    "    ## target ID\n",
    "    tmp = datum['targetID'][0]\n",
    "    targetID = tmp[tmp!=0][:tpr*nrun]\n",
    "\n",
    "    bx = datum['boxSize'][0][0]\n",
    "    pos = bx*convert_ID(targetID)\n",
    "    \n",
    "    ## 60 Hz * {5 s/trial * (1 trial + 12 trial/block * 8 block)}/Run * 3 Run = 87300\n",
    "    allXY = datum['allXY']\n",
    "    \n",
    "    xFrame, yFrame = np.array([datum['xFrame'].squeeze(), datum['yFrame'].squeeze()]).astype(int)\n",
    "    \n",
    "    ## target position\n",
    "    tmp = np.zeros(allXY.shape)\n",
    "    for i in range(fpt*tpr*nrun):\n",
    "        t = np.floor(i/fpt).astype(int)\n",
    "        tmp[0][i], tmp[1][i] = pos[0][t], pos[1][t]\n",
    "\n",
    "    ## Is it hit?\n",
    "    err = allXY - tmp\n",
    "    hit = np.zeros(fpt*tpr*nrun)\n",
    "    for i in range(fpt*tpr*nrun):\n",
    "        hit[i] = abs(err[0][i]) <= bx*.5 and abs(err[1][i]) <= bx*.5\n",
    "        \n",
    "    return hit"
   ]
  },
  {
   "cell_type": "code",
   "execution_count": 7,
   "id": "49a38cbc",
   "metadata": {},
   "outputs": [],
   "source": [
    "datum = scipy.io.loadmat('/mnt/ext6/GP/behav_data/GP08-fmri.mat')"
   ]
  },
  {
   "cell_type": "code",
   "execution_count": 8,
   "id": "1fc77438",
   "metadata": {},
   "outputs": [
    {
     "data": {
      "text/plain": [
       "dict_keys(['__header__', '__version__', '__globals__', 'AccRatio', 'FeedbackTime', 'InsideTimeOut', 'Llog', 'Lpath', 'MaxTrials', 'MovementTimeOut', 'PosTarget', 'PreparationTime', 'RetTrials', 'TaskAngle', 'TaskColor', 'TaskPos', 'TitleDisplayTime', 'Tlog', 'TotalLearnTrialTime', 'TotalTrials', 'Tpath', 'cm2px', 'diacm', 'diameter', 'distcm', 'isflipped', 'nRun', 'nTask', 'nTrialperRun', 'xFrame', 'yFrame', 'subjID', 'testType', 'LogDir', 'Clog', 'K', 'weight', 'sumw', 'Gx', 'Gy', 'X0', 'Y0', 'res', 'fontSize', 'key', 't0', 'gridDraw_trial', 'targetID', 'nTrial', 'glove', 'allData', 'cnt', 'LearnTrialStartTime', 'data', 'rate', 'CaliDuration', 'mData', 'U', 'S', 'A', 'strSubj', 'dataTemp', 'XY', 'boxSize', 'pos', 'ID_reached', 'allXY', 'ID', 'mouseSize', 'mouseThick', 'PreDuration', 'T', 'nSampleTrial', 'nSample', 'fb', 'preData', 'tpos', 'cnt_hit', '__function_workspace__'])"
      ]
     },
     "execution_count": 8,
     "metadata": {},
     "output_type": "execute_result"
    }
   ],
   "source": [
    "datum.keys()"
   ]
  },
  {
   "cell_type": "code",
   "execution_count": 10,
   "id": "0244375c",
   "metadata": {},
   "outputs": [],
   "source": [
    "hit = calc_hit('/mnt/ext6/GP/behav_data/GP08-fmri.mat')"
   ]
  },
  {
   "cell_type": "code",
   "execution_count": 11,
   "id": "925e725f",
   "metadata": {
    "scrolled": true
   },
   "outputs": [
    {
     "data": {
      "text/plain": [
       "(87300,)"
      ]
     },
     "execution_count": 11,
     "metadata": {},
     "output_type": "execute_result"
    }
   ],
   "source": [
    "hit.shape"
   ]
  },
  {
   "cell_type": "code",
   "execution_count": null,
   "id": "309c718b",
   "metadata": {},
   "outputs": [],
   "source": []
  }
 ],
 "metadata": {
  "kernelspec": {
   "display_name": "GA",
   "language": "python",
   "name": "ga"
  },
  "language_info": {
   "codemirror_mode": {
    "name": "ipython",
    "version": 3
   },
   "file_extension": ".py",
   "mimetype": "text/x-python",
   "name": "python",
   "nbconvert_exporter": "python",
   "pygments_lexer": "ipython3",
   "version": "3.9.6"
  }
 },
 "nbformat": 4,
 "nbformat_minor": 5
}
