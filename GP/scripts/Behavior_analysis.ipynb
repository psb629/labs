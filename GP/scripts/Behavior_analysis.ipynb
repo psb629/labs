{
 "cells": [
  {
   "cell_type": "code",
   "execution_count": 1,
   "metadata": {
    "scrolled": true
   },
   "outputs": [
    {
     "name": "stderr",
     "output_type": "stream",
     "text": [
      "/home/sungbeenpark/anaconda3/envs/GA/lib/python3.9/site-packages/nilearn/datasets/__init__.py:86: FutureWarning: Fetchers from the nilearn.datasets module will be updated in version 0.9 to return python strings instead of bytes and Pandas dataframes instead of Numpy arrays.\n",
      "  warn(\"Fetchers from the nilearn.datasets module will be \"\n"
     ]
    }
   ],
   "source": [
    "import numpy as np\n",
    "import pandas as pd\n",
    "import scipy.io\n",
    "from scipy import special\n",
    "from scipy import optimize\n",
    "from scipy import stats\n",
    "import matplotlib.pyplot as plt\n",
    "import seaborn as sns\n",
    "import plotly as py\n",
    "import plotly.express as px\n",
    "from datetime import date\n",
    "from glob import glob\n",
    "from os.path import join, exists\n",
    "import random\n",
    "from random import random as rand\n",
    "\n",
    "import clmnlab"
   ]
  },
  {
   "cell_type": "code",
   "execution_count": 2,
   "metadata": {},
   "outputs": [
    {
     "name": "stdout",
     "output_type": "stream",
     "text": [
      "OS : linux\n",
      "Google Drive is detected!\n",
      "Git directory is detected!\n"
     ]
    }
   ],
   "source": [
    "GA = clmnlab.GA()"
   ]
  },
  {
   "cell_type": "code",
   "execution_count": 3,
   "metadata": {},
   "outputs": [
    {
     "data": {
      "text/html": [
       "        <script type=\"text/javascript\">\n",
       "        window.PlotlyConfig = {MathJaxConfig: 'local'};\n",
       "        if (window.MathJax) {MathJax.Hub.Config({SVG: {font: \"STIX-Web\"}});}\n",
       "        if (typeof require !== 'undefined') {\n",
       "        require.undef(\"plotly\");\n",
       "        requirejs.config({\n",
       "            paths: {\n",
       "                'plotly': ['https://cdn.plot.ly/plotly-2.4.2.min']\n",
       "            }\n",
       "        });\n",
       "        require(['plotly'], function(Plotly) {\n",
       "            window._Plotly = Plotly;\n",
       "        });\n",
       "        }\n",
       "        </script>\n",
       "        "
      ]
     },
     "metadata": {},
     "output_type": "display_data"
    }
   ],
   "source": [
    "%config InlineBackend.figure_format = 'retina'\n",
    "py.offline.init_notebook_mode(connected = True)"
   ]
  },
  {
   "cell_type": "code",
   "execution_count": 4,
   "metadata": {},
   "outputs": [],
   "source": [
    "np.set_printoptions(precision=5, suppress=True)"
   ]
  },
  {
   "cell_type": "markdown",
   "metadata": {},
   "source": [
    "---"
   ]
  },
  {
   "cell_type": "code",
   "execution_count": 8,
   "metadata": {},
   "outputs": [],
   "source": [
    "datum = scipy.io.loadmat(fname)\n",
    "# datum"
   ]
  },
  {
   "cell_type": "code",
   "execution_count": 9,
   "metadata": {},
   "outputs": [],
   "source": [
    "## frame per trial\n",
    "fpt = int(datum['nSampleTrial'][0][0])\n",
    "## second per trial\n",
    "spt = int(fpt/60.)\n",
    "## a number of trials per run\n",
    "# tpr = datum['nTrialperRun'][0][0]\n",
    "tpr = 97  # 12 trial/block * 8 block/run + 1 = 97 trial/run\n",
    "## target ID\n",
    "tmp = datum['targetID'][0]\n",
    "targetID = tmp[tmp!=0][:tpr]\n",
    "# targetID = tmp\n",
    "nrun = 3\n",
    "# ntrial = 12\n",
    "# nblock = 8"
   ]
  },
  {
   "cell_type": "code",
   "execution_count": 11,
   "metadata": {
    "scrolled": false
   },
   "outputs": [
    {
     "data": {
      "text/plain": [
       "(291,)"
      ]
     },
     "execution_count": 11,
     "metadata": {},
     "output_type": "execute_result"
    }
   ],
   "source": [
    "tmp = datum['targetID'][0]\n",
    "targetID = tmp[tmp!=0][:tpr*nrun]\n",
    "targetID.shape"
   ]
  },
  {
   "cell_type": "code",
   "execution_count": 12,
   "metadata": {},
   "outputs": [
    {
     "data": {
      "text/plain": [
       "(2, 291)"
      ]
     },
     "execution_count": 12,
     "metadata": {},
     "output_type": "execute_result"
    }
   ],
   "source": [
    "bx = datum['boxSize'][0][0]\n",
    "pos = bx*GA.convert_ID(targetID)\n",
    "pos.shape"
   ]
  },
  {
   "cell_type": "markdown",
   "metadata": {},
   "source": [
    "60 Hz * {5 s/trial * (1 trial + 12 trial/block * 8 block)}/Run * 3 Run = 87300"
   ]
  },
  {
   "cell_type": "code",
   "execution_count": 13,
   "metadata": {},
   "outputs": [
    {
     "data": {
      "text/plain": [
       "(2, 87300)"
      ]
     },
     "execution_count": 13,
     "metadata": {},
     "output_type": "execute_result"
    }
   ],
   "source": [
    "datum['allXY'].shape"
   ]
  },
  {
   "cell_type": "code",
   "execution_count": 14,
   "metadata": {
    "scrolled": true
   },
   "outputs": [
    {
     "data": {
      "text/plain": [
       "(2, 87300)"
      ]
     },
     "execution_count": 14,
     "metadata": {},
     "output_type": "execute_result"
    }
   ],
   "source": [
    "allXY = datum['allXY']\n",
    "allXY.shape"
   ]
  },
  {
   "cell_type": "code",
   "execution_count": 15,
   "metadata": {
    "scrolled": true
   },
   "outputs": [
    {
     "name": "stdout",
     "output_type": "stream",
     "text": [
      "345 345\n"
     ]
    }
   ],
   "source": [
    "xFrame, yFrame = np.array([datum['xFrame'].squeeze(), datum['yFrame'].squeeze()]).astype(int)\n",
    "print(xFrame, yFrame)"
   ]
  },
  {
   "cell_type": "markdown",
   "metadata": {},
   "source": [
    "Is it hit?"
   ]
  },
  {
   "cell_type": "code",
   "execution_count": 16,
   "metadata": {},
   "outputs": [],
   "source": [
    "## target position\n",
    "tmp = np.zeros(allXY.shape)\n",
    "for i in range(fpt*tpr*nrun):\n",
    "    t = np.floor(i/fpt).astype(int)\n",
    "    tmp[0][i], tmp[1][i] = pos[0][t], pos[1][t]"
   ]
  },
  {
   "cell_type": "code",
   "execution_count": 17,
   "metadata": {},
   "outputs": [
    {
     "data": {
      "text/plain": [
       "(87300,)"
      ]
     },
     "execution_count": 17,
     "metadata": {},
     "output_type": "execute_result"
    }
   ],
   "source": [
    "err = allXY - tmp\n",
    "hit = np.zeros(fpt*tpr*nrun)\n",
    "for i in range(fpt*tpr*nrun):\n",
    "    hit[i] = abs(err[0][i]) <= bx*.5 and abs(err[1][i]) <= bx*.5\n",
    "hit.shape"
   ]
  },
  {
   "cell_type": "markdown",
   "metadata": {},
   "source": [
    "---"
   ]
  },
  {
   "cell_type": "code",
   "execution_count": 8,
   "metadata": {},
   "outputs": [],
   "source": [
    "def calc_hit(file_behav, tpr, nrun):\n",
    "    datum = scipy.io.loadmat(file_behav)\n",
    "    \n",
    "    ## frame per trial\n",
    "    fpt = int(datum['nSampleTrial'][0][0])\n",
    "    ## second per trial\n",
    "    spt = int(fpt/60.)\n",
    "    ## a number of trials per run\n",
    "    # tpr = datum['nTrialperRun'][0][0]\n",
    "#     tpr = 97  # 12 trial/block * 8 block/run + 1 = 97 trial/run\n",
    "    ## target ID\n",
    "    tmp = datum['targetID'][0]\n",
    "    targetID = tmp[tmp!=0][:tpr*nrun]\n",
    "#     nrun = 3\n",
    "\n",
    "    bx = datum['boxSize'][0][0]\n",
    "    pos = bx*GA.convert_ID(targetID)\n",
    "    \n",
    "    allXY = datum['allXY']\n",
    "    \n",
    "    xFrame, yFrame = np.array([datum['xFrame'].squeeze(), datum['yFrame'].squeeze()]).astype(int)\n",
    "    \n",
    "    ## target position\n",
    "    tmp = np.zeros(allXY.shape)\n",
    "    for i in range(fpt*tpr*nrun):\n",
    "        t = np.floor(i/fpt).astype(int)\n",
    "        tmp[0][i], tmp[1][i] = pos[0][t], pos[1][t]\n",
    "        \n",
    "    err = allXY - tmp\n",
    "    hit = np.zeros(fpt*tpr*nrun)\n",
    "    for i in range(fpt*tpr*nrun):\n",
    "        hit[i] = abs(err[0][i]) <= bx*.5 and abs(err[1][i]) <= bx*.5\n",
    "        \n",
    "    return hit"
   ]
  },
  {
   "cell_type": "markdown",
   "metadata": {},
   "source": [
    "---\n",
    "Validation Check"
   ]
  },
  {
   "cell_type": "code",
   "execution_count": 6,
   "metadata": {},
   "outputs": [],
   "source": [
    "dir_work = '/home/sungbeenpark/Github/labs/GA'\n",
    "dir_data = join(dir_work, 'behav_data')"
   ]
  },
  {
   "cell_type": "code",
   "execution_count": 8,
   "metadata": {},
   "outputs": [],
   "source": [
    "tmp = {}\n",
    "list_behav = glob(join(dir_data, '*-fmri.mat'))\n",
    "for fname in list_behav:\n",
    "    subj = fname.split('/')[-1]\n",
    "    hit = calc_hit(fname, tpr=97, nrun=3)\n",
    "    tmp[subj] = hit.mean()\n",
    "list_behav = glob(join(dir_data, '*-refmri.mat'))\n",
    "for fname in list_behav:\n",
    "    subj = fname.split('/')[-1]\n",
    "    hit = calc_hit(fname, tpr=97, nrun=3)\n",
    "    tmp[subj] = hit.mean()"
   ]
  },
  {
   "cell_type": "code",
   "execution_count": 9,
   "metadata": {
    "scrolled": false
   },
   "outputs": [
    {
     "data": {
      "text/plain": [
       "{'GA07-fmri.mat': 0.27786941580756014,\n",
       " 'GA33-fmri.mat': 0.09865979381443299,\n",
       " 'GA01-fmri.mat': 0.3658762886597938,\n",
       " 'GA29-fmri.mat': 0.25882016036655214,\n",
       " 'GA44-fmri.mat': 0.23670103092783504,\n",
       " 'GA35-fmri.mat': 0.2714318442153494,\n",
       " 'GA28-fmri.mat': 0.38333333333333336,\n",
       " 'GA30-fmri.mat': 0.5107903780068729,\n",
       " 'GA05-fmri.mat': 0.3947079037800687,\n",
       " 'GA14-fmri.mat': 0.16170675830469644,\n",
       " 'GA08-fmri.mat': 0.4406872852233677,\n",
       " 'GA11-fmri.mat': 0.18878579610538374,\n",
       " 'GA26-fmri.mat': 0.2666323024054983,\n",
       " 'GA13-fmri.mat': 0.36508591065292095,\n",
       " 'GA02-fmri.mat': 0.44687285223367695,\n",
       " 'GA20-fmri.mat': 0.2831615120274914,\n",
       " 'GA23-fmri.mat': 0.4567812142038946,\n",
       " 'GA15-fmri.mat': 0.3280526918671249,\n",
       " 'GA18-fmri.mat': 0.46665521191294385,\n",
       " 'GA19-fmri.mat': 0.28607101947308133,\n",
       " 'GA38-fmri.mat': 0.2753150057273769,\n",
       " 'GA12-fmri.mat': 0.26347079037800686,\n",
       " 'GA21-fmri.mat': 0.1761282932416953,\n",
       " 'GA36-fmri.mat': 0.3206300114547537,\n",
       " 'GA27-fmri.mat': 0.4475715922107675,\n",
       " 'GA42-fmri.mat': 0.20628865979381444,\n",
       " 'GA31-fmri.mat': 0.4606185567010309,\n",
       " 'GA37-fmri.mat': 0.15172966781214203,\n",
       " 'GA32-fmri.mat': 0.41809851088201605,\n",
       " 'GA34-fmri.mat': 0.3528064146620848,\n",
       " 'GA27-refmri.mat': 0.7400687285223367,\n",
       " 'GA29-refmri.mat': 0.7334593356242841,\n",
       " 'GA07-refmri.mat': 0.6890836197021764,\n",
       " 'GA15-refmri.mat': 0.7473424971363116,\n",
       " 'GA01-refmri.mat': 0.7828293241695303,\n",
       " 'GA20-refmri.mat': 0.5499083619702176,\n",
       " 'GA33-refmri.mat': 0.7820618556701031,\n",
       " 'GA05-refmri.mat': 0.743298969072165,\n",
       " 'GA38-refmri.mat': 0.7491294387170676,\n",
       " 'GA26-refmri.mat': 0.7948339060710194,\n",
       " 'GA31-refmri.mat': 0.6808247422680412,\n",
       " 'GA23-refmri.mat': 0.6206872852233677,\n",
       " 'GA08-refmri.mat': 0.6537571592210768,\n",
       " 'GA28-refmri.mat': 0.6800916380297823,\n",
       " 'GA30-refmri.mat': 0.661901489117984,\n",
       " 'GA21-refmri.mat': 0.7149828178694158,\n",
       " 'GA44-refmri.mat': 0.6795189003436426,\n",
       " 'GA13-refmri.mat': 0.6955326460481099,\n",
       " 'GA35-refmri.mat': 0.6459793814432989,\n",
       " 'GA34-refmri.mat': 0.7540664375715922,\n",
       " 'GA36-refmri.mat': 0.7309049255441008,\n",
       " 'GA18-refmri.mat': 0.6870446735395189,\n",
       " 'GA12-refmri.mat': 0.6088430698739977,\n",
       " 'GA11-refmri.mat': 0.6590721649484536,\n",
       " 'GA19-refmri.mat': 0.6010538373424972,\n",
       " 'GA14-refmri.mat': 0.7083734249713631,\n",
       " 'GA37-refmri.mat': 0.6798167239404352,\n",
       " 'GA42-refmri.mat': 0.6189690721649485,\n",
       " 'GA32-refmri.mat': 0.5845589919816724,\n",
       " 'GA02-refmri.mat': 0.8064032073310424}"
      ]
     },
     "execution_count": 9,
     "metadata": {},
     "output_type": "execute_result"
    }
   ],
   "source": [
    "tmp"
   ]
  },
  {
   "cell_type": "code",
   "execution_count": 11,
   "metadata": {},
   "outputs": [
    {
     "data": {
      "text/plain": [
       "[0.4169530355097365,\n",
       " 0.3595303550973655,\n",
       " 0.34859106529209627,\n",
       " 0.4112142038946162,\n",
       " 0.2130698739977091,\n",
       " 0.47028636884306985,\n",
       " 0.34537227949599086,\n",
       " 0.330446735395189,\n",
       " 0.5466666666666666,\n",
       " 0.41928980526918674,\n",
       " 0.22038946162657508,\n",
       " 0.31498281786941584,\n",
       " 0.26674684994272624,\n",
       " 0.5388545246277204,\n",
       " 0.16390607101947308,\n",
       " 0.5282016036655212,\n",
       " 0.29249713631156926,\n",
       " 0.296758304696449,\n",
       " 0.47463917525773197,\n",
       " 0.15111111111111108,\n",
       " 0.22020618556701033,\n",
       " 0.16646048109965633,\n",
       " 0.6834020618556701,\n",
       " 0.4012600229095074,\n",
       " 0.37454753722794953,\n",
       " 0.4102749140893471,\n",
       " 0.5280870561282932,\n",
       " 0.4738144329896907,\n",
       " 0.412680412371134,\n",
       " 0.4428178694158076]"
      ]
     },
     "execution_count": 11,
     "metadata": {},
     "output_type": "execute_result"
    }
   ],
   "source": [
    "res = []\n",
    "for subj in GA.list_subj:\n",
    "    res.append(tmp['GA'+subj+'-refmri.mat']-tmp['GA'+subj+'-fmri.mat'])\n",
    "res"
   ]
  },
  {
   "cell_type": "code",
   "execution_count": 13,
   "metadata": {
    "scrolled": true
   },
   "outputs": [
    {
     "data": {
      "text/plain": [
       "array([0.417, 0.36 , 0.347, 0.413, 0.213, 0.475, 0.346, 0.329, 0.545,\n",
       "       0.419, 0.219, 0.318, 0.265, 0.539, 0.164, 0.526, 0.292, 0.297,\n",
       "       0.475, 0.151, 0.222, 0.166, 0.687, 0.402, 0.374, 0.412, 0.53 ,\n",
       "       0.474, 0.414, 0.443])"
      ]
     },
     "execution_count": 13,
     "metadata": {},
     "output_type": "execute_result"
    }
   ],
   "source": [
    "tmp = GA.load_1D(join(dir_work, 'scripts', 'RewardRate_improvement.txt'))\n",
    "tmp"
   ]
  },
  {
   "cell_type": "code",
   "execution_count": 16,
   "metadata": {},
   "outputs": [
    {
     "data": {
      "text/plain": [
       "array([-0.00047, -0.00055,  0.00192, -0.00151,  0.0002 , -0.00496,\n",
       "       -0.00017,  0.00107,  0.00147, -0.00004,  0.00103, -0.00263,\n",
       "        0.00198, -0.00016, -0.00018,  0.00215,  0.00026, -0.00038,\n",
       "       -0.00034,  0.00049, -0.00155,  0.00075, -0.00368, -0.00095,\n",
       "        0.00055, -0.0014 , -0.00181,  0.00021, -0.00085,  0.00031])"
      ]
     },
     "execution_count": 16,
     "metadata": {},
     "output_type": "execute_result"
    }
   ],
   "source": [
    "res - tmp"
   ]
  },
  {
   "cell_type": "markdown",
   "metadata": {},
   "source": [
    "---"
   ]
  },
  {
   "cell_type": "code",
   "execution_count": 5,
   "metadata": {},
   "outputs": [],
   "source": [
    "dir_work = '/home/sungbeenpark/Github/labs/GP'\n",
    "dir_data = join(dir_work, 'behav_data')"
   ]
  },
  {
   "cell_type": "code",
   "execution_count": 21,
   "metadata": {},
   "outputs": [
    {
     "data": {
      "text/plain": [
       "['GP01',\n",
       " 'GP02',\n",
       " 'GP03',\n",
       " 'GP04',\n",
       " 'GP05',\n",
       " 'GP06',\n",
       " 'GP07',\n",
       " 'GP08',\n",
       " 'GP09',\n",
       " 'GP10',\n",
       " 'GP11',\n",
       " 'GP12',\n",
       " 'GP13',\n",
       " 'GP14',\n",
       " 'GP15',\n",
       " 'GP16',\n",
       " 'GP17',\n",
       " 'GP18',\n",
       " 'GP19',\n",
       " 'GP20',\n",
       " 'GP21']"
      ]
     },
     "execution_count": 21,
     "metadata": {},
     "output_type": "execute_result"
    }
   ],
   "source": [
    "# list_subj = []\n",
    "# tmp = glob(join(dir_data, '*.mat'))\n",
    "# for s in tmp:\n",
    "#     list_subj.append(s.split('/')[-1].split('-')[-2])\n",
    "# list_subj = sorted(list(set(list_subj)))\n",
    "# list_subj"
   ]
  },
  {
   "cell_type": "code",
   "execution_count": 6,
   "metadata": {
    "scrolled": true
   },
   "outputs": [
    {
     "data": {
      "text/plain": [
       "['/home/sungbeenpark/Github/labs/GP/behav_data/GP18-fmri.mat',\n",
       " '/home/sungbeenpark/Github/labs/GP/behav_data/GP17-fmri.mat',\n",
       " '/home/sungbeenpark/Github/labs/GP/behav_data/GP10-fmri.mat',\n",
       " '/home/sungbeenpark/Github/labs/GP/behav_data/GP09-fmri.mat',\n",
       " '/home/sungbeenpark/Github/labs/GP/behav_data/GP08-fmri.mat',\n",
       " '/home/sungbeenpark/Github/labs/GP/behav_data/GP20-fmri.mat',\n",
       " '/home/sungbeenpark/Github/labs/GP/behav_data/GP11-fmri.mat']"
      ]
     },
     "execution_count": 6,
     "metadata": {},
     "output_type": "execute_result"
    }
   ],
   "source": [
    "list_behav = glob(join(dir_data, '*-fmri.mat'))\n",
    "list_behav"
   ]
  },
  {
   "cell_type": "code",
   "execution_count": 10,
   "metadata": {},
   "outputs": [
    {
     "name": "stdout",
     "output_type": "stream",
     "text": [
      "/home/sungbeenpark/Github/labs/GP/behav_data/GP18-fmri.mat\n",
      "/home/sungbeenpark/Github/labs/GP/behav_data/GP17-fmri.mat\n",
      "/home/sungbeenpark/Github/labs/GP/behav_data/GP10-fmri.mat\n"
     ]
    },
    {
     "ename": "MatReadError",
     "evalue": "Mat file appears to be empty",
     "output_type": "error",
     "traceback": [
      "\u001b[0;31m---------------------------------------------------------------------------\u001b[0m",
      "\u001b[0;31mMatReadError\u001b[0m                              Traceback (most recent call last)",
      "\u001b[0;32m/tmp/ipykernel_3901248/1480608344.py\u001b[0m in \u001b[0;36m<module>\u001b[0;34m\u001b[0m\n\u001b[1;32m      3\u001b[0m     \u001b[0msubj\u001b[0m \u001b[0;34m=\u001b[0m \u001b[0mfname\u001b[0m\u001b[0;34m.\u001b[0m\u001b[0msplit\u001b[0m\u001b[0;34m(\u001b[0m\u001b[0;34m'/'\u001b[0m\u001b[0;34m)\u001b[0m\u001b[0;34m[\u001b[0m\u001b[0;34m-\u001b[0m\u001b[0;36m1\u001b[0m\u001b[0;34m]\u001b[0m\u001b[0;34m\u001b[0m\u001b[0;34m\u001b[0m\u001b[0m\n\u001b[1;32m      4\u001b[0m     \u001b[0mprint\u001b[0m\u001b[0;34m(\u001b[0m\u001b[0mfname\u001b[0m\u001b[0;34m)\u001b[0m\u001b[0;34m\u001b[0m\u001b[0;34m\u001b[0m\u001b[0m\n\u001b[0;32m----> 5\u001b[0;31m     \u001b[0mhit\u001b[0m \u001b[0;34m=\u001b[0m \u001b[0mcalc_hit\u001b[0m\u001b[0;34m(\u001b[0m\u001b[0mfname\u001b[0m\u001b[0;34m,\u001b[0m \u001b[0mtpr\u001b[0m\u001b[0;34m=\u001b[0m\u001b[0;36m97\u001b[0m\u001b[0;34m,\u001b[0m \u001b[0mnrun\u001b[0m\u001b[0;34m=\u001b[0m\u001b[0;36m3\u001b[0m\u001b[0;34m)\u001b[0m\u001b[0;34m\u001b[0m\u001b[0;34m\u001b[0m\u001b[0m\n\u001b[0m\u001b[1;32m      6\u001b[0m     \u001b[0;32mfor\u001b[0m \u001b[0mblock\u001b[0m \u001b[0;32min\u001b[0m \u001b[0mrange\u001b[0m\u001b[0;34m(\u001b[0m\u001b[0;36m8\u001b[0m\u001b[0;34m*\u001b[0m\u001b[0;36m3\u001b[0m\u001b[0;34m)\u001b[0m\u001b[0;34m:\u001b[0m\u001b[0;34m\u001b[0m\u001b[0;34m\u001b[0m\u001b[0m\n\u001b[1;32m      7\u001b[0m         \u001b[0mrun\u001b[0m \u001b[0;34m=\u001b[0m \u001b[0mblock\u001b[0m \u001b[0;34m//\u001b[0m \u001b[0;36m8\u001b[0m\u001b[0;34m\u001b[0m\u001b[0;34m\u001b[0m\u001b[0m\n",
      "\u001b[0;32m/tmp/ipykernel_3901248/129530633.py\u001b[0m in \u001b[0;36mcalc_hit\u001b[0;34m(file_behav, tpr, nrun)\u001b[0m\n\u001b[1;32m      1\u001b[0m \u001b[0;32mdef\u001b[0m \u001b[0mcalc_hit\u001b[0m\u001b[0;34m(\u001b[0m\u001b[0mfile_behav\u001b[0m\u001b[0;34m,\u001b[0m \u001b[0mtpr\u001b[0m\u001b[0;34m,\u001b[0m \u001b[0mnrun\u001b[0m\u001b[0;34m)\u001b[0m\u001b[0;34m:\u001b[0m\u001b[0;34m\u001b[0m\u001b[0;34m\u001b[0m\u001b[0m\n\u001b[0;32m----> 2\u001b[0;31m     \u001b[0mdatum\u001b[0m \u001b[0;34m=\u001b[0m \u001b[0mscipy\u001b[0m\u001b[0;34m.\u001b[0m\u001b[0mio\u001b[0m\u001b[0;34m.\u001b[0m\u001b[0mloadmat\u001b[0m\u001b[0;34m(\u001b[0m\u001b[0mfile_behav\u001b[0m\u001b[0;34m)\u001b[0m\u001b[0;34m\u001b[0m\u001b[0;34m\u001b[0m\u001b[0m\n\u001b[0m\u001b[1;32m      3\u001b[0m \u001b[0;34m\u001b[0m\u001b[0m\n\u001b[1;32m      4\u001b[0m     \u001b[0;31m## frame per trial\u001b[0m\u001b[0;34m\u001b[0m\u001b[0;34m\u001b[0m\u001b[0;34m\u001b[0m\u001b[0m\n\u001b[1;32m      5\u001b[0m     \u001b[0mfpt\u001b[0m \u001b[0;34m=\u001b[0m \u001b[0mint\u001b[0m\u001b[0;34m(\u001b[0m\u001b[0mdatum\u001b[0m\u001b[0;34m[\u001b[0m\u001b[0;34m'nSampleTrial'\u001b[0m\u001b[0;34m]\u001b[0m\u001b[0;34m[\u001b[0m\u001b[0;36m0\u001b[0m\u001b[0;34m]\u001b[0m\u001b[0;34m[\u001b[0m\u001b[0;36m0\u001b[0m\u001b[0;34m]\u001b[0m\u001b[0;34m)\u001b[0m\u001b[0;34m\u001b[0m\u001b[0;34m\u001b[0m\u001b[0m\n",
      "\u001b[0;32m~/anaconda3/envs/GA/lib/python3.9/site-packages/scipy/io/matlab/mio.py\u001b[0m in \u001b[0;36mloadmat\u001b[0;34m(file_name, mdict, appendmat, **kwargs)\u001b[0m\n\u001b[1;32m    223\u001b[0m     \u001b[0mvariable_names\u001b[0m \u001b[0;34m=\u001b[0m \u001b[0mkwargs\u001b[0m\u001b[0;34m.\u001b[0m\u001b[0mpop\u001b[0m\u001b[0;34m(\u001b[0m\u001b[0;34m'variable_names'\u001b[0m\u001b[0;34m,\u001b[0m \u001b[0;32mNone\u001b[0m\u001b[0;34m)\u001b[0m\u001b[0;34m\u001b[0m\u001b[0;34m\u001b[0m\u001b[0m\n\u001b[1;32m    224\u001b[0m     \u001b[0;32mwith\u001b[0m \u001b[0m_open_file_context\u001b[0m\u001b[0;34m(\u001b[0m\u001b[0mfile_name\u001b[0m\u001b[0;34m,\u001b[0m \u001b[0mappendmat\u001b[0m\u001b[0;34m)\u001b[0m \u001b[0;32mas\u001b[0m \u001b[0mf\u001b[0m\u001b[0;34m:\u001b[0m\u001b[0;34m\u001b[0m\u001b[0;34m\u001b[0m\u001b[0m\n\u001b[0;32m--> 225\u001b[0;31m         \u001b[0mMR\u001b[0m\u001b[0;34m,\u001b[0m \u001b[0m_\u001b[0m \u001b[0;34m=\u001b[0m \u001b[0mmat_reader_factory\u001b[0m\u001b[0;34m(\u001b[0m\u001b[0mf\u001b[0m\u001b[0;34m,\u001b[0m \u001b[0;34m**\u001b[0m\u001b[0mkwargs\u001b[0m\u001b[0;34m)\u001b[0m\u001b[0;34m\u001b[0m\u001b[0;34m\u001b[0m\u001b[0m\n\u001b[0m\u001b[1;32m    226\u001b[0m         \u001b[0mmatfile_dict\u001b[0m \u001b[0;34m=\u001b[0m \u001b[0mMR\u001b[0m\u001b[0;34m.\u001b[0m\u001b[0mget_variables\u001b[0m\u001b[0;34m(\u001b[0m\u001b[0mvariable_names\u001b[0m\u001b[0;34m)\u001b[0m\u001b[0;34m\u001b[0m\u001b[0;34m\u001b[0m\u001b[0m\n\u001b[1;32m    227\u001b[0m \u001b[0;34m\u001b[0m\u001b[0m\n",
      "\u001b[0;32m~/anaconda3/envs/GA/lib/python3.9/site-packages/scipy/io/matlab/mio.py\u001b[0m in \u001b[0;36mmat_reader_factory\u001b[0;34m(file_name, appendmat, **kwargs)\u001b[0m\n\u001b[1;32m     72\u001b[0m     \"\"\"\n\u001b[1;32m     73\u001b[0m     \u001b[0mbyte_stream\u001b[0m\u001b[0;34m,\u001b[0m \u001b[0mfile_opened\u001b[0m \u001b[0;34m=\u001b[0m \u001b[0m_open_file\u001b[0m\u001b[0;34m(\u001b[0m\u001b[0mfile_name\u001b[0m\u001b[0;34m,\u001b[0m \u001b[0mappendmat\u001b[0m\u001b[0;34m)\u001b[0m\u001b[0;34m\u001b[0m\u001b[0;34m\u001b[0m\u001b[0m\n\u001b[0;32m---> 74\u001b[0;31m     \u001b[0mmjv\u001b[0m\u001b[0;34m,\u001b[0m \u001b[0mmnv\u001b[0m \u001b[0;34m=\u001b[0m \u001b[0mget_matfile_version\u001b[0m\u001b[0;34m(\u001b[0m\u001b[0mbyte_stream\u001b[0m\u001b[0;34m)\u001b[0m\u001b[0;34m\u001b[0m\u001b[0;34m\u001b[0m\u001b[0m\n\u001b[0m\u001b[1;32m     75\u001b[0m     \u001b[0;32mif\u001b[0m \u001b[0mmjv\u001b[0m \u001b[0;34m==\u001b[0m \u001b[0;36m0\u001b[0m\u001b[0;34m:\u001b[0m\u001b[0;34m\u001b[0m\u001b[0;34m\u001b[0m\u001b[0m\n\u001b[1;32m     76\u001b[0m         \u001b[0;32mreturn\u001b[0m \u001b[0mMatFile4Reader\u001b[0m\u001b[0;34m(\u001b[0m\u001b[0mbyte_stream\u001b[0m\u001b[0;34m,\u001b[0m \u001b[0;34m**\u001b[0m\u001b[0mkwargs\u001b[0m\u001b[0;34m)\u001b[0m\u001b[0;34m,\u001b[0m \u001b[0mfile_opened\u001b[0m\u001b[0;34m\u001b[0m\u001b[0;34m\u001b[0m\u001b[0m\n",
      "\u001b[0;32m~/anaconda3/envs/GA/lib/python3.9/site-packages/scipy/io/matlab/miobase.py\u001b[0m in \u001b[0;36mget_matfile_version\u001b[0;34m(fileobj)\u001b[0m\n\u001b[1;32m    212\u001b[0m     \u001b[0mmopt_bytes\u001b[0m \u001b[0;34m=\u001b[0m \u001b[0mfileobj\u001b[0m\u001b[0;34m.\u001b[0m\u001b[0mread\u001b[0m\u001b[0;34m(\u001b[0m\u001b[0;36m4\u001b[0m\u001b[0;34m)\u001b[0m\u001b[0;34m\u001b[0m\u001b[0;34m\u001b[0m\u001b[0m\n\u001b[1;32m    213\u001b[0m     \u001b[0;32mif\u001b[0m \u001b[0mlen\u001b[0m\u001b[0;34m(\u001b[0m\u001b[0mmopt_bytes\u001b[0m\u001b[0;34m)\u001b[0m \u001b[0;34m==\u001b[0m \u001b[0;36m0\u001b[0m\u001b[0;34m:\u001b[0m\u001b[0;34m\u001b[0m\u001b[0;34m\u001b[0m\u001b[0m\n\u001b[0;32m--> 214\u001b[0;31m         \u001b[0;32mraise\u001b[0m \u001b[0mMatReadError\u001b[0m\u001b[0;34m(\u001b[0m\u001b[0;34m\"Mat file appears to be empty\"\u001b[0m\u001b[0;34m)\u001b[0m\u001b[0;34m\u001b[0m\u001b[0;34m\u001b[0m\u001b[0m\n\u001b[0m\u001b[1;32m    215\u001b[0m     \u001b[0mmopt_ints\u001b[0m \u001b[0;34m=\u001b[0m \u001b[0mnp\u001b[0m\u001b[0;34m.\u001b[0m\u001b[0mndarray\u001b[0m\u001b[0;34m(\u001b[0m\u001b[0mshape\u001b[0m\u001b[0;34m=\u001b[0m\u001b[0;34m(\u001b[0m\u001b[0;36m4\u001b[0m\u001b[0;34m,\u001b[0m\u001b[0;34m)\u001b[0m\u001b[0;34m,\u001b[0m \u001b[0mdtype\u001b[0m\u001b[0;34m=\u001b[0m\u001b[0mnp\u001b[0m\u001b[0;34m.\u001b[0m\u001b[0muint8\u001b[0m\u001b[0;34m,\u001b[0m \u001b[0mbuffer\u001b[0m\u001b[0;34m=\u001b[0m\u001b[0mmopt_bytes\u001b[0m\u001b[0;34m)\u001b[0m\u001b[0;34m\u001b[0m\u001b[0;34m\u001b[0m\u001b[0m\n\u001b[1;32m    216\u001b[0m     \u001b[0;32mif\u001b[0m \u001b[0;36m0\u001b[0m \u001b[0;32min\u001b[0m \u001b[0mmopt_ints\u001b[0m\u001b[0;34m:\u001b[0m\u001b[0;34m\u001b[0m\u001b[0;34m\u001b[0m\u001b[0m\n",
      "\u001b[0;31mMatReadError\u001b[0m: Mat file appears to be empty"
     ]
    }
   ],
   "source": [
    "tmp = {}\n",
    "for fname in list_behav:\n",
    "    subj = fname.split('/')[-1]\n",
    "    print(fname)\n",
    "    hit = calc_hit(fname, tpr=97, nrun=3)\n",
    "    for block in range(8*3):\n",
    "        run = block // 8\n",
    "        tmp[subj, block] = hit[ 300*(12*block + run) : 300*(12*(block+1) + run) ].mean()"
   ]
  },
  {
   "cell_type": "code",
   "execution_count": 11,
   "metadata": {},
   "outputs": [
    {
     "data": {
      "text/plain": [
       "{('GP18-fmri.mat', 0): 0.0022222222222222222,\n",
       " ('GP18-fmri.mat', 1): 0.12111111111111111,\n",
       " ('GP18-fmri.mat', 2): 0.06472222222222222,\n",
       " ('GP18-fmri.mat', 3): 0.22972222222222222,\n",
       " ('GP18-fmri.mat', 4): 0.3363888888888889,\n",
       " ('GP18-fmri.mat', 5): 0.1963888888888889,\n",
       " ('GP18-fmri.mat', 6): 0.23833333333333334,\n",
       " ('GP18-fmri.mat', 7): 0.1802777777777778,\n",
       " ('GP18-fmri.mat', 8): 0.2822222222222222,\n",
       " ('GP18-fmri.mat', 9): 0.18944444444444444,\n",
       " ('GP18-fmri.mat', 10): 0.16055555555555556,\n",
       " ('GP18-fmri.mat', 11): 0.1663888888888889,\n",
       " ('GP18-fmri.mat', 12): 0.14944444444444444,\n",
       " ('GP18-fmri.mat', 13): 0.2608333333333333,\n",
       " ('GP18-fmri.mat', 14): 0.15666666666666668,\n",
       " ('GP18-fmri.mat', 15): 0.14555555555555555,\n",
       " ('GP18-fmri.mat', 16): 0.295,\n",
       " ('GP18-fmri.mat', 17): 0.21166666666666667,\n",
       " ('GP18-fmri.mat', 18): 0.17527777777777778,\n",
       " ('GP18-fmri.mat', 19): 0.155,\n",
       " ('GP18-fmri.mat', 20): 0.12166666666666667,\n",
       " ('GP18-fmri.mat', 21): 0.034444444444444444,\n",
       " ('GP18-fmri.mat', 22): 0.021666666666666667,\n",
       " ('GP18-fmri.mat', 23): 0.15555555555555556,\n",
       " ('GP17-fmri.mat', 0): 0.005555555555555556,\n",
       " ('GP17-fmri.mat', 1): 0.06638888888888889,\n",
       " ('GP17-fmri.mat', 2): 0.13833333333333334,\n",
       " ('GP17-fmri.mat', 3): 0.2061111111111111,\n",
       " ('GP17-fmri.mat', 4): 0.24638888888888888,\n",
       " ('GP17-fmri.mat', 5): 0.42444444444444446,\n",
       " ('GP17-fmri.mat', 6): 0.4625,\n",
       " ('GP17-fmri.mat', 7): 0.41944444444444445,\n",
       " ('GP17-fmri.mat', 8): 0.48277777777777775,\n",
       " ('GP17-fmri.mat', 9): 0.4875,\n",
       " ('GP17-fmri.mat', 10): 0.5322222222222223,\n",
       " ('GP17-fmri.mat', 11): 0.44416666666666665,\n",
       " ('GP17-fmri.mat', 12): 0.35555555555555557,\n",
       " ('GP17-fmri.mat', 13): 0.5463888888888889,\n",
       " ('GP17-fmri.mat', 14): 0.48944444444444446,\n",
       " ('GP17-fmri.mat', 15): 0.3877777777777778,\n",
       " ('GP17-fmri.mat', 16): 0.5347222222222222,\n",
       " ('GP17-fmri.mat', 17): 0.5083333333333333,\n",
       " ('GP17-fmri.mat', 18): 0.49777777777777776,\n",
       " ('GP17-fmri.mat', 19): 0.4311111111111111,\n",
       " ('GP17-fmri.mat', 20): 0.48388888888888887,\n",
       " ('GP17-fmri.mat', 21): 0.3258333333333333,\n",
       " ('GP17-fmri.mat', 22): 0.3308333333333333,\n",
       " ('GP17-fmri.mat', 23): 0.4008333333333333}"
      ]
     },
     "execution_count": 11,
     "metadata": {},
     "output_type": "execute_result"
    }
   ],
   "source": [
    "tmp"
   ]
  },
  {
   "cell_type": "code",
   "execution_count": null,
   "metadata": {},
   "outputs": [],
   "source": []
  }
 ],
 "metadata": {
  "kernelspec": {
   "display_name": "GA",
   "language": "python",
   "name": "ga"
  },
  "language_info": {
   "codemirror_mode": {
    "name": "ipython",
    "version": 3
   },
   "file_extension": ".py",
   "mimetype": "text/x-python",
   "name": "python",
   "nbconvert_exporter": "python",
   "pygments_lexer": "ipython3",
   "version": "3.9.6"
  }
 },
 "nbformat": 4,
 "nbformat_minor": 2
}
