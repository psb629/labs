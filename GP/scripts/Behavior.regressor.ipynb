{
 "cells": [
  {
   "cell_type": "code",
   "execution_count": 1,
   "id": "dbc6dcf3",
   "metadata": {},
   "outputs": [],
   "source": [
    "import numpy as np\n",
    "import pandas as pd\n",
    "\n",
    "from os.path import join, exists\n",
    "from os import makedirs\n",
    "from glob import glob\n",
    "import re\n",
    "\n",
    "from tqdm import tqdm\n",
    "\n",
    "import scipy.io\n",
    "\n",
    "import matplotlib.pyplot as plt\n",
    "import seaborn as sns\n",
    "\n",
    "from matplotlib import patches\n",
    "from matplotlib import animation, rc"
   ]
  },
  {
   "cell_type": "code",
   "execution_count": 2,
   "id": "3531177d",
   "metadata": {},
   "outputs": [],
   "source": [
    "dir_behav = '/mnt/ext5/GP/behav_data'"
   ]
  },
  {
   "cell_type": "code",
   "execution_count": 3,
   "id": "0333c009",
   "metadata": {},
   "outputs": [
    {
     "name": "stdout",
     "output_type": "stream",
     "text": [
      "0.0\n"
     ]
    }
   ],
   "source": [
    "dir_reg = join(dir_behav, 'regressors/AM/0s_shifted')\n",
    "makedirs(dir_reg, exist_ok=True)\n",
    "\n",
    "shift = float(*re.findall(r'\\d+\\.\\d+', dir_reg.split('/')[-1]))\n",
    "print(shift)"
   ]
  },
  {
   "cell_type": "code",
   "execution_count": 9,
   "id": "e47c51e4",
   "metadata": {},
   "outputs": [],
   "source": [
    "dir_record = join(dir_behav, 'records')\n",
    "makedirs(dir_record, exist_ok=True)"
   ]
  },
  {
   "cell_type": "code",
   "execution_count": 4,
   "id": "dee5b750",
   "metadata": {},
   "outputs": [],
   "source": [
    "list_subj = [\n",
    "    '09', '10', '18', '21', '22'\n",
    "    , '24', '27', '34', '35', '36'\n",
    "    , '38', '42', '08', '11', '17'\n",
    "    , '19', '20', '26', '32', '33'\n",
    "    , '37', '39', '40', '41', '43'\n",
    "    , '44', '45', '46', '47', '48'\n",
    "    , '49', '50', '51', '53', '54'\n",
    "    , '55', '56', '57', '58', '59'\n",
    "    , '61', '62'\n",
    "]"
   ]
  },
  {
   "cell_type": "code",
   "execution_count": 5,
   "id": "4f1b6deb",
   "metadata": {},
   "outputs": [],
   "source": [
    "def convert_ID(ID):\n",
    "    ##################   ##################\n",
    "    #  1  2  3  4  5 #   #        2       #\n",
    "    #  6  7  8  9 10 #   #        1       #\n",
    "    # 11 12 13 14 15 # = # -2 -1  0  1  2 #\n",
    "    # 16 17 18 19 20 #   #       -1       #\n",
    "    # 21 22 23 24 25 #   #       -2       #\n",
    "    ##################   ##################\n",
    "    x = np.kron(np.ones(5),np.arange(-2,3)).astype(int)\n",
    "    y = np.kron(np.arange(2,-3,-1),np.ones(5)).astype(int)\n",
    "    pos = np.array((x[ID-1],y[ID-1]))\n",
    "    return pos"
   ]
  },
  {
   "cell_type": "code",
   "execution_count": 6,
   "id": "98d14cd9",
   "metadata": {},
   "outputs": [],
   "source": [
    "def func_AMregressor(datum):\n",
    "    sec = 5\n",
    "    nS = int(datum['nSampleTrial'][0][0]) # 5 s * 60 Hz = 300 samples\n",
    "    assert sec*60==nS\n",
    "\n",
    "    ntrial = 12\n",
    "    nblock = 8\n",
    "#     tpr = datum['nTrialperRun'][0][0]     # the number of trials per run = 1 trial+ 12 trial/block * 8 blocks\n",
    "    tpr = 97\n",
    "    assert 1+ntrial*nblock==tpr\n",
    "\n",
    "    onsettime = datum['LearnTrialStartTime'][0]\n",
    "    idx_editpoint = [i+1 for i,t in enumerate(onsettime[:-2]) if (onsettime[i]>onsettime[i+1])]\n",
    "    assert (np.diff(idx_editpoint)==tpr).all() # Are you sure the fact that 145 trials per run?\n",
    "\n",
    "#     nrun = int(datum['nRun'][0][0])       # the total number of runs = 6 runs\n",
    "    nrun = 3\n",
    "    ## target ID\n",
    "    tmp = datum['targetID'][0]\n",
    "    targetID = tmp[tmp!=0][:tpr*nrun]    # targetID.shape = 291 trials = 97 trial/run * 3 runs\n",
    "\n",
    "    ## onset times\n",
    "    tmp = np.zeros((nrun, tpr), dtype=float)\n",
    "    for run in range(nrun):\n",
    "        idx = idx_editpoint[run]\n",
    "        tmp[run,:] = onsettime[idx:idx+tpr]*0.001\n",
    "    onsettime=tmp\n",
    "\n",
    "    ## counting how many times did they hit the target\n",
    "    hit_or_not = np.zeros((tpr*nrun, nS), dtype=bool) # hit_or_not.shape = (# of trials/run, # if frames/trial)\n",
    "    for t, ID in enumerate(targetID):\n",
    "        pos = datum['boxSize']*convert_ID(ID) # r_target = [x_target, y_target]\n",
    "        ## allXY.shape = (2, 60 Hz * 4 s/trial * 145 trials/run * 6 runs = 208800 frames)\n",
    "        xy = datum['allXY'][:,nS*t:nS*(t+1)] # r_cursor = [x_cursor, y_cursor]\n",
    "        ## err.shape = (2, nS)\n",
    "        err = xy - np.ones((2,nS))*pos.T # dr = r_cursor - r_target\n",
    "        ## is the cursor in the target box?\n",
    "        hit_or_not[t,:] = (abs(err[0,:]) <= datum['boxSize']*0.5) & (abs(err[1,:]) <= datum['boxSize']*0.5)\n",
    "\n",
    "    cnt_hit = hit_or_not.reshape(nrun, tpr, sec, 60).sum(axis=(2,3))\n",
    "\n",
    "    return onsettime, cnt_hit"
   ]
  },
  {
   "cell_type": "code",
   "execution_count": 7,
   "id": "f1295e80",
   "metadata": {},
   "outputs": [
    {
     "name": "stderr",
     "output_type": "stream",
     "text": [
      "100%|██████████| 42/42 [00:17<00:00,  2.36it/s]\n"
     ]
    }
   ],
   "source": [
    "# rew = {}\n",
    "for nn in tqdm(list_subj):\n",
    "# for nn in ['03']:\n",
    "    subj = 'GP'+nn\n",
    "    if exists(join(dir_reg, '%s_reward.txt'%subj)):\n",
    "        continue\n",
    "    datum = scipy.io.loadmat(join(dir_behav, '%s-fmri.mat'%subj))\n",
    "\n",
    "    nrun=3\n",
    "    sec=5\n",
    "\n",
    "    onsettime, cnt_hit = func_AMregressor(datum)\n",
    "    reward = cnt_hit/(sec*60)\n",
    "\n",
    "    AM2 = [[],[],[]]\n",
    "    for run in range(nrun):\n",
    "#         ## cut off the first trial\n",
    "#         AM2[run] = ['%.1f*%.3f'%(o,r) for o,r in zip(onsettime[run][1:], reward[run][1:])]\n",
    "        ## 4s shift, After every trial, a reward was received in full.\n",
    "        AM2[run] = ['%.1f*%.3f'%(o,r) for o,r in zip(onsettime[run]+shift, reward[run])]\n",
    "\n",
    "    np.savetxt(\n",
    "        join(dir_reg, '%s_reward.txt'%subj)\n",
    "        , X=AM2, fmt='%s', delimiter=' ', newline='\\n'\n",
    "    )"
   ]
  },
  {
   "cell_type": "code",
   "execution_count": 14,
   "id": "90701ef0",
   "metadata": {
    "scrolled": true
   },
   "outputs": [
    {
     "data": {
      "text/plain": [
       "array([  2.   ,   6.995,  11.995,  16.994,  21.994,  26.994,  31.993,\n",
       "        36.993,  41.993,  46.992,  51.992,  56.992,  61.991,  66.991,\n",
       "        71.991,  76.99 ,  81.99 ,  86.99 ,  91.99 ,  96.992, 101.99 ,\n",
       "       106.989, 111.989, 116.988, 121.988, 126.988, 131.991, 136.987,\n",
       "       141.989, 146.986, 151.986, 156.985, 161.986, 166.989, 171.988,\n",
       "       176.992, 181.988, 186.987, 191.985, 196.988, 201.982, 206.983,\n",
       "       211.983, 216.991, 221.983, 226.981, 231.988, 236.987, 241.987,\n",
       "       246.979, 251.979, 256.979, 261.978, 266.978, 271.978, 276.977,\n",
       "       281.978, 286.977, 291.976, 296.976, 301.976, 306.977, 311.975,\n",
       "       316.975, 321.975, 326.974, 331.974, 336.974, 341.974, 346.973,\n",
       "       351.973, 356.972, 361.976, 366.972, 371.971, 376.971, 381.971,\n",
       "       386.97 , 391.97 , 396.97 , 401.969, 406.974, 411.973, 416.969,\n",
       "       421.973, 426.974, 431.967, 436.968, 441.967, 446.973, 451.967,\n",
       "       456.967, 461.973, 466.972, 471.972, 476.966, 481.971])"
      ]
     },
     "execution_count": 14,
     "metadata": {},
     "output_type": "execute_result"
    }
   ],
   "source": [
    "onsettime[run]+shift"
   ]
  },
  {
   "cell_type": "code",
   "execution_count": 15,
   "id": "178cf38c",
   "metadata": {},
   "outputs": [
    {
     "data": {
      "text/plain": [
       "array([  4.5  ,   9.495,  14.495,  19.494,  24.494,  29.494,  34.493,\n",
       "        39.493,  44.493,  49.492,  54.492,  59.492,  64.491,  69.491,\n",
       "        74.491,  79.49 ,  84.49 ,  89.49 ,  94.49 ,  99.492, 104.49 ,\n",
       "       109.489, 114.489, 119.488, 124.488, 129.488, 134.491, 139.487,\n",
       "       144.489, 149.486, 154.486, 159.485, 164.486, 169.489, 174.488,\n",
       "       179.492, 184.488, 189.487, 194.485, 199.488, 204.482, 209.483,\n",
       "       214.483, 219.491, 224.483, 229.481, 234.488, 239.487, 244.487,\n",
       "       249.479, 254.479, 259.479, 264.478, 269.478, 274.478, 279.477,\n",
       "       284.478, 289.477, 294.476, 299.476, 304.476, 309.477, 314.475,\n",
       "       319.475, 324.475, 329.474, 334.474, 339.474, 344.474, 349.473,\n",
       "       354.473, 359.472, 364.476, 369.472, 374.471, 379.471, 384.471,\n",
       "       389.47 , 394.47 , 399.47 , 404.469, 409.474, 414.473, 419.469,\n",
       "       424.473, 429.474, 434.467, 439.468, 444.467, 449.473, 454.467,\n",
       "       459.467, 464.473, 469.472, 474.472, 479.466, 484.471])"
      ]
     },
     "execution_count": 15,
     "metadata": {},
     "output_type": "execute_result"
    }
   ],
   "source": [
    "onsettime[run]+shift"
   ]
  },
  {
   "cell_type": "code",
   "execution_count": null,
   "id": "2fc56b85",
   "metadata": {},
   "outputs": [],
   "source": []
  }
 ],
 "metadata": {
  "kernelspec": {
   "display_name": "GA",
   "language": "python",
   "name": "ga"
  },
  "language_info": {
   "codemirror_mode": {
    "name": "ipython",
    "version": 3
   },
   "file_extension": ".py",
   "mimetype": "text/x-python",
   "name": "python",
   "nbconvert_exporter": "python",
   "pygments_lexer": "ipython3",
   "version": "3.9.6"
  }
 },
 "nbformat": 4,
 "nbformat_minor": 5
}
