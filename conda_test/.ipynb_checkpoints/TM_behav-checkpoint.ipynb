{
 "cells": [
  {
   "cell_type": "code",
   "execution_count": 1,
   "metadata": {
    "scrolled": true
   },
   "outputs": [],
   "source": [
    "from scipy import special\n",
    "from scipy import optimize\n",
    "import numpy as np\n",
    "import numpy as np\n",
    "import pandas as pd\n",
    "import matplotlib.pyplot as plt"
   ]
  },
  {
   "cell_type": "code",
   "execution_count": 2,
   "metadata": {},
   "outputs": [],
   "source": [
    "def switch_freq(subj):\n",
    "    i = subj[2]\n",
    "    switcher = {\n",
    "        'L':range(10,20+1,1),\n",
    "        'H':range(25,35+1,1)\n",
    "    }\n",
    "    return switcher.get(i,\"Invalid day of week\")"
   ]
  },
  {
   "cell_type": "code",
   "execution_count": 3,
   "metadata": {},
   "outputs": [],
   "source": [
    "MATLAB_drive = ''\n",
    "behav_dir = MATLAB_drive + '/TM experiment/TM_behavior/behav_data/'\n",
    "subj = 'TML01_PILOT'"
   ]
  },
  {
   "cell_type": "code",
   "execution_count": 4,
   "metadata": {},
   "outputs": [],
   "source": [
    "freq_range = switch_freq(subj)\n",
    "freq_c = freq_range[5]"
   ]
  },
  {
   "cell_type": "code",
   "execution_count": 5,
   "metadata": {},
   "outputs": [],
   "source": [
    "def calc_freq_class(freq_range, freq):\n",
    "    #freq_range = range(10,20+1,1)\n",
    "    freqs = [x for x in freq_range]\n",
    "    f_mid = int((freqs[0]+freqs[-1])*0.5)\n",
    "    return int(freq - f_mid)"
   ]
  },
  {
   "cell_type": "markdown",
   "metadata": {},
   "source": [
    "## Psychometric Curve Fitting"
   ]
  },
  {
   "cell_type": "code",
   "execution_count": 8,
   "metadata": {},
   "outputs": [],
   "source": [
    "def get_dataframe_DIS(subj):\n",
    "    subj_behav_datum = behav_dir + subj + '/%s_Dis.dat' %subj\n",
    "    df = pd.read_csv(subj_behav_datum, sep='\\t', header=None)\n",
    "    df.columns=['trial', 'Freq.1', 'ISI1', 'Freq.2', 'ISI2', 'decision', 'correctness', 'RT', 'ISI3']\n",
    "    df['Freq.1.class'] = [np.int64(np.sign(f-freq_c)) for f in df['Freq.1']]\n",
    "    df['Freq.2.class'] = [np.int64(np.sign(f-freq_c)) for f in df['Freq.2']]\n",
    "    df['Freq.other.index'] = [1 if a != 0 else 2 for a in df['Freq.1.class']]\n",
    "    df['Freq.other.class'] = [a+b for a, b in zip(df['Freq.1.class'], df['Freq.2.class'])]\n",
    "    df['answer.index'] = [1 if a>b else 2 for a, b in zip(df['Freq.1'], df['Freq.2'])]\n",
    "    df['decision.index'] = [1 if x == 'before' else (2 if x=='after' else 'NaN') for i, x in enumerate(df['decision'])]\n",
    "    df['Freq.other_decision.class'] = ['NaN' if b=='NaN' else (1 if a==b else -1) for a,b in zip(df['Freq.other.index'],df['decision.index'])]\n",
    "\n",
    "    df['Freq.1.rank'] = [calc_freq_class(freq_range,f) for f in df['Freq.1']]\n",
    "    df['Freq.2.rank'] = [calc_freq_class(freq_range,f) for f in df['Freq.2']]\n",
    "    df['Freq.other.rank'] = [a+b for a, b in zip(df['Freq.1.rank'], df['Freq.2.rank'])]\n",
    "    df['F1<F2.class'] = [np.sign(b-a) for a, b in zip(df['Freq.1'], df['Freq.2'])]\n",
    "    df['F1<F2.rank'] = [b-a for a, b in zip(df['Freq.1'], df['Freq.2'])]\n",
    "\n",
    "    return df\n",
    "\n",
    "def scatter_x_y(subj):\n",
    "    df = get_dataframe_DIS(subj)\n",
    "    da = df[['answer.index','decision.index','Freq.other.rank']]\n",
    "    \n",
    "    x = range(-5,6)\n",
    "\n",
    "    db = pd.DataFrame(index = ['prob'], columns = range(-5,6))\n",
    "    for rank in x:\n",
    "        temp = (da['decision.index'] != 'NaN')&(da['Freq.other.rank'] == rank)&(da['answer.index'] == da['decision.index'])\n",
    "        n = len(da[temp])\n",
    "        db[rank] = n * np.sign(rank)\n",
    "    db = db/20 * 0.5 + 0.5\n",
    "    prob = np.array(db).reshape(len(x))\n",
    "    return x, prob\n",
    "\n",
    "def test_func(x, s):\n",
    "    return 0.5*(1+special.erf(x/(np.sqrt(2)*s)))\n",
    "def test_func(x, a,b,r,k):\n",
    "    n = 15\n",
    "    return 0.5*(1+special.erf( k/(a*k**r)**(0.5) * (x**b-n**b)/np.sqrt(x**(b*r)+n**(b*r)) ))"
   ]
  },
  {
   "cell_type": "code",
   "execution_count": 13,
   "metadata": {
    "scrolled": false
   },
   "outputs": [
    {
     "data": {
      "image/png": "[encoded data removed]",
      "text/plain": [
       "<Figure size 432x288 with 1 Axes>"
      ]
     },
     "metadata": {
      "needs_background": "light"
     },
     "output_type": "display_data"
    }
   ],
   "source": [
    "t, prob = scatter_x_y(subj)\n",
    "params, params_covariance = optimize.curve_fit(test_func, t, prob, p0=[0.1,0.1,0.1,0.1], maxfev=1000)\n",
    "#params, params_covariance = optimize.curve_fit(test_func, t, prob, maxfev=1000)\n",
    "JND=special.erfinv(0.5)*(np.sqrt(2)*params[0]); # JND for 75%\n",
    "\n",
    "plt.scatter(x=t,y=prob)\n",
    "plt.plot(t, test_func(t, params[0]), label='\\u03C3=%.3fHz\\nJND=%.3fHz'%(params[0],JND))\n",
    "plt.legend(loc='best')\n",
    "plt.title(subj)\n",
    "plt.grid()\n",
    "plt.savefig(fname=subj+'_curve.png',dpi=300)"
   ]
  },
  {
   "cell_type": "markdown",
   "metadata": {},
   "source": [
    "## Hidden Target Search Task"
   ]
  },
  {
   "cell_type": "code",
   "execution_count": null,
   "metadata": {},
   "outputs": [],
   "source": []
  }
 ],
 "metadata": {
  "kernelspec": {
   "display_name": "Python 3",
   "language": "python",
   "name": "python3"
  },
  "language_info": {
   "codemirror_mode": {
    "name": "ipython",
    "version": 3
   },
   "file_extension": ".py",
   "mimetype": "text/x-python",
   "name": "python",
   "nbconvert_exporter": "python",
   "pygments_lexer": "ipython3",
   "version": "3.8.2"
  }
 },
 "nbformat": 4,
 "nbformat_minor": 4
}
