{
 "cells": [
  {
   "cell_type": "code",
   "execution_count": 1,
   "metadata": {},
   "outputs": [
    {
     "name": "stderr",
     "output_type": "stream",
     "text": [
      "E:\\Program Files\\Anaconda3\\envs\\test\\lib\\site-packages\\sklearn\\utils\\deprecation.py:144: FutureWarning: The sklearn.linear_model.base module is  deprecated in version 0.22 and will be removed in version 0.24. The corresponding classes / functions should instead be imported from sklearn.linear_model. Anything that cannot be imported from sklearn.linear_model is now part of the private API.\n",
      "  warnings.warn(message, FutureWarning)\n"
     ]
    }
   ],
   "source": [
    "import nilearn.image, nilearn.decoding\n",
    "\n",
    "import numpy as np\n",
    "import pandas as pd\n",
    "\n",
    "from sklearn.svm import LinearSVR\n",
    "from sklearn.model_selection import GroupKFold"
   ]
  },
  {
   "cell_type": "code",
   "execution_count": 2,
   "metadata": {},
   "outputs": [],
   "source": [
    "#!pushd \\\\10.201.185.39\\clmnlab"
   ]
  },
  {
   "cell_type": "code",
   "execution_count": 3,
   "metadata": {},
   "outputs": [],
   "source": [
    "#################################################################################\n",
    "#behav_dir = '/clmnlab/TM/behav_data/'\n",
    "#stats_dir = '/clmnlab/TM/fMRI_data/stats/Reg7_MVPA3_IM_COY/'\n",
    "#preproc_dir = '/clmnlab/TM/fMRI_data/preproc_data/'\n",
    "#result_dir = '/clmnlab/TM/fMRI_data/MVPA/sungbeen/'\n",
    "behav_dir = 'Z:/TM/behav_data/'\n",
    "stats_dir = 'Z:/TM/fMRI_data/stats/Reg7_MVPA3_IM_COY/'\n",
    "preproc_dir = 'Z:/TM/fMRI_data/preproc_data/'\n",
    "result_dir = 'Z:/TM/fMRI_data/MVPA/sungbeen/'"
   ]
  },
  {
   "cell_type": "code",
   "execution_count": 4,
   "metadata": {},
   "outputs": [],
   "source": [
    "def get_label_index(subj, run):\n",
    "    ## labeling betas in a group of freq_other ##\n",
    "    # number of betas in each trial\n",
    "    n_betas = 3 # freq.1, freq.2, yellow\n",
    "    # target betas whose number startsjj from 1. i.e.) beta_1, beta_2, ...,\n",
    "    target_betas = [1,2]\n",
    "\n",
    "    df = pd.read_csv(behav_dir + subj + '/%s.r%02d.Dis_classes_for_svr.dat' % (subj, run), sep='\\t', dtype='int64')\n",
    "\n",
    "    index = [i*n_betas - 1 + target_betas[0] if x == 1 else i*n_betas - 1 + target_betas[1] for i, x in enumerate(df['Freq.other.index'])]\n",
    "    \n",
    "    return index"
   ]
  },
  {
   "cell_type": "code",
   "execution_count": 5,
   "metadata": {},
   "outputs": [],
   "source": [
    "def load_beta_image(subj, run):\n",
    "    ## load nilearn image ##\n",
    "    ## nii.gz 추천. HEAD/BRIK 은 load 안 되는 것 같음. ##\n",
    "\n",
    "    img_temp = nilearn.image.load_img(stats_dir + subj + '/r0%d.LSSout.nii.gz' % (run))\n",
    "\n",
    "    index = get_label_index(subj, run)    \n",
    "    img = nilearn.image.index_img(img_temp, index)\n",
    "\n",
    "    return img"
   ]
  },
  {
   "cell_type": "code",
   "execution_count": 6,
   "metadata": {},
   "outputs": [],
   "source": [
    "def load_target(subj, run):\n",
    "    # load behavior data and make up them\n",
    "\n",
    "    df = pd.read_csv(behav_dir + subj + '/%s.r%02d.Dis_classes_for_svr.dat' % (subj, run), sep='\\t', dtype='int64')\n",
    "    temp = list(df['Freq.other_updown.class'])\n",
    "    \n",
    "    assert sum(temp)==0\n",
    "\n",
    "    return temp"
   ]
  },
  {
   "cell_type": "code",
   "execution_count": 7,
   "metadata": {},
   "outputs": [],
   "source": [
    "def get_X_y_group(subj, runs):\n",
    "    Xs = [\n",
    "        load_beta_image(subj, run)\n",
    "        for run in runs\n",
    "    ]\n",
    "    ys = [\n",
    "        load_target(subj, run)\n",
    "        for run in runs\n",
    "    ]\n",
    "    group = [\n",
    "        i for i, y in enumerate(ys) for j in range(len(y))\n",
    "    ]\n",
    "    Xs = nilearn.image.concat_imgs(Xs)\n",
    "    ys = np.concatenate(ys)\n",
    "\n",
    "    assert Xs.shape[-1] == ys.shape[0]\n",
    "    assert ys.shape[0] == len(group)\n",
    "\n",
    "    return Xs, ys, group"
   ]
  },
  {
   "cell_type": "code",
   "execution_count": 8,
   "metadata": {},
   "outputs": [],
   "source": [
    "#subj = \"TML04_PILOT\"\n",
    "#runs = [1,2,3]\n",
    "#for run in runs:\n",
    "#    print('run = %d' % run)\n",
    "#    index = get_label_index(subj, run)\n",
    "#    print(index,':',len(index))\n",
    "#    label = load_target(subj, run)\n",
    "#    print(label,':',len(label))\n",
    "#X, y, g = get_X_y_group(subj,runs)\n",
    "#print(X)\n",
    "#print(y,':',len(y))\n",
    "#print(g,':',len(g))"
   ]
  },
  {
   "cell_type": "code",
   "execution_count": 9,
   "metadata": {},
   "outputs": [],
   "source": [
    "def run_searchlight(full_mask, X, y, group, estimator, group_k, radius, chance_level):\n",
    "    cv = GroupKFold(group_k)\n",
    "\n",
    "    searchlight = nilearn.decoding.SearchLight(\n",
    "    full_mask,\n",
    "    radius=radius,\n",
    "    estimator=estimator,\n",
    "    n_jobs=4,\n",
    "    verbose=False,\n",
    "    cv=cv,\n",
    "    scoring='explained_variance'\n",
    "    )\n",
    "\n",
    "    searchlight.fit(X, y, group)\n",
    "    scores = searchlight.scores_ - chance_level\n",
    "\n",
    "    return nilearn.image.new_img_like(full_mask, scores)"
   ]
  },
  {
   "cell_type": "code",
   "execution_count": 10,
   "metadata": {
    "scrolled": false
   },
   "outputs": [
    {
     "name": "stdout",
     "output_type": "stream",
     "text": [
      "Loading TML22's mask_img...\n",
      "Done!\n",
      "Executing searchlight_svr_updown\n",
      "TML22 finished\n"
     ]
    }
   ],
   "source": [
    "subj_list = [\n",
    "                \"TML04_PILOT\",\"TML05_PILOT\",\"TML06_PILOT\",\"TML07_PILOT\"\n",
    "                ,\"TML08_PILOT\",\"TML09_PILOT\",\"TML10_PILOT\",\"TML11_PILOT\"\n",
    "                ,\"TML12_PILOT\",\"TML13\",\"TML14\",\"TML15\",\"TML16\",\"TML18\"\n",
    "            ]\n",
    "subj_list = [\"TML22\"]\n",
    "runs = [1,2,3]\n",
    "#pd.show_versions()\n",
    "#################################################################################\n",
    "for subj in subj_list:\n",
    "    path_mask = 'Z:/TM/fMRI_data/stats/Reg8_GLM_vibration_vs_yellow/' + subj + '/Clust_mask_binary.%s.nii.gz' % (subj)\n",
    "    #mask_cluster = '/clmnlab/TM/fMRI_data/stats/Reg8_GLM_vibration_vs_yellow/' + subj + '/Clust_mask.%s.nii.gz' % (subj)\n",
    "\n",
    "    # full mask 를 사용하시면 됩니다. 여기에서는 processing time 줄이려고 작은 마스크 가져옴.\n",
    "    print(\"Loading %s's mask_img...\" % (subj))\n",
    "    mask_img = nilearn.image.load_img(path_mask)\n",
    "    print(\"Done!\")\n",
    "\n",
    "    estimator = LinearSVR(max_iter=10000)\n",
    "    estimator_name = 'svr'\n",
    "    radius = 1  # 적절한 크기를 사용하세요.\n",
    "\n",
    "    print(\"Executing searchlight_svr_updown\")\n",
    "    X, y, group = get_X_y_group(subj, runs)\n",
    "    #print(X)\n",
    "    #print(y,len(y))\n",
    "    #print(group,len(group))\n",
    "    searchlight_img = run_searchlight(mask_img, X, y, group, group_k=3, estimator=estimator, radius=radius, chance_level=0)\n",
    "    searchlight_img.to_filename(result_dir + '%s_r%d_updown_%s+masked.nii.gz' % (subj, radius, estimator_name))\n",
    "        \n",
    "    print('%s finished' % (subj))"
   ]
  },
  {
   "cell_type": "code",
   "execution_count": 11,
   "metadata": {
    "scrolled": false
   },
   "outputs": [
    {
     "name": "stderr",
     "output_type": "stream",
     "text": [
      "E:\\Program Files\\Anaconda3\\envs\\test\\lib\\site-packages\\ipykernel_launcher.py:2: DeprecationWarning: get_data() is deprecated in favor of get_fdata(), which has a more predictable return type. To obtain get_data() behavior going forward, use numpy.asanyarray(img.dataobj).\n",
      "\n",
      "* deprecated from version: 3.0\n",
      "* Will raise <class 'nibabel.deprecator.ExpiredDeprecationError'> as of version: 5.0\n",
      "  \n"
     ]
    },
    {
     "data": {
      "text/plain": [
       "(-0.0007710417456485698, -0.5919333468129889, 0.11928200050947484)"
      ]
     },
     "execution_count": 11,
     "metadata": {},
     "output_type": "execute_result"
    }
   ],
   "source": [
    "#searchlight_img.get_data()\n",
    "np.mean(searchlight_img.get_data()), np.min(searchlight_img.get_data()), np.max(searchlight_img.get_data())"
   ]
  },
  {
   "cell_type": "code",
   "execution_count": null,
   "metadata": {
    "scrolled": true
   },
   "outputs": [],
   "source": [
    "#run_searchlight(mask_img, X, y, group, group_k=3, estimator=estimator, radius=radius, chance_level=0)\n",
    "\n",
    "cv = GroupKFold(3)\n",
    "\n",
    "searchlight = nilearn.decoding.SearchLight(\n",
    "mask_img,\n",
    "radius=radius,\n",
    "estimator=estimator,\n",
    "n_jobs=4,\n",
    "verbose=False,\n",
    "cv=cv,\n",
    "scoring='explained_variance'\n",
    ")\n",
    "#??searchlight.fit\n",
    "searchlight.fit(X, y, group)"
   ]
  },
  {
   "cell_type": "code",
   "execution_count": null,
   "metadata": {},
   "outputs": [],
   "source": [
    "import matplotlib.pyplot as plt\n",
    "\n",
    "plt.hist(searchlight.scores_[searchlight.scores_ != 0])"
   ]
  },
  {
   "cell_type": "code",
   "execution_count": null,
   "metadata": {},
   "outputs": [],
   "source": []
  }
 ],
 "metadata": {
  "kernelspec": {
   "display_name": "Python 3",
   "language": "python",
   "name": "python3"
  },
  "language_info": {
   "codemirror_mode": {
    "name": "ipython",
    "version": 3
   },
   "file_extension": ".py",
   "mimetype": "text/x-python",
   "name": "python",
   "nbconvert_exporter": "python",
   "pygments_lexer": "ipython3",
   "version": "3.7.6"
  }
 },
 "nbformat": 4,
 "nbformat_minor": 4
}
