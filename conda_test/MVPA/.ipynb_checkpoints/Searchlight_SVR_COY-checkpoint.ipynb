{
 "cells": [
  {
   "cell_type": "code",
   "execution_count": 1,
   "metadata": {},
   "outputs": [
    {
     "name": "stderr",
     "output_type": "stream",
     "text": [
      "E:\\Program Files\\Anaconda3\\envs\\test\\lib\\site-packages\\sklearn\\utils\\deprecation.py:144: FutureWarning: The sklearn.linear_model.base module is  deprecated in version 0.22 and will be removed in version 0.24. The corresponding classes / functions should instead be imported from sklearn.linear_model. Anything that cannot be imported from sklearn.linear_model is now part of the private API.\n",
      "  warnings.warn(message, FutureWarning)\n"
     ]
    }
   ],
   "source": [
    "import nilearn.image, nilearn.decoding\n",
    "\n",
    "import numpy as np\n",
    "import pandas as pd\n",
    "\n",
    "from sklearn.svm import LinearSVR\n",
    "from sklearn.model_selection import GroupKFold"
   ]
  },
  {
   "cell_type": "code",
   "execution_count": 2,
   "metadata": {},
   "outputs": [],
   "source": [
    "#!pushd \\\\10.201.185.39\\clmnlab"
   ]
  },
  {
   "cell_type": "code",
   "execution_count": 3,
   "metadata": {},
   "outputs": [],
   "source": [
    "#################################################################################\n",
    "#behav_dir = '/clmnlab/TM/behav_data/'\n",
    "#stats_dir = '/clmnlab/TM/fMRI_data/stats/Reg7_MVPA3_IM_COY/'\n",
    "#preproc_dir = '/clmnlab/TM/fMRI_data/preproc_data/'\n",
    "#result_dir = '/clmnlab/TM/fMRI_data/MVPA/sungbeen/'\n",
    "behav_dir = 'Z:/TM/behav_data/'\n",
    "stats_dir = 'Z:/TM/fMRI_data/stats/Reg7_MVPA3_IM_COY/'\n",
    "preproc_dir = 'Z:/TM/fMRI_data/preproc_data/'\n",
    "result_dir = 'Z:/TM/fMRI_data/MVPA/sungbeen/'"
   ]
  },
  {
   "cell_type": "code",
   "execution_count": 4,
   "metadata": {},
   "outputs": [],
   "source": [
    "def get_label_index(subj, run):\n",
    "    ## labeling betas in a group of freq_other ##\n",
    "    # number of betas in each trial\n",
    "    n_betas = 3 # freq.1, freq.2, yellow\n",
    "    # target betas whose number startsjj from 1. i.e.) beta_1, beta_2, ...,\n",
    "    target_betas = [1,2]\n",
    "\n",
    "    df = pd.read_csv(behav_dir + subj + '/%s.r%02d.Dis_classes_for_svr.dat' % (subj, run), sep='\\t', dtype='int64')\n",
    "\n",
    "    index = [i*n_betas - 1 + target_betas[0] if x == 1 else i*n_betas - 1 + target_betas[1] for i, x in enumerate(df['Freq.other.index'])]\n",
    "    \n",
    "    return index"
   ]
  },
  {
   "cell_type": "code",
   "execution_count": 5,
   "metadata": {},
   "outputs": [],
   "source": [
    "def load_beta_image(subj, run):\n",
    "    ## load nilearn image ##\n",
    "    ## nii.gz 추천. HEAD/BRIK 은 load 안 되는 것 같음. ##\n",
    "\n",
    "    img_temp = nilearn.image.load_img(stats_dir + subj + '/r0%d.LSSout.nii.gz' % (run))\n",
    "\n",
    "    index = get_label_index(subj, run)    \n",
    "    img = nilearn.image.index_img(img_temp, index)\n",
    "\n",
    "    return img"
   ]
  },
  {
   "cell_type": "code",
   "execution_count": 6,
   "metadata": {},
   "outputs": [],
   "source": [
    "def load_target(subj, run):\n",
    "    # load behavior data and make up them\n",
    "\n",
    "    df = pd.read_csv(behav_dir + subj + '/%s.r%02d.Dis_classes_for_svr.dat' % (subj, run), sep='\\t', dtype='int64')\n",
    "    temp = list(df['Freq.other_updown.class'])\n",
    "    \n",
    "    assert sum(temp)==0\n",
    "\n",
    "    return temp"
   ]
  },
  {
   "cell_type": "code",
   "execution_count": 7,
   "metadata": {},
   "outputs": [],
   "source": [
    "def get_X_y_group(subj, runs):\n",
    "    Xs = [\n",
    "        load_beta_image(subj, run)\n",
    "        for run in runs\n",
    "    ]\n",
    "    ys = [\n",
    "        load_target(subj, run)\n",
    "        for run in runs\n",
    "    ]\n",
    "    group = [\n",
    "        i for i, y in enumerate(ys) for j in range(len(y))\n",
    "    ]\n",
    "    Xs = nilearn.image.concat_imgs(Xs)\n",
    "    ys = np.concatenate(ys)\n",
    "\n",
    "    assert Xs.shape[-1] == ys.shape[0]\n",
    "    assert ys.shape[0] == len(group)\n",
    "\n",
    "    return Xs, ys, group"
   ]
  },
  {
   "cell_type": "code",
   "execution_count": 8,
   "metadata": {},
   "outputs": [],
   "source": [
    "#subj = \"TML04_PILOT\"\n",
    "#runs = [1,2,3]\n",
    "#for run in runs:\n",
    "#    print('run = %d' % run)\n",
    "#    index = get_label_index(subj, run)\n",
    "#    print(index,':',len(index))\n",
    "#    label = load_target(subj, run)\n",
    "#    print(label,':',len(label))\n",
    "#X, y, g = get_X_y_group(subj,runs)\n",
    "#print(X)\n",
    "#print(y,':',len(y))\n",
    "#print(g,':',len(g))"
   ]
  },
  {
   "cell_type": "code",
   "execution_count": 9,
   "metadata": {},
   "outputs": [],
   "source": [
    "def run_searchlight(full_mask, X, y, group, estimator, group_k, radius, chance_level):\n",
    "    cv = GroupKFold(group_k)\n",
    "\n",
    "    searchlight = nilearn.decoding.SearchLight(\n",
    "    full_mask,\n",
    "    radius=radius,\n",
    "    estimator=estimator,\n",
    "    n_jobs=4,\n",
    "    verbose=False,\n",
    "    cv=cv,\n",
    "    scoring='explained_variance'\n",
    "    )\n",
    "\n",
    "    searchlight.fit(X, y, group)\n",
    "    scores = searchlight.scores_ - chance_level\n",
    "\n",
    "    return nilearn.image.new_img_like(full_mask, scores)"
   ]
  },
  {
   "cell_type": "code",
   "execution_count": 10,
   "metadata": {
    "scrolled": false
   },
   "outputs": [
    {
     "name": "stdout",
     "output_type": "stream",
     "text": [
      "Loading TML22's mask_img...\n",
      "Done!\n",
      "Executing searchlight_svr_updown\n",
      "TML22 finished\n"
     ]
    }
   ],
   "source": [
    "subj_list = [\n",
    "                \"TML04_PILOT\",\"TML05_PILOT\",\"TML06_PILOT\",\"TML07_PILOT\"\n",
    "                ,\"TML08_PILOT\",\"TML09_PILOT\",\"TML10_PILOT\",\"TML11_PILOT\"\n",
    "                ,\"TML12_PILOT\",\"TML13\",\"TML14\",\"TML15\",\"TML16\",\"TML18\"\n",
    "            ]\n",
    "subj_list = [\"TML22\"]\n",
    "runs = [1,2,3]\n",
    "#pd.show_versions()\n",
    "#################################################################################\n",
    "for subj in subj_list:\n",
    "    path_mask = 'Z:/TM/fMRI_data/stats/Reg8_GLM_vibration_vs_yellow/' + subj + '/Clust_mask_binary.%s.nii.gz' % (subj)\n",
    "    #mask_cluster = '/clmnlab/TM/fMRI_data/stats/Reg8_GLM_vibration_vs_yellow/' + subj + '/Clust_mask.%s.nii.gz' % (subj)\n",
    "\n",
    "    # full mask 를 사용하시면 됩니다. 여기에서는 processing time 줄이려고 작은 마스크 가져옴.\n",
    "    print(\"Loading %s's mask_img...\" % (subj))\n",
    "    mask_img = nilearn.image.load_img(path_mask)\n",
    "    print(\"Done!\")\n",
    "\n",
    "    estimator = LinearSVR(max_iter=10000)\n",
    "    estimator_name = 'svr'\n",
    "    radius = 1  # 적절한 크기를 사용하세요.\n",
    "\n",
    "    print(\"Executing searchlight_svr_updown\")\n",
    "    X, y, group = get_X_y_group(subj, runs)\n",
    "    #print(X)\n",
    "    #print(y,len(y))\n",
    "    #print(group,len(group))\n",
    "    searchlight_img = run_searchlight(mask_img, X, y, group, group_k=3, estimator=estimator, radius=radius, chance_level=0)\n",
    "    searchlight_img.to_filename(result_dir + '%s_r%d_updown_%s+masked.nii.gz' % (subj, radius, estimator_name))\n",
    "        \n",
    "    print('%s finished' % (subj))"
   ]
  },
  {
   "cell_type": "code",
   "execution_count": 11,
   "metadata": {
    "scrolled": false
   },
   "outputs": [
    {
     "name": "stderr",
     "output_type": "stream",
     "text": [
      "E:\\Program Files\\Anaconda3\\envs\\test\\lib\\site-packages\\ipykernel_launcher.py:2: DeprecationWarning: get_data() is deprecated in favor of get_fdata(), which has a more predictable return type. To obtain get_data() behavior going forward, use numpy.asanyarray(img.dataobj).\n",
      "\n",
      "* deprecated from version: 3.0\n",
      "* Will raise <class 'nibabel.deprecator.ExpiredDeprecationError'> as of version: 5.0\n",
      "  \n"
     ]
    },
    {
     "data": {
      "text/plain": [
       "(-0.0007714599508069979, -0.5918683266707628, 0.11930069588574521)"
      ]
     },
     "execution_count": 11,
     "metadata": {},
     "output_type": "execute_result"
    }
   ],
   "source": [
    "#searchlight_img.get_data()\n",
    "np.mean(searchlight_img.get_data()), np.min(searchlight_img.get_data()), np.max(searchlight_img.get_data())"
   ]
  },
  {
   "cell_type": "code",
   "execution_count": 17,
   "metadata": {
    "scrolled": true
   },
   "outputs": [
    {
     "data": {
      "text/plain": [
       "SearchLight(cv=GroupKFold(n_splits=3),\n",
       "            estimator=LinearSVR(C=1.0, dual=True, epsilon=0.0,\n",
       "                                fit_intercept=True, intercept_scaling=1.0,\n",
       "                                loss='epsilon_insensitive', max_iter=10000,\n",
       "                                random_state=None, tol=0.0001, verbose=0),\n",
       "            mask_img=<nibabel.nifti1.Nifti1Image object at 0x0000023E9DA82988>,\n",
       "            n_jobs=4, process_mask_img=None, radius=1,\n",
       "            scoring='explained_variance', verbose=False)"
      ]
     },
     "execution_count": 17,
     "metadata": {},
     "output_type": "execute_result"
    }
   ],
   "source": [
    "#run_searchlight(mask_img, X, y, group, group_k=3, estimator=estimator, radius=radius, chance_level=0)\n",
    "\n",
    "cv = GroupKFold(3)\n",
    "\n",
    "searchlight = nilearn.decoding.SearchLight(\n",
    "mask_img,\n",
    "radius=radius,\n",
    "estimator=estimator,\n",
    "n_jobs=4,\n",
    "verbose=False,\n",
    "cv=cv,\n",
    "scoring='explained_variance'\n",
    ")\n",
    "#??searchlight.fit\n",
    "searchlight.fit(X, y, group)"
   ]
  },
  {
   "cell_type": "code",
   "execution_count": 24,
   "metadata": {},
   "outputs": [
    {
     "ename": "ValueError",
     "evalue": "x must have 2 or fewer dimensions",
     "output_type": "error",
     "traceback": [
      "\u001b[1;31m---------------------------------------------------------------------------\u001b[0m",
      "\u001b[1;31mValueError\u001b[0m                                Traceback (most recent call last)",
      "\u001b[1;32m<ipython-input-24-9947b6417014>\u001b[0m in \u001b[0;36m<module>\u001b[1;34m\u001b[0m\n\u001b[0;32m      2\u001b[0m \u001b[1;33m\u001b[0m\u001b[0m\n\u001b[0;32m      3\u001b[0m \u001b[1;31m#plt.hist(searchlight.scores_[searchlight.scores_ != 0])\u001b[0m\u001b[1;33m\u001b[0m\u001b[1;33m\u001b[0m\u001b[1;33m\u001b[0m\u001b[0m\n\u001b[1;32m----> 4\u001b[1;33m \u001b[0mplt\u001b[0m\u001b[1;33m.\u001b[0m\u001b[0mhist\u001b[0m\u001b[1;33m(\u001b[0m\u001b[0msearchlight\u001b[0m\u001b[1;33m.\u001b[0m\u001b[0mscores_\u001b[0m\u001b[1;33m[\u001b[0m\u001b[1;33m:\u001b[0m\u001b[1;33m]\u001b[0m\u001b[1;33m)\u001b[0m\u001b[1;33m\u001b[0m\u001b[1;33m\u001b[0m\u001b[0m\n\u001b[0m",
      "\u001b[1;32mE:\\Program Files\\Anaconda3\\envs\\test\\lib\\site-packages\\matplotlib\\pyplot.py\u001b[0m in \u001b[0;36mhist\u001b[1;34m(x, bins, range, density, weights, cumulative, bottom, histtype, align, orientation, rwidth, log, color, label, stacked, normed, data, **kwargs)\u001b[0m\n\u001b[0;32m   2641\u001b[0m         \u001b[0malign\u001b[0m\u001b[1;33m=\u001b[0m\u001b[0malign\u001b[0m\u001b[1;33m,\u001b[0m \u001b[0morientation\u001b[0m\u001b[1;33m=\u001b[0m\u001b[0morientation\u001b[0m\u001b[1;33m,\u001b[0m \u001b[0mrwidth\u001b[0m\u001b[1;33m=\u001b[0m\u001b[0mrwidth\u001b[0m\u001b[1;33m,\u001b[0m \u001b[0mlog\u001b[0m\u001b[1;33m=\u001b[0m\u001b[0mlog\u001b[0m\u001b[1;33m,\u001b[0m\u001b[1;33m\u001b[0m\u001b[1;33m\u001b[0m\u001b[0m\n\u001b[0;32m   2642\u001b[0m         \u001b[0mcolor\u001b[0m\u001b[1;33m=\u001b[0m\u001b[0mcolor\u001b[0m\u001b[1;33m,\u001b[0m \u001b[0mlabel\u001b[0m\u001b[1;33m=\u001b[0m\u001b[0mlabel\u001b[0m\u001b[1;33m,\u001b[0m \u001b[0mstacked\u001b[0m\u001b[1;33m=\u001b[0m\u001b[0mstacked\u001b[0m\u001b[1;33m,\u001b[0m \u001b[0mnormed\u001b[0m\u001b[1;33m=\u001b[0m\u001b[0mnormed\u001b[0m\u001b[1;33m,\u001b[0m\u001b[1;33m\u001b[0m\u001b[1;33m\u001b[0m\u001b[0m\n\u001b[1;32m-> 2643\u001b[1;33m         **({\"data\": data} if data is not None else {}), **kwargs)\n\u001b[0m\u001b[0;32m   2644\u001b[0m \u001b[1;33m\u001b[0m\u001b[0m\n\u001b[0;32m   2645\u001b[0m \u001b[1;33m\u001b[0m\u001b[0m\n",
      "\u001b[1;32mE:\\Program Files\\Anaconda3\\envs\\test\\lib\\site-packages\\matplotlib\\__init__.py\u001b[0m in \u001b[0;36minner\u001b[1;34m(ax, data, *args, **kwargs)\u001b[0m\n\u001b[0;32m   1597\u001b[0m     \u001b[1;32mdef\u001b[0m \u001b[0minner\u001b[0m\u001b[1;33m(\u001b[0m\u001b[0max\u001b[0m\u001b[1;33m,\u001b[0m \u001b[1;33m*\u001b[0m\u001b[0margs\u001b[0m\u001b[1;33m,\u001b[0m \u001b[0mdata\u001b[0m\u001b[1;33m=\u001b[0m\u001b[1;32mNone\u001b[0m\u001b[1;33m,\u001b[0m \u001b[1;33m**\u001b[0m\u001b[0mkwargs\u001b[0m\u001b[1;33m)\u001b[0m\u001b[1;33m:\u001b[0m\u001b[1;33m\u001b[0m\u001b[1;33m\u001b[0m\u001b[0m\n\u001b[0;32m   1598\u001b[0m         \u001b[1;32mif\u001b[0m \u001b[0mdata\u001b[0m \u001b[1;32mis\u001b[0m \u001b[1;32mNone\u001b[0m\u001b[1;33m:\u001b[0m\u001b[1;33m\u001b[0m\u001b[1;33m\u001b[0m\u001b[0m\n\u001b[1;32m-> 1599\u001b[1;33m             \u001b[1;32mreturn\u001b[0m \u001b[0mfunc\u001b[0m\u001b[1;33m(\u001b[0m\u001b[0max\u001b[0m\u001b[1;33m,\u001b[0m \u001b[1;33m*\u001b[0m\u001b[0mmap\u001b[0m\u001b[1;33m(\u001b[0m\u001b[0msanitize_sequence\u001b[0m\u001b[1;33m,\u001b[0m \u001b[0margs\u001b[0m\u001b[1;33m)\u001b[0m\u001b[1;33m,\u001b[0m \u001b[1;33m**\u001b[0m\u001b[0mkwargs\u001b[0m\u001b[1;33m)\u001b[0m\u001b[1;33m\u001b[0m\u001b[1;33m\u001b[0m\u001b[0m\n\u001b[0m\u001b[0;32m   1600\u001b[0m \u001b[1;33m\u001b[0m\u001b[0m\n\u001b[0;32m   1601\u001b[0m         \u001b[0mbound\u001b[0m \u001b[1;33m=\u001b[0m \u001b[0mnew_sig\u001b[0m\u001b[1;33m.\u001b[0m\u001b[0mbind\u001b[0m\u001b[1;33m(\u001b[0m\u001b[0max\u001b[0m\u001b[1;33m,\u001b[0m \u001b[1;33m*\u001b[0m\u001b[0margs\u001b[0m\u001b[1;33m,\u001b[0m \u001b[1;33m**\u001b[0m\u001b[0mkwargs\u001b[0m\u001b[1;33m)\u001b[0m\u001b[1;33m\u001b[0m\u001b[1;33m\u001b[0m\u001b[0m\n",
      "\u001b[1;32mE:\\Program Files\\Anaconda3\\envs\\test\\lib\\site-packages\\matplotlib\\axes\\_axes.py\u001b[0m in \u001b[0;36mhist\u001b[1;34m(self, x, bins, range, density, weights, cumulative, bottom, histtype, align, orientation, rwidth, log, color, label, stacked, normed, **kwargs)\u001b[0m\n\u001b[0;32m   6694\u001b[0m         \u001b[0minput_empty\u001b[0m \u001b[1;33m=\u001b[0m \u001b[0mnp\u001b[0m\u001b[1;33m.\u001b[0m\u001b[0msize\u001b[0m\u001b[1;33m(\u001b[0m\u001b[0mx\u001b[0m\u001b[1;33m)\u001b[0m \u001b[1;33m==\u001b[0m \u001b[1;36m0\u001b[0m\u001b[1;33m\u001b[0m\u001b[1;33m\u001b[0m\u001b[0m\n\u001b[0;32m   6695\u001b[0m         \u001b[1;31m# Massage 'x' for processing.\u001b[0m\u001b[1;33m\u001b[0m\u001b[1;33m\u001b[0m\u001b[1;33m\u001b[0m\u001b[0m\n\u001b[1;32m-> 6696\u001b[1;33m         \u001b[0mx\u001b[0m \u001b[1;33m=\u001b[0m \u001b[0mcbook\u001b[0m\u001b[1;33m.\u001b[0m\u001b[0m_reshape_2D\u001b[0m\u001b[1;33m(\u001b[0m\u001b[0mx\u001b[0m\u001b[1;33m,\u001b[0m \u001b[1;34m'x'\u001b[0m\u001b[1;33m)\u001b[0m\u001b[1;33m\u001b[0m\u001b[1;33m\u001b[0m\u001b[0m\n\u001b[0m\u001b[0;32m   6697\u001b[0m         \u001b[0mnx\u001b[0m \u001b[1;33m=\u001b[0m \u001b[0mlen\u001b[0m\u001b[1;33m(\u001b[0m\u001b[0mx\u001b[0m\u001b[1;33m)\u001b[0m  \u001b[1;31m# number of datasets\u001b[0m\u001b[1;33m\u001b[0m\u001b[1;33m\u001b[0m\u001b[0m\n\u001b[0;32m   6698\u001b[0m \u001b[1;33m\u001b[0m\u001b[0m\n",
      "\u001b[1;32mE:\\Program Files\\Anaconda3\\envs\\test\\lib\\site-packages\\matplotlib\\cbook\\__init__.py\u001b[0m in \u001b[0;36m_reshape_2D\u001b[1;34m(X, name)\u001b[0m\n\u001b[0;32m   1457\u001b[0m         \u001b[1;32mreturn\u001b[0m \u001b[1;33m[\u001b[0m\u001b[0mnp\u001b[0m\u001b[1;33m.\u001b[0m\u001b[0mreshape\u001b[0m\u001b[1;33m(\u001b[0m\u001b[0mx\u001b[0m\u001b[1;33m,\u001b[0m \u001b[1;33m-\u001b[0m\u001b[1;36m1\u001b[0m\u001b[1;33m)\u001b[0m \u001b[1;32mfor\u001b[0m \u001b[0mx\u001b[0m \u001b[1;32min\u001b[0m \u001b[0mX\u001b[0m\u001b[1;33m]\u001b[0m\u001b[1;33m\u001b[0m\u001b[1;33m\u001b[0m\u001b[0m\n\u001b[0;32m   1458\u001b[0m     \u001b[1;32melse\u001b[0m\u001b[1;33m:\u001b[0m\u001b[1;33m\u001b[0m\u001b[1;33m\u001b[0m\u001b[0m\n\u001b[1;32m-> 1459\u001b[1;33m         \u001b[1;32mraise\u001b[0m \u001b[0mValueError\u001b[0m\u001b[1;33m(\u001b[0m\u001b[1;34m\"{} must have 2 or fewer dimensions\"\u001b[0m\u001b[1;33m.\u001b[0m\u001b[0mformat\u001b[0m\u001b[1;33m(\u001b[0m\u001b[0mname\u001b[0m\u001b[1;33m)\u001b[0m\u001b[1;33m)\u001b[0m\u001b[1;33m\u001b[0m\u001b[1;33m\u001b[0m\u001b[0m\n\u001b[0m\u001b[0;32m   1460\u001b[0m \u001b[1;33m\u001b[0m\u001b[0m\n\u001b[0;32m   1461\u001b[0m \u001b[1;33m\u001b[0m\u001b[0m\n",
      "\u001b[1;31mValueError\u001b[0m: x must have 2 or fewer dimensions"
     ]
    },
    {
     "data": {
      "image/png": "[encoded data removed]",
      "text/plain": [
       "<Figure size 432x288 with 1 Axes>"
      ]
     },
     "metadata": {
      "needs_background": "light"
     },
     "output_type": "display_data"
    }
   ],
   "source": [
    "import matplotlib.pyplot as plt\n",
    "\n",
    "plt.hist(searchlight.scores_[searchlight.scores_ != 0])"
   ]
  },
  {
   "cell_type": "code",
   "execution_count": null,
   "metadata": {},
   "outputs": [],
   "source": []
  }
 ],
 "metadata": {
  "kernelspec": {
   "display_name": "Python 3",
   "language": "python",
   "name": "python3"
  },
  "language_info": {
   "codemirror_mode": {
    "name": "ipython",
    "version": 3
   },
   "file_extension": ".py",
   "mimetype": "text/x-python",
   "name": "python",
   "nbconvert_exporter": "python",
   "pygments_lexer": "ipython3",
   "version": "3.7.6"
  }
 },
 "nbformat": 4,
 "nbformat_minor": 4
}
