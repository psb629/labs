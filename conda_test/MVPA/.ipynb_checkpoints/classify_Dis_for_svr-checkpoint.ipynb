{
 "cells": [
  {
   "cell_type": "code",
   "execution_count": 1,
   "metadata": {},
   "outputs": [],
   "source": [
    "import pandas as pd"
   ]
  },
  {
   "cell_type": "code",
   "execution_count": 2,
   "metadata": {},
   "outputs": [],
   "source": [
    "def calc_freq_class(freq_range, freq):\n",
    "    #freq_range = range(10,20+1,1)\n",
    "    freqs = [x for x in freq_range]\n",
    "    #print(freqs)\n",
    "    f_mid = int((freqs[0]+freqs[-1])*0.5)\n",
    "    return int(freq - f_mid)"
   ]
  },
  {
   "cell_type": "code",
   "execution_count": 17,
   "metadata": {},
   "outputs": [],
   "source": [
    "#!pushd \\\\10.201.185.39\\clmnlab\n",
    "behav_dir = 'Z:/TM/behav_data/'\n",
    "\n",
    "subj_list = [\n",
    "            \"TML04_PILOT\",\"TML05_PILOT\",\"TML06_PILOT\",\"TML07_PILOT\"\n",
    "            ,\"TML08_PILOT\",\"TML09_PILOT\",\"TML10_PILOT\",\"TML11_PILOT\"\n",
    "            ,\"TML12_PILOT\",\"TML13\",\"TML14\",\"TML15\",\"TML16\",\"TML18\",\"TML19\", \"TML20\"\n",
    "            ,\"TML21\",\"TML22\",\"TML23\",\"TML24\",\"TML25\",\"TML26\"\n",
    "            ]\n",
    "#subj_list = [\"TML19\"]\n",
    "\n",
    "n_subj = len(subj_list)\n",
    " # low frequency range : 10<= AND 20>=\n",
    "freq_range = range(10,20+1,1)"
   ]
  },
  {
   "cell_type": "code",
   "execution_count": 18,
   "metadata": {},
   "outputs": [],
   "source": [
    "run1 = 40\n",
    "run2 = 30\n",
    "run3 = 30\n",
    "n_run = run1 + run2 + run3\n",
    "\n",
    "for subj in subj_list:\n",
    "    df = pd.read_csv(behav_dir + subj + '/behav_data_Dis.dat', sep='\\t', header=None)\n",
    "    df.columns=['trial', 'Freq.1', 'ISI1', 'Freq.2', 'ISI2', 'decision', 'correctness', 'RT', 'ISI3']\n",
    "    df['Freq.1_updown.class'] = [calc_freq_class(freq_range,f) for f in df['Freq.1']]\n",
    "    df['Freq.2_updown.class'] = [calc_freq_class(freq_range,f) for f in df['Freq.2']]\n",
    "    df['Freq.other.index'] = [2 if f1==0 else 1 for f1 in df['Freq.1_updown.class']]\n",
    "    df['Freq.other_updown.class'] = [a+b for a, b in zip(df['Freq.1_updown.class'], df['Freq.2_updown.class'])]\n",
    "    #df['answer.index'] = [1 if a>b else 2 for a, b in zip(df['Freq.1'], df['Freq.2'])]\n",
    "    #df['Freq.other_answer.class'] = [1 if a==b else -1 for a,b in zip(df['Freq.other.index'],df['answer.index'])]\n",
    "    #df['decision.index'] = [1 if x == 'before' else (2 if x=='after' else 'NaN') for i, x in enumerate(df['decision'])]\n",
    "    #df['Freq.other_decision.class'] = ['NaN' if b=='NaN' else (1 if a==b else -1) for a,b in zip(df['Freq.other.index'],df['decision.index'])]\n",
    "    \n",
    "    assert df['Freq.other_updown.class'].shape[0] == n_run\n",
    "    assert df['Freq.other_updown.class'].sum(0) == 0\n",
    "    \n",
    "    run = 0\n",
    "    fin = -1\n",
    "    for i in [run1, run2, run3]:\n",
    "        run = run + 1\n",
    "        ini = fin + 1\n",
    "        fin = ini + i - 1\n",
    "        temp = df.loc[ini:fin,['Freq.other.index','Freq.other_updown.class']]\n",
    "        temp.to_csv(behav_dir + subj + '/%s.r%02d.Dis_classes_for_svr.dat' %(subj, run), sep='\\t')\n",
    "        #print(temp)\n",
    "        \n",
    "#df\n"
   ]
  },
  {
   "cell_type": "code",
   "execution_count": null,
   "metadata": {},
   "outputs": [],
   "source": []
  }
 ],
 "metadata": {
  "kernelspec": {
   "display_name": "Python 3",
   "language": "python",
   "name": "python3"
  },
  "language_info": {
   "codemirror_mode": {
    "name": "ipython",
    "version": 3
   },
   "file_extension": ".py",
   "mimetype": "text/x-python",
   "name": "python",
   "nbconvert_exporter": "python",
   "pygments_lexer": "ipython3",
   "version": "3.7.6"
  }
 },
 "nbformat": 4,
 "nbformat_minor": 4
}
