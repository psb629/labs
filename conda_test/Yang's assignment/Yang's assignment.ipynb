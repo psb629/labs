{
 "cells": [
  {
   "cell_type": "markdown",
   "metadata": {},
   "source": [
    "### April. 30th"
   ]
  },
  {
   "cell_type": "code",
   "execution_count": 1,
   "metadata": {},
   "outputs": [
    {
     "name": "stdout",
     "output_type": "stream",
     "text": [
      "n을 입력하세요.\n",
      "100\n",
      "k를 입력하세요.\n",
      "3\n",
      "1683\n"
     ]
    }
   ],
   "source": [
    "#n = 100\n",
    "#k = 4\n",
    "\n",
    "print(\"n을 입력하세요.\")\n",
    "n = int(input())\n",
    "print(\"k를 입력하세요.\")\n",
    "k = int(input())\n",
    "\n",
    "n_k = n // k\n",
    "sum1 = 0\n",
    "for i in range(1,n_k+1,1):\n",
    "    #print(i)\n",
    "    sum1 += k*i\n",
    "print(sum1)"
   ]
  },
  {
   "cell_type": "code",
   "execution_count": 8,
   "metadata": {},
   "outputs": [
    {
     "name": "stdout",
     "output_type": "stream",
     "text": [
      "-10\n",
      "-5\n",
      "192\n",
      "20\n",
      "0\n",
      "총합 = 197\n",
      "평균 = 49\n",
      "최댓값 = 192\n",
      "최솟값 = -10\n",
      "\n",
      "-10\n"
     ]
    }
   ],
   "source": [
    "from statistics import mean \n",
    "\n",
    "num_list = []\n",
    "while 1:\n",
    "    num = int(input())\n",
    "    if num == 0:\n",
    "        break\n",
    "    num_list.append(num)\n",
    "temp_sum = sum(num_list)\n",
    "temp_mean = mean(num_list)\n",
    "temp_max = max(num_list)\n",
    "temp_min = min(num_list)\n",
    "print(\"총합 = %d\\n평균 = %d\\n최댓값 = %d\\n최솟값 = %d\\n\" %(temp_sum,temp_mean,temp_max,temp_min))\n",
    "print(num_list[0])"
   ]
  },
  {
   "cell_type": "code",
   "execution_count": 10,
   "metadata": {},
   "outputs": [
    {
     "name": "stdout",
     "output_type": "stream",
     "text": [
      "n을 입력하세요.\n",
      "10\n",
      "k를 입력하세요.\n",
      "1\n",
      "55\n"
     ]
    }
   ],
   "source": [
    "print(\"n을 입력하세요.\")\n",
    "n = int(input())\n",
    "print(\"k를 입력하세요.\")\n",
    "k = int(input())\n",
    "\n",
    "if n < k:\n",
    "    a = n\n",
    "    b = k\n",
    "else:\n",
    "    a = k\n",
    "    b = n\n",
    "\n",
    "temp_sum = 0\n",
    "for i in range(a,b+1):\n",
    "    temp_sum += i\n",
    "print(temp_sum)"
   ]
  },
  {
   "cell_type": "code",
   "execution_count": 4,
   "metadata": {},
   "outputs": [
    {
     "name": "stdout",
     "output_type": "stream",
     "text": [
      "130\n",
      "130의 자릿수는 3 자리입니다.\n"
     ]
    }
   ],
   "source": [
    "num = int(input())\n",
    "temp = num\n",
    "n = 0\n",
    "while 1:\n",
    "    if temp < 1:\n",
    "        break\n",
    "    temp //= 10\n",
    "    n += 1\n",
    "print(\"%d의 자릿수는 %d 자리입니다.\" %(num,n))"
   ]
  },
  {
   "cell_type": "code",
   "execution_count": 10,
   "metadata": {},
   "outputs": [
    {
     "name": "stdout",
     "output_type": "stream",
     "text": [
      "550\n",
      "500x0 100x4 50x1 10x0\n"
     ]
    }
   ],
   "source": [
    "price = int(input())\n",
    "cash = 1000\n",
    "\n",
    "temp = cash - price\n",
    "n500 = 0\n",
    "n100 = 0\n",
    "n50 = 0\n",
    "n10 = 0\n",
    "while 1:\n",
    "    if temp >= 500:\n",
    "        temp -= 500\n",
    "        n500 += 1\n",
    "    elif temp >= 100:\n",
    "        temp -= 100\n",
    "        n100 += 1\n",
    "    elif temp >= 50:\n",
    "        temp -= 50\n",
    "        n50 += 1\n",
    "    elif temp >= 10:\n",
    "        temp -= 10\n",
    "        n10 += 1\n",
    "    else:\n",
    "        break\n",
    "print(\"500x%d 100x%d 50x%d 10x%d\" %(n500,n100,n50,n10))"
   ]
  },
  {
   "cell_type": "code",
   "execution_count": 14,
   "metadata": {},
   "outputs": [
    {
     "name": "stdout",
     "output_type": "stream",
     "text": [
      "430\n",
      "500x1 100x0 50x1 10x2\n"
     ]
    }
   ],
   "source": [
    "price = int(input())\n",
    "cash = 1000\n",
    "temp_sum = 0\n",
    "\n",
    "change = cash - price\n",
    "n500 = change // 500\n",
    "temp_sum += 500 * n500\n",
    "n100 = (change - temp_sum) // 100\n",
    "temp_sum += 100 * n100\n",
    "n50 = (change - temp_sum) // 50\n",
    "temp_sum += 50 * n50\n",
    "n10 = (change - temp_sum) // 10\n",
    "print(\"500x%d 100x%d 50x%d 10x%d\" %(n500,n100,n50,n10))"
   ]
  },
  {
   "cell_type": "markdown",
   "metadata": {},
   "source": [
    "### June. 6th"
   ]
  },
  {
   "cell_type": "code",
   "execution_count": 40,
   "metadata": {
    "scrolled": true
   },
   "outputs": [
    {
     "name": "stdout",
     "output_type": "stream",
     "text": [
      "1 = 1\n",
      "2 = 2\n",
      "3 = *\n",
      "4 = 4\n",
      "5 = 5\n",
      "6 = *\n",
      "7 = 7\n",
      "8 = 8\n",
      "9 = *\n",
      "10 = 10\n",
      "11 = 11\n",
      "12 = 12\n",
      "13 = *\n",
      "14 = 14\n",
      "15 = 15\n",
      "16 = *\n",
      "17 = 17\n",
      "18 = 18\n",
      "19 = *\n",
      "20 = 20\n",
      "21 = 21\n",
      "22 = 22\n",
      "23 = *\n",
      "24 = 24\n",
      "25 = 25\n",
      "26 = *\n",
      "27 = 27\n",
      "28 = 28\n",
      "29 = *\n",
      "30 = *\n",
      "31 = *\n",
      "32 = *\n",
      "33 = **\n",
      "34 = *\n",
      "35 = *\n",
      "36 = **\n",
      "37 = *\n",
      "38 = *\n",
      "39 = **\n",
      "40 = 40\n",
      "41 = 41\n",
      "42 = 42\n",
      "43 = *\n",
      "44 = 44\n",
      "45 = 45\n",
      "46 = *\n",
      "47 = 47\n",
      "48 = 48\n",
      "49 = *\n",
      "50 = 50\n"
     ]
    }
   ],
   "source": [
    "for i in range(50):\n",
    "    j = i+1     # i는 0부터 시작하므로, 1부터 시작하는 j 만듦\n",
    "    Q = j       # Q는 j로 초기화\n",
    "    count = 0   # *의 개수 세기\n",
    "    while Q:\n",
    "        R = Q % 10\n",
    "        Q //= 10\n",
    "        if (R % 3 == 0) & (R != 0):\n",
    "            count += 1\n",
    "    if count == 0:\n",
    "        k = j\n",
    "    elif count == 1:\n",
    "        k = '*'\n",
    "    elif count == 2:\n",
    "        k = '**'\n",
    "    print('%d = %s'%(j,k))"
   ]
  },
  {
   "cell_type": "code",
   "execution_count": 28,
   "metadata": {},
   "outputs": [
    {
     "name": "stdout",
     "output_type": "stream",
     "text": [
      "10! = 3628800\n"
     ]
    }
   ],
   "source": [
    "import factorial\n",
    "print(\"10! =\",factorial.factorial(10))"
   ]
  },
  {
   "cell_type": "code",
   "execution_count": 36,
   "metadata": {},
   "outputs": [
    {
     "name": "stdout",
     "output_type": "stream",
     "text": [
      "123,15,as,ge5,346\n",
      "['123', '15', '5', '346']\n",
      "최댓값 = 346\n",
      "최솟값 = 5\n",
      "총합 = 489\n"
     ]
    }
   ],
   "source": [
    "import re\n",
    "\n",
    "s = input()\n",
    "temp = re.findall('\\d+', s)\n",
    "print(temp)\n",
    "nums = []\n",
    "for i in temp:\n",
    "    nums.append(int(i))\n",
    "print('최댓값 =',max(nums))\n",
    "print('최솟값 =',min(nums))\n",
    "print('총합 =',sum(nums))"
   ]
  },
  {
   "cell_type": "code",
   "execution_count": 34,
   "metadata": {},
   "outputs": [
    {
     "name": "stdout",
     "output_type": "stream",
     "text": [
      "A : 65\n",
      "B : 66\n",
      "C : 67\n",
      "D : 68\n",
      "E : 69\n",
      "F : 70\n",
      "G : 71\n",
      "H : 72\n",
      "I : 73\n",
      "J : 74\n",
      "K : 75\n",
      "L : 76\n",
      "M : 77\n",
      "N : 78\n",
      "O : 79\n",
      "P : 80\n",
      "Q : 81\n",
      "R : 82\n",
      "S : 83\n",
      "T : 84\n",
      "U : 85\n",
      "V : 86\n",
      "W : 87\n",
      "X : 88\n",
      "Y : 89\n",
      "Z : 90\n"
     ]
    }
   ],
   "source": [
    "alphabet = ['A','B','C','D','E','F','G','H','I','J','K','L','M','N','O','P','Q','R','S','T','U','V','W','X','Y','Z']\n",
    "len(alphabet)\n",
    "for i in alphabet:\n",
    "    print(i,':',ord(i))"
   ]
  },
  {
   "cell_type": "code",
   "execution_count": 152,
   "metadata": {},
   "outputs": [
    {
     "data": {
      "text/plain": [
       "[1, 6, 22, 29, 31, 43]"
      ]
     },
     "execution_count": 152,
     "metadata": {},
     "output_type": "execute_result"
    }
   ],
   "source": [
    "import random\n",
    "\n",
    "nums = list(range(1,46))\n",
    "\n",
    "random.shuffle(nums)\n",
    "lotto = nums[:6]\n",
    "lotto.sort()\n",
    "lotto"
   ]
  },
  {
   "cell_type": "code",
   "execution_count": null,
   "metadata": {},
   "outputs": [],
   "source": []
  }
 ],
 "metadata": {
  "kernelspec": {
   "display_name": "Python 3",
   "language": "python",
   "name": "python3"
  },
  "language_info": {
   "codemirror_mode": {
    "name": "ipython",
    "version": 3
   },
   "file_extension": ".py",
   "mimetype": "text/x-python",
   "name": "python",
   "nbconvert_exporter": "python",
   "pygments_lexer": "ipython3",
   "version": "3.7.6"
  }
 },
 "nbformat": 4,
 "nbformat_minor": 4
}
