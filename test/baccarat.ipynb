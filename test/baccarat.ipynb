{
 "cells": [
  {
   "cell_type": "code",
   "execution_count": 1,
   "metadata": {},
   "outputs": [],
   "source": [
    "import pandas as pd\n",
    "import numpy as np\n",
    "import random\n",
    "import seaborn as sns\n",
    "import matplotlib.pyplot as plt"
   ]
  },
  {
   "cell_type": "code",
   "execution_count": 2,
   "metadata": {},
   "outputs": [],
   "source": [
    "# player's rule\n",
    "# 0-5: draw, 6-7: stand, 8-9: natural\n",
    "player = np.array(['d','d','d','d','d','d','s','s','n','n'])"
   ]
  },
  {
   "cell_type": "code",
   "execution_count": 3,
   "metadata": {},
   "outputs": [],
   "source": [
    "# banker's rule\n",
    "# index: banker's score, column: player's 3rd card\n",
    "banker = pd.DataFrame(columns=range(10),index=range(8))\n",
    "# d: draw, s: stand, n: natural\n",
    "banker.loc[0] = 'd'\n",
    "banker.loc[1] = 'd'\n",
    "banker.loc[2] = 'd'\n",
    "banker.loc[3] = 'd'; banker.loc[3][8]= 's'\n",
    "banker.loc[4] = 's'; banker.loc[4][2:8]= 'd'\n",
    "banker.loc[5] = 's'; banker.loc[5][4:8]= 'd'\n",
    "banker.loc[6] = 's'; banker.loc[6][6:8]= 'd'\n",
    "banker.loc[7] = 's'\n",
    "banker.loc[8] = 'n'\n",
    "banker.loc[9] = 'n'"
   ]
  },
  {
   "cell_type": "code",
   "execution_count": 41,
   "metadata": {},
   "outputs": [],
   "source": [
    "def compare(cards):\n",
    "    pc, bc = cards[:3], cards[3:]\n",
    "    # calculate the scores\n",
    "    ps = (pc[0]+pc[1])%10\n",
    "    bs = (bc[0]+bc[1])%10\n",
    "    # the one of them is natural \n",
    "    i = player[ps]\n",
    "    j = banker.loc[bs,pc[2]]\n",
    "    if (i=='n')|(j=='n'):\n",
    "        return ps, bs\n",
    "    # player\n",
    "    if (i=='d'):\n",
    "        p3 = pc[2]\n",
    "        ps = (ps+p3)%10\n",
    "    # banker\n",
    "    if (j=='d'):\n",
    "        b3 = bc[2]\n",
    "        bs = (bs+b3)%10\n",
    "    return ps, bs\n",
    "    \n",
    "def match(pscore, bscore):\n",
    "    if pscore > bscore:\n",
    "        return 'player', 1.   # commission: 5%\n",
    "    elif pscore == bscore:\n",
    "        return 'tie', 8.\n",
    "    else:\n",
    "        return 'banker', .95"
   ]
  },
  {
   "cell_type": "code",
   "execution_count": 42,
   "metadata": {},
   "outputs": [
    {
     "data": {
      "text/plain": [
       "(416,)"
      ]
     },
     "execution_count": 42,
     "metadata": {},
     "output_type": "execute_result"
    }
   ],
   "source": [
    "temp = [1,2,3,4,5,6,7,8,9,0,0,0,0]\n",
    "# A standard 52-card pack\n",
    "deck = [temp for i in range(4)]\n",
    "# A number of decks in a shoe\n",
    "n = 8\n",
    "shoe = np.array([deck for i in range(n)])\n",
    "shoe = shoe.reshape(52*n)\n",
    "shoe.shape"
   ]
  },
  {
   "cell_type": "code",
   "execution_count": 45,
   "metadata": {
    "scrolled": false
   },
   "outputs": [
    {
     "data": {
      "text/html": [
       "<div>\n",
       "<style scoped>\n",
       "    .dataframe tbody tr th:only-of-type {\n",
       "        vertical-align: middle;\n",
       "    }\n",
       "\n",
       "    .dataframe tbody tr th {\n",
       "        vertical-align: top;\n",
       "    }\n",
       "\n",
       "    .dataframe thead th {\n",
       "        text-align: right;\n",
       "    }\n",
       "</style>\n",
       "<table border=\"1\" class=\"dataframe\">\n",
       "  <thead>\n",
       "    <tr style=\"text-align: right;\">\n",
       "      <th></th>\n",
       "      <th>winner</th>\n",
       "    </tr>\n",
       "  </thead>\n",
       "  <tbody>\n",
       "    <tr>\n",
       "      <th>0</th>\n",
       "      <td>tie</td>\n",
       "    </tr>\n",
       "    <tr>\n",
       "      <th>1</th>\n",
       "      <td>banker</td>\n",
       "    </tr>\n",
       "    <tr>\n",
       "      <th>2</th>\n",
       "      <td>banker</td>\n",
       "    </tr>\n",
       "    <tr>\n",
       "      <th>3</th>\n",
       "      <td>player</td>\n",
       "    </tr>\n",
       "    <tr>\n",
       "      <th>4</th>\n",
       "      <td>player</td>\n",
       "    </tr>\n",
       "    <tr>\n",
       "      <th>...</th>\n",
       "      <td>...</td>\n",
       "    </tr>\n",
       "    <tr>\n",
       "      <th>99995</th>\n",
       "      <td>tie</td>\n",
       "    </tr>\n",
       "    <tr>\n",
       "      <th>99996</th>\n",
       "      <td>banker</td>\n",
       "    </tr>\n",
       "    <tr>\n",
       "      <th>99997</th>\n",
       "      <td>banker</td>\n",
       "    </tr>\n",
       "    <tr>\n",
       "      <th>99998</th>\n",
       "      <td>player</td>\n",
       "    </tr>\n",
       "    <tr>\n",
       "      <th>99999</th>\n",
       "      <td>player</td>\n",
       "    </tr>\n",
       "  </tbody>\n",
       "</table>\n",
       "<p>100000 rows × 1 columns</p>\n",
       "</div>"
      ],
      "text/plain": [
       "       winner\n",
       "0         tie\n",
       "1      banker\n",
       "2      banker\n",
       "3      player\n",
       "4      player\n",
       "...       ...\n",
       "99995     tie\n",
       "99996  banker\n",
       "99997  banker\n",
       "99998  player\n",
       "99999  player\n",
       "\n",
       "[100000 rows x 1 columns]"
      ]
     },
     "execution_count": 45,
     "metadata": {},
     "output_type": "execute_result"
    }
   ],
   "source": [
    "df = pd.DataFrame(columns=['winner'])\n",
    "N = 1e5\n",
    "t2s = np.floor(shoe.shape[0]/6)-10 # a turn to shuffle\n",
    "for i in range(int(N)):\n",
    "    j = int(i%t2s)\n",
    "    if j==0:\n",
    "        random.shuffle(shoe)\n",
    "    cards = shoe[j*6:(j+1)*6]\n",
    "    ps, bs = compare(cards)\n",
    "    winner, paid = match(ps, bs)\n",
    "    df = df.append({'winner':winner}, ignore_index=True)\n",
    "df"
   ]
  },
  {
   "cell_type": "code",
   "execution_count": 54,
   "metadata": {
    "scrolled": true
   },
   "outputs": [
    {
     "data": {
      "text/plain": [
       "Text(3.0, 0.19999999999999998, '$\\\\tau$=0.093')"
      ]
     },
     "execution_count": 54,
     "metadata": {},
     "output_type": "execute_result"
    },
    {
     "data": {
      "image/png": "[encoded data removed]",
      "text/plain": [
       "<Figure size 432x288 with 1 Axes>"
      ]
     },
     "metadata": {
      "needs_background": "light"
     },
     "output_type": "display_data"
    }
   ],
   "source": [
    "ymax, dy = .6, .1\n",
    "temp = df.winner.value_counts()/N\n",
    "tot = temp[:2].sum()\n",
    "title = '%s : %s = %.4f : %.4f'%(temp.index[0],temp.index[1],temp[0]/tot,temp[1]/tot)\n",
    "temp.plot(kind='bar', grid=True, ylim=[0,ymax], yticks=np.arange(0,ymax+dy,.1), title=title)\n",
    "plt.text(3.,ymax*.5+dy, '%s=%.3f'%(temp.index[0],temp[0]),\n",
    "         {'color': 'black', 'fontsize': 24, 'ha': 'left', 'va': 'center',\n",
    "          'bbox': dict(boxstyle=\"round\", fc=\"white\", ec=\"black\", pad=0.2)})\n",
    "plt.text(3.,ymax*.5, '%s=%.3f'%(temp.index[1],temp[1]),\n",
    "         {'color': 'black', 'fontsize': 24, 'ha': 'left', 'va': 'center',\n",
    "          'bbox': dict(boxstyle=\"round\", fc=\"white\", ec=\"black\", pad=0.2)})\n",
    "plt.text(3.,ymax*.5-dy, r'$\\tau$=%.3f'%temp[2],\n",
    "         {'color': 'black', 'fontsize': 24, 'ha': 'left', 'va': 'center',\n",
    "          'bbox': dict(boxstyle=\"round\", fc=\"white\", ec=\"black\", pad=0.2)})"
   ]
  },
  {
   "cell_type": "code",
   "execution_count": null,
   "metadata": {},
   "outputs": [],
   "source": []
  }
 ],
 "metadata": {
  "kernelspec": {
   "display_name": "Python 3",
   "language": "python",
   "name": "python3"
  },
  "language_info": {
   "codemirror_mode": {
    "name": "ipython",
    "version": 3
   },
   "file_extension": ".py",
   "mimetype": "text/x-python",
   "name": "python",
   "nbconvert_exporter": "python",
   "pygments_lexer": "ipython3",
   "version": "3.8.3"
  }
 },
 "nbformat": 4,
 "nbformat_minor": 4
}
