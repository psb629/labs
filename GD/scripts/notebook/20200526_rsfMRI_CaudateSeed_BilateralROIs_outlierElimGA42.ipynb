{
 "cells": [
  {
   "cell_type": "code",
   "execution_count": 1,
   "metadata": {},
   "outputs": [
    {
     "name": "stderr",
     "output_type": "stream",
     "text": [
      "R.matlab v3.6.2 (2018-09-26) successfully loaded. See ?R.matlab for help.\n",
      "\n",
      "\n",
      "Attaching package: ‘R.matlab’\n",
      "\n",
      "\n",
      "The following objects are masked from ‘package:base’:\n",
      "\n",
      "    getOption, isOpen\n",
      "\n",
      "\n"
     ]
    }
   ],
   "source": [
    "library(R.matlab)"
   ]
  },
  {
   "cell_type": "code",
   "execution_count": 2,
   "metadata": {},
   "outputs": [
    {
     "name": "stderr",
     "output_type": "stream",
     "text": [
      "Loading required package: ggplot2\n",
      "\n"
     ]
    }
   ],
   "source": [
    "library(ggpubr)"
   ]
  },
  {
   "cell_type": "code",
   "execution_count": 3,
   "metadata": {},
   "outputs": [
    {
     "data": {
      "text/html": [
       "'/Volumes/clmnlab/GA/Connectivity'"
      ],
      "text/latex": [
       "'/Volumes/clmnlab/GA/Connectivity'"
      ],
      "text/markdown": [
       "'/Volumes/clmnlab/GA/Connectivity'"
      ],
      "text/plain": [
       "[1] \"/Volumes/clmnlab/GA/Connectivity\""
      ]
     },
     "metadata": {},
     "output_type": "display_data"
    }
   ],
   "source": [
    "getwd()"
   ]
  },
  {
   "cell_type": "code",
   "execution_count": 4,
   "metadata": {},
   "outputs": [],
   "source": [
    "setwd(\"/Volumes/clmnlab/GA/Connectivity/\")"
   ]
  },
  {
   "cell_type": "code",
   "execution_count": 5,
   "metadata": {},
   "outputs": [],
   "source": [
    "regressionData <- readMat('/Volumes/clmnlab/GA/Connectivity/result/rest_WM_Vent_BP/group.WM/Matlab/regressionData.mat')"
   ]
  },
  {
   "cell_type": "code",
   "execution_count": 6,
   "metadata": {},
   "outputs": [
    {
     "name": "stdout",
     "output_type": "stream",
     "text": [
      "List of 155\n",
      " $ A                   : num [1:14, 1:2] -0.0183 0.0209 -0.1008 0.1146 0.3008 ...\n",
      " $ B                   : num [1:2, 1] 0.477 -0.691\n",
      " $ BINT                : num [1:2, 1:2] 0.186 -1.169 0.767 -0.214\n",
      " $ N                   : num [1, 1] 1000\n",
      " $ R                   : num [1:30, 1] 0.0083 0.01929 -0.01724 0.00539 0.01556 ...\n",
      " $ RINT                : num [1:30, 1:2] -0.168 -0.151 -0.195 -0.169 -0.164 ...\n",
      " $ RR                  : num [1:29, 1] 0.0701 0.1152 0.0554 -0.1064 -0.0274 ...\n",
      " $ RR.                 : num [1:29, 1] -0.0402 0.0553 -0.1131 0.0923 0.0182 ...\n",
      " $ STATS               : num [1, 1:4] 0.2389 8.78897 0.00613 0.0077\n",
      " $ XY                  : num [1:1000, 1:2] -0.723 0.313 -0.218 1.239 0.326 ...\n",
      " $ a                   : num [1, 1] 0.357\n",
      " $ a.                  : num [1:3, 1] -0.44693 0.65365 0.00136\n",
      " $ alpha               : num [1, 1] 0.1\n",
      " $ ans                 : num [1, 1:30] 0.526 0.943 0.96 0.243 0.401 ...\n",
      " $ b                   : num [1, 1] 0.0573\n",
      " $ base                : num [1, 1:1000] 1.68e-06 1.30e-02 8.69e-03 1.87e-01 1.54e-01 ...\n",
      " $ bodyLL              : num [1:30, 1] -0.0202 0.1556 0.0228 0.0673 0.0866 ...\n",
      " $ bodyLL.M1.S1        : num [1:30, 1] 0.0159 -0.0244 -0.1187 -0.2028 -0.1967 ...\n",
      " $ bodyLL.new          : num [1:30, 1] 0.0288 0.1826 0.0276 0.1019 0.261 ...\n",
      " $ bodyLR              : num [1:30, 1] 0.01465 0.12451 0.00338 0.10836 0.12207 ...\n",
      " $ bodyLR.M1.S1        : num [1:30, 1] -0.0461 0.0491 -0.0709 -0.2755 -0.2551 ...\n",
      " $ bodyLR.new          : num [1:30, 1] -0.0202 0.1556 0.0228 0.0673 0.0866 ...\n",
      " $ bodyL.SMA           : num [1:30, 1] 0.00894 0.01832 0.00893 0.05081 0.16784 ...\n",
      " $ bodyRL              : num [1:30, 1] 0.0288 0.1826 0.0276 0.1019 0.261 ...\n",
      " $ bodyRL.new          : num [1:30, 1] 0.0542 0.1359 -0.0227 0.1532 0.1047 ...\n",
      " $ bodyRR              : num [1:30, 1] 0.0542 0.1359 -0.0227 0.1532 0.1047 ...\n",
      " $ bodyRR.new          : num [1:30, 1] 0.01465 0.12451 0.00338 0.10836 0.12207 ...\n",
      " $ bodyR.SMA           : num [1:30, 1] 0.019 0.0495 0.0299 0.0176 0.0297 ...\n",
      " $ c                   : num [1:29, 1] 0.0562 0.1344 0.0162 -0.0745 -0.0211 ...\n",
      " $ cd.body.L.GA.SMA    : num [1:29, 1:3] 0.00894 0.01832 0.00893 0.05081 0.16784 ...\n",
      " $ cd.body.R.GA.SMA    : num [1:29, 1:3] 0.019 0.0495 0.0299 0.0176 0.0297 ...\n",
      " $ cd.tail.L1000       : num [1:29, 1] 0.1286 -0.1775 0.0318 0.1973 0.133 ...\n",
      " $ cd.tail.L300        : num [1:29, 1] 0.1369 -0.2117 0.0658 0.1683 0.1613 ...\n",
      " $ cd.tail.L500        : num [1:29, 1] 0.1343 -0.1976 0.0618 0.1846 0.1572 ...\n",
      " $ cd.tail.L.GA        : num [1:29, 1:9] -0.04649 0.10255 -0.00971 -0.10237 -0.10702 ...\n",
      " $ cd.tail.L.GA.M1Corr : num [1:29, 1] -0.1048 0.1162 0.028 -0.0036 -0.2057 ...\n",
      " $ cd.tail.L.GA.R.M1   : num [1:29, 1] -0.0607 -0.014 0.0112 -0.1377 -0.0647 ...\n",
      " $ cd.tail.L.GA.SMA    : num [1:29, 1:3] -0.00991 0.10243 0.0875 -0.02213 -0.05753 ...\n",
      " $ cd.tail.L.GA.SMACorr: num [1:29, 1] -0.0361 0.1203 0.0231 -0.1565 -0.2195 ...\n",
      " $ cd.tail.L.GA.n30    : num [1:30, 1:9] -0.04649 0.10255 -0.00971 -0.10237 -0.10702 ...\n",
      " $ cd.tail.R1000       : num [1:29, 1] 0.1296 -0.2979 0.0496 0.266 0.026 ...\n",
      " $ cd.tail.R300        : num [1:29, 1] 0.154 -0.2852 -0.0154 0.2788 0.0435 ...\n",
      " $ cd.tail.R500        : num [1:29, 1] 0.1483 -0.2907 0.0158 0.2885 0.0287 ...\n",
      " $ cd.tail.R.GA        : num [1:29, 1:9] -0.0202 0.1447 -0.0512 -0.1189 -0.0535 ...\n",
      " $ cd.tail.R.GA.M1Corr : num [1:29, 1] 0.00658 0.20217 -0.00381 -0.01678 -0.11856 ...\n",
      " $ cd.tail.R.GA.R.M1   : num [1:29, 1] 0.0426 0.2131 -0.1283 -0.0698 -0.0438 ...\n",
      " $ cd.tail.R.GA.SMA    : num [1:29, 1:3] -0.02763 0.13797 -0.05301 -0.05625 0.00265 ...\n",
      " $ cd.tail.R.GA.SMACorr: num [1:29, 1] -0.0684 0.0196 0.0508 -0.2088 -0.094 ...\n",
      " $ cd.tail.R.GA.n30    : num [1:30, 1:9] -0.0202 0.1447 -0.0512 -0.1189 -0.0535 ...\n",
      " $ d                   : num [1:29, 1:2] -0.0542 0.0355 -0.0944 -0.1783 -0.1347 ...\n",
      " $ data                : num [1:29, 1] 0.2329 -0.4603 0.0885 0.4607 0.1522 ...\n",
      " $ data2               : num [1:29, 1] 0.146 -0.165 0.108 0.188 0.101 ...\n",
      " $ dataL               : num [1:29, 1:9] 0.09175 -0.13965 0.00907 0.18807 0.11149 ...\n",
      " $ dataR               : num [1:29, 1:9] 0.0802 -0.2276 0.1347 0.2202 0.0347 ...\n",
      " $ data.caudate.body.R : num [1:29, 1:9] 0.0247 -0.0372 0.0574 0.2565 0.1763 ...\n",
      " $ data.caudate.tail.L : num [1:29, 1:9] 0.09175 -0.13965 0.00907 0.18807 0.11149 ...\n",
      " $ data.caudate.tail.R : num [1:29, 1:9] 0.0802 -0.2276 0.1347 0.2202 0.0347 ...\n",
      " $ data.cdt.L          : num [1:29, 1:9] 0.0112 0.0391 -0.0226 -0.0474 0.0623 ...\n",
      " $ data.cdt.R          : num [1:29, 1:9] -0.0543 -0.1826 0.0941 0.0487 0.1373 ...\n",
      " $ e                   : num [1, 1:4] 0.29135 5.34477 0.01137 0.00305\n",
      " $ err                 : num [1, 1:1000] 5.157 2.701 4.467 0.807 2.729 ...\n",
      " $ expl                : num [1:1000, 1:14] 1.721 1.792 1.621 -0.394 0.83 ...\n",
      " $ f                   : num [1, 1] -0.535\n",
      " $ fanL                : num [1:29, 1:4] 0.0702 -0.1034 0.119 0.1493 0.1183 ...\n",
      " $ fanR                : num [1:29, 1:4] 0.13706 -0.19068 0.00954 0.18423 0.10525 ...\n",
      " $ fpL                 : num [1, 1:4] 0.161 0.174 0.0192 0.045\n",
      " $ fpR                 : num [1, 1:4] 0.0524 0.3927 0.1101 0.2432\n",
      " $ frL                 : num [1, 1:4] 0.272 0.264 0.44 0.382\n",
      " $ frR                 : num [1, 1:4] 0.37 0.168 0.309 0.228\n",
      " $ g                   : num [1, 1] 0.00335\n",
      " $ h                   : num [1, 1] -0.541\n",
      " $ headLL              : num [1:30, 1] 0.0145 0.0295 -0.0828 0.0604 0.0476 ...\n",
      " $ headLL.new          : num [1:30, 1] 0.1136 0.059 0.0154 0.1338 0.2014 ...\n",
      " $ headLR              : num [1:30, 1] -0.007441 -0.006556 0.000705 0.099842 0.036295 ...\n",
      " $ headLR.new          : num [1:30, 1] 0.0145 0.0295 -0.0828 0.0604 0.0476 ...\n",
      " $ headRL              : num [1:30, 1] 0.1136 0.059 0.0154 0.1338 0.2014 ...\n",
      " $ headRL.new          : num [1:30, 1] 0.016944 -0.006303 0.000712 0.128674 0.089835 ...\n",
      " $ headRR              : num [1:30, 1] 0.016944 -0.006303 0.000712 0.128674 0.089835 ...\n",
      " $ headRR.new          : num [1:30, 1] -0.007441 -0.006556 0.000705 0.099842 0.036295 ...\n",
      " $ i                   : num [1, 1] 0.00246\n",
      " $ idx                 : num [1, 1:29] 1 2 3 4 5 6 7 8 9 10 ...\n",
      " $ ind                 : num[1, 0 ] \n",
      " $ j                   : num [1:2, 1] -4.29e-17 -3.46e-01\n",
      " $ k                   : num [1:2, 1:2] -0.0272 -0.5592 0.0272 -0.1336\n",
      " $ l                   : num [1:29, 1] 0.0562 0.1344 0.0162 -0.0745 -0.0211 ...\n",
      " $ la.fit              : num [1:29, 1] 0.621 0.524 0.627 0.652 0.321 ...\n",
      " $ lr                  : num [1:29, 1] 0.526 0.943 0.96 0.243 0.401 ...\n",
      " $ lr30                : num [1:30, 1] 0.526 0.943 0.96 0.243 0.401 ...\n",
      " $ m                   : num [1:29, 1:2] -0.053 0.0375 -0.0928 -0.1809 -0.1323 ...\n",
      " $ mu                  : num [1:1000, 1:14] 0.321 0.321 0.323 0.322 0.301 ...\n",
      " $ mu.glove            : num [1, 1:14] 0.3209 0.0595 0.5272 0.3847 0.3461 ...\n",
      " $ n                   : num [1, 1:4] 0.29229 11.1514 0.00246 0.00294\n",
      " $ p                   : num [1:5, 1:5] 0 0.0587 0.5592 0.0476 0.5273 ...\n",
      " $ pL                  : num [1, 1:9] 0.2114 0.0724 0.0492 0.04 0.0406 ...\n",
      " $ pR                  : num [1, 1:9] 0.1222 0.057 0.0355 0.0323 0.0297 ...\n",
      " $ pcd.body            : num [1, 1:3] 0.1012 0.0593 0.1124\n",
      " $ pcd.body.R          : num [1, 1:9] 0.83 0.713 0.486 0.362 0.307 ...\n",
      " $ pcd.tail            : num [1, 1:9] 0.0347 0.0205 0.0196 0.0224 0.0241 ...\n",
      " $ pcd.tail.L          : num [1, 1:9] 0.271 0.151 0.129 0.128 0.117 ...\n",
      "  [list output truncated]\n",
      " - attr(*, \"header\")=List of 3\n",
      "  ..$ description: chr \"MATLAB 5.0 MAT-file, Platform: MACI64, Created on: Fri May 22 21:56:50 2020                                         \"\n",
      "  ..$ version    : chr \"5\"\n",
      "  ..$ endian     : chr \"little\"\n"
     ]
    }
   ],
   "source": [
    "str(regressionData)"
   ]
  },
  {
   "cell_type": "code",
   "execution_count": 7,
   "metadata": {},
   "outputs": [],
   "source": [
    "data_dir <- '/Volumes/clmnlab/GA/Connectivity/result/rest_WM_Vent_BP/group.WM/visualization/'"
   ]
  },
  {
   "cell_type": "code",
   "execution_count": 12,
   "metadata": {},
   "outputs": [
    {
     "data": {
      "text/html": [
       "'/Volumes/clmnlab/GA/Connectivity/result/rest_WM_Vent_BP/group.WM/visualization/headLR_LR-DLPFC.1D'"
      ],
      "text/latex": [
       "'/Volumes/clmnlab/GA/Connectivity/result/rest\\_WM\\_Vent\\_BP/group.WM/visualization/headLR\\_LR-DLPFC.1D'"
      ],
      "text/markdown": [
       "'/Volumes/clmnlab/GA/Connectivity/result/rest_WM_Vent_BP/group.WM/visualization/headLR_LR-DLPFC.1D'"
      ],
      "text/plain": [
       "[1] \"/Volumes/clmnlab/GA/Connectivity/result/rest_WM_Vent_BP/group.WM/visualization/headLR_LR-DLPFC.1D\""
      ]
     },
     "metadata": {},
     "output_type": "display_data"
    }
   ],
   "source": [
    "paste(data_dir, 'headLR_LR-DLPFC.1D', sep='')"
   ]
  },
  {
   "cell_type": "code",
   "execution_count": 8,
   "metadata": {},
   "outputs": [],
   "source": [
    "headLR = c(read.table(paste(data_dir, 'headLR_LR-DLPFC.1D', sep=''), header=F))$V1\n",
    "bodyLR = c(read.table(paste(data_dir, 'bodyLR_LR-DLPFC.1D', sep=''), header=F))$V1\n",
    "tailLR = c(read.table(paste(data_dir, 'tailLR_L-M1S1.1D', sep=''), header=F))$V1\n",
    "tailL = c(read.table(paste(data_dir, 'tailL_LR-Vis.1D', sep=''), header=F))$V1\n",
    "tailR = c(read.table(paste(data_dir, 'tailR_LR-Vis.1D', sep=''), header=F))$V1"
   ]
  },
  {
   "cell_type": "code",
   "execution_count": 9,
   "metadata": {},
   "outputs": [],
   "source": [
    "headLR_n29 = headLR[c(-29)]\n",
    "bodyLR_n29 = bodyLR[c(-29)]\n",
    "tailLR_n29 = tailLR[c(-29)]\n",
    "tailL_n29 = tailL[c(-29)]\n",
    "tailR_n29 = tailR[c(-29)]"
   ]
  },
  {
   "cell_type": "code",
   "execution_count": 10,
   "metadata": {},
   "outputs": [],
   "source": [
    "reward_total <- c(read.table('/Volumes/clmnlab/GA/Connectivity/result/rest_WM_Vent_BP/group.WM/rew_amount_total_n30.1D', header=F))\n",
    "learning_rate <- c(read.table('/Volumes/clmnlab/GA/Connectivity/result/rest_WM_Vent_BP/group.WM/learning_rate_n30.1D', header=F))"
   ]
  },
  {
   "cell_type": "code",
   "execution_count": 11,
   "metadata": {},
   "outputs": [],
   "source": [
    "reward_total = reward_total$V1\n",
    "learning_rate = learning_rate$V1"
   ]
  },
  {
   "cell_type": "code",
   "execution_count": 12,
   "metadata": {},
   "outputs": [],
   "source": [
    "reward_total_n29 = reward_total[c(-29)]\n",
    "learning_rate_n29 = learning_rate[c(-29)]"
   ]
  },
  {
   "cell_type": "code",
   "execution_count": 13,
   "metadata": {},
   "outputs": [],
   "source": [
    "subj_list = c(\"GA01\", \"GA02\", \"GA05\", \"GA07\", \"GA08\", \"GA11\", \"GA12\", \"GA13\", \"GA14\", \"GA15\", \"GA18\", \"GA19\", \"GA20\", \"GA21\", \"GA23\", \"GA26\", \"GA27\", \"GA28\", \"GA29\", \"GA30\", \"GA31\", \"GA32\", \"GA33\", \"GA34\", \"GA35\", \"GA36\", \"GA37\", \"GA38\", \"GA42\", \"GA44\")\n",
    "subj_list_n29 = c(\"GA01\", \"GA02\", \"GA05\", \"GA07\", \"GA08\", \"GA11\", \"GA12\", \"GA13\", \"GA14\", \"GA15\", \"GA18\", \"GA19\", \"GA20\", \"GA21\", \"GA23\", \"GA26\", \"GA27\", \"GA28\", \"GA29\", \"GA30\", \"GA31\", \"GA32\", \"GA33\", \"GA34\", \"GA35\", \"GA36\", \"GA37\", \"GA38\", \"GA44\")"
   ]
  },
  {
   "cell_type": "code",
   "execution_count": 14,
   "metadata": {},
   "outputs": [],
   "source": [
    "df_n30 <- data.frame(subj_list, reward_total, learning_rate, headLR, bodyLR, tailLR, tailL, tailR)"
   ]
  },
  {
   "cell_type": "code",
   "execution_count": 15,
   "metadata": {},
   "outputs": [],
   "source": [
    "df_n29 <- data.frame(subj_list_n29, reward_total_n29, learning_rate_n29, headLR_n29, bodyLR_n29, tailLR_n29, tailL_n29, tailR_n29)"
   ]
  },
  {
   "cell_type": "code",
   "execution_count": 16,
   "metadata": {},
   "outputs": [],
   "source": [
    "colnames(df_n29) <- c(\"subj_list\", \"reward_total\", \"learning_rate\", \"headLR\", \"bodyLR\", \"tailLR\", \"tailL\", \"tailR\")"
   ]
  },
  {
   "cell_type": "code",
   "execution_count": 17,
   "metadata": {},
   "outputs": [
    {
     "data": {
      "text/html": [
       "<table>\n",
       "<caption>A data.frame: 29 × 8</caption>\n",
       "<thead>\n",
       "\t<tr><th scope=col>subj_list</th><th scope=col>reward_total</th><th scope=col>learning_rate</th><th scope=col>headLR</th><th scope=col>bodyLR</th><th scope=col>tailLR</th><th scope=col>tailL</th><th scope=col>tailR</th></tr>\n",
       "\t<tr><th scope=col>&lt;fct&gt;</th><th scope=col>&lt;dbl&gt;</th><th scope=col>&lt;dbl&gt;</th><th scope=col>&lt;dbl&gt;</th><th scope=col>&lt;dbl&gt;</th><th scope=col>&lt;dbl&gt;</th><th scope=col>&lt;dbl&gt;</th><th scope=col>&lt;dbl&gt;</th></tr>\n",
       "</thead>\n",
       "<tbody>\n",
       "\t<tr><td>GA01</td><td>0.6769907</td><td>0.525582</td><td> 0.06672614</td><td> 0.03721290</td><td>-0.08794420</td><td>-0.08443120</td><td> 0.06692120</td></tr>\n",
       "\t<tr><td>GA02</td><td>0.7265311</td><td>0.942607</td><td> 0.03729332</td><td> 0.29865300</td><td> 0.23941120</td><td>-0.00561900</td><td> 0.09646750</td></tr>\n",
       "\t<tr><td>GA05</td><td>0.6635334</td><td>0.959975</td><td>-0.03465063</td><td> 0.01593761</td><td>-0.10050430</td><td>-0.09908380</td><td>-0.19574900</td></tr>\n",
       "\t<tr><td>GA07</td><td>0.5111144</td><td>0.242547</td><td> 0.20965040</td><td> 0.21406630</td><td>-0.29264000</td><td> 0.09026970</td><td> 0.19055500</td></tr>\n",
       "\t<tr><td>GA08</td><td>0.5820238</td><td>0.401268</td><td> 0.18405170</td><td> 0.28454300</td><td>-0.23173780</td><td> 0.04622100</td><td>-0.08097830</td></tr>\n",
       "\t<tr><td>GA11</td><td>0.5181134</td><td>0.567054</td><td> 0.57527300</td><td> 0.61270000</td><td> 0.04466060</td><td> 0.04369540</td><td>-0.12897300</td></tr>\n",
       "\t<tr><td>GA12</td><td>0.5627166</td><td>0.713982</td><td> 0.52234500</td><td> 0.50143700</td><td> 0.06301990</td><td> 0.00758420</td><td>-0.03024480</td></tr>\n",
       "\t<tr><td>GA13</td><td>0.5759838</td><td>0.357279</td><td> 0.18179280</td><td> 0.11293410</td><td>-0.18431960</td><td> 0.16401800</td><td> 0.08096710</td></tr>\n",
       "\t<tr><td>GA14</td><td>0.5625827</td><td>0.622562</td><td> 0.18433370</td><td> 0.33240500</td><td>-0.17150450</td><td>-0.04748760</td><td>-0.08701490</td></tr>\n",
       "\t<tr><td>GA15</td><td>0.6124669</td><td>0.778031</td><td> 0.11839850</td><td> 0.14851170</td><td>-0.06347970</td><td>-0.03325990</td><td>-0.08858560</td></tr>\n",
       "\t<tr><td>GA18</td><td>0.6708945</td><td>0.808684</td><td> 0.04260190</td><td> 0.13311340</td><td> 0.03637090</td><td>-0.04757630</td><td>-0.04840790</td></tr>\n",
       "\t<tr><td>GA19</td><td>0.5915658</td><td>0.668049</td><td> 0.21912400</td><td> 0.23717320</td><td> 0.08119820</td><td>-0.01539730</td><td> 0.02356900</td></tr>\n",
       "\t<tr><td>GA20</td><td>0.4862847</td><td>0.567469</td><td> 0.31963900</td><td> 0.33141700</td><td>-0.08348780</td><td> 0.04928030</td><td> 0.00801266</td></tr>\n",
       "\t<tr><td>GA21</td><td>0.5955556</td><td>0.740432</td><td> 0.10647990</td><td> 0.08229600</td><td> 0.04184400</td><td>-0.03000700</td><td> 0.11377100</td></tr>\n",
       "\t<tr><td>GA23</td><td>0.6721081</td><td>1.637475</td><td>-0.00914520</td><td> 0.12299680</td><td> 0.38552100</td><td>-0.08830390</td><td>-0.12217800</td></tr>\n",
       "\t<tr><td>GA26</td><td>0.6913724</td><td>1.066952</td><td>-0.07777951</td><td>-0.01062450</td><td> 0.00931260</td><td> 0.01644920</td><td>-0.02771300</td></tr>\n",
       "\t<tr><td>GA27</td><td>0.6684689</td><td>0.907538</td><td> 0.09374200</td><td> 0.15547400</td><td> 0.01406518</td><td>-0.02953190</td><td>-0.08377140</td></tr>\n",
       "\t<tr><td>GA28</td><td>0.5989187</td><td>0.627215</td><td> 0.25821600</td><td> 0.10559570</td><td>-0.04235050</td><td>-0.00445882</td><td> 0.00676903</td></tr>\n",
       "\t<tr><td>GA29</td><td>0.5874206</td><td>0.715821</td><td>-0.00565090</td><td> 0.03911520</td><td>-0.11877660</td><td>-0.06065310</td><td> 0.01258390</td></tr>\n",
       "\t<tr><td>GA30</td><td>0.6889054</td><td>1.667116</td><td> 0.30360800</td><td> 0.35922600</td><td> 0.09905740</td><td>-0.05807200</td><td> 0.00279575</td></tr>\n",
       "\t<tr><td>GA31</td><td>0.6519692</td><td>0.618828</td><td> 0.04969063</td><td> 0.04010095</td><td> 0.04841190</td><td>-0.08145190</td><td>-0.08278580</td></tr>\n",
       "\t<tr><td>GA32</td><td>0.6378671</td><td>1.307465</td><td> 0.21383500</td><td>-0.07172120</td><td>-0.43933100</td><td> 0.10682200</td><td>-0.00226044</td></tr>\n",
       "\t<tr><td>GA33</td><td>0.5866369</td><td>0.638812</td><td> 0.18740240</td><td> 0.09595873</td><td>-0.17853920</td><td>-0.10540600</td><td>-0.15236900</td></tr>\n",
       "\t<tr><td>GA34</td><td>0.6440592</td><td>0.991642</td><td> 0.03114580</td><td> 0.07676840</td><td>-0.13853518</td><td> 0.07093260</td><td> 0.08701330</td></tr>\n",
       "\t<tr><td>GA35</td><td>0.6001587</td><td>0.513985</td><td>-0.28881800</td><td>-0.15360350</td><td>-0.01929037</td><td> 0.06924870</td><td> 0.09234240</td></tr>\n",
       "\t<tr><td>GA36</td><td>0.7030192</td><td>0.620010</td><td>-0.00981015</td><td> 0.00453571</td><td> 0.17066380</td><td>-0.01950540</td><td> 0.05185710</td></tr>\n",
       "\t<tr><td>GA37</td><td>0.5476885</td><td>0.651910</td><td> 0.12929620</td><td> 0.15777930</td><td>-0.12590510</td><td> 0.05928000</td><td> 0.04201660</td></tr>\n",
       "\t<tr><td>GA38</td><td>0.5599239</td><td>0.228605</td><td> 0.16922900</td><td> 0.35523600</td><td>-0.24703510</td><td> 0.04007750</td><td> 0.05767000</td></tr>\n",
       "\t<tr><td>GA44</td><td>0.5275992</td><td>0.410077</td><td> 0.44261300</td><td> 0.52448200</td><td>-0.14203730</td><td> 0.01972770</td><td> 0.05770340</td></tr>\n",
       "</tbody>\n",
       "</table>\n"
      ],
      "text/latex": [
       "A data.frame: 29 × 8\n",
       "\\begin{tabular}{llllllll}\n",
       " subj\\_list & reward\\_total & learning\\_rate & headLR & bodyLR & tailLR & tailL & tailR\\\\\n",
       " <fct> & <dbl> & <dbl> & <dbl> & <dbl> & <dbl> & <dbl> & <dbl>\\\\\n",
       "\\hline\n",
       "\t GA01 & 0.6769907 & 0.525582 &  0.06672614 &  0.03721290 & -0.08794420 & -0.08443120 &  0.06692120\\\\\n",
       "\t GA02 & 0.7265311 & 0.942607 &  0.03729332 &  0.29865300 &  0.23941120 & -0.00561900 &  0.09646750\\\\\n",
       "\t GA05 & 0.6635334 & 0.959975 & -0.03465063 &  0.01593761 & -0.10050430 & -0.09908380 & -0.19574900\\\\\n",
       "\t GA07 & 0.5111144 & 0.242547 &  0.20965040 &  0.21406630 & -0.29264000 &  0.09026970 &  0.19055500\\\\\n",
       "\t GA08 & 0.5820238 & 0.401268 &  0.18405170 &  0.28454300 & -0.23173780 &  0.04622100 & -0.08097830\\\\\n",
       "\t GA11 & 0.5181134 & 0.567054 &  0.57527300 &  0.61270000 &  0.04466060 &  0.04369540 & -0.12897300\\\\\n",
       "\t GA12 & 0.5627166 & 0.713982 &  0.52234500 &  0.50143700 &  0.06301990 &  0.00758420 & -0.03024480\\\\\n",
       "\t GA13 & 0.5759838 & 0.357279 &  0.18179280 &  0.11293410 & -0.18431960 &  0.16401800 &  0.08096710\\\\\n",
       "\t GA14 & 0.5625827 & 0.622562 &  0.18433370 &  0.33240500 & -0.17150450 & -0.04748760 & -0.08701490\\\\\n",
       "\t GA15 & 0.6124669 & 0.778031 &  0.11839850 &  0.14851170 & -0.06347970 & -0.03325990 & -0.08858560\\\\\n",
       "\t GA18 & 0.6708945 & 0.808684 &  0.04260190 &  0.13311340 &  0.03637090 & -0.04757630 & -0.04840790\\\\\n",
       "\t GA19 & 0.5915658 & 0.668049 &  0.21912400 &  0.23717320 &  0.08119820 & -0.01539730 &  0.02356900\\\\\n",
       "\t GA20 & 0.4862847 & 0.567469 &  0.31963900 &  0.33141700 & -0.08348780 &  0.04928030 &  0.00801266\\\\\n",
       "\t GA21 & 0.5955556 & 0.740432 &  0.10647990 &  0.08229600 &  0.04184400 & -0.03000700 &  0.11377100\\\\\n",
       "\t GA23 & 0.6721081 & 1.637475 & -0.00914520 &  0.12299680 &  0.38552100 & -0.08830390 & -0.12217800\\\\\n",
       "\t GA26 & 0.6913724 & 1.066952 & -0.07777951 & -0.01062450 &  0.00931260 &  0.01644920 & -0.02771300\\\\\n",
       "\t GA27 & 0.6684689 & 0.907538 &  0.09374200 &  0.15547400 &  0.01406518 & -0.02953190 & -0.08377140\\\\\n",
       "\t GA28 & 0.5989187 & 0.627215 &  0.25821600 &  0.10559570 & -0.04235050 & -0.00445882 &  0.00676903\\\\\n",
       "\t GA29 & 0.5874206 & 0.715821 & -0.00565090 &  0.03911520 & -0.11877660 & -0.06065310 &  0.01258390\\\\\n",
       "\t GA30 & 0.6889054 & 1.667116 &  0.30360800 &  0.35922600 &  0.09905740 & -0.05807200 &  0.00279575\\\\\n",
       "\t GA31 & 0.6519692 & 0.618828 &  0.04969063 &  0.04010095 &  0.04841190 & -0.08145190 & -0.08278580\\\\\n",
       "\t GA32 & 0.6378671 & 1.307465 &  0.21383500 & -0.07172120 & -0.43933100 &  0.10682200 & -0.00226044\\\\\n",
       "\t GA33 & 0.5866369 & 0.638812 &  0.18740240 &  0.09595873 & -0.17853920 & -0.10540600 & -0.15236900\\\\\n",
       "\t GA34 & 0.6440592 & 0.991642 &  0.03114580 &  0.07676840 & -0.13853518 &  0.07093260 &  0.08701330\\\\\n",
       "\t GA35 & 0.6001587 & 0.513985 & -0.28881800 & -0.15360350 & -0.01929037 &  0.06924870 &  0.09234240\\\\\n",
       "\t GA36 & 0.7030192 & 0.620010 & -0.00981015 &  0.00453571 &  0.17066380 & -0.01950540 &  0.05185710\\\\\n",
       "\t GA37 & 0.5476885 & 0.651910 &  0.12929620 &  0.15777930 & -0.12590510 &  0.05928000 &  0.04201660\\\\\n",
       "\t GA38 & 0.5599239 & 0.228605 &  0.16922900 &  0.35523600 & -0.24703510 &  0.04007750 &  0.05767000\\\\\n",
       "\t GA44 & 0.5275992 & 0.410077 &  0.44261300 &  0.52448200 & -0.14203730 &  0.01972770 &  0.05770340\\\\\n",
       "\\end{tabular}\n"
      ],
      "text/markdown": [
       "\n",
       "A data.frame: 29 × 8\n",
       "\n",
       "| subj_list &lt;fct&gt; | reward_total &lt;dbl&gt; | learning_rate &lt;dbl&gt; | headLR &lt;dbl&gt; | bodyLR &lt;dbl&gt; | tailLR &lt;dbl&gt; | tailL &lt;dbl&gt; | tailR &lt;dbl&gt; |\n",
       "|---|---|---|---|---|---|---|---|\n",
       "| GA01 | 0.6769907 | 0.525582 |  0.06672614 |  0.03721290 | -0.08794420 | -0.08443120 |  0.06692120 |\n",
       "| GA02 | 0.7265311 | 0.942607 |  0.03729332 |  0.29865300 |  0.23941120 | -0.00561900 |  0.09646750 |\n",
       "| GA05 | 0.6635334 | 0.959975 | -0.03465063 |  0.01593761 | -0.10050430 | -0.09908380 | -0.19574900 |\n",
       "| GA07 | 0.5111144 | 0.242547 |  0.20965040 |  0.21406630 | -0.29264000 |  0.09026970 |  0.19055500 |\n",
       "| GA08 | 0.5820238 | 0.401268 |  0.18405170 |  0.28454300 | -0.23173780 |  0.04622100 | -0.08097830 |\n",
       "| GA11 | 0.5181134 | 0.567054 |  0.57527300 |  0.61270000 |  0.04466060 |  0.04369540 | -0.12897300 |\n",
       "| GA12 | 0.5627166 | 0.713982 |  0.52234500 |  0.50143700 |  0.06301990 |  0.00758420 | -0.03024480 |\n",
       "| GA13 | 0.5759838 | 0.357279 |  0.18179280 |  0.11293410 | -0.18431960 |  0.16401800 |  0.08096710 |\n",
       "| GA14 | 0.5625827 | 0.622562 |  0.18433370 |  0.33240500 | -0.17150450 | -0.04748760 | -0.08701490 |\n",
       "| GA15 | 0.6124669 | 0.778031 |  0.11839850 |  0.14851170 | -0.06347970 | -0.03325990 | -0.08858560 |\n",
       "| GA18 | 0.6708945 | 0.808684 |  0.04260190 |  0.13311340 |  0.03637090 | -0.04757630 | -0.04840790 |\n",
       "| GA19 | 0.5915658 | 0.668049 |  0.21912400 |  0.23717320 |  0.08119820 | -0.01539730 |  0.02356900 |\n",
       "| GA20 | 0.4862847 | 0.567469 |  0.31963900 |  0.33141700 | -0.08348780 |  0.04928030 |  0.00801266 |\n",
       "| GA21 | 0.5955556 | 0.740432 |  0.10647990 |  0.08229600 |  0.04184400 | -0.03000700 |  0.11377100 |\n",
       "| GA23 | 0.6721081 | 1.637475 | -0.00914520 |  0.12299680 |  0.38552100 | -0.08830390 | -0.12217800 |\n",
       "| GA26 | 0.6913724 | 1.066952 | -0.07777951 | -0.01062450 |  0.00931260 |  0.01644920 | -0.02771300 |\n",
       "| GA27 | 0.6684689 | 0.907538 |  0.09374200 |  0.15547400 |  0.01406518 | -0.02953190 | -0.08377140 |\n",
       "| GA28 | 0.5989187 | 0.627215 |  0.25821600 |  0.10559570 | -0.04235050 | -0.00445882 |  0.00676903 |\n",
       "| GA29 | 0.5874206 | 0.715821 | -0.00565090 |  0.03911520 | -0.11877660 | -0.06065310 |  0.01258390 |\n",
       "| GA30 | 0.6889054 | 1.667116 |  0.30360800 |  0.35922600 |  0.09905740 | -0.05807200 |  0.00279575 |\n",
       "| GA31 | 0.6519692 | 0.618828 |  0.04969063 |  0.04010095 |  0.04841190 | -0.08145190 | -0.08278580 |\n",
       "| GA32 | 0.6378671 | 1.307465 |  0.21383500 | -0.07172120 | -0.43933100 |  0.10682200 | -0.00226044 |\n",
       "| GA33 | 0.5866369 | 0.638812 |  0.18740240 |  0.09595873 | -0.17853920 | -0.10540600 | -0.15236900 |\n",
       "| GA34 | 0.6440592 | 0.991642 |  0.03114580 |  0.07676840 | -0.13853518 |  0.07093260 |  0.08701330 |\n",
       "| GA35 | 0.6001587 | 0.513985 | -0.28881800 | -0.15360350 | -0.01929037 |  0.06924870 |  0.09234240 |\n",
       "| GA36 | 0.7030192 | 0.620010 | -0.00981015 |  0.00453571 |  0.17066380 | -0.01950540 |  0.05185710 |\n",
       "| GA37 | 0.5476885 | 0.651910 |  0.12929620 |  0.15777930 | -0.12590510 |  0.05928000 |  0.04201660 |\n",
       "| GA38 | 0.5599239 | 0.228605 |  0.16922900 |  0.35523600 | -0.24703510 |  0.04007750 |  0.05767000 |\n",
       "| GA44 | 0.5275992 | 0.410077 |  0.44261300 |  0.52448200 | -0.14203730 |  0.01972770 |  0.05770340 |\n",
       "\n"
      ],
      "text/plain": [
       "   subj_list reward_total learning_rate headLR      bodyLR      tailLR     \n",
       "1  GA01      0.6769907    0.525582       0.06672614  0.03721290 -0.08794420\n",
       "2  GA02      0.7265311    0.942607       0.03729332  0.29865300  0.23941120\n",
       "3  GA05      0.6635334    0.959975      -0.03465063  0.01593761 -0.10050430\n",
       "4  GA07      0.5111144    0.242547       0.20965040  0.21406630 -0.29264000\n",
       "5  GA08      0.5820238    0.401268       0.18405170  0.28454300 -0.23173780\n",
       "6  GA11      0.5181134    0.567054       0.57527300  0.61270000  0.04466060\n",
       "7  GA12      0.5627166    0.713982       0.52234500  0.50143700  0.06301990\n",
       "8  GA13      0.5759838    0.357279       0.18179280  0.11293410 -0.18431960\n",
       "9  GA14      0.5625827    0.622562       0.18433370  0.33240500 -0.17150450\n",
       "10 GA15      0.6124669    0.778031       0.11839850  0.14851170 -0.06347970\n",
       "11 GA18      0.6708945    0.808684       0.04260190  0.13311340  0.03637090\n",
       "12 GA19      0.5915658    0.668049       0.21912400  0.23717320  0.08119820\n",
       "13 GA20      0.4862847    0.567469       0.31963900  0.33141700 -0.08348780\n",
       "14 GA21      0.5955556    0.740432       0.10647990  0.08229600  0.04184400\n",
       "15 GA23      0.6721081    1.637475      -0.00914520  0.12299680  0.38552100\n",
       "16 GA26      0.6913724    1.066952      -0.07777951 -0.01062450  0.00931260\n",
       "17 GA27      0.6684689    0.907538       0.09374200  0.15547400  0.01406518\n",
       "18 GA28      0.5989187    0.627215       0.25821600  0.10559570 -0.04235050\n",
       "19 GA29      0.5874206    0.715821      -0.00565090  0.03911520 -0.11877660\n",
       "20 GA30      0.6889054    1.667116       0.30360800  0.35922600  0.09905740\n",
       "21 GA31      0.6519692    0.618828       0.04969063  0.04010095  0.04841190\n",
       "22 GA32      0.6378671    1.307465       0.21383500 -0.07172120 -0.43933100\n",
       "23 GA33      0.5866369    0.638812       0.18740240  0.09595873 -0.17853920\n",
       "24 GA34      0.6440592    0.991642       0.03114580  0.07676840 -0.13853518\n",
       "25 GA35      0.6001587    0.513985      -0.28881800 -0.15360350 -0.01929037\n",
       "26 GA36      0.7030192    0.620010      -0.00981015  0.00453571  0.17066380\n",
       "27 GA37      0.5476885    0.651910       0.12929620  0.15777930 -0.12590510\n",
       "28 GA38      0.5599239    0.228605       0.16922900  0.35523600 -0.24703510\n",
       "29 GA44      0.5275992    0.410077       0.44261300  0.52448200 -0.14203730\n",
       "   tailL       tailR      \n",
       "1  -0.08443120  0.06692120\n",
       "2  -0.00561900  0.09646750\n",
       "3  -0.09908380 -0.19574900\n",
       "4   0.09026970  0.19055500\n",
       "5   0.04622100 -0.08097830\n",
       "6   0.04369540 -0.12897300\n",
       "7   0.00758420 -0.03024480\n",
       "8   0.16401800  0.08096710\n",
       "9  -0.04748760 -0.08701490\n",
       "10 -0.03325990 -0.08858560\n",
       "11 -0.04757630 -0.04840790\n",
       "12 -0.01539730  0.02356900\n",
       "13  0.04928030  0.00801266\n",
       "14 -0.03000700  0.11377100\n",
       "15 -0.08830390 -0.12217800\n",
       "16  0.01644920 -0.02771300\n",
       "17 -0.02953190 -0.08377140\n",
       "18 -0.00445882  0.00676903\n",
       "19 -0.06065310  0.01258390\n",
       "20 -0.05807200  0.00279575\n",
       "21 -0.08145190 -0.08278580\n",
       "22  0.10682200 -0.00226044\n",
       "23 -0.10540600 -0.15236900\n",
       "24  0.07093260  0.08701330\n",
       "25  0.06924870  0.09234240\n",
       "26 -0.01950540  0.05185710\n",
       "27  0.05928000  0.04201660\n",
       "28  0.04007750  0.05767000\n",
       "29  0.01972770  0.05770340"
      ]
     },
     "metadata": {},
     "output_type": "display_data"
    }
   ],
   "source": [
    "df_n29"
   ]
  },
  {
   "cell_type": "code",
   "execution_count": 18,
   "metadata": {},
   "outputs": [
    {
     "data": {
      "text/plain": [
       "    Min.  1st Qu.   Median     Mean  3rd Qu.     Max. \n",
       "-0.28882  0.03729  0.12930  0.14554  0.21383  0.57527 "
      ]
     },
     "metadata": {},
     "output_type": "display_data"
    }
   ],
   "source": [
    "summary(df_n29$headLR)"
   ]
  },
  {
   "cell_type": "code",
   "execution_count": 19,
   "metadata": {},
   "outputs": [],
   "source": [
    "p5 <- ggscatter(df_n29, x=\"headLR\", y=\"reward_total\",\n",
    "                xlab = \"Caudate head–DLPFC\\nrs-fMRI connectivity (Z)\",\n",
    "                ylab = \"Overall success rate\",\n",
    "                xlim = c(-0.35, 0.65),\n",
    "                ylim = c(0.40, 0.80),\n",
    "                add = \"reg.line\",\n",
    "                add.params = list(color = \"black\", fill = \"lightgray\"),\n",
    "                conf.int = TRUE,\n",
    "                conf.int.level = 0.95,\n",
    "                cor.coef = TRUE,\n",
    "                cor.coeff.args = list(method = \"pearson\", size = 4, label.x = -0.25, label.y = 0.475, label.sep = \"\\n\"),\n",
    "                fullrange=T\n",
    "               )"
   ]
  },
  {
   "cell_type": "code",
   "execution_count": 37,
   "metadata": {},
   "outputs": [
    {
     "name": "stderr",
     "output_type": "stream",
     "text": [
      "Coordinate system already present. Adding new coordinate system, which will replace the existing one.\n",
      "\n",
      "`geom_smooth()` using formula 'y ~ x'\n",
      "\n",
      "file saved to rsfMRI_caudateHeadLR_dlpfcLR_success_20200526.png\n",
      "\n"
     ]
    }
   ],
   "source": [
    "p5_ed <-\n",
    "p5 + \n",
    "geom_point(size = 2) + \n",
    "theme_pubr() +\n",
    "theme(axis.title.x = element_text(margin = margin(t = 5, r = 0, b = 0, l = 0)),\n",
    "      axis.title.y = element_text(margin = margin(t = 0, r = 5, b = 0, l = 0))) +\n",
    "scale_x_continuous(expand=c(0, 0), limits=c(-0.35, 0.65)) +\n",
    "scale_y_continuous(expand=c(0, 0), limits=c(0.40, 0.80)) +\n",
    "coord_cartesian(xlim=c(-0.35, 0.65), ylim=c(0.40, 0.80))\n",
    "\n",
    "ggarrange(p5_ed) %>%\n",
    "    ggexport(filename = \"rsfMRI_caudateHeadLR_dlpfcLR_success_20200526.png\",\n",
    "             width = 800,\n",
    "             height = 800,\n",
    "             res = 300)"
   ]
  },
  {
   "cell_type": "code",
   "execution_count": 22,
   "metadata": {},
   "outputs": [
    {
     "data": {
      "text/plain": [
       "   Min. 1st Qu.  Median    Mean 3rd Qu.    Max. \n",
       "-0.1536  0.0401  0.1331  0.1774  0.2987  0.6127 "
      ]
     },
     "metadata": {},
     "output_type": "display_data"
    }
   ],
   "source": [
    "summary(df_n29$bodyLR)"
   ]
  },
  {
   "cell_type": "code",
   "execution_count": 34,
   "metadata": {},
   "outputs": [],
   "source": [
    "p6 <- ggscatter(df_n29, x=\"bodyLR\", y=\"reward_total\",\n",
    "                xlab = \"Caudate body–DLPFC\\nrs-fMRI connectivity (Z)\",\n",
    "                ylab = \"Overall success rate\",\n",
    "                xlim = c(-0.3, 0.7),\n",
    "                ylim = c(0.40, 0.80),\n",
    "                add = \"reg.line\",\n",
    "                add.params = list(color = \"black\", fill = \"lightgray\"),\n",
    "                conf.int = TRUE,\n",
    "                conf.int.level = 0.95,\n",
    "                cor.coef = TRUE,\n",
    "                cor.coeff.args = list(method = \"pearson\", size = 4, label.x = -0.20, label.y = 0.475, label.sep = \"\\n\"),\n",
    "                fullrange = TRUE\n",
    "               )"
   ]
  },
  {
   "cell_type": "code",
   "execution_count": 36,
   "metadata": {},
   "outputs": [
    {
     "name": "stderr",
     "output_type": "stream",
     "text": [
      "Coordinate system already present. Adding new coordinate system, which will replace the existing one.\n",
      "\n",
      "`geom_smooth()` using formula 'y ~ x'\n",
      "\n",
      "file saved to rsfMRI_caudateBodyLR_dlpfcLR_success_20200526.png\n",
      "\n"
     ]
    }
   ],
   "source": [
    "p6_ed <-\n",
    "p6 + \n",
    "geom_point(size = 2) + \n",
    "theme_pubr() +\n",
    "theme(axis.title.x = element_text(margin = margin(t = 5, r = 0, b = 0, l = 0)),\n",
    "      axis.title.y = element_text(margin = margin(t = 0, r = 5, b = 0, l = 0))) +\n",
    "scale_x_continuous(expand=c(0, 0), breaks=c(-0.2, 0, 0.2, 0.4, 0.6), limits=c(-0.3, 0.7)) +\n",
    "scale_y_continuous(expand=c(0, 0), limits=c(0.40, 0.80)) +\n",
    "coord_cartesian(xlim=c(-0.3, 0.7), ylim=c(0.40, 0.80))\n",
    "\n",
    "ggarrange(p6_ed) %>%\n",
    "    ggexport(filename = \"rsfMRI_caudateBodyLR_dlpfcLR_success_20200526.png\",\n",
    "             width = 800,\n",
    "             height = 800,\n",
    "             res = 300)"
   ]
  },
  {
   "cell_type": "code",
   "execution_count": 25,
   "metadata": {},
   "outputs": [
    {
     "data": {
      "text/plain": [
       "    Min.  1st Qu.   Median     Mean  3rd Qu.     Max. \n",
       "-0.43933 -0.14204 -0.06348 -0.04944  0.04466  0.38552 "
      ]
     },
     "metadata": {},
     "output_type": "display_data"
    }
   ],
   "source": [
    "summary(df_n29$tailLR)"
   ]
  },
  {
   "cell_type": "code",
   "execution_count": 26,
   "metadata": {},
   "outputs": [],
   "source": [
    "p7 <- ggscatter(df_n29, x=\"tailLR\", y=\"reward_total\",\n",
    "                xlab = \"Caudate tail–L M1/S1\\nrs-fMRI connectivity (Z)\",\n",
    "                ylab = \"Overall success rate\",\n",
    "                xlim = c(-0.55, 0.45),\n",
    "                ylim = c(0.40, 0.80),\n",
    "                add = \"reg.line\",\n",
    "                add.params = list(color = \"black\", fill = \"lightgray\"),\n",
    "                conf.int = TRUE,\n",
    "                conf.int.level = 0.95,\n",
    "                cor.coef = TRUE,\n",
    "                cor.coeff.args = list(method = \"pearson\", size = 4, label.x = -0.45, label.y = 0.725, label.sep = \"\\n\"),\n",
    "                fullrange = TRUE\n",
    "               )"
   ]
  },
  {
   "cell_type": "code",
   "execution_count": 38,
   "metadata": {},
   "outputs": [
    {
     "name": "stderr",
     "output_type": "stream",
     "text": [
      "Coordinate system already present. Adding new coordinate system, which will replace the existing one.\n",
      "\n",
      "`geom_smooth()` using formula 'y ~ x'\n",
      "\n",
      "file saved to rsfMRI_caudateTailLR_M1S1L_success_20200528.png\n",
      "\n"
     ]
    }
   ],
   "source": [
    "p7_ed <-\n",
    "p7 + \n",
    "geom_point(size = 2) + \n",
    "theme_pubr() +\n",
    "theme(axis.title.x = element_text(margin = margin(t = 5, r = 0, b = 0, l = 0)),\n",
    "      axis.title.y = element_text(margin = margin(t = 0, r = 5, b = 0, l = 0))) +\n",
    "scale_x_continuous(expand=c(0, 0), breaks=c(-0.4, -0.2, 0, 0.2, 0.4), limits=c(-0.55, 0.45)) +\n",
    "scale_y_continuous(expand=c(0, 0), limits=c(0.40, 0.80)) +\n",
    "coord_cartesian(xlim=c(-0.55, 0.45), ylim=c(0.40, 0.80))\n",
    "\n",
    "ggarrange(p7_ed) %>%\n",
    "    ggexport(filename = \"rsfMRI_caudateTailLR_M1S1L_success_20200528.png\",\n",
    "             width = 800,\n",
    "             height = 800,\n",
    "             res = 300)"
   ]
  },
  {
   "cell_type": "code",
   "execution_count": 28,
   "metadata": {},
   "outputs": [
    {
     "data": {
      "text/plain": [
       "      Min.    1st Qu.     Median       Mean    3rd Qu.       Max. \n",
       "-0.1054060 -0.0475763 -0.0056190 -0.0009186  0.0462210  0.1640180 "
      ]
     },
     "metadata": {},
     "output_type": "display_data"
    }
   ],
   "source": [
    "summary(df_n29$tailL)"
   ]
  },
  {
   "cell_type": "code",
   "execution_count": 29,
   "metadata": {},
   "outputs": [],
   "source": [
    "p8 <- ggscatter(df_n29, x=\"tailL\", y=\"reward_total\",\n",
    "                xlab = \"L Caudate tail–Visual\\nrs-fMRI connectivity (Z)\",\n",
    "                ylab = \"Overall success rate\",\n",
    "                xlim = c(-0.20, 0.25),\n",
    "                ylim = c(0.40, 0.80),\n",
    "                add = \"reg.line\",\n",
    "                add.params = list(color = \"black\", fill = \"lightgray\"),\n",
    "                conf.int = TRUE,\n",
    "                conf.int.level = 0.95,\n",
    "                cor.coef = TRUE,\n",
    "                cor.coeff.args = list(method = \"pearson\", size = 4, label.x = -0.15, label.y = 0.480, label.sep = \"\\n\"),\n",
    "                fullrange = TRUE\n",
    "               )"
   ]
  },
  {
   "cell_type": "code",
   "execution_count": 39,
   "metadata": {},
   "outputs": [
    {
     "name": "stderr",
     "output_type": "stream",
     "text": [
      "Coordinate system already present. Adding new coordinate system, which will replace the existing one.\n",
      "\n",
      "`geom_smooth()` using formula 'y ~ x'\n",
      "\n",
      "file saved to rsfMRI_caudateTailL_VisLR_success_20200528.png\n",
      "\n"
     ]
    }
   ],
   "source": [
    "p8_ed <-\n",
    "p8 + \n",
    "geom_point(size = 2) + \n",
    "theme_pubr() +\n",
    "theme(axis.title.x = element_text(margin = margin(t = 5, r = 0, b = 0, l = 0)),\n",
    "      axis.title.y = element_text(margin = margin(t = 0, r = 5, b = 0, l = 0))) +\n",
    "scale_x_continuous(expand=c(0, 0), limits=c(-0.20, 0.25)) +\n",
    "scale_y_continuous(expand=c(0, 0), limits=c(0.40, 0.80)) +\n",
    "coord_cartesian(xlim=c(-0.20, 0.25), ylim=c(0.40, 0.80))\n",
    "\n",
    "ggarrange(p8_ed) %>%\n",
    "    ggexport(filename = \"rsfMRI_caudateTailL_VisLR_success_20200528.png\",\n",
    "             width = 800,\n",
    "             height = 800,\n",
    "             res = 300)"
   ]
  },
  {
   "cell_type": "code",
   "execution_count": 31,
   "metadata": {},
   "outputs": [
    {
     "data": {
      "text/plain": [
       "     Min.   1st Qu.    Median      Mean   3rd Qu.      Max. \n",
       "-0.195749 -0.082786  0.006769 -0.004828  0.057703  0.190555 "
      ]
     },
     "metadata": {},
     "output_type": "display_data"
    }
   ],
   "source": [
    "summary(df_n29$tailR)"
   ]
  },
  {
   "cell_type": "code",
   "execution_count": 32,
   "metadata": {},
   "outputs": [],
   "source": [
    "p9 <- ggscatter(df_n29, x=\"tailR\", y=\"reward_total\",\n",
    "                xlab = \"R Caudate tail–Visual\\nrs-fMRI connectivity (Z)\",\n",
    "                ylab = \"Overall success rate\",\n",
    "                xlim = c(-0.225, 0.225),\n",
    "                ylim = c(0.40, 0.80),\n",
    "                add = \"reg.line\",\n",
    "                add.params = list(color = \"black\", fill = \"lightgray\"),\n",
    "                conf.int = TRUE,\n",
    "                conf.int.level = 0.95,\n",
    "                cor.coef = TRUE,\n",
    "                cor.coeff.args = list(method = \"pearson\", size = 4, label.x = -0.175, label.y = 0.750, label.sep = \"\\n\"),\n",
    "                fullrange = TRUE\n",
    "               )"
   ]
  },
  {
   "cell_type": "code",
   "execution_count": 40,
   "metadata": {},
   "outputs": [
    {
     "name": "stderr",
     "output_type": "stream",
     "text": [
      "Coordinate system already present. Adding new coordinate system, which will replace the existing one.\n",
      "\n",
      "`geom_smooth()` using formula 'y ~ x'\n",
      "\n",
      "file saved to rsfMRI_caudateTailR_VisLR_success_20200528.png\n",
      "\n"
     ]
    }
   ],
   "source": [
    "p9_ed <-\n",
    "p9 + \n",
    "geom_point(size = 2) + \n",
    "theme_pubr() +\n",
    "theme(axis.title.x = element_text(margin = margin(t = 5, r = 0, b = 0, l = 0)),\n",
    "      axis.title.y = element_text(margin = margin(t = 0, r = 5, b = 0, l = 0))) +\n",
    "scale_x_continuous(expand=c(0, 0), limits=c(-0.225, 0.225)) +\n",
    "scale_y_continuous(expand=c(0, 0), limits=c(0.40, 0.80)) +\n",
    "coord_cartesian(xlim=c(-0.225, 0.225), ylim=c(0.40, 0.80))\n",
    "\n",
    "ggarrange(p9_ed) %>%\n",
    "    ggexport(filename = \"rsfMRI_caudateTailR_VisLR_success_20200528.png\",\n",
    "             width = 800,\n",
    "             height = 800,\n",
    "             res = 300)"
   ]
  },
  {
   "cell_type": "code",
   "execution_count": null,
   "metadata": {},
   "outputs": [],
   "source": []
  }
 ],
 "metadata": {
  "kernelspec": {
   "display_name": "R",
   "language": "R",
   "name": "ir"
  },
  "language_info": {
   "codemirror_mode": "r",
   "file_extension": ".r",
   "mimetype": "text/x-r-source",
   "name": "R",
   "pygments_lexer": "r",
   "version": "3.6.1"
  }
 },
 "nbformat": 4,
 "nbformat_minor": 2
}
