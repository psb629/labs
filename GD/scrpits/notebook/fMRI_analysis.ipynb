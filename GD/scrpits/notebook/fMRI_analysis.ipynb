{
 "cells": [
  {
   "cell_type": "code",
   "execution_count": 27,
   "metadata": {},
   "outputs": [],
   "source": [
    "from datetime import date\n",
    "from glob import glob\n",
    "import os, sys\n",
    "from os.path import join, dirname\n",
    "import pickle\n",
    "import numpy as np\n",
    "import pandas as pd\n",
    "import scipy.stats\n",
    "import matplotlib.pyplot as plt\n",
    "import seaborn as sns\n",
    "from sklearn.discriminant_analysis import LinearDiscriminantAnalysis\n",
    "import nilearn.image, nilearn.masking, nilearn.plotting"
   ]
  },
  {
   "cell_type": "code",
   "execution_count": 2,
   "metadata": {},
   "outputs": [],
   "source": [
    "# To make plots using Matplotlib, you must first enable IPython's matplotlib mode.\n",
    "# To do this, run the %matplotlib magic command to enable plotting in the current Notebook.\n",
    "# This magic takes an optional argument that specifies which Matplotlib backend should be used. \n",
    "# Most of the time, in the Notebook, you will want to use the inline backend,\n",
    "# which will embed plots inside the Notebook:\n",
    "%matplotlib inline"
   ]
  },
  {
   "cell_type": "code",
   "execution_count": 9,
   "metadata": {},
   "outputs": [],
   "source": [
    "fMRI_dir = '/Volumes/T7SSD1/GD/fMRI_data'\n",
    "preproc_dir = fMRI_dir + '/preproc_data'\n",
    "stat_dir = fMRI_dir + '/stats'\n",
    "mask_dir = fMRI_dir + '/masks'"
   ]
  },
  {
   "cell_type": "code",
   "execution_count": 40,
   "metadata": {},
   "outputs": [
    {
     "name": "stdout",
     "output_type": "stream",
     "text": [
      "['GD01', 'GD02', 'GD07', 'GD11', 'GD15', 'GD20', 'GD23', 'GD26', 'GD29', 'GD30', 'GD31', 'GD32', 'GD33', 'GD44'] \n",
      " 14\n"
     ]
    }
   ],
   "source": [
    "temp = glob(join(preproc_dir,'GD*'))\n",
    "subj_list = [a[-4:] for a in temp]\n",
    "print(subj_list,'\\n',len(subj_list))\n",
    "# outliers : GD29, GD31\n",
    "# No data : GD19"
   ]
  },
  {
   "cell_type": "code",
   "execution_count": null,
   "metadata": {},
   "outputs": [],
   "source": []
  }
 ],
 "metadata": {
  "kernelspec": {
   "display_name": "Python 3",
   "language": "python",
   "name": "python3"
  },
  "language_info": {
   "codemirror_mode": {
    "name": "ipython",
    "version": 3
   },
   "file_extension": ".py",
   "mimetype": "text/x-python",
   "name": "python",
   "nbconvert_exporter": "python",
   "pygments_lexer": "ipython3",
   "version": "3.8.2"
  }
 },
 "nbformat": 4,
 "nbformat_minor": 4
}
