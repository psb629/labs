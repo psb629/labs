{
 "cells": [
  {
   "cell_type": "code",
   "execution_count": 1,
   "id": "dbc6dcf3",
   "metadata": {},
   "outputs": [],
   "source": [
    "import numpy as np\n",
    "import pandas as pd\n",
    "\n",
    "from os.path import join\n",
    "from os import makedirs\n",
    "from glob import glob\n",
    "import re\n",
    "\n",
    "from tqdm import tqdm\n",
    "\n",
    "import scipy.io\n",
    "\n",
    "import matplotlib.pyplot as plt\n",
    "import seaborn as sns"
   ]
  },
  {
   "cell_type": "markdown",
   "id": "6c67b4d6",
   "metadata": {},
   "source": [
    "---"
   ]
  },
  {
   "cell_type": "code",
   "execution_count": 2,
   "id": "4f1b6deb",
   "metadata": {},
   "outputs": [],
   "source": [
    "def convert_ID(ID):\n",
    "    ##################   ##################\n",
    "    #  1  2  3  4  5 #   #        2       #\n",
    "    #  6  7  8  9 10 #   #        1       #\n",
    "    # 11 12 13 14 15 # = # -2 -1  0  1  2 #\n",
    "    # 16 17 18 19 20 #   #       -1       #\n",
    "    # 21 22 23 24 25 #   #       -2       #\n",
    "    ##################   ##################\n",
    "    x = np.kron(np.ones(5),np.arange(-2,3)).astype(int)\n",
    "    y = np.kron(np.arange(2,-3,-1),np.ones(5)).astype(int)\n",
    "    pos = np.array((x[ID-1],y[ID-1]))\n",
    "    return pos"
   ]
  },
  {
   "cell_type": "code",
   "execution_count": 3,
   "id": "3f7f857b",
   "metadata": {},
   "outputs": [],
   "source": [
    "sec=4\n",
    "ntrial = 12\n",
    "nblock = 12\n",
    "nrun=6"
   ]
  },
  {
   "cell_type": "code",
   "execution_count": 4,
   "id": "98d14cd9",
   "metadata": {},
   "outputs": [],
   "source": [
    "def func_AMregressor(datum):\n",
    "    nS = int(datum['nSampleTrial'][0][0]) # 4 s * 60 Hz = 240 samples\n",
    "    assert sec*60==nS\n",
    "\n",
    "    tpr = datum['nTrialperRun'][0][0]     # the number of trials per run = 1 trial+ 12 trial/block * 12 blocks\n",
    "    assert 1+ntrial*nblock==tpr\n",
    "\n",
    "    onsettime = datum['LearnTrialStartTime'][0]\n",
    "    idx_editpoint = [i+1 for i,t in enumerate(onsettime[:-2]) if (onsettime[i]>onsettime[i+1])]\n",
    "    assert (np.diff(idx_editpoint)==tpr).all() # Are you sure the fact that 145 trials per run?\n",
    "\n",
    "    nrun = int(datum['nRun'][0][0])       # the number of runs = 6 runs\n",
    "    targetID = datum['targetID'][0][idx_editpoint[0]:] # targetID.shape = 870 trials = 145 trial/run * 6 runs\n",
    "    assert targetID.shape==tpr*nrun\n",
    "\n",
    "    ## onset times\n",
    "    tmp = np.zeros((nrun, tpr), dtype=float)\n",
    "    for run in range(nrun):\n",
    "        idx = idx_editpoint[run]\n",
    "        tmp[run,:] = onsettime[idx:idx+tpr]*0.001\n",
    "    onsettime=tmp\n",
    "\n",
    "    ## counting how many times did they hit the target\n",
    "    hit_or_not = np.zeros((tpr*nrun, nS), dtype=bool) # hit_or_not.shape = (# of trials/run, # if frames/trial)\n",
    "    ## The total distance the cursor moved during one trial\n",
    "    cursor_length = np.zeros(tpr*nrun, dtype=float)\n",
    "    for t, ID in enumerate(targetID):\n",
    "        pos = datum['boxSize']*convert_ID(ID) # r_target = [x_target, y_target]\n",
    "        ## allXY.shape = (2, 60 Hz * 4 s/trial * 145 trials/run * 6 runs = 208800 frames)\n",
    "        xy = datum['allXY'][:,nS*t:nS*(t+1)] # r_cursor = [x_cursor, y_cursor]\n",
    "        dr = np.diff(xy, axis=1)\n",
    "        assert dr.shape==(2,nS-1)\n",
    "        cursor_length[t] = np.matmul(dr.T, dr).sum()\n",
    "        ## err.shape = (2, nS)\n",
    "        err = xy - np.ones((2,nS))*pos.T # dr = r_cursor - r_target\n",
    "        ## is the cursor in the target box?\n",
    "        hit_or_not[t,:] = (abs(err[0,:]) <= datum['boxSize']*0.5) & (abs(err[1,:]) <= datum['boxSize']*0.5)\n",
    "\n",
    "    cnt_hit = hit_or_not.reshape(nrun, tpr, sec, 60).sum(axis=(2,3))\n",
    "    cursor_length = cursor_length.reshape((nrun,tpr))\n",
    "\n",
    "    return onsettime, cnt_hit, cursor_length"
   ]
  },
  {
   "cell_type": "markdown",
   "id": "9f49087d",
   "metadata": {},
   "source": [
    "---"
   ]
  },
  {
   "cell_type": "code",
   "execution_count": 5,
   "id": "2ee3fab5",
   "metadata": {},
   "outputs": [],
   "source": [
    "list_nn = [\n",
    "    '03','04','05','06','07',\n",
    "    '08','09','10','11','12',\n",
    "    '14','15','16','17','18',\n",
    "    '19','20','21','22','24',\n",
    "    '25','26','27','29'\n",
    "]"
   ]
  },
  {
   "cell_type": "markdown",
   "id": "1945abb0",
   "metadata": {},
   "source": [
    "---"
   ]
  },
  {
   "cell_type": "code",
   "execution_count": 6,
   "id": "0333c009",
   "metadata": {},
   "outputs": [],
   "source": [
    "# dir_root = '/mnt/ext4/GL'\n",
    "dir_root = '/home/sungbeenpark/Github/labs/GL'\n",
    "\n",
    "dir_behav = join(dir_root,'behav_data')\n",
    "dir_reg = join(dir_behav,'regressors')\n",
    "dir_AM = join(dir_reg,'AM')\n",
    "makedirs(dir_AM, exist_ok=True)"
   ]
  },
  {
   "cell_type": "markdown",
   "id": "f69786eb",
   "metadata": {},
   "source": [
    "---"
   ]
  },
  {
   "cell_type": "code",
   "execution_count": 7,
   "id": "fae851f8",
   "metadata": {},
   "outputs": [
    {
     "name": "stderr",
     "output_type": "stream",
     "text": [
      "100%|██████████| 24/24 [00:03<00:00,  6.36it/s]\n"
     ]
    }
   ],
   "source": [
    "for nn in tqdm(list_nn):\n",
    "    subj = 'GL%s'%nn\n",
    "    datum = scipy.io.loadmat(join(dir_behav, '%s-fmri.mat'%subj))\n",
    "    \n",
    "    onsettime, cnt_hit, cursor_length = func_AMregressor(datum)\n",
    "    \n",
    "    ## Extract the start time of the trial regardless of the on/off condition\n",
    "    np.savetxt(\n",
    "        join(dir_reg, '%s.onsettime.txt'%subj),\n",
    "        X=onsettime, fmt='%.3f', delimiter=' ', newline='\\n'\n",
    "    )\n",
    "    \n",
    "    ## Exclude the first trial and divide into blocks and trials in a main task.\n",
    "    run=4\n",
    "    tmp = onsettime[:run,1:].reshape(run,nblock,ntrial)\n",
    "    \n",
    "    ## Print onset time only for the trials with the 'On' condition in the main task.\n",
    "    np.savetxt(\n",
    "        join(dir_reg, '%s.onsettime.main_On.txt'%subj),\n",
    "        X=tmp[:,::2,:].reshape(run,-1),\n",
    "        fmt='%.3f', delimiter=' ', newline='\\n'\n",
    "    )\n",
    "    \n",
    "    ## Print onset time only for the trials with the 'Off' condition in the main task.\n",
    "    np.savetxt(\n",
    "        join(dir_reg, '%s.onsettime.main_Off.txt'%subj),\n",
    "        X=tmp[:,1::2,:].reshape(run,-1),\n",
    "        fmt='%.3f', delimiter=' ', newline='\\n'\n",
    "    )\n",
    "    \n",
    "    ## Print onset time of the test session\n",
    "    tmp = onsettime[run:,:]\n",
    "    np.savetxt(\n",
    "        join(dir_reg, '%s.onsettime.test.txt'%subj),\n",
    "        X=tmp,\n",
    "        fmt='%.3f', delimiter=' ', newline='\\n'\n",
    "    )\n",
    "    \n",
    "    ## Reward\n",
    "    reward = cnt_hit/(sec*60)\n",
    "    \n",
    "    for shift in [0, 2, 4]:\n",
    "        ## AM regressor\n",
    "        AM = [[] for ii in range(nrun)]\n",
    "        for run in range(nrun):\n",
    "            AM[run] = ['%.3f*%.3f'%(o,r) for o,r in zip(onsettime[run][1:]+shift, reward[run][1:])]\n",
    "        AM = np.array(AM)\n",
    "\n",
    "        ## AM regressor for the 'On' condition\n",
    "        np.savetxt(\n",
    "            join(dir_AM, '%s.reward.main_On.shift=%.1f.txt'%(subj,shift)),\n",
    "            X=AM[:4].reshape(4,nblock,ntrial)[:,::2,:].reshape(4,-1),\n",
    "            fmt='%s', delimiter=' ', newline='\\n'\n",
    "        )\n",
    "\n",
    "        ## AM regressor for the 'Off' condition\n",
    "        np.savetxt(\n",
    "            join(dir_AM, '%s.reward.main_Off.shift=%.1f.txt'%(subj,shift)),\n",
    "            X=AM[:4].reshape(4,nblock,ntrial)[:,1::2,:].reshape(4,-1),\n",
    "            fmt='%s', delimiter=' ', newline='\\n'\n",
    "        )\n",
    "\n",
    "        ## AM regressor for the test session\n",
    "        np.savetxt(\n",
    "            join(dir_AM, '%s.reward.test.shift=%.1f.txt'%(subj,shift)),\n",
    "            X=AM[4:,:],\n",
    "            fmt='%s', delimiter=' ', newline='\\n'\n",
    "        )\n",
    "        \n",
    "    ## Cursor Movement (scaled)\n",
    "#     mean = cursor_length.mean(axis=1)\n",
    "    mean = 0\n",
    "    std = cursor_length.std(axis=1)\n",
    "    for rr in range(nrun):\n",
    "        cursor_length[rr] = (cursor_length[rr]-mean[rr])/std[rr]\n",
    "\n",
    "    shift = 0\n",
    "    ## AM regressor\n",
    "    AM = [[] for ii in range(nrun)]\n",
    "    for run in range(nrun):\n",
    "        AM[run] = ['%.3f*%.3f'%(o,r) for o,r in zip(onsettime[run][1:]+shift, cursor_length[run][1:])]\n",
    "    AM = np.array(AM)\n",
    "    \n",
    "    np.savetxt(\n",
    "        join(dir_AM, '%s.cursor_length.txt'%(subj)),\n",
    "        X=AM[:4],\n",
    "        fmt='%s', delimiter=' ', newline='\\n'\n",
    "    )"
   ]
  },
  {
   "cell_type": "code",
   "execution_count": null,
   "id": "749b7e05",
   "metadata": {},
   "outputs": [],
   "source": []
  }
 ],
 "metadata": {
  "kernelspec": {
   "display_name": "GL",
   "language": "python",
   "name": "gl"
  },
  "language_info": {
   "codemirror_mode": {
    "name": "ipython",
    "version": 3
   },
   "file_extension": ".py",
   "mimetype": "text/x-python",
   "name": "python",
   "nbconvert_exporter": "python",
   "pygments_lexer": "ipython3",
   "version": "3.9.17"
  }
 },
 "nbformat": 4,
 "nbformat_minor": 5
}
