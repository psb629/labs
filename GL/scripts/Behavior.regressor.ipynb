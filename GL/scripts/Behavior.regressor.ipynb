{
 "cells": [
  {
   "cell_type": "code",
   "execution_count": 1,
   "id": "dbc6dcf3",
   "metadata": {},
   "outputs": [],
   "source": [
    "import numpy as np\n",
    "import pandas as pd\n",
    "\n",
    "from os.path import join\n",
    "from os import makedirs\n",
    "from glob import glob\n",
    "import re\n",
    "\n",
    "from tqdm import tqdm\n",
    "\n",
    "import scipy.io\n",
    "\n",
    "import matplotlib.pyplot as plt\n",
    "import seaborn as sns"
   ]
  },
  {
   "cell_type": "code",
   "execution_count": 2,
   "id": "0333c009",
   "metadata": {},
   "outputs": [],
   "source": [
    "dir_behav = '/mnt/ext4/GL/behav_data'\n",
    "dir_reg = join(dir_behav, 'regressors/Reward')"
   ]
  },
  {
   "cell_type": "code",
   "execution_count": 3,
   "id": "a72daf47",
   "metadata": {},
   "outputs": [
    {
     "name": "stdout",
     "output_type": "stream",
     "text": [
      "0\n"
     ]
    }
   ],
   "source": [
    "stat = 'Reward.0s_shifted'\n",
    "shift = int(*re.findall(r'\\d+', stat))\n",
    "print(shift)\n",
    "dir_output = join('/home/sungbeenpark/Github/labs/GL/behav_data/regressors/%s'%stat)\n",
    "makedirs(dir_output, exist_ok=True)"
   ]
  },
  {
   "cell_type": "code",
   "execution_count": 4,
   "id": "2ee3fab5",
   "metadata": {},
   "outputs": [],
   "source": [
    "list_subj = ['03','04','05','06','07',\n",
    "             '08','09','10','11','12',\n",
    "             '14','15','16','17','18',\n",
    "             '19','20','21','22','24',\n",
    "             '25','26','27','29']"
   ]
  },
  {
   "cell_type": "code",
   "execution_count": 5,
   "id": "4f1b6deb",
   "metadata": {},
   "outputs": [],
   "source": [
    "def convert_ID(ID):\n",
    "    ##################   ##################\n",
    "    #  1  2  3  4  5 #   #        2       #\n",
    "    #  6  7  8  9 10 #   #        1       #\n",
    "    # 11 12 13 14 15 # = # -2 -1  0  1  2 #\n",
    "    # 16 17 18 19 20 #   #       -1       #\n",
    "    # 21 22 23 24 25 #   #       -2       #\n",
    "    ##################   ##################\n",
    "    x = np.kron(np.ones(5),np.arange(-2,3)).astype(int)\n",
    "    y = np.kron(np.arange(2,-3,-1),np.ones(5)).astype(int)\n",
    "    pos = np.array((x[ID-1],y[ID-1]))\n",
    "    return pos"
   ]
  },
  {
   "cell_type": "code",
   "execution_count": 6,
   "id": "98d14cd9",
   "metadata": {},
   "outputs": [],
   "source": [
    "def func_AMregressor(datum):\n",
    "    sec = 4\n",
    "    nS = int(datum['nSampleTrial'][0][0]) # 4 s * 60 Hz = 240 samples\n",
    "    assert sec*60==nS\n",
    "\n",
    "    ntrial = 12\n",
    "    nblock = 12\n",
    "    tpr = datum['nTrialperRun'][0][0]     # the number of trials per run = 1 trial+ 12 trial/block * 12 blocks\n",
    "    assert 1+ntrial*nblock==tpr\n",
    "\n",
    "    onsettime = datum['LearnTrialStartTime'][0]\n",
    "    idx_editpoint = [i+1 for i,t in enumerate(onsettime[:-2]) if (onsettime[i]>onsettime[i+1])]\n",
    "    assert (np.diff(idx_editpoint)==tpr).all() # Are you sure the fact that 145 trials per run?\n",
    "\n",
    "    nrun = int(datum['nRun'][0][0])       # the number of runs = 6 runs\n",
    "    targetID = datum['targetID'][0][idx_editpoint[0]:] # targetID.shape = 870 trials = 145 trial/run * 6 runs\n",
    "    assert targetID.shape==tpr*nrun\n",
    "\n",
    "    ## onset times\n",
    "    tmp = np.zeros((nrun, tpr), dtype=float)\n",
    "    for run in range(nrun):\n",
    "        idx = idx_editpoint[run]\n",
    "        tmp[run,:] = onsettime[idx:idx+tpr]*0.001\n",
    "    onsettime=tmp\n",
    "\n",
    "    ## counting how many times did they hit the target\n",
    "    hit_or_not = np.zeros((tpr*nrun, nS), dtype=bool) # hit_or_not.shape = (# of trials/run, # if frames/trial)\n",
    "    for t, ID in enumerate(targetID):\n",
    "        pos = datum['boxSize']*convert_ID(ID) # r_target = [x_target, y_target]\n",
    "        ## allXY.shape = (2, 60 Hz * 4 s/trial * 145 trials/run * 6 runs = 208800 frames)\n",
    "        xy = datum['allXY'][:,nS*t:nS*(t+1)] # r_cursor = [x_cursor, y_cursor]\n",
    "        ## err.shape = (2, nS)\n",
    "        err = xy - np.ones((2,nS))*pos.T # dr = r_cursor - r_target\n",
    "        ## is the cursor in the target box?\n",
    "        hit_or_not[t,:] = (abs(err[0,:]) <= datum['boxSize']*0.5) & (abs(err[1,:]) <= datum['boxSize']*0.5)\n",
    "\n",
    "    cnt_hit = hit_or_not.reshape(nrun, tpr, sec, 60).sum(axis=(2,3))\n",
    "\n",
    "    return onsettime, cnt_hit"
   ]
  },
  {
   "cell_type": "code",
   "execution_count": 7,
   "id": "f1295e80",
   "metadata": {},
   "outputs": [],
   "source": [
    "# rew = {}\n",
    "for nn in list_subj:\n",
    "# for nn in ['03']:\n",
    "    subj = 'GL'+nn\n",
    "    datum = scipy.io.loadmat(join(dir_behav, '%s-fmri.mat'%subj))\n",
    "\n",
    "    nrun=6\n",
    "    sec=4\n",
    "\n",
    "    onsettime, cnt_hit = func_AMregressor(datum)\n",
    "    reward = cnt_hit/(sec*60)\n",
    "\n",
    "    AM2 = [[],[],[],[],[],[]]\n",
    "    for run in range(nrun):\n",
    "#         ## cut off the first trial\n",
    "#         AM2[run] = ['%.1f*%.3f'%(o,r) for o,r in zip(onsettime[run][1:], reward[run][1:])]\n",
    "        ## 4s shift, After every trial, a reward was received in full.\n",
    "        AM2[run] = ['%.1f*%.3f'%(o,r) for o,r in zip(onsettime[run]+shift, reward[run])]\n",
    "\n",
    "    np.savetxt(\n",
    "        join(dir_output, '%s_reward.txt'%subj)\n",
    "        , X=AM2, fmt='%s', delimiter=' ', newline='\\n'\n",
    "    )"
   ]
  },
  {
   "cell_type": "code",
   "execution_count": null,
   "id": "ac0e2d18",
   "metadata": {},
   "outputs": [],
   "source": []
  }
 ],
 "metadata": {
  "kernelspec": {
   "display_name": "GA",
   "language": "python",
   "name": "ga"
  },
  "language_info": {
   "codemirror_mode": {
    "name": "ipython",
    "version": 3
   },
   "file_extension": ".py",
   "mimetype": "text/x-python",
   "name": "python",
   "nbconvert_exporter": "python",
   "pygments_lexer": "ipython3",
   "version": "3.9.6"
  }
 },
 "nbformat": 4,
 "nbformat_minor": 5
}
