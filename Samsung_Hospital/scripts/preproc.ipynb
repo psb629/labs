{
 "cells": [
  {
   "cell_type": "code",
   "execution_count": 1,
   "metadata": {},
   "outputs": [],
   "source": [
    "import os\n",
    "from glob import glob\n",
    "from os.path import join, dirname\n",
    "import nibabel as nib\n",
    "import numpy as np"
   ]
  },
  {
   "cell_type": "code",
   "execution_count": 2,
   "metadata": {},
   "outputs": [],
   "source": [
    "subj = 'S22'"
   ]
  },
  {
   "cell_type": "code",
   "execution_count": 3,
   "metadata": {},
   "outputs": [],
   "source": [
    "# work_dir = '/Users/clmn/Desktop/Samsung_Hospital'\n",
    "root_dir = '/Volumes/T7SSD1/samsung_hospital'\n",
    "fwhm = 4\n",
    "thresh_motion = 0.4"
   ]
  },
  {
   "cell_type": "code",
   "execution_count": 4,
   "metadata": {},
   "outputs": [],
   "source": [
    "# raw_dir = join(work_dir,'preproc_data',subj)\n",
    "raw_dir = join(root_dir,'fmri_data/preproc_data',subj)"
   ]
  },
  {
   "cell_type": "code",
   "execution_count": 5,
   "metadata": {},
   "outputs": [],
   "source": [
    "epi = join(raw_dir,'%s_fMRI.nii.gz'%subj)\n",
    "t1 = join(raw_dir,'%s_T1.nii.gz'%subj)"
   ]
  },
  {
   "cell_type": "code",
   "execution_count": 6,
   "metadata": {
    "scrolled": false
   },
   "outputs": [],
   "source": [
    "output_dir = join(raw_dir,'test')\n",
    "os.makedirs(output_dir, exist_ok=True)"
   ]
  },
  {
   "cell_type": "markdown",
   "metadata": {},
   "source": [
    "## S.S. Kim's code"
   ]
  },
  {
   "cell_type": "code",
   "execution_count": 9,
   "metadata": {},
   "outputs": [
    {
     "data": {
      "text/plain": [
       "256"
      ]
     },
     "execution_count": 9,
     "metadata": {},
     "output_type": "execute_result"
    }
   ],
   "source": [
    "os.chdir(output_dir)\n",
    "\n",
    "## tcat\n",
    "os.system('3dTcat -tr 3 -prefix pb00.%s.rest.tcat %s' %(subj,epi))\n",
    "os.system('3dcopy %s ./%s.anat+orig' %(t1,subj))\n",
    "os.system('3dToutcount -automask -fraction -polort 3 -legendre')\n",
    "\n",
    "#================================ despike =================================\n",
    "## Removes 'spikes' from the 3D+time input dataset and writes a new dataset with the spike values \n",
    "## replaced by something more pleasing to the eye.\n",
    "os.system('3dDespike -NEW -nomask -prefix pb00.%s.rest.despike pb00.%s.rest.tcat+orig' %(subj,subj))\n",
    "\n",
    "# ================================= tshift =================================\n",
    "## t shift or slice time correction\n",
    "## time shift data so all slice timing is the same\n",
    "## 데이터를 얻는(slicing) 시간이 각각의 axial voxel에 대해 다르기 때문에 보정해주는 것.\n",
    "os.system('3dTshift -tzero 0 -quintic -prefix pb01.%s.rest.tshift pb00.%s.rest.despike+orig' %(subj,subj))\n",
    "## tzero -> to interpolate all the slices as though they were all acquired at the beginning of each TR.\n",
    "## quintic -> 5th order of polynomial\n",
    "\n",
    "# ================================= align ==================================\n",
    "## for e2a: compute anat alignment transformation to EPI registration base\n",
    "## (new anat will be intermediate, stripped, epi_$subjID.anat_ns+orig)\n",
    "## Here, the 'warp' is a 3x4 matrix = affine transform of space which the user supplies.\n",
    "os.system('3dWarp -deoblique -prefix %s.anat.deoblique %s.anat+orig' %(subj,subj))\n",
    "## skull strip\n",
    "os.system('3dSkullStrip -input %s.anat.deoblique+orig -prefix %s.sSanat -orig_vol' %(subj,subj))\n",
    "## The output dataset has the white matter (WM) intensity approximately uniformized \n",
    "## across space, and scaled to peak at about 1000.\n",
    "os.system('3dUnifize -input %s.sSanat+orig -prefix %s.UnisSanat -GM' %(subj,subj))\n",
    "\n",
    "# - align EPI to anatomical datasets or vice versa\n",
    "os.system(\n",
    "    'align_epi_anat.py -anat2epi -anat %s.UnisSanat+orig -anat_has_skull no \\\n",
    "    -epi pb01.%s.rest.tshift+orig   -epi_base 3 \\\n",
    "    -epi_strip 3dAutomask                                      \\\n",
    "    -suffix _al_junk                     -check_flip           \\\n",
    "    -volreg off    -tshift off           -ginormous_move       \\\n",
    "    -cost nmi      -align_centers yes' %(subj,subj)\n",
    ")\n",
    "# -cost lpa (local pearson correlation: nonlinear average of Pearson cc over local neighborhoods)\n",
    "# -cost nmi (1/Normalized MI = H(base,source)/[H(base)+H(source)])\n",
    "\n",
    "# ================================= tlrc ==================================\n",
    "# warp anatomy to standard space\n",
    "os.system(\n",
    "    '@auto_tlrc -base ~/abin/MNI152_T1_2009c+tlrc.HEAD -input %s.UnisSanat+orig \\\n",
    "    -no_ss -init_xform AUTO_CENTER' %subj\n",
    ")\n",
    "os.system('cat_matvec %s.UnisSanat+tlrc::WARP_DATA -I > warp.anat.Xat.1D' %subj)\n",
    "\n",
    "# ================================== register and warp ========================\n",
    "# register each volume to the base\n",
    "os.system(\n",
    "    \"3dvolreg -verbose -zpad 1 -cubic -base pb01.%s.rest.tshift+orig'[3]' \\\n",
    "    -1Dfile dfile.%s.rest.1D -prefix rm.epi.volreg.%s.rest \\\n",
    "    -1Dmatrix_save mat.rest.vr.aff12.1D \\\n",
    "    pb01.%s.rest.tshift+orig\" %(subj,subj,subj,subj)\n",
    ")\n",
    "\n",
    "# create an all-1 dataset to mask the extents of the warp\n",
    "os.system('3dcalc -overwrite -a pb01.%s.rest.tshift+orig -expr 1 -prefix rm.%s.epi.all1' %(subj,subj))\n",
    "\n",
    "# catenate volreg, epi2anat and tlrc transformations\n",
    "os.system(\n",
    "    'cat_matvec -ONELINE \\\n",
    "    %s.UnisSanat_al_junk_mat.aff12.1D -I \\\n",
    "    mat.rest.vr.aff12.1D > mat.%s.rest.warp.aff12.1D' %(subj,subj)\n",
    ")\n",
    "\n",
    "# apply catenated xform : volreg, epi2anat and tlrc\n",
    "os.system(\n",
    "    '3dAllineate -base %s.UnisSanat+orig \\\n",
    "     -input pb01.%s.rest.tshift+orig \\\n",
    "     -1Dmatrix_apply mat.%s.rest.warp.aff12.1D \\\n",
    "     -master pb01.%s.rest.tshift+orig  -prefix rm.epi.nomask.%s.rest' %(subj,subj,subj,subj,subj)\n",
    ")\n",
    "\n",
    "# warp the all-1 dataset for extents masking\n",
    "os.system(\n",
    "    '3dAllineate -base %s.UnisSanat+orig \\\n",
    "     -input rm.%s.epi.all1+orig \\\n",
    "     -1Dmatrix_apply mat.%s.rest.warp.aff12.1D \\\n",
    "     -final NN -quiet \\\n",
    "     -master pb01.%s.rest.tshift+orig -prefix rm.epi.1.%s.rest' %(subj,subj,subj,subj,subj)\n",
    ")\n",
    "\n",
    "# make an extents intersection mask of this run\n",
    "os.system('3dTstat -min -prefix rm.epi.min.%s.rest rm.epi.1.%s.rest+orig' %(subj,subj))\n",
    "os.system('3dcopy rm.epi.min.%s.rest+orig mask_epi_extents.%s' %(subj,subj))\n",
    "os.system(\"3dcalc -a rm.epi.nomask.%s.rest+orig -b mask_epi_extents.%s+orig \\\n",
    "-expr 'a*b' -prefix pb02.%s.rest.volreg\" %(subj,subj,subj))"
   ]
  },
  {
   "cell_type": "markdown",
   "metadata": {},
   "source": [
    "## S.B. Park's code"
   ]
  },
  {
   "cell_type": "code",
   "execution_count": 7,
   "metadata": {},
   "outputs": [],
   "source": [
    "os.chdir(output_dir)"
   ]
  },
  {
   "cell_type": "code",
   "execution_count": null,
   "metadata": {},
   "outputs": [],
   "source": [
    "########\n",
    "# ANAT # : 3dWarp -> 3dresample -> 3dUnifize -> 3dSkullStrip -> @auto_tlrc\n",
    "########\n",
    "os.system('3dcopy %s %s.anat+orig' %(t1,subj))\n",
    "os.system('3dWarp -deoblique -prefix %s.anat.deoblique %s.anat+orig' %(subj,subj))\n",
    "\n",
    "# ================ change the orientation of a dataset ================\n",
    "## 'LPI' means an one of the 'neurcoscience' orientation, where the x-axis is Left-to-Right, the y-axis is Posterior-to-Anterior, and the z-axis is Inferior-to-Superior.\n",
    "os.system('3dresample -orient LPI -prefix %s.anat.lpi -input %s.anat.deoblique+orig' %(subj,subj))\n",
    "# ================================= unifize =================================\n",
    "## this program can be a useful step to take BEFORE 3dSkullStrip, since the latter program can fail if the input volume is strongly shaded -- 3dUnifize will (mostly) remove such shading artifacts.\n",
    "os.system('3dUnifize -input %s.anat.lpi+orig -prefix %s.anat.unifize -GM -clfrac 0.5' %(subj,subj))\n",
    "# ================================= skull-striping =================================\n",
    "os.system('3dSkullStrip -input %s.anat.unifize+orig -prefix %s.anat.ss -orig_vol' %(subj,subj))\n",
    "\n",
    "# ================================= tlrc coordinate ==================================\n",
    "# warp anatomy to standard space\n",
    "\n",
    "os.system(\n",
    "    '@auto_tlrc -base ~/abin/MNI152_T1_2009c+tlrc.HEAD -input %s.anat.ss+orig \\\n",
    "    -no_ss -init_xform AUTO_CENTER' %(subj))\n",
    "\n",
    "os.system('cat_matvec %s.anat.ss+tlrc::WARP_DATA -I > warp.anat.Xat.1D' %subj)\n",
    "\n",
    "os.system('3dAFNItoNIFTI -prefix anat_final.%s.nii.gz %s.anat.ss+tlrc'%(subj,subj))"
   ]
  },
  {
   "cell_type": "code",
   "execution_count": 10,
   "metadata": {},
   "outputs": [
    {
     "data": {
      "text/plain": [
       "0"
      ]
     },
     "execution_count": 10,
     "metadata": {},
     "output_type": "execute_result"
    }
   ],
   "source": [
    "########\n",
    "# REST # : Despiking (3dDespike) -> Slice Timing Correction (3dTshift) -> Motion Correct EPI (3dvolreg)\n",
    "########\n",
    "# ================================ tcat =================================\n",
    "## copy input datasets and remove unwanted initial TRs\n",
    "os.system('3dTcat -tr 2 -prefix pb00.%s.rest.tcat %s' %(subj,epi))\n",
    "\n",
    "# ================================= outcount =================================\n",
    "os.system('3dToutcount -automask -fraction -polort 3 -legendre pb00.%s.rest.tcat+orig > outcount.%s.1D' %(subj,subj))\n",
    "# polort = the polynomial order of the baseline model\n",
    "\n",
    "# if ( `1deval -a outcount.$subj.r$run.1D\"{0}\" -expr \"step(a-0.4)\"` ) then\n",
    "#     echo \"** TR #0 outliers: possible pre-steady state TRs in run ${run}\" >> out.pre_ss_warn.txt\n",
    "# endif\n",
    "\n",
    "#================================ despike =================================\n",
    "## truncate spikes in each voxel's time series \n",
    "os.system('3dDespike -NEW -nomask -prefix pb00.%s.rest.despike pb00.%s.rest.tcat+orig' %(subj,subj))\n",
    "\n",
    "# ================================= tshift =================================\n",
    "## slice timing alignment on volumes (default is -time 0)\n",
    "## 데이터를 얻는(slicing) 시간이 각각의 axial voxel에 대해 다르기 때문에 보정해주는 것.\n",
    "os.system('3dTshift -tzero 0 -quintic -prefix pb01.%s.rest.tshift pb00.%s.rest.despike+orig' %(subj,subj))\n",
    "## tzero : to interpolate all the slices as though they were all acquired at the beginning of each TR.\n",
    "## quintic : 5th order of polynomial"
   ]
  },
  {
   "cell_type": "code",
   "execution_count": 13,
   "metadata": {},
   "outputs": [
    {
     "data": {
      "text/plain": [
       "0"
      ]
     },
     "execution_count": 13,
     "metadata": {},
     "output_type": "execute_result"
    }
   ],
   "source": [
    "# ================================== register and warp ========================\n",
    "## volume registration (default to third volume)\n",
    "os.system(\n",
    "    \"3dvolreg -verbose -zpad 1 -cubic -base pb01.%s.rest.tshift+orig'[3]' \\\n",
    "    -1Dfile dfile.%s.rest.1D -prefix rm.epi.volreg.%s.rest \\\n",
    "    -1Dmatrix_save mat.rest.volreg.aff12.1D \\\n",
    "    pb01.%s.rest.tshift+orig\" %(subj,subj,subj,subj))"
   ]
  },
  {
   "cell_type": "code",
   "execution_count": 14,
   "metadata": {},
   "outputs": [
    {
     "data": {
      "text/plain": [
       "0"
      ]
     },
     "execution_count": 14,
     "metadata": {},
     "output_type": "execute_result"
    }
   ],
   "source": [
    "# ================================== Align EPI with Anatomy ==================================\n",
    "## align EPI to anatomical datasets or vice versa\n",
    "os.system(\n",
    "    'align_epi_anat.py -epi2anat -anat %s.anat.ss+orig -anat_has_skull no \\\n",
    "    -epi pb01.%s.rest.tshift+orig   -epi_base 3 \\\n",
    "    -epi_strip 3dAutomask                                      \\\n",
    "    -suffix _al_junk                     -check_flip           \\\n",
    "    -volreg off    -tshift off           -ginormous_move       \\\n",
    "    -cost nmi      -align_centers yes' %(subj,subj))"
   ]
  },
  {
   "cell_type": "code",
   "execution_count": 15,
   "metadata": {},
   "outputs": [
    {
     "data": {
      "text/plain": [
       "0"
      ]
     },
     "execution_count": 15,
     "metadata": {},
     "output_type": "execute_result"
    }
   ],
   "source": [
    "# create an all-1 dataset to mask the extents of the warp\n",
    "os.system(\"3dcalc -overwrite -a pb01.%s.rest.tshift_al_junk+orig -expr 'bool(a)' -prefix rm.%s.epi.all1\" %(subj,subj))\n",
    "\n",
    "os.system(\"3dcalc -a pb01.%s.rest.tshift_al_junk+orig -b rm.%s.epi.all1+orig \\\n",
    "    -expr 'a*b' -prefix pb02.%s.rest.volreg\" %(subj,subj,subj))"
   ]
  },
  {
   "cell_type": "markdown",
   "metadata": {},
   "source": [
    "## below"
   ]
  },
  {
   "cell_type": "code",
   "execution_count": null,
   "metadata": {},
   "outputs": [],
   "source": [
    "# -------------------------- branch 2-1 (anat to epi) --------------------------\n",
    "# ================================= align ==================================\n",
    "# - align EPI to anatomical datasets or vice versa\n",
    "os.system(\n",
    "    'align_epi_anat.py -anat2epi -anat %s.anat.Unifize+orig -anat_has_skull no \\\n",
    "    -epi pb01.%s.rest.tshift+orig   -epi_base 3 \\\n",
    "    -epi_strip 3dAutomask                       \\\n",
    "    -suffix _al_junk                -check_flip \\\n",
    "    -volreg off   -tshift off   -ginormous_move \\\n",
    "    -cost nmi     -align_centers yes' %(subj,subj))\n",
    "# -cost lpa (local pearson correlation: nonlinear average of Pearson cc over local neighborhoods)\n",
    "# -cost nmi (1/Normalized MI = H(base,source)/[H(base)+H(source)])\n",
    "## output : \n",
    "# subj.anat.Unifize_unflipped+orig\n",
    "# subj.anat.Unifize_unflipped_ob+orig\n",
    "# subj.anat.Unifize_unflipped_ob_shft_I.1D\n",
    "# __tt_pb01.subj.rest.tshift_ts+orig\n",
    "# pb01.subj.rest.tshift_ts_ns+orig\n",
    "# pb01.subj.rest.tshift_ts_ns_wt+orig\n",
    "# subj.anat.Unifize_unflipped_ob_al_junk_wtal+orig\n",
    "# subj.anat.Unifize_unflipped_ob_temp_al_junk+orig\n",
    "# subj.anat.Unifize_al_junk_e2a_only_mat.aff12.1D\n",
    "# __tt_subj.anat.Unifize_lr_al_junk+orig\n",
    "# subj.anat.Unifize_flip_al_junk+orig\n",
    "# subj.anat.Unifize_flip__al_junk_mat.aff12.1D\n",
    "# __tt_lr_noflipcosts.1D\n",
    "# __tt_lr_flipcosts.1D\n",
    "# aea_checkflip_results.txt\n",
    "# subj.anat.Unifize_al_junk_mat.aff12.1D *\n",
    "# subj.anat.Unifize_al_junk+orig\n",
    "\n",
    "# ================================== register and warp ========================\n",
    "# register each volume to the base\n",
    "os.system(\n",
    "    \"3dvolreg -verbose -zpad 1 -cubic -base pb01.%s.rest.tshift+orig'[3]' \\\n",
    "    -1Dfile dfile.%s.rest.1D -prefix rm.epi.volreg.%s.rest \\\n",
    "    -1Dmatrix_save mat.rest.vr.aff12.1D \\\n",
    "    pb01.%s.rest.tshift+orig\" %(subj,subj,subj,subj))\n",
    "\n",
    "# create an all-1 dataset to mask the extents of the warp\n",
    "os.system('3dcalc -overwrite -a pb01.%s.rest.tshift+orig -expr 1 -prefix rm.%s.epi.all1' %(subj,subj))\n",
    "## output : rm.subj.epi.all1+orig\n",
    "\n",
    "# catenate volreg, epi2anat and tlrc transformations\n",
    "os.system(\n",
    "    'cat_matvec -ONELINE \\\n",
    "    %s.anat.Unifize_al_junk_mat.aff12.1D -I \\\n",
    "    mat.rest.vr.aff12.1D > mat.%s.rest.warp.aff12.1D' %(subj,subj))\n",
    "## output : mat.subj.rest.warp.aff12.1D\n",
    "\n",
    "# apply catenated xform : volreg, epi2anat and tlrc\n",
    "os.system(\n",
    "    '3dAllineate -base %s.anat.Unifinze+orig \\\n",
    "    -input pb01.%s.rest.tshift+orig \\\n",
    "    -1Dmatrix_apply mat.%s.rest.warp.aff12.1D \\\n",
    "    -master pb01.%s.rest.tshift+orig  -prefix rm.epi.nomask.%s.rest' %(subj,subj,subj,subj,subj))\n",
    "\n",
    "# warp the all-1 dataset for extents masking\n",
    "os.system(\n",
    "    '3dAllineate -base %s.anat.Unifize+orig \\\n",
    "    -input rm.%s.epi.all1+orig \\\n",
    "    -1Dmatrix_apply mat.%s.rest.warp.aff12.1D \\\n",
    "    -final NN -quiet \\\n",
    "    -master pb01.%s.rest.tshift+orig -prefix rm.epi.1.%s.rest' %(subj,subj,subj,subj,subj))\n",
    "\n",
    "# make an extents intersection mask of this run\n",
    "os.system('3dTstat -min -prefix rm.epi.min.%s.rest rm.epi.1.%s.rest+orig' %(subj,subj))    # -----NEED CHECK-----\n",
    "os.system('3dcopy rm.epi.min.$subj.rest+orig mask_epi_extents.$subj' %(subj,subj))\n",
    "os.system(\"3dcalc -a rm.epi.nomask.%s.rest+orig -b mask_epi_extents.%s+orig \\\n",
    "-expr 'a*b' -prefix pb02.%s.rest.volreg\" %(subj,subj,subj))"
   ]
  },
  {
   "cell_type": "code",
   "execution_count": 14,
   "metadata": {},
   "outputs": [
    {
     "data": {
      "text/plain": [
       "0"
      ]
     },
     "execution_count": 14,
     "metadata": {},
     "output_type": "execute_result"
    }
   ],
   "source": [
    "# -------------------------- branch 2-2 (epi to anat) --------------------------\n",
    "# ================================= align ==================================\n",
    "# - align EPI to anatomical datasets or vice versa\n",
    "os.system(\n",
    "    'align_epi_anat.py -epi2anat -anat %s.anat.Unifize+orig -anat_has_skull no \\\n",
    "    -epi pb01.%s.rest.tshift+orig   -epi_base 3 \\\n",
    "    -epi_strip 3dAutomask                                      \\\n",
    "    -suffix _al_junk                     -check_flip           \\\n",
    "    -volreg off    -tshift off           -ginormous_move       \\\n",
    "    -cost nmi      -align_centers yes' %(subj,subj))\n",
    "## output : \n",
    "# SMC10.anat.Unifize_unflipped+orig\n",
    "# SMC10.anat.Unifize_unflipped_ob+orig\n",
    "# SMC10.anat.Unifize_unflipped_ob_shft.1D\n",
    "# SMC10.anat.Unifize_unflipped_shft_I.1D\n",
    "# pb01.SMC10.rest.tshift_ts_ns+orig\n",
    "# pb01.SMC10.rest.tshift_ts_ns_wt+orig\n",
    "# SMC10.anat.Unifize_unflipped_ob_al_junk_wtal+orig\n",
    "# SMC10.anat.Unifize_unflipped_ob_temp_al_junk+orig\n",
    "# SMC10.anat.Unifize_al_junk_e2a_only_mat.aff12.1D\n",
    "# SMC10.anat.Unifize_flip_al_junk+orig\n",
    "# SMC10.anat.Unifize_flip__al_junk_mat.aff12.1D\n",
    "# __tt_lr_noflipcosts.1D\n",
    "# __tt_lr_flipcosts.1D\n",
    "# aea_checkflip_results.txt\n",
    "# pb01.SMC10.rest.tshift_al_junk_mat.aff12.1D\n",
    "# pb01.SMC10.rest.tshift_al_junk+orig : subj.anat.Unifize+tlrc 와 align\n",
    "\n",
    "# ================================== register and warp ========================\n",
    "# register each volume to the base\n",
    "os.system(\n",
    "    \"3dvolreg -verbose -zpad 1 -cubic -base pb01.%s.rest.tshift_al_junk+orig'[3]' \\\n",
    "    -1Dfile dfile.%s.rest.1D -prefix rm.epi.volreg.%s.rest \\\n",
    "    -1Dmatrix_save mat.rest.vr.aff12.1D \\\n",
    "    pb01.%s.rest.tshift_al_junk+orig\" %(subj,subj,subj,subj))\n",
    "## output : \n",
    "## mat.rest.vr.aff12.1D\n",
    "## rm.epi.volreg.subj.rest+orig\n",
    "## dfile.subj.rest.1D\n",
    "\n",
    "# create an all-1 dataset to mask the extents of the warp\n",
    "os.system(\"3dcalc -overwrite -a pb01.%s.rest.tshift_al_junk+orig -expr 'bool(a)' -prefix rm.%s.epi.all1\" %(subj,subj))\n",
    "## output : rm.subj.epi.all1+orig\n",
    "\n",
    "os.system(\"3dcalc -a pb01.%s.rest.tshift_al_junk+orig -b rm.%s.epi.all1+orig \\\n",
    "    -expr 'a*b' -prefix pb02.%s.rest.volreg\" %(subj,subj,subj))"
   ]
  },
  {
   "cell_type": "code",
   "execution_count": 15,
   "metadata": {},
   "outputs": [
    {
     "data": {
      "text/plain": [
       "0"
      ]
     },
     "execution_count": 15,
     "metadata": {},
     "output_type": "execute_result"
    }
   ],
   "source": [
    " # Calculation of motion regressors\n",
    "os.system('1d_tool.py -infile dfile.%s.rest.1D -set_nruns 1 \\\n",
    "           -derivative  -collapse_cols euclidean_norm \\\n",
    "           -write motion_%s_enorm.1D' %(subj,subj))\n",
    "os.system('1d_tool.py -infile dfile.%s.rest.1D -set_nruns 1 \\\n",
    "           -demean -write motion_demean.1D' %subj)\n",
    "os.system('1d_tool.py -infile dfile.%s.rest.1D -set_nruns 1 \\\n",
    "           -derivative -write motion_derev.1D' %subj)"
   ]
  },
  {
   "cell_type": "code",
   "execution_count": null,
   "metadata": {},
   "outputs": [],
   "source": []
  }
 ],
 "metadata": {
  "kernelspec": {
   "display_name": "Python 3",
   "language": "python",
   "name": "python3"
  },
  "language_info": {
   "codemirror_mode": {
    "name": "ipython",
    "version": 3
   },
   "file_extension": ".py",
   "mimetype": "text/x-python",
   "name": "python",
   "nbconvert_exporter": "python",
   "pygments_lexer": "ipython3",
   "version": "3.8.3"
  }
 },
 "nbformat": 4,
 "nbformat_minor": 4
}
