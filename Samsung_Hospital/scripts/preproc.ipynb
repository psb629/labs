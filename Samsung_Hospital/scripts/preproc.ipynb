{
 "cells": [
  {
   "cell_type": "code",
   "execution_count": 1,
   "metadata": {},
   "outputs": [],
   "source": [
    "import os\n",
    "from glob import glob\n",
    "from os.path import join, dirname\n",
    "import nibabel as nib\n",
    "import numpy as np"
   ]
  },
  {
   "cell_type": "code",
   "execution_count": 2,
   "metadata": {},
   "outputs": [],
   "source": [
    "subj = 'SMC10'"
   ]
  },
  {
   "cell_type": "code",
   "execution_count": 3,
   "metadata": {},
   "outputs": [],
   "source": [
    "work_dir = '/Users/clmn/Desktop/Samsung_Hospital'\n",
    "fwhm = 4\n",
    "thresh_motion = 0.4"
   ]
  },
  {
   "cell_type": "code",
   "execution_count": 4,
   "metadata": {},
   "outputs": [],
   "source": [
    "raw_dir = join(work_dir,subj,'raw')\n",
    "epi_dir = glob(join(raw_dir,'SMC_*_fMRI'))[0]\n",
    "T1_dir = glob(join(raw_dir,'SMC_*_T1'))[0]"
   ]
  },
  {
   "cell_type": "code",
   "execution_count": 5,
   "metadata": {
    "scrolled": true
   },
   "outputs": [
    {
     "name": "stdout",
     "output_type": "stream",
     "text": [
      "/Users/clmn/Desktop/Samsung_Hospital/SMC10/raw/SMC_2020_10_200617_fMRI \n",
      " /Users/clmn/Desktop/Samsung_Hospital/SMC10/raw/SMC_2020_10_200617_T1\n"
     ]
    }
   ],
   "source": [
    "print(epi_dir,'\\n',T1_dir)"
   ]
  },
  {
   "cell_type": "code",
   "execution_count": 6,
   "metadata": {
    "scrolled": true
   },
   "outputs": [
    {
     "name": "stdout",
     "output_type": "stream",
     "text": [
      "dcm2niix_afni -o /Users/clmn/Desktop/Samsung_Hospital/SMC10/raw /Users/clmn/Desktop/Samsung_Hospital/SMC10/raw/SMC_2020_10_200617_fMRI/*.dcm\n"
     ]
    }
   ],
   "source": [
    "print('dcm2niix_afni -o %s %s/*.dcm' %(raw_dir,epi_dir))"
   ]
  },
  {
   "cell_type": "code",
   "execution_count": 7,
   "metadata": {},
   "outputs": [],
   "source": [
    "epi = glob(join(raw_dir,'SMC*_fMRI.nii.gz'))[0]\n",
    "t1 = glob(join(raw_dir,'SMC*_T1.nii.gz'))[0]"
   ]
  },
  {
   "cell_type": "code",
   "execution_count": 8,
   "metadata": {
    "scrolled": false
   },
   "outputs": [],
   "source": [
    "output_dir = join(work_dir,'preproc_data',subj)\n",
    "os.makedirs(output_dir, exist_ok=True)\n",
    "os.chdir(output_dir)\n",
    "os.makedirs('./preprocessed', exist_ok=True)"
   ]
  },
  {
   "cell_type": "markdown",
   "metadata": {},
   "source": [
    "## S.S. Kim's code"
   ]
  },
  {
   "cell_type": "code",
   "execution_count": 9,
   "metadata": {},
   "outputs": [
    {
     "data": {
      "text/plain": [
       "256"
      ]
     },
     "execution_count": 9,
     "metadata": {},
     "output_type": "execute_result"
    }
   ],
   "source": [
    "os.chdir('./preprocessed')\n",
    "\n",
    "## tcat\n",
    "os.system('3dTcat -tr 3 -prefix pb00.%s.rest.tcat %s' %(subj,epi))\n",
    "os.system('3dcopy %s ./%s.anat+orig' %(t1,subj))\n",
    "os.system('3dToutcount -automask -fraction -polort 3 -legendre')"
   ]
  },
  {
   "cell_type": "code",
   "execution_count": 10,
   "metadata": {},
   "outputs": [
    {
     "data": {
      "text/plain": [
       "0"
      ]
     },
     "execution_count": 10,
     "metadata": {},
     "output_type": "execute_result"
    }
   ],
   "source": [
    "#================================ despike =================================\n",
    "## Removes 'spikes' from the 3D+time input dataset and writes a new dataset with the spike values \n",
    "## replaced by something more pleasing to the eye.\n",
    "os.system('3dDespike -NEW -nomask -prefix pb00.%s.rest.despike pb00.%s.rest.tcat+orig' %(subj,subj))"
   ]
  },
  {
   "cell_type": "code",
   "execution_count": 11,
   "metadata": {},
   "outputs": [
    {
     "data": {
      "text/plain": [
       "0"
      ]
     },
     "execution_count": 11,
     "metadata": {},
     "output_type": "execute_result"
    }
   ],
   "source": [
    "# ================================= tshift =================================\n",
    "## t shift or slice time correction\n",
    "## time shift data so all slice timing is the same\n",
    "## 데이터를 얻는(slicing) 시간이 각각의 axial voxel에 대해 다르기 때문에 보정해주는 것.\n",
    "os.system('3dTshift -tzero 0 -quintic -prefix pb01.%s.rest.tshift pb00.%s.rest.despike+orig' %(subj,subj))\n",
    "## tzero -> to interpolate all the slices as though they were all acquired at the beginning of each TR.\n",
    "## quintic -> 5th order of polynomial"
   ]
  },
  {
   "cell_type": "code",
   "execution_count": 12,
   "metadata": {},
   "outputs": [
    {
     "data": {
      "text/plain": [
       "0"
      ]
     },
     "execution_count": 12,
     "metadata": {},
     "output_type": "execute_result"
    }
   ],
   "source": [
    "# ================================= align ==================================\n",
    "## for e2a: compute anat alignment transformation to EPI registration base\n",
    "## (new anat will be intermediate, stripped, epi_$subjID.anat_ns+orig)\n",
    "## Here, the 'warp' is a 3x4 matrix = affine transform of space which the user supplies.\n",
    "os.system('3dWarp -deoblique -prefix %s.anat.deoblique %s.anat+orig' %(subj,subj))\n",
    "## skull strip\n",
    "os.system('3dSkullStrip -input %s.anat.deoblique+orig -prefix %s.sSanat -orig_vol' %(subj,subj))\n",
    "## The output dataset has the white matter (WM) intensity approximately uniformized \n",
    "## across space, and scaled to peak at about 1000.\n",
    "os.system('3dUnifize -input %s.sSanat+orig -prefix %s.UnisSanat -GM' %(subj,subj))"
   ]
  },
  {
   "cell_type": "code",
   "execution_count": 13,
   "metadata": {},
   "outputs": [
    {
     "data": {
      "text/plain": [
       "0"
      ]
     },
     "execution_count": 13,
     "metadata": {},
     "output_type": "execute_result"
    }
   ],
   "source": [
    "# - align EPI to anatomical datasets or vice versa\n",
    "os.system(\n",
    "    'align_epi_anat.py -anat2epi -anat %s.UnisSanat+orig -anat_has_skull no \\\n",
    "    -epi pb01.%s.rest.tshift+orig   -epi_base 3 \\\n",
    "    -epi_strip 3dAutomask                                      \\\n",
    "    -suffix _al_junk                     -check_flip           \\\n",
    "    -volreg off    -tshift off           -ginormous_move       \\\n",
    "    -cost nmi      -align_centers yes' %(subj,subj)\n",
    ")\n",
    "# -cost lpa (local pearson correlation: nonlinear average of Pearson cc over local neighborhoods)\n",
    "# -cost nmi (1/Normalized MI = H(base,source)/[H(base)+H(source)])"
   ]
  },
  {
   "cell_type": "code",
   "execution_count": null,
   "metadata": {},
   "outputs": [],
   "source": [
    "# ================================= tlrc ==================================\n",
    "# warp anatomy to standard space\n",
    "os.system(\n",
    "    '@auto_tlrc -base ~/abin/MNI152_T1_2009c+tlrc.HEAD -input %s.UnisSanat+orig \\\n",
    "    -no_ss -init_xform AUTO_CENTER' %subj\n",
    ")\n",
    "os.system('cat_matvec %s.UnisSanat+tlrc::WARP_DATA -I > warp.anat.Xat.1D' %subj)"
   ]
  },
  {
   "cell_type": "code",
   "execution_count": null,
   "metadata": {},
   "outputs": [],
   "source": [
    "# ================================== register and warp ========================\n",
    "# register each volume to the base\n",
    "os.system(\n",
    "    \"3dvolreg -verbose -zpad 1 -cubic -base pb01.%s.rest.tshift+orig'[3]' \\\n",
    "    -1Dfile dfile.%s.rest.1D -prefix rm.epi.volreg.%s.rest \\\n",
    "    -1Dmatrix_save mat.rest.vr.aff12.1D \\\n",
    "    pb01.%s.rest.tshift+orig\" %(subj,subj,subj,subj)\n",
    ")"
   ]
  },
  {
   "cell_type": "code",
   "execution_count": null,
   "metadata": {},
   "outputs": [],
   "source": [
    "# create an all-1 dataset to mask the extents of the warp\n",
    "os.system('3dcalc -overwrite -a pb01.%s.rest.tshift+orig -expr 1 -prefix rm.%s.epi.all1' %(subj,subj))\n",
    "\n",
    "# catenate volreg, epi2anat and tlrc transformations\n",
    "os.system(\n",
    "    'cat_matvec -ONELINE \\\n",
    "    %s.UnisSanat_al_junk_mat.aff12.1D -I \\\n",
    "    mat.rest.vr.aff12.1D > mat.%s.rest.warp.aff12.1D' %(subj,subj)\n",
    ")"
   ]
  },
  {
   "cell_type": "code",
   "execution_count": null,
   "metadata": {},
   "outputs": [],
   "source": [
    "# apply catenated xform : volreg, epi2anat and tlrc\n",
    "os.system(\n",
    "    '3dAllineate -base %s.UnisSanat+orig \\\n",
    "     -input pb01.%s.rest.tshift+orig \\\n",
    "     -1Dmatrix_apply mat.%s.rest.warp.aff12.1D \\\n",
    "     -master pb01.%s.rest.tshift+orig  -prefix rm.epi.nomask.%s.rest' %(subj,subj,subj,subj,subj)\n",
    ")"
   ]
  },
  {
   "cell_type": "code",
   "execution_count": 28,
   "metadata": {},
   "outputs": [
    {
     "data": {
      "text/plain": [
       "0"
      ]
     },
     "execution_count": 28,
     "metadata": {},
     "output_type": "execute_result"
    }
   ],
   "source": [
    "# warp the all-1 dataset for extents masking\n",
    "os.system(\n",
    "    '3dAllineate -base %s.UnisSanat+orig \\\n",
    "     -input rm.%s.epi.all1+orig \\\n",
    "     -1Dmatrix_apply mat.%s.rest.warp.aff12.1D \\\n",
    "     -final NN -quiet \\\n",
    "     -master pb01.%s.rest.tshift+orig -prefix rm.epi.1.%s.rest' %(subj,subj,subj,subj,subj)\n",
    ")"
   ]
  },
  {
   "cell_type": "code",
   "execution_count": 27,
   "metadata": {},
   "outputs": [
    {
     "data": {
      "text/plain": [
       "0"
      ]
     },
     "execution_count": 27,
     "metadata": {},
     "output_type": "execute_result"
    }
   ],
   "source": [
    "# make an extents intersection mask of this run\n",
    "os.system('3dTstat -min -prefix rm.epi.min.%s.rest rm.epi.1.%s.rest+orig' %(subj,subj))\n",
    "os.system('3dcopy rm.epi.min.%s.rest+orig mask_epi_extents.%s' %(subj,subj))\n",
    "os.system(\"3dcalc -a rm.epi.nomask.%s.rest+orig -b mask_epi_extents.%s+orig \\\n",
    "-expr 'a*b' -prefix pb02.%s.rest.volreg\" %(subj,subj,subj))"
   ]
  },
  {
   "cell_type": "markdown",
   "metadata": {},
   "source": [
    "## modified"
   ]
  },
  {
   "cell_type": "code",
   "execution_count": 9,
   "metadata": {},
   "outputs": [],
   "source": [
    "os.chdir('./preprocessed')"
   ]
  },
  {
   "cell_type": "code",
   "execution_count": 10,
   "metadata": {},
   "outputs": [
    {
     "data": {
      "text/plain": [
       "0"
      ]
     },
     "execution_count": 10,
     "metadata": {},
     "output_type": "execute_result"
    }
   ],
   "source": [
    "########\n",
    "# ANAT #\n",
    "########\n",
    "# -------------------------- root 1 --------------------------\n",
    "os.system('3dcopy %s %s.anat+orig.nii.gz' %(t1,subj))\n",
    "## output : subj.anat+orig\n",
    "os.system('3dWarp -deoblique -prefix %s.anat.deoblique %s.anat+orig' %(subj,subj))\n",
    "## output : subj.anat.deoblique+orig\n",
    "\n",
    "# -------------------------- branch 1-1 (Kim) --------------------------\n",
    "os.system('3dSkullStrip -input %s.anat.deoblique+orig -prefix %s.anat.ss -orig_vol' %(subj,subj))\n",
    "## output : subj.anat.ss+orig\n",
    "os.system('3dUnifize -input %s.anat.ss+orig -prefix %s.anat.Unifize -GM' %(subj,subj))\n",
    "## output : subj.anat.Unifize+orig\n",
    "\n",
    "# -------------------------- branch 1-2 (Byeon) --------------------------\n",
    "# os.system('3dresample -orient RAI -prefix %s.anat.rai -inset %s.anat.deoblique+orig' %(subj,subj))\n",
    "# os.system('3dUnifize -input %s.anat.rai+orig -prefix %s.anat.unifize -GM -clfrac 0.5' %(subj,subj))\n",
    "# os.system('3dSkullStrip -input %s.anat.unifize+orig -prefix %s.anat.ss -orig_vol' %(subj,subj))\n",
    "\n",
    "# ================================= tlrc coordinate ==================================\n",
    "# warp anatomy to standard space\n",
    "os.system(\n",
    "    '@auto_tlrc -base ~/abin/MNI152_T1_2009c+tlrc.HEAD -input %s.anat.Unifize+orig \\\n",
    "    -no_ss -init_xform AUTO_CENTER' %subj)\n",
    "## output : \n",
    "## subj.anat.Unifize_shift.1D\n",
    "## pre.subj.anat.Unifize+orig\n",
    "## subj.anat.Unifize.Xaff12.1D\n",
    "## subj.anat.Unifize.Xat.1D\n",
    "## subj.anat.Unifize.maskwarp.Xat.1D\n",
    "## subj.anat.Unifize+tlrc : 'whereami'\n",
    "\n",
    "os.system('cat_matvec %s.anat.Unifize+tlrc::WARP_DATA -I > warp.anat.Xat.1D' %subj)\n",
    "## output : warp.anat.Xat.1D"
   ]
  },
  {
   "cell_type": "code",
   "execution_count": 11,
   "metadata": {},
   "outputs": [
    {
     "data": {
      "text/plain": [
       "0"
      ]
     },
     "execution_count": 11,
     "metadata": {},
     "output_type": "execute_result"
    }
   ],
   "source": [
    "########\n",
    "# REST #\n",
    "########\n",
    "#================================ tcat =================================\n",
    "os.system('3dTcat -tr 3 -prefix pb00.%s.rest.tcat %s' %(subj,epi))\n",
    "## output : pb00.subj.rest.tcat+orig\n",
    "\n",
    "os.system('3dToutcount -automask -fraction -polort 3 -legendre pb00.%s.rest.tcat+orig > outcount.%s.1D' %(subj,subj))\n",
    "# polort = the polynomial order of the baseline model\n",
    "## output : outcount.subj.1D\n",
    "\n",
    "# if ( `1deval -a outcount.$subj.r$run.1D\"{0}\" -expr \"step(a-0.4)\"` ) then\n",
    "#     echo \"** TR #0 outliers: possible pre-steady state TRs in run ${run}\" >> out.pre_ss_warn.txt\n",
    "# endif\n",
    "\n",
    "#================================ despike =================================\n",
    "## Removes 'spikes' from the 3D+time input dataset and writes a new dataset with the spike values \n",
    "## replaced by something more pleasing to the eye.\n",
    "os.system('3dDespike -NEW -nomask -prefix pb00.%s.rest.despike pb00.%s.rest.tcat+orig' %(subj,subj))\n",
    "## output : pb00.subj.rest.despike+orig\n",
    "\n",
    "# ================================= tshift =================================\n",
    "## t shift or slice time correction\n",
    "## time shift data so all slice timing is the same\n",
    "## 데이터를 얻는(slicing) 시간이 각각의 axial voxel에 대해 다르기 때문에 보정해주는 것.\n",
    "os.system('3dTshift -tzero 0 -quintic -prefix pb01.%s.rest.tshift pb00.%s.rest.despike+orig' %(subj,subj))\n",
    "## tzero -> to interpolate all the slices as though they were all acquired at the beginning of each TR.\n",
    "## quintic -> 5th order of polynomial\n",
    "## output : pb01.subj.rest.tshift+orig"
   ]
  },
  {
   "cell_type": "code",
   "execution_count": null,
   "metadata": {},
   "outputs": [],
   "source": [
    "# -------------------------- branch 2-1 (anat to epi) --------------------------\n",
    "# ================================= align ==================================\n",
    "# - align EPI to anatomical datasets or vice versa\n",
    "os.system(\n",
    "    'align_epi_anat.py -anat2epi -anat %s.anat.Unifize+orig -anat_has_skull no \\\n",
    "    -epi pb01.%s.rest.tshift+orig   -epi_base 3 \\\n",
    "    -epi_strip 3dAutomask                                      \\\n",
    "    -suffix _al_junk                     -check_flip           \\\n",
    "    -volreg off    -tshift off           -ginormous_move       \\\n",
    "    -cost nmi      -align_centers yes' %(subj,subj))\n",
    "# -cost lpa (local pearson correlation: nonlinear average of Pearson cc over local neighborhoods)\n",
    "# -cost nmi (1/Normalized MI = H(base,source)/[H(base)+H(source)])\n",
    "## output : \n",
    "# subj.anat.Unifize_unflipped+orig\n",
    "# subj.anat.Unifize_unflipped_ob+orig\n",
    "# subj.anat.Unifize_unflipped_ob_shft_I.1D\n",
    "# __tt_pb01.subj.rest.tshift_ts+orig\n",
    "# pb01.subj.rest.tshift_ts_ns+orig\n",
    "# pb01.subj.rest.tshift_ts_ns_wt+orig\n",
    "# subj.anat.Unifize_unflipped_ob_al_junk_wtal+orig\n",
    "# subj.anat.Unifize_unflipped_ob_temp_al_junk+orig\n",
    "# subj.anat.Unifize_al_junk_e2a_only_mat.aff12.1D\n",
    "# __tt_subj.anat.Unifize_lr_al_junk+orig\n",
    "# subj.anat.Unifize_flip_al_junk+orig\n",
    "# subj.anat.Unifize_flip__al_junk_mat.aff12.1D\n",
    "# __tt_lr_noflipcosts.1D\n",
    "# __tt_lr_flipcosts.1D\n",
    "# aea_checkflip_results.txt\n",
    "# subj.anat.Unifize_al_junk_mat.aff12.1D *\n",
    "# subj.anat.Unifize_al_junk+orig\n",
    "\n",
    "# ================================== register and warp ========================\n",
    "# register each volume to the base\n",
    "os.system(\n",
    "    \"3dvolreg -verbose -zpad 1 -cubic -base pb01.%s.rest.tshift+orig'[3]' \\\n",
    "    -1Dfile dfile.%s.rest.1D -prefix rm.epi.volreg.%s.rest \\\n",
    "    -1Dmatrix_save mat.rest.vr.aff12.1D \\\n",
    "    pb01.%s.rest.tshift+orig\" %(subj,subj,subj,subj))\n",
    "## output : \n",
    "## mat.rest.vr.aff12.1D *\n",
    "## rm.epi.volreg.subj.rest+orig\n",
    "## dfile.subj.rest.1D\n",
    "\n",
    "# create an all-1 dataset to mask the extents of the warp\n",
    "os.system('3dcalc -overwrite -a pb01.%s.rest.tshift+orig -expr 1 -prefix rm.%s.epi.all1' %(subj,subj))\n",
    "## output : rm.subj.epi.all1+orig\n",
    "\n",
    "# catenate volreg, epi2anat and tlrc transformations\n",
    "os.system(\n",
    "    'cat_matvec -ONELINE \\\n",
    "    %s.anat.Unifize_al_junk_mat.aff12.1D -I \\\n",
    "    mat.rest.vr.aff12.1D > mat.%s.rest.warp.aff12.1D' %(subj,subj))\n",
    "## output : mat.subj.rest.warp.aff12.1D"
   ]
  },
  {
   "cell_type": "code",
   "execution_count": null,
   "metadata": {},
   "outputs": [],
   "source": []
  },
  {
   "cell_type": "code",
   "execution_count": null,
   "metadata": {},
   "outputs": [],
   "source": [
    "# -------------------------- branch 2-2 (epi to anat) --------------------------\n",
    "# ================================= align ==================================\n",
    "# - align EPI to anatomical datasets or vice versa\n",
    "os.system(\n",
    "    'align_epi_anat.py -epi2anat -anat %s.anat.Unifize+orig -anat_has_skull no \\\n",
    "    -epi pb01.%s.rest.tshift+orig   -epi_base 3 \\\n",
    "    -epi_strip 3dAutomask                                      \\\n",
    "    -suffix _al_junk                     -check_flip           \\\n",
    "    -volreg off    -tshift off           -ginormous_move       \\\n",
    "    -cost nmi      -align_centers yes' %(subj,subj))\n",
    "## output : \n",
    "# SMC10.anat.Unifize_unflipped+orig\n",
    "# SMC10.anat.Unifize_unflipped_ob+orig\n",
    "# SMC10.anat.Unifize_unflipped_ob_shft.1D\n",
    "# SMC10.anat.Unifize_unflipped_shft_I.1D\n",
    "# pb01.SMC10.rest.tshift_ts_ns+orig\n",
    "# pb01.SMC10.rest.tshift_ts_ns_wt+orig\n",
    "# SMC10.anat.Unifize_unflipped_ob_al_junk_wtal+orig\n",
    "# SMC10.anat.Unifize_unflipped_ob_temp_al_junk+orig\n",
    "# SMC10.anat.Unifize_al_junk_e2a_only_mat.aff12.1D\n",
    "# SMC10.anat.Unifize_flip_al_junk+orig\n",
    "# SMC10.anat.Unifize_flip__al_junk_mat.aff12.1D\n",
    "# __tt_lr_noflipcosts.1D\n",
    "# __tt_lr_flipcosts.1D\n",
    "# aea_checkflip_results.txt\n",
    "# pb01.SMC10.rest.tshift_al_junk_mat.aff12.1D\n",
    "# pb01.SMC10.rest.tshift_al_junk+orig : subj.anat.Unifize+tlrc 와 align\n",
    "\n",
    "# ================================== register and warp ========================\n",
    "# register each volume to the base\n",
    "os.system(\n",
    "    \"3dvolreg -verbose -zpad 1 -cubic -base pb01.%s.rest.tshift_al_junk+orig'[3]' \\\n",
    "    -1Dfile dfile.%s.rest.1D -prefix rm.epi.volreg.%s.rest \\\n",
    "    -1Dmatrix_save mat.rest.vr.aff12.1D \\\n",
    "    pb01.%s.rest.tshift_al_junk+orig\" %(subj,subj,subj,subj))\n",
    "## output : \n",
    "## mat.rest.vr.aff12.1D\n",
    "## rm.epi.volreg.subj.rest+orig\n",
    "## dfile.subj.rest.1D\n",
    "\n",
    "# create an all-1 dataset to mask the extents of the warp\n",
    "os.system(\"3dcalc -overwrite -a pb01.%s.rest.tshift_al_junk+orig -expr 'bool(a)' -prefix rm.%s.epi.all1\" %(subj,subj))\n",
    "## output : rm.subj.epi.all1+orig"
   ]
  },
  {
   "cell_type": "code",
   "execution_count": 30,
   "metadata": {},
   "outputs": [
    {
     "data": {
      "text/plain": [
       "0"
      ]
     },
     "execution_count": 30,
     "metadata": {},
     "output_type": "execute_result"
    }
   ],
   "source": [
    "os.system(\"3dcalc -a pb01.%s.rest.tshift_al_junk+orig -b rm.%s.epi.all1+orig \\\n",
    "    -expr 'a*b' -prefix pb02.%s.rest.volreg\" %(subj,subj,subj))"
   ]
  },
  {
   "cell_type": "code",
   "execution_count": null,
   "metadata": {},
   "outputs": [],
   "source": []
  }
 ],
 "metadata": {
  "kernelspec": {
   "display_name": "Python 3",
   "language": "python",
   "name": "python3"
  },
  "language_info": {
   "codemirror_mode": {
    "name": "ipython",
    "version": 3
   },
   "file_extension": ".py",
   "mimetype": "text/x-python",
   "name": "python",
   "nbconvert_exporter": "python",
   "pygments_lexer": "ipython3",
   "version": "3.8.2"
  }
 },
 "nbformat": 4,
 "nbformat_minor": 4
}
