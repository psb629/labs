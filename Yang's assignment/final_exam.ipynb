{
 "cells": [
  {
   "cell_type": "code",
   "execution_count": 1,
   "metadata": {},
   "outputs": [],
   "source": [
    "from Person import Person"
   ]
  },
  {
   "cell_type": "code",
   "execution_count": 2,
   "metadata": {},
   "outputs": [],
   "source": [
    "prn = Person()"
   ]
  },
  {
   "cell_type": "code",
   "execution_count": 3,
   "metadata": {},
   "outputs": [],
   "source": [
    "prn.setName('김기용')\n",
    "prn.setAddress('북한')\n",
    "prn.setPhoneNum('011-1111-1111')"
   ]
  },
  {
   "cell_type": "code",
   "execution_count": 4,
   "metadata": {
    "scrolled": false
   },
   "outputs": [
    {
     "name": "stdout",
     "output_type": "stream",
     "text": [
      "김기용\n",
      "북한\n",
      "011-1111-1111\n"
     ]
    }
   ],
   "source": [
    "print(prn.getName())\n",
    "print(prn.getAddress())\n",
    "print(prn.getPhoneNum())"
   ]
  },
  {
   "cell_type": "code",
   "execution_count": 1,
   "metadata": {},
   "outputs": [],
   "source": [
    "from Student import Student"
   ]
  },
  {
   "cell_type": "code",
   "execution_count": 2,
   "metadata": {},
   "outputs": [],
   "source": [
    "std = Student()"
   ]
  },
  {
   "cell_type": "code",
   "execution_count": 3,
   "metadata": {},
   "outputs": [
    {
     "name": "stdout",
     "output_type": "stream",
     "text": [
      "저장된 과목이 없습니다.\n"
     ]
    }
   ],
   "source": [
    "std.printScores()"
   ]
  },
  {
   "cell_type": "code",
   "execution_count": 4,
   "metadata": {},
   "outputs": [
    {
     "name": "stdout",
     "output_type": "stream",
     "text": [
      "저장된 과목이 없습니다.\n"
     ]
    },
    {
     "data": {
      "text/plain": [
       "0.0"
      ]
     },
     "execution_count": 4,
     "metadata": {},
     "output_type": "execute_result"
    }
   ],
   "source": [
    "std.calcAverage()"
   ]
  },
  {
   "cell_type": "code",
   "execution_count": 5,
   "metadata": {
    "scrolled": false
   },
   "outputs": [],
   "source": [
    "grade1 = dict(영어=90)"
   ]
  },
  {
   "cell_type": "code",
   "execution_count": 6,
   "metadata": {},
   "outputs": [
    {
     "name": "stdout",
     "output_type": "stream",
     "text": [
      "영어는 90점으로 저장되었습니다.\n"
     ]
    }
   ],
   "source": [
    "std.addScore(grade1)"
   ]
  },
  {
   "cell_type": "code",
   "execution_count": 7,
   "metadata": {},
   "outputs": [
    {
     "data": {
      "text/plain": [
       "90"
      ]
     },
     "execution_count": 7,
     "metadata": {},
     "output_type": "execute_result"
    }
   ],
   "source": [
    "std.getScore(\"영어\")"
   ]
  },
  {
   "cell_type": "code",
   "execution_count": 8,
   "metadata": {},
   "outputs": [],
   "source": [
    "grade2 = dict(영어=100)"
   ]
  },
  {
   "cell_type": "code",
   "execution_count": 9,
   "metadata": {},
   "outputs": [
    {
     "name": "stdout",
     "output_type": "stream",
     "text": [
      "이미 과목 점수가 저장되어 있습니다.\n"
     ]
    }
   ],
   "source": [
    "std.addScore(grade2)"
   ]
  },
  {
   "cell_type": "code",
   "execution_count": 10,
   "metadata": {},
   "outputs": [],
   "source": [
    "grade3 = dict(수학=100)"
   ]
  },
  {
   "cell_type": "code",
   "execution_count": 11,
   "metadata": {},
   "outputs": [
    {
     "name": "stdout",
     "output_type": "stream",
     "text": [
      "수학는 100점으로 저장되었습니다.\n"
     ]
    }
   ],
   "source": [
    "std.addScore(grade3)"
   ]
  },
  {
   "cell_type": "code",
   "execution_count": 12,
   "metadata": {},
   "outputs": [
    {
     "data": {
      "text/plain": [
       "100"
      ]
     },
     "execution_count": 12,
     "metadata": {},
     "output_type": "execute_result"
    }
   ],
   "source": [
    "std.getScore(\"수학\")"
   ]
  },
  {
   "cell_type": "code",
   "execution_count": 13,
   "metadata": {},
   "outputs": [
    {
     "name": "stdout",
     "output_type": "stream",
     "text": [
      "수학(은)는 100점에서 14점으로 변경되었습니다.\n"
     ]
    }
   ],
   "source": [
    "std.changeScore(\"수학\",14)"
   ]
  },
  {
   "cell_type": "code",
   "execution_count": 14,
   "metadata": {},
   "outputs": [
    {
     "data": {
      "text/plain": [
       "14"
      ]
     },
     "execution_count": 14,
     "metadata": {},
     "output_type": "execute_result"
    }
   ],
   "source": [
    "std.getScore('수학')"
   ]
  },
  {
   "cell_type": "code",
   "execution_count": 15,
   "metadata": {},
   "outputs": [
    {
     "name": "stdout",
     "output_type": "stream",
     "text": [
      "국어 과목은 저장되지 않았습니다.\n"
     ]
    }
   ],
   "source": [
    "std.changeScore(\"국어\",55)"
   ]
  },
  {
   "cell_type": "code",
   "execution_count": 16,
   "metadata": {},
   "outputs": [],
   "source": [
    "std.getScore('국어')"
   ]
  },
  {
   "cell_type": "code",
   "execution_count": 17,
   "metadata": {},
   "outputs": [
    {
     "name": "stdout",
     "output_type": "stream",
     "text": [
      "영어 : 90점\n",
      "수학 : 14점\n"
     ]
    }
   ],
   "source": [
    "std.printScores()"
   ]
  },
  {
   "cell_type": "code",
   "execution_count": 18,
   "metadata": {},
   "outputs": [
    {
     "data": {
      "text/plain": [
       "52.0"
      ]
     },
     "execution_count": 18,
     "metadata": {},
     "output_type": "execute_result"
    }
   ],
   "source": [
    "std.calcAverage()"
   ]
  },
  {
   "cell_type": "code",
   "execution_count": 19,
   "metadata": {},
   "outputs": [
    {
     "name": "stdout",
     "output_type": "stream",
     "text": [
      "도덕는 70점으로 저장되었습니다.\n"
     ]
    }
   ],
   "source": [
    "grade4 = dict(도덕=70)\n",
    "std.addScore(grade4)"
   ]
  },
  {
   "cell_type": "code",
   "execution_count": 20,
   "metadata": {},
   "outputs": [
    {
     "name": "stdout",
     "output_type": "stream",
     "text": [
      "영어 : 90점\n",
      "수학 : 14점\n",
      "도덕 : 70점\n"
     ]
    }
   ],
   "source": [
    "std.printScores()"
   ]
  },
  {
   "cell_type": "code",
   "execution_count": 21,
   "metadata": {
    "scrolled": true
   },
   "outputs": [
    {
     "data": {
      "text/plain": [
       "58.0"
      ]
     },
     "execution_count": 21,
     "metadata": {},
     "output_type": "execute_result"
    }
   ],
   "source": [
    "std.calcAverage()"
   ]
  },
  {
   "cell_type": "code",
   "execution_count": 1,
   "metadata": {
    "scrolled": false
   },
   "outputs": [],
   "source": [
    "from Student import Student"
   ]
  },
  {
   "cell_type": "code",
   "execution_count": 2,
   "metadata": {
    "scrolled": true
   },
   "outputs": [],
   "source": [
    "d1 = Student(name='Kim',address='서울',phoneNum='010-1111-1111',major='전자')\n",
    "d2 = Student(name='Lee',address='수원',phoneNum='010-2222-2222',major='산공')\n",
    "d3 = Student(name='Park',address='용인',phoneNum='010-3333-3333',major='기계')\n",
    "d4 = Student()"
   ]
  },
  {
   "cell_type": "code",
   "execution_count": 3,
   "metadata": {
    "scrolled": false
   },
   "outputs": [
    {
     "name": "stdout",
     "output_type": "stream",
     "text": [
      "저장된 과목이 없습니다.\n",
      "국어는 40점으로 저장되었습니다.\n",
      "영어는 100점으로 저장되었습니다.\n",
      "수학는 0점으로 저장되었습니다.\n",
      "국어 : 40점\n",
      "영어 : 100점\n",
      "수학 : 0점\n"
     ]
    }
   ],
   "source": [
    "d1_grade1 = dict(국어=40)\n",
    "d1_grade2 = dict(영어=100)\n",
    "d1_grade3 = dict(수학=0)\n",
    "d1.printScores()\n",
    "d1.addScore(d1_grade1)\n",
    "d1.addScore(d1_grade2)\n",
    "d1.addScore(d1_grade3)\n",
    "d1.printScores()"
   ]
  },
  {
   "cell_type": "code",
   "execution_count": 9,
   "metadata": {},
   "outputs": [
    {
     "name": "stdout",
     "output_type": "stream",
     "text": [
      "국어 : 40점\n",
      "영어 : 100점\n",
      "수학 : 0점\n"
     ]
    }
   ],
   "source": [
    "d4.printScores()"
   ]
  },
  {
   "cell_type": "code",
   "execution_count": 5,
   "metadata": {},
   "outputs": [
    {
     "name": "stdout",
     "output_type": "stream",
     "text": [
      "국어 : 40점\n",
      "영어 : 100점\n",
      "수학 : 0점\n",
      "국어 : 40점\n",
      "영어 : 100점\n",
      "수학 : 0점\n"
     ]
    }
   ],
   "source": [
    "d2_grade1 = dict(국어=90)\n",
    "d2_grade2 = dict(영어=20)\n",
    "d2_grade3 = dict(수학=100)\n",
    "d2.printScores()\n",
    "#d2.addScore(d2_grade1)\n",
    "#d2.addScore(d2_grade2)\n",
    "#d2.addScore(d2_grade3)\n",
    "d2.printScores()"
   ]
  },
  {
   "cell_type": "code",
   "execution_count": 15,
   "metadata": {},
   "outputs": [],
   "source": [
    "d3_grade1 = dict(국어=80)\n",
    "d3_grade2 = dict(영어=80)\n",
    "d3_grade3 = dict(수학=80)"
   ]
  },
  {
   "cell_type": "code",
   "execution_count": 11,
   "metadata": {},
   "outputs": [
    {
     "data": {
      "text/plain": [
       "[<Student.Student at 0x1bd8a881188>,\n",
       " <Student.Student at 0x1bd8a881148>,\n",
       " <Student.Student at 0x1bd8a8870c8>]"
      ]
     },
     "execution_count": 11,
     "metadata": {},
     "output_type": "execute_result"
    }
   ],
   "source": [
    "stds = []\n",
    "stds.append(d1)\n",
    "stds.append(d2)\n",
    "stds.append(d3)\n",
    "stds"
   ]
  },
  {
   "cell_type": "code",
   "execution_count": null,
   "metadata": {},
   "outputs": [],
   "source": []
  }
 ],
 "metadata": {
  "kernelspec": {
   "display_name": "Python 3",
   "language": "python",
   "name": "python3"
  },
  "language_info": {
   "codemirror_mode": {
    "name": "ipython",
    "version": 3
   },
   "file_extension": ".py",
   "mimetype": "text/x-python",
   "name": "python",
   "nbconvert_exporter": "python",
   "pygments_lexer": "ipython3",
   "version": "3.7.6"
  }
 },
 "nbformat": 4,
 "nbformat_minor": 4
}
