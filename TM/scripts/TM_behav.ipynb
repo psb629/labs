{
 "cells": [
  {
   "cell_type": "code",
   "execution_count": 11,
   "metadata": {
    "scrolled": true
   },
   "outputs": [],
   "source": [
    "from scipy import special\n",
    "from scipy import optimize\n",
    "import numpy as np\n",
    "import pandas as pd\n",
    "import matplotlib.pyplot as plt\n",
    "from random import random as rand"
   ]
  },
  {
   "cell_type": "code",
   "execution_count": 2,
   "metadata": {},
   "outputs": [],
   "source": [
    "def switch_freq(subj):\n",
    "    i = subj[2]\n",
    "    switcher = {\n",
    "        'L':range(10,20+1,1),\n",
    "        'H':range(25,35+1,1)\n",
    "    }\n",
    "    return switcher.get(i,\"Error : Invalid subj ID\")"
   ]
  },
  {
   "cell_type": "code",
   "execution_count": 3,
   "metadata": {},
   "outputs": [],
   "source": [
    "MATLAB_drive = '/Users/clmn/MATLAB-Drive'\n",
    "behav_dir = MATLAB_drive + '/TM experiment/TM_behavior/behav_data/'"
   ]
  },
  {
   "cell_type": "code",
   "execution_count": 4,
   "metadata": {},
   "outputs": [],
   "source": [
    "subj = 'TML01_pilot'\n",
    "freq_range = switch_freq(subj)\n",
    "freq_c = freq_range[5]"
   ]
  },
  {
   "cell_type": "code",
   "execution_count": 5,
   "metadata": {},
   "outputs": [],
   "source": [
    "def greek(letter):\n",
    "    switcher = {\n",
    "        'alpha':'\\u03B1',   'ALPHA':'\\u0391',\n",
    "        'beta':'\\u03B2',    'BETA':'\\u0392',\n",
    "        'gamma':'\\u03B3',   'GAMMA':'\\u0393',\n",
    "        'delta':'\\u03B4',   'DELTA':'\\u0394',\n",
    "        'epilson':'\\u03B5', 'EPSILON':'\\u0395',\n",
    "        'zeta':'\\u03B6',    'ZETA':'\\u0396',\n",
    "        'eta':'\\u03B7',     'ETA':'\\u0397',\n",
    "        'theta':'\\u03B8',   'THETA':'\\u0398',\n",
    "        'iota':'\\u03B9',    'IOTA':'\\u0399',\n",
    "        'kappa':'\\u03BA',   'KAPPA':'\\u039A',\n",
    "        'lamda':'\\u03BB',   'LAMDA':'\\u039B',\n",
    "        'mu':'\\u03BC',      'MU':'\\u039C',\n",
    "        'nu':'\\u03BD',      'NU':'\\u039D',\n",
    "        'xi':'\\u03BE',      'XI':'\\u039E',\n",
    "        'omicron':'\\u03BF', 'OMICRON':'\\u039F',\n",
    "        'pi':'\\u03C0',      'PI':'\\u03A0',\n",
    "        'rho':'\\u03C1',     'RHO':'\\u03A1',\n",
    "        'sigma':'\\u03C3',   'SIGMA':'\\u03A3',\n",
    "        'tau':'\\u03C4',     'TAU':'\\u03A4',\n",
    "        'phi':'\\u03C6',     'PHI':'\\u03A6',\n",
    "        'chi':'\\u03C7',     'CHI':'\\u03A7',\n",
    "        'psi':'\\u03C8',     'PSI':'\\u03A8',\n",
    "        'omega':'\\u03C9',   'OMEGA':'\\u03A9'\n",
    "    }\n",
    "    return switcher.get(letter, \"Error : Invalid letter\")"
   ]
  },
  {
   "cell_type": "code",
   "execution_count": 6,
   "metadata": {},
   "outputs": [],
   "source": [
    "def calc_freq_class(freq_range, freq):\n",
    "    #freq_range = range(10,20+1,1)\n",
    "    freqs = [x for x in freq_range]\n",
    "    f_mid = int((freqs[0]+freqs[-1])*0.5)\n",
    "    return int(freq - f_mid)"
   ]
  },
  {
   "cell_type": "markdown",
   "metadata": {},
   "source": [
    "## Psychometric Curve Fitting"
   ]
  },
  {
   "cell_type": "code",
   "execution_count": 46,
   "metadata": {},
   "outputs": [],
   "source": [
    "def get_dataframe_DIS(subj):\n",
    "    subj_behav_datum = behav_dir + subj + '/%s_Dis.dat' %subj\n",
    "    df = pd.read_csv(subj_behav_datum, sep='\\t', header=None)\n",
    "    df.columns=['trial', 'Freq.1', 'ISI1', 'Freq.2', 'ISI2', 'decision', 'correctness', 'RT', 'ISI3']\n",
    "#     df['Freq.1.class'] = [np.int64(np.sign(f-freq_c)) for f in df['Freq.1']]\n",
    "#     df['Freq.2.class'] = [np.int64(np.sign(f-freq_c)) for f in df['Freq.2']]\n",
    "#     df['Freq.other.index'] = [1 if a != 0 else 2 for a in df['Freq.1.class']]\n",
    "#     df['Freq.other.class'] = [a+b for a, b in zip(df['Freq.1.class'], df['Freq.2.class'])]\n",
    "    df['answer.index'] = [1 if a>b else 2 for a, b in zip(df['Freq.1'], df['Freq.2'])]\n",
    "    df['decision.index'] = [1 if x == 'before' else (2 if x=='after' else 'NaN') for i, x in enumerate(df['decision'])]\n",
    "#     df['Freq.other_decision.class'] = ['NaN' if b=='NaN' else (1 if a==b else -1) for a,b in zip(df['Freq.other.index'],df['decision.index'])]\n",
    "\n",
    "    df['Freq.1.diff'] = [calc_freq_class(freq_range,f) for f in df['Freq.1']]\n",
    "    df['Freq.2.diff'] = [calc_freq_class(freq_range,f) for f in df['Freq.2']]\n",
    "    df['Freq.other.diff'] = [a+b for a, b in zip(df['Freq.1.diff'], df['Freq.2.diff'])]\n",
    "    df['F1<F2.class'] = [np.sign(b-a) for a, b in zip(df['Freq.1'], df['Freq.2'])]\n",
    "    df['F1<F2.diff'] = [b-a for a, b in zip(df['Freq.1'], df['Freq.2'])]\n",
    "\n",
    "    return df\n",
    "\n",
    "def scatter_x_y(subj):\n",
    "    df = get_dataframe_DIS(subj)\n",
    "    da = df[['answer.index','decision.index','Freq.other.diff']]\n",
    "    \n",
    "#     c = range(-5,6) # contrast\n",
    "    c = np.arange(-5,6) # contrast\n",
    "\n",
    "    db = pd.DataFrame(index = ['prob'], columns = c)\n",
    "    for rank in c:\n",
    "        temp = (da['decision.index'] != 'NaN')&(da['Freq.other.diff'] == rank)&(da['answer.index'] == da['decision.index'])\n",
    "        n = len(da[temp])\n",
    "        db[rank] = n * np.sign(rank)\n",
    "    maxfreq = max(freq_range)\n",
    "    db = db/maxfreq * 0.5 + 0.5\n",
    "    prob = np.array(db).reshape(len(c))\n",
    "    return c+freq_c, prob\n",
    "\n",
    "def func_ideal_observer(x, a,b,r,k):\n",
    "    n = freq_c\n",
    "    return 0.5*(1+special.erf( k/(a*k**r)**(0.5) * (x**b-n**b)/np.sqrt(x**(b*r)+n**(b*r)) ))\n",
    "\n",
    "def func_error(x, mu,s):\n",
    "    ## Error function\n",
    "    ## 'mu' means mean\n",
    "    ## 's' means deviation\n",
    "    return 0.5*(1+special.erf((x-mu)/(np.sqrt(2)*s)))\n",
    "\n",
    "def func_logistic(x, a,b):\n",
    "    ## Logistic function\n",
    "    ## freeparameter : a, b\n",
    "    ## 'a' can be interpreted as the 75% threshold\n",
    "    ## 'b' as a scaling factor that is inversely related to the slope of the psychometric function.\n",
    "    return special.expit((x-a)/b)\n",
    "\n",
    "def func_Weibull(x, a,b):\n",
    "    ## Weibull cumulative distribution function\n",
    "    ## 'a' summarises the effect of the stimulus\n",
    "    ## 'b' reflets to the effect of noise\n",
    "    g = 0.5 # chance level\n",
    "    y = []\n",
    "    for k in x:\n",
    "        temp = k - freq_c\n",
    "        if temp > 0:\n",
    "            y.append(1 - (1-g)*np.exp(-a * (temp**b)))\n",
    "        elif temp == 0:\n",
    "            y.append(g)\n",
    "        else:\n",
    "            y.append(0)\n",
    "    return np.asarray(y)"
   ]
  },
  {
   "cell_type": "code",
   "execution_count": 74,
   "metadata": {
    "scrolled": false
   },
   "outputs": [
    {
     "data": {
      "image/png": "[encoded data removed]",
      "text/plain": [
       "<Figure size 432x288 with 1 Axes>"
      ]
     },
     "metadata": {
      "needs_background": "light"
     },
     "output_type": "display_data"
    }
   ],
   "source": [
    "x, prob = scatter_x_y(subj)\n",
    "\n",
    "# params, params_covariance = optimize.curve_fit(test_func, t, prob, p0=[0.1,0.1,0.1,0.1], maxfev=1000)\n",
    "\n",
    "## error function\n",
    "# test_func = func_error\n",
    "# params, params_covariance = optimize.curve_fit(test_func, x, prob, p0=[15,1], maxfev=500)\n",
    "# JND=special.erfinv(0.5)*(np.sqrt(2)*params[1]); # JND for 75%\n",
    "# plt.plot(x, test_func(x, params[0],params[1]), label='%s=%.3fHz\\nJND=%.3fHz'%(greek('mu'),params[0],JND))\n",
    "\n",
    "## logistic function\n",
    "# test_func = func_logistic\n",
    "# params, params_covariance = optimize.curve_fit(test_func, x, prob, p0=[1,1], maxfev=500)\n",
    "# plt.plot(x, test_func(x, params[0],params[1]), label='%s=%.3f\\n%s=%.3f'%(greek('alpha'),params[0],greek('beta'),params[1]))\n",
    "\n",
    "## Weibull function\n",
    "test_func = func_Weibull\n",
    "params, params_covariance = optimize.curve_fit(test_func, x, prob, p0=[10*rand(),10*rand()], maxfev=300, bounds=([0.0001,0.0001] , [100, 100]))\n",
    "# bounds : constraint, 0.0001 <= a <= 100, 0.0001 <= b <= 100\n",
    "plt.plot(x, test_func(x, params[0],params[1]), label='%s=%.3f\\n%s=%.3f'%(greek('alpha'),params[0],greek('beta'),params[1]))\n",
    "\n",
    "plt.scatter(x=x,y=prob)\n",
    "plt.legend(loc='best')\n",
    "plt.ylim([-.1,1.1])\n",
    "\n",
    "plt.title(subj)\n",
    "plt.grid()\n",
    "#plt.savefig(fname=subj+'_curve.png',dpi=300)"
   ]
  },
  {
   "cell_type": "markdown",
   "metadata": {},
   "source": [
    "## Hidden Target Search Task"
   ]
  },
  {
   "cell_type": "code",
   "execution_count": null,
   "metadata": {},
   "outputs": [],
   "source": []
  }
 ],
 "metadata": {
  "kernelspec": {
   "display_name": "Python 3",
   "language": "python",
   "name": "python3"
  },
  "language_info": {
   "codemirror_mode": {
    "name": "ipython",
    "version": 3
   },
   "file_extension": ".py",
   "mimetype": "text/x-python",
   "name": "python",
   "nbconvert_exporter": "python",
   "pygments_lexer": "ipython3",
   "version": "3.8.2"
  }
 },
 "nbformat": 4,
 "nbformat_minor": 4
}
