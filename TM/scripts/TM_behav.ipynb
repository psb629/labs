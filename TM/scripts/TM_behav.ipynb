{
 "cells": [
  {
   "cell_type": "code",
   "execution_count": 1,
   "metadata": {
    "scrolled": true
   },
   "outputs": [],
   "source": [
    "from scipy import special\n",
    "from scipy import optimize\n",
    "import numpy as np\n",
    "import pandas as pd\n",
    "import matplotlib.pyplot as plt\n",
    "from random import random as rand\n",
    "from sam import greek\n",
    "from datetime import date\n",
    "from os.path import join\n",
    "import math"
   ]
  },
  {
   "cell_type": "code",
   "execution_count": 2,
   "metadata": {},
   "outputs": [],
   "source": [
    "# MATLAB_drive = '/Users/clmn/MATLAB-Drive'\n",
    "# behav_dir = MATLAB_drive + '/TM experiment/TM_behavior/behav_data/'\n",
    "behav_dir = '../behav_data/'\n",
    "today = date.today().strftime(\"%Y%m%d\")"
   ]
  },
  {
   "cell_type": "code",
   "execution_count": 3,
   "metadata": {},
   "outputs": [],
   "source": [
    "def switch_freq(subj):\n",
    "    i = subj[2]\n",
    "    switcher = {\n",
    "        'L':(10,15,20),\n",
    "        'H':(25,30,35)\n",
    "    }\n",
    "    return switcher.get(i,\"Error : Invalid subj ID\")"
   ]
  },
  {
   "cell_type": "code",
   "execution_count": 4,
   "metadata": {},
   "outputs": [],
   "source": [
    "def set_subj(subj):\n",
    "    f_ini, f_mid, f_fin = switch_freq(subj)\n",
    "    freq_range = range(f_ini,f_fin+1)\n",
    "    return f_ini,f_mid,f_fin,freq_range"
   ]
  },
  {
   "cell_type": "markdown",
   "metadata": {},
   "source": [
    "## Psychometric Curve Fitting"
   ]
  },
  {
   "cell_type": "code",
   "execution_count": 5,
   "metadata": {},
   "outputs": [],
   "source": [
    "def scatter_x_y(subj):\n",
    "    df = pd.read_csv(join(behav_dir,'%s_Dis.txt'%subj), sep='\\t', header=None )\n",
    "    df['class'] = [f2+f1-30 for f1, f2 in zip(df[2],df[4])]\n",
    "    ## before = -1, after = 1, NaN = 0\n",
    "    df['decision'] = [1 if x=='after' else (-1 if x=='before' else 0) for x in df[6]]\n",
    "    df['class.other'] = [-1 if a!=15 else 1 for a in df[2]]\n",
    "    df['picked.other'] = [1 if a==b else 0 for a,b in zip(df['decision'],df['class.other'])]\n",
    "    N = len(df[df['class']==1.0])\n",
    "    temp = df.groupby('class').sum()\n",
    "    ## y : probability\n",
    "    y = temp['picked.other']/N\n",
    "    ## x : classifier\n",
    "    x = temp.index\n",
    "    return x+f_mid, y\n",
    "\n",
    "def func_ideal_observer(x, a,b,r,k):\n",
    "    n = f_mid\n",
    "    return 0.5*(1+special.erf( k/(a*k**r)**(0.5) * (x**b-n**b)/np.sqrt(x**(b*r)+n**(b*r)) ))\n",
    "\n",
    "def func_error(x,s):\n",
    "    ## Error function\n",
    "    ## 'mu' means mean\n",
    "    ## 's' means deviation\n",
    "    ## constraint : mu = f_mid\n",
    "    mu = f_mid\n",
    "    return 0.5*(1+special.erf((x-mu)/(np.sqrt(2)*s)))\n",
    "\n",
    "def func_logistic(x,b):\n",
    "    ## Logistic function\n",
    "    ## freeparameter : a, b\n",
    "    ## 'a' can be interpreted as the 75% threshold\n",
    "    ## 'b' as a scaling factor that is inversely related to the slope of the psychometric function.\n",
    "    ## constraint : a = f_mid\n",
    "    a = f_mid\n",
    "    return special.expit((x-a)/b)\n",
    "\n",
    "def func_Weibull(x, a,b):\n",
    "    ## Weibull cumulative distribution function\n",
    "    ## 'a' summarises the effect of the stimulus\n",
    "    ## 'b' reflets to the effect of noise\n",
    "    g = 0.5 # chance level\n",
    "    y = []\n",
    "    for temp in x:\n",
    "        k = temp - f_mid\n",
    "        if k > 0:\n",
    "            y.append(1 - (1-g)*np.exp(-a * (k**b)))\n",
    "        elif k == 0:\n",
    "            y.append(g)\n",
    "        else:\n",
    "            y.append(g*np.exp(-a * ((-k)**b))) # reverse Weibull cdf\n",
    "    return np.asarray(y)"
   ]
  },
  {
   "cell_type": "code",
   "execution_count": 12,
   "metadata": {
    "scrolled": false
   },
   "outputs": [
    {
     "data": {
      "image/png": "[encoded data removed]",
      "text/plain": [
       "<Figure size 432x288 with 1 Axes>"
      ]
     },
     "metadata": {
      "needs_background": "light"
     },
     "output_type": "display_data"
    }
   ],
   "source": [
    "subj = 'TML19'\n",
    "f_ini,f_mid,f_fin,freq_range = set_subj(subj)\n",
    "xdata, prob = scatter_x_y(subj)\n",
    "dx = 2**(-4)\n",
    "## x array to plot curves\n",
    "x = np.arange(f_ini,f_fin+dx,dx)\n",
    "\n",
    "## error function\n",
    "# test_func = func_error\n",
    "# params, params_covariance = optimize.curve_fit(\n",
    "#     test_func, xdata, prob, maxfev=500,\n",
    "#     p0=[f_mid+5*(rand()-0.5),10*rand()]\n",
    "# )\n",
    "# JND=special.erfinv(0.5)*(np.sqrt(2)*params[1]); # JND for 75%\n",
    "# plt.plot(\n",
    "#     x, test_func(x, *params),\n",
    "#     label='%s=%.3fHz\\n%s=%.3fHz\\nJND=%.3fHz'%(greek('mu'),params[0],greek('sigma'),params[1],JND)\n",
    "# )\n",
    "test_func = func_error\n",
    "params, params_covariance = optimize.curve_fit(\n",
    "    test_func, xdata, prob, maxfev=500,\n",
    "    p0=[10*rand()]\n",
    ")\n",
    "JND=special.erfinv(0.5)*(np.sqrt(2)*params); # JND for 75%\n",
    "plt.plot(\n",
    "    x, test_func(x, *params),\n",
    "    label='%s=%.3fHz\\n%s=%.3fHz\\nJND=%.3fHz'%(greek('mu'),f_mid,greek('sigma'),params,JND)\n",
    ")\n",
    "\n",
    "## logistic function\n",
    "# test_func = func_logistic\n",
    "# a_max, b_max = f_fin, 20.\n",
    "# params, params_covariance = optimize.curve_fit(\n",
    "#     test_func, xdata, prob, p0=[f_mid+5*(rand()-0.5),b_max*rand()], maxfev=500,\n",
    "#     bounds=([dx,dx], [a_max,b_max])\n",
    "# )\n",
    "# JND = params[1]*np.log(3)+params[0] - f_mid\n",
    "# plt.plot(x, test_func(x, *params), label='%s=%.3fHz\\n%s=%.3fHz\\nJND=%.3fHz'%(greek('alpha'),params[0],greek('beta'),params[1],JND))\n",
    "test_func = func_logistic\n",
    "b_max = 20.\n",
    "params, params_covariance = optimize.curve_fit(\n",
    "    test_func, xdata, prob, p0=[b_max*rand()], maxfev=500,\n",
    "    bounds=([dx], [b_max])\n",
    ")\n",
    "JND = params*np.log(3)\n",
    "plt.plot(x, test_func(x, *params), label='%s=%.3fHz\\n%s=%.3fHz\\nJND=%.3fHz'%(greek('alpha'),f_mid,greek('beta'),params,JND))\n",
    "\n",
    "## Weibull function\n",
    "test_func = func_Weibull\n",
    "a_max, b_max = 5., 10.\n",
    "params, params_covariance = optimize.curve_fit(\n",
    "    test_func, xdata, prob,\n",
    "    p0=[a_max*rand(),b_max*rand()],\n",
    "    maxfev=500,\n",
    "    bounds=([dx,dx], [a_max,b_max])\n",
    ")\n",
    "JND = (np.log(2)/params[0])**(1./params[1])\n",
    "plt.plot(\n",
    "    x, test_func(x, *params),\n",
    "    label='%s=%.3f\\n%s=%.3f\\nJND=%.3fHz'%(greek('alpha'),params[0],greek('beta'),params[1],JND)\n",
    ")\n",
    "\n",
    "plt.scatter(x=xdata,y=prob)\n",
    "plt.scatter(x=[f_mid],y=[0.5])\n",
    "plt.legend(loc='best')\n",
    "plt.ylim([-.1,1.1])\n",
    "\n",
    "plt.title(subj)\n",
    "plt.grid()\n",
    "#plt.savefig(fname=today+'_'+subj+'_curve.png',dpi=300)"
   ]
  },
  {
   "cell_type": "markdown",
   "metadata": {},
   "source": [
    "## Code test for raw TML data"
   ]
  },
  {
   "cell_type": "code",
   "execution_count": 1,
   "metadata": {},
   "outputs": [],
   "source": [
    "from TM import curve_fit"
   ]
  },
  {
   "cell_type": "code",
   "execution_count": 7,
   "metadata": {},
   "outputs": [
    {
     "data": {
      "image/png": "[encoded data removed]",
      "text/plain": [
       "<Figure size 432x288 with 1 Axes>"
      ]
     },
     "metadata": {
      "needs_background": "light"
     },
     "output_type": "display_data"
    }
   ],
   "source": [
    "params = curve_fit('TML13',3)"
   ]
  },
  {
   "cell_type": "markdown",
   "metadata": {},
   "source": [
    "## Data modify"
   ]
  },
  {
   "cell_type": "code",
   "execution_count": 55,
   "metadata": {},
   "outputs": [
    {
     "data": {
      "text/html": [
       "<div>\n",
       "<style scoped>\n",
       "    .dataframe tbody tr th:only-of-type {\n",
       "        vertical-align: middle;\n",
       "    }\n",
       "\n",
       "    .dataframe tbody tr th {\n",
       "        vertical-align: top;\n",
       "    }\n",
       "\n",
       "    .dataframe thead th {\n",
       "        text-align: right;\n",
       "    }\n",
       "</style>\n",
       "<table border=\"1\" class=\"dataframe\">\n",
       "  <thead>\n",
       "    <tr style=\"text-align: right;\">\n",
       "      <th></th>\n",
       "      <th>0</th>\n",
       "      <th>1</th>\n",
       "      <th>2</th>\n",
       "      <th>3</th>\n",
       "      <th>4</th>\n",
       "      <th>5</th>\n",
       "      <th>6</th>\n",
       "      <th>7</th>\n",
       "      <th>8</th>\n",
       "    </tr>\n",
       "  </thead>\n",
       "  <tbody>\n",
       "    <tr>\n",
       "      <th>0</th>\n",
       "      <td>10001</td>\n",
       "      <td>15.0</td>\n",
       "      <td>4.5</td>\n",
       "      <td>13.0</td>\n",
       "      <td>5</td>\n",
       "      <td>after</td>\n",
       "      <td>0</td>\n",
       "      <td>0.513</td>\n",
       "      <td>3</td>\n",
       "    </tr>\n",
       "    <tr>\n",
       "      <th>1</th>\n",
       "      <td>10002</td>\n",
       "      <td>15.0</td>\n",
       "      <td>4.5</td>\n",
       "      <td>18.0</td>\n",
       "      <td>5</td>\n",
       "      <td>after</td>\n",
       "      <td>1</td>\n",
       "      <td>0.381</td>\n",
       "      <td>3</td>\n",
       "    </tr>\n",
       "    <tr>\n",
       "      <th>2</th>\n",
       "      <td>10003</td>\n",
       "      <td>15.0</td>\n",
       "      <td>6.5</td>\n",
       "      <td>14.0</td>\n",
       "      <td>3</td>\n",
       "      <td>before</td>\n",
       "      <td>1</td>\n",
       "      <td>1.001</td>\n",
       "      <td>5</td>\n",
       "    </tr>\n",
       "    <tr>\n",
       "      <th>3</th>\n",
       "      <td>10004</td>\n",
       "      <td>15.0</td>\n",
       "      <td>4.5</td>\n",
       "      <td>10.0</td>\n",
       "      <td>5</td>\n",
       "      <td>before</td>\n",
       "      <td>1</td>\n",
       "      <td>0.445</td>\n",
       "      <td>3</td>\n",
       "    </tr>\n",
       "    <tr>\n",
       "      <th>4</th>\n",
       "      <td>10005</td>\n",
       "      <td>19.0</td>\n",
       "      <td>6.5</td>\n",
       "      <td>15.0</td>\n",
       "      <td>3</td>\n",
       "      <td>before</td>\n",
       "      <td>1</td>\n",
       "      <td>0.561</td>\n",
       "      <td>5</td>\n",
       "    </tr>\n",
       "    <tr>\n",
       "      <th>...</th>\n",
       "      <td>...</td>\n",
       "      <td>...</td>\n",
       "      <td>...</td>\n",
       "      <td>...</td>\n",
       "      <td>...</td>\n",
       "      <td>...</td>\n",
       "      <td>...</td>\n",
       "      <td>...</td>\n",
       "      <td>...</td>\n",
       "    </tr>\n",
       "    <tr>\n",
       "      <th>95</th>\n",
       "      <td>100006</td>\n",
       "      <td>15.0</td>\n",
       "      <td>6.5</td>\n",
       "      <td>11.0</td>\n",
       "      <td>3</td>\n",
       "      <td>before</td>\n",
       "      <td>1</td>\n",
       "      <td>0.474</td>\n",
       "      <td>5</td>\n",
       "    </tr>\n",
       "    <tr>\n",
       "      <th>96</th>\n",
       "      <td>100007</td>\n",
       "      <td>15.0</td>\n",
       "      <td>3.5</td>\n",
       "      <td>17.0</td>\n",
       "      <td>6</td>\n",
       "      <td>after</td>\n",
       "      <td>1</td>\n",
       "      <td>0.422</td>\n",
       "      <td>2</td>\n",
       "    </tr>\n",
       "    <tr>\n",
       "      <th>97</th>\n",
       "      <td>100008</td>\n",
       "      <td>12.0</td>\n",
       "      <td>6.5</td>\n",
       "      <td>15.0</td>\n",
       "      <td>3</td>\n",
       "      <td>after</td>\n",
       "      <td>1</td>\n",
       "      <td>0.490</td>\n",
       "      <td>5</td>\n",
       "    </tr>\n",
       "    <tr>\n",
       "      <th>98</th>\n",
       "      <td>100009</td>\n",
       "      <td>18.0</td>\n",
       "      <td>7.5</td>\n",
       "      <td>15.0</td>\n",
       "      <td>2</td>\n",
       "      <td>before</td>\n",
       "      <td>1</td>\n",
       "      <td>0.598</td>\n",
       "      <td>6</td>\n",
       "    </tr>\n",
       "    <tr>\n",
       "      <th>99</th>\n",
       "      <td>100010</td>\n",
       "      <td>15.0</td>\n",
       "      <td>6.5</td>\n",
       "      <td>14.0</td>\n",
       "      <td>3</td>\n",
       "      <td>after</td>\n",
       "      <td>0</td>\n",
       "      <td>0.626</td>\n",
       "      <td>5</td>\n",
       "    </tr>\n",
       "  </tbody>\n",
       "</table>\n",
       "<p>100 rows × 9 columns</p>\n",
       "</div>"
      ],
      "text/plain": [
       "         0     1    2     3  4       5  6      7  8\n",
       "0    10001  15.0  4.5  13.0  5   after  0  0.513  3\n",
       "1    10002  15.0  4.5  18.0  5   after  1  0.381  3\n",
       "2    10003  15.0  6.5  14.0  3  before  1  1.001  5\n",
       "3    10004  15.0  4.5  10.0  5  before  1  0.445  3\n",
       "4    10005  19.0  6.5  15.0  3  before  1  0.561  5\n",
       "..     ...   ...  ...   ... ..     ... ..    ... ..\n",
       "95  100006  15.0  6.5  11.0  3  before  1  0.474  5\n",
       "96  100007  15.0  3.5  17.0  6   after  1  0.422  2\n",
       "97  100008  12.0  6.5  15.0  3   after  1  0.490  5\n",
       "98  100009  18.0  7.5  15.0  2  before  1  0.598  6\n",
       "99  100010  15.0  6.5  14.0  3   after  0  0.626  5\n",
       "\n",
       "[100 rows x 9 columns]"
      ]
     },
     "execution_count": 55,
     "metadata": {},
     "output_type": "execute_result"
    }
   ],
   "source": [
    "subj = 'TML15'\n",
    "df = pd.read_csv(join(behav_dir,'%s_behav_data_Dis.dat'%subj), sep='\\t', header=None )\n",
    "df"
   ]
  },
  {
   "cell_type": "code",
   "execution_count": 125,
   "metadata": {},
   "outputs": [],
   "source": [
    "dg = pd.DataFrame(columns=['Block', 'Trial', 'f1', 'ISI1', 'f2', 'ISI2', 'decision', 'time_taken', 'ISI3'])\n",
    "\n",
    "## cut off a column 'correcness' and separate trial classifier to block, trial\n",
    "for i,x in enumerate(df[0]):\n",
    "    dg.loc[i,'Block'], dg.loc[i,'Trial'] = math.floor(x/1e4), int(x%1e4)\n",
    "    dg.loc[i,'time_taken'] = '%.3f'%df.loc[i,7]\n",
    "\n",
    "dg['f1'] = df[1]\n",
    "dg['ISI1'] = df[2]\n",
    "dg['f2'] = df[3]\n",
    "dg['ISI2'] = df[4]\n",
    "dg['decision'] = df[5]\n",
    "dg['ISI3'] = df[8]\n",
    "\n",
    "dg.to_csv(join(behav_dir,'%s_Dis.txt'%subj), header=None, index=False, sep='\\t', na_rep='NaN')\n",
    "dg"
   ]
  },
  {
   "cell_type": "markdown",
   "metadata": {},
   "source": [
    "# Parameter Space"
   ]
  },
  {
   "cell_type": "code",
   "execution_count": null,
   "metadata": {},
   "outputs": [],
   "source": [
    "def calc_mse(subj, a, b):\n",
    "    df = pd.read_csv(join(behav_dir,'%s_Dis.txt'%subj), sep='\\t', header=None )"
   ]
  },
  {
   "cell_type": "code",
   "execution_count": 25,
   "metadata": {},
   "outputs": [
    {
     "data": {
      "image/png": "[encoded data removed]",
      "text/plain": [
       "<Figure size 432x288 with 1 Axes>"
      ]
     },
     "metadata": {
      "needs_background": "light"
     },
     "output_type": "display_data"
    }
   ],
   "source": [
    "subj = 'TML18'\n",
    "set_subj(subj)\n",
    "x, y = scatter_x_y(subj)\n",
    "plt.scatter(x=x,y=y)\n",
    "plt.scatter(x=[0],y=[0.5])\n",
    "plt.grid()"
   ]
  },
  {
   "cell_type": "code",
   "execution_count": null,
   "metadata": {},
   "outputs": [],
   "source": []
  }
 ],
 "metadata": {
  "kernelspec": {
   "display_name": "Python 3",
   "language": "python",
   "name": "python3"
  },
  "language_info": {
   "codemirror_mode": {
    "name": "ipython",
    "version": 3
   },
   "file_extension": ".py",
   "mimetype": "text/x-python",
   "name": "python",
   "nbconvert_exporter": "python",
   "pygments_lexer": "ipython3",
   "version": "3.7.6"
  }
 },
 "nbformat": 4,
 "nbformat_minor": 4
}
