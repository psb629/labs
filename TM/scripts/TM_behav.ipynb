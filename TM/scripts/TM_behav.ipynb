{
 "cells": [
  {
   "cell_type": "code",
   "execution_count": 1,
   "metadata": {
    "scrolled": true
   },
   "outputs": [],
   "source": [
    "from scipy import special\n",
    "from scipy import optimize\n",
    "import numpy as np\n",
    "import pandas as pd\n",
    "import matplotlib.pyplot as plt\n",
    "from random import random as rand\n",
    "from sam import greek\n",
    "from datetime import date"
   ]
  },
  {
   "cell_type": "code",
   "execution_count": 2,
   "metadata": {},
   "outputs": [],
   "source": [
    "def switch_freq(subj):\n",
    "    i = subj[2]\n",
    "    switcher = {\n",
    "        'L':(10,15,20),\n",
    "        'H':(25,30,35)\n",
    "    }\n",
    "    return switcher.get(i,\"Error : Invalid subj ID\")"
   ]
  },
  {
   "cell_type": "code",
   "execution_count": 3,
   "metadata": {},
   "outputs": [],
   "source": [
    "MATLAB_drive = '/Users/clmn/MATLAB-Drive'\n",
    "behav_dir = MATLAB_drive + '/TM experiment/TM_behavior/behav_data/'"
   ]
  },
  {
   "cell_type": "code",
   "execution_count": 4,
   "metadata": {},
   "outputs": [],
   "source": [
    "subj = 'TML01_pilot'\n",
    "f_ini, f_mid, f_fin = switch_freq(subj)\n",
    "freq_range = range(f_ini,f_fin+1)\n",
    "today = date.today().strftime(\"%Y%m%d\")"
   ]
  },
  {
   "cell_type": "markdown",
   "metadata": {},
   "source": [
    "## Psychometric Curve Fitting"
   ]
  },
  {
   "cell_type": "code",
   "execution_count": 5,
   "metadata": {},
   "outputs": [],
   "source": [
    "def get_dataframe_DIS(subj):\n",
    "    subj_behav_datum = behav_dir + subj + '/%s_Dis.dat' %subj\n",
    "    df = pd.read_csv(subj_behav_datum, sep='\\t', header=None)\n",
    "    df.columns=['trial', 'Freq.1', 'ISI1', 'Freq.2', 'ISI2', 'decision', 'correctness', 'RT', 'ISI3']\n",
    "#     df['Freq.1.class'] = [np.int64(np.sign(f-f_mid)) for f in df['Freq.1']]\n",
    "#     df['Freq.2.class'] = [np.int64(np.sign(f-f_mid)) for f in df['Freq.2']]\n",
    "#     df['Freq.other.index'] = [1 if a != 0 else 2 for a in df['Freq.1.class']]\n",
    "#     df['Freq.other.class'] = [a+b for a, b in zip(df['Freq.1.class'], df['Freq.2.class'])]\n",
    "    df['answer.index'] = [1 if a>b else 2 for a, b in zip(df['Freq.1'], df['Freq.2'])]\n",
    "    df['decision.index'] = [1 if x == 'before' else (2 if x=='after' else 'NaN') for i, x in enumerate(df['decision'])]\n",
    "#     df['Freq.other_decision.class'] = ['NaN' if b=='NaN' else (1 if a==b else -1) for a,b in zip(df['Freq.other.index'],df['decision.index'])]\n",
    "\n",
    "    df['Freq.1.diff'] = [f-f_mid for f in df['Freq.1']]\n",
    "    df['Freq.2.diff'] = [f-f_mid for f in df['Freq.2']]\n",
    "    df['Freq.other.diff'] = [a+b for a, b in zip(df['Freq.1.diff'], df['Freq.2.diff'])]\n",
    "    df['F1<F2.class'] = [np.sign(b-a) for a, b in zip(df['Freq.1'], df['Freq.2'])]\n",
    "    df['F1<F2.diff'] = [b-a for a, b in zip(df['Freq.1'], df['Freq.2'])]\n",
    "\n",
    "    return df\n",
    "\n",
    "def scatter_x_y(subj):\n",
    "    df = get_dataframe_DIS(subj)\n",
    "\n",
    "    diff = np.arange(-5,6) # contrast\n",
    "    ntrial_per_freq = int(len(df)*0.1)\n",
    "\n",
    "    da = pd.DataFrame(index = ['prob'], columns = diff)\n",
    "\n",
    "    for c in diff:\n",
    "        temp = (df['decision.index'] != 'NaN') & (df['Freq.other.diff'] == c) & (df['answer.index'] == df['decision.index'])\n",
    "        n = len(df[temp])\n",
    "        da[c] = n * np.sign(c)\n",
    "    da = (da/ntrial_per_freq + 1) * 0.5\n",
    "    prob = np.array(da).reshape(len(diff))\n",
    "    return diff+f_mid, prob\n",
    "\n",
    "def func_ideal_observer(x, a,b,r,k):\n",
    "    n = f_mid\n",
    "    return 0.5*(1+special.erf( k/(a*k**r)**(0.5) * (x**b-n**b)/np.sqrt(x**(b*r)+n**(b*r)) ))\n",
    "\n",
    "def func_error(x, mu,s):\n",
    "    ## Error function\n",
    "    ## 'mu' means mean\n",
    "    ## 's' means deviation\n",
    "    return 0.5*(1+special.erf((x-mu)/(np.sqrt(2)*s)))\n",
    "\n",
    "def func_logistic(x, a,b):\n",
    "    ## Logistic function\n",
    "    ## freeparameter : a, b\n",
    "    ## 'a' can be interpreted as the 75% threshold\n",
    "    ## 'b' as a scaling factor that is inversely related to the slope of the psychometric function.\n",
    "    return special.expit((x-a)/b)\n",
    "\n",
    "def func_Weibull(x, a,b):\n",
    "    ## Weibull cumulative distribution function\n",
    "    ## 'a' summarises the effect of the stimulus\n",
    "    ## 'b' reflets to the effect of noise\n",
    "    g = 0.5 # chance level\n",
    "    y = []\n",
    "    for temp in x:\n",
    "        k = temp - f_mid\n",
    "        if k > 0:\n",
    "            y.append(1 - (1-g)*np.exp(-a * (k**b)))\n",
    "        elif k == 0:\n",
    "            y.append(g)\n",
    "        else:\n",
    "            y.append(g*np.exp(-a * ((-k)**b))) # reverse Weibull cdf\n",
    "    return np.asarray(y)"
   ]
  },
  {
   "cell_type": "code",
   "execution_count": 12,
   "metadata": {
    "scrolled": false
   },
   "outputs": [
    {
     "data": {
      "image/png": "[encoded data removed]",
      "text/plain": [
       "<Figure size 432x288 with 1 Axes>"
      ]
     },
     "metadata": {
      "needs_background": "light"
     },
     "output_type": "display_data"
    }
   ],
   "source": [
    "xdata, prob = scatter_x_y(subj)\n",
    "dx = 2**(-4)\n",
    "x = np.arange(f_ini,f_fin+dx,dx)\n",
    "\n",
    "## error function\n",
    "test_func = func_error\n",
    "params, params_covariance = optimize.curve_fit(\n",
    "    test_func, xdata, prob, maxfev=500,\n",
    "    p0=[f_mid+5*(rand()-0.5),10*rand()]\n",
    ")\n",
    "JND=special.erfinv(0.5)*(np.sqrt(2)*params[1]); # JND for 75%\n",
    "plt.plot(\n",
    "    x, test_func(x, params[0],params[1]),\n",
    "    label='%s=%.3fHz\\n%s=%.3fHz\\nJND=%.3fHz'%(greek('mu'),params[0],greek('sigma'),params[1],JND)\n",
    ")\n",
    "\n",
    "## logistic function\n",
    "test_func = func_logistic\n",
    "a_max, b_max = f_fin, 20.\n",
    "params, params_covariance = optimize.curve_fit(\n",
    "    test_func, xdata, prob, p0=[f_mid+5*(rand()-0.5),b_max*rand()], maxfev=500,\n",
    "    bounds=([dx,dx], [a_max,b_max])\n",
    ")\n",
    "JND = params[1]*np.log(3)+params[0] - f_mid\n",
    "plt.plot(x, test_func(x, params[0],params[1]), label='%s=%.3fHz\\n%s=%.3fHz\\nJND=%.3fHz'%(greek('alpha'),params[0],greek('beta'),params[1],JND))\n",
    "\n",
    "## Weibull function\n",
    "test_func = func_Weibull\n",
    "a_max, b_max = 5., 2.\n",
    "params, params_covariance = optimize.curve_fit(\n",
    "    test_func, xdata, prob,\n",
    "    p0=[a_max*rand(),b_max*rand()],\n",
    "    maxfev=500,\n",
    "    bounds=([dx,dx], [a_max,b_max])\n",
    ")\n",
    "JND = (np.log(2)/params[0])**(1./params[1])\n",
    "plt.plot(\n",
    "    x, test_func(x, params[0],params[1]),\n",
    "    label='%s=%.3f\\n%s=%.3f\\nJND=%.3fHz'%(greek('alpha'),params[0],greek('beta'),params[1],JND)\n",
    ")\n",
    "\n",
    "plt.scatter(x=xdata,y=prob)\n",
    "plt.legend(loc='best')\n",
    "plt.ylim([-.1,1.1])\n",
    "\n",
    "plt.title(subj)\n",
    "plt.grid()\n",
    "#plt.savefig(fname=today+'_'+subj+'_curve.png',dpi=300)"
   ]
  },
  {
   "cell_type": "markdown",
   "metadata": {},
   "source": [
    "## Code test"
   ]
  },
  {
   "cell_type": "code",
   "execution_count": 1,
   "metadata": {},
   "outputs": [],
   "source": [
    "from TM import curve_fit"
   ]
  },
  {
   "cell_type": "code",
   "execution_count": 2,
   "metadata": {},
   "outputs": [
    {
     "data": {
      "image/png": "[encoded data removed]",
      "text/plain": [
       "<Figure size 432x288 with 1 Axes>"
      ]
     },
     "metadata": {
      "needs_background": "light"
     },
     "output_type": "display_data"
    }
   ],
   "source": [
    "params = curve_fit('TML13',3)"
   ]
  },
  {
   "cell_type": "code",
   "execution_count": null,
   "metadata": {},
   "outputs": [],
   "source": []
  }
 ],
 "metadata": {
  "kernelspec": {
   "display_name": "Python 3",
   "language": "python",
   "name": "python3"
  },
  "language_info": {
   "codemirror_mode": {
    "name": "ipython",
    "version": 3
   },
   "file_extension": ".py",
   "mimetype": "text/x-python",
   "name": "python",
   "nbconvert_exporter": "python",
   "pygments_lexer": "ipython3",
   "version": "3.8.2"
  }
 },
 "nbformat": 4,
 "nbformat_minor": 4
}
