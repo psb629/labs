{
 "cells": [
  {
   "cell_type": "code",
   "execution_count": 1,
   "metadata": {},
   "outputs": [],
   "source": [
    "import numpy as np\n",
    "import pandas as pd\n",
    "import scipy.stats"
   ]
  },
  {
   "cell_type": "code",
   "execution_count": 2,
   "metadata": {},
   "outputs": [
    {
     "name": "stdout",
     "output_type": "stream",
     "text": [
      "Ttest_indResult(statistic=-1.9590058081081436, pvalue=0.07856577385723071)\n",
      "1.9590058081081436\n",
      "Ttest_relResult(statistic=-1.5099668870541376, pvalue=0.191436884336601)\n",
      "1.5099668870541376\n"
     ]
    }
   ],
   "source": [
    "tmpA=[30.02, 29.99, 30.11, 29.97, 30.01, 29.99]\n",
    "tmpB=[29.89, 29.93, 29.72, 29.98, 30.02, 29.98]\n",
    "df = len(tmpA)-1\n",
    "\n",
    "## t-test\n",
    "print(scipy.stats.ttest_ind(tmpB,tmpA))\n",
    "de = np.mean(tmpA)-np.mean(tmpB)\n",
    "nu = np.sqrt(np.var(tmpA)/df+np.var(tmpB)/df)\n",
    "print(de/nu)\n",
    "## paired t-test\n",
    "print(scipy.stats.ttest_rel(tmpB,tmpA))\n",
    "diff = [a-b for a,b in zip(tmpA,tmpB)]\n",
    "de = np.mean(diff)\n",
    "nu = np.std(diff)/np.sqrt(df)\n",
    "print(de/nu)"
   ]
  },
  {
   "cell_type": "code",
   "execution_count": null,
   "metadata": {},
   "outputs": [],
   "source": []
  }
 ],
 "metadata": {
  "kernelspec": {
   "display_name": "Python 3",
   "language": "python",
   "name": "python3"
  },
  "language_info": {
   "codemirror_mode": {
    "name": "ipython",
    "version": 3
   },
   "file_extension": ".py",
   "mimetype": "text/x-python",
   "name": "python",
   "nbconvert_exporter": "python",
   "pygments_lexer": "ipython3",
   "version": "3.8.2"
  }
 },
 "nbformat": 4,
 "nbformat_minor": 4
}
