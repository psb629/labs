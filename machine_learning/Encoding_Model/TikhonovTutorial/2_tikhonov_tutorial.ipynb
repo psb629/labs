{
 "cells": [
  {
   "cell_type": "markdown",
   "metadata": {},
   "source": [
    "# Tutorial on Encoding Models with Word Embeddings\n",
    "for NeuroHackademy 2020, by Alex Huth\n"
   ]
  },
  {
   "cell_type": "code",
   "execution_count": 1,
   "metadata": {},
   "outputs": [],
   "source": [
    "# Load some basic stuff we'll need later\n",
    "%config InlineBackend.figure_format = 'retina'\n",
    "%matplotlib inline\n",
    "import matplotlib.pyplot as plt\n",
    "import numpy as np"
   ]
  },
  {
   "cell_type": "markdown",
   "metadata": {},
   "source": [
    "# Part 2: Regularized (Ridge) Regression\n",
    "\n",
    "Remember when we talked about the noise term, $\\epsilon(t)$? We said it was any part of $y(t)$ that couldn't be predicted from $x(t)$. We can write this mathematically as the difference between $y(t)$ and the predicted value based on $x(t)$ and our estimated weights (this comes from re-arranging the equation listed under \"Define the model\" above):\n",
    "\n",
    "$$\\epsilon(t) = y(t) - x(t) \\beta_{OLS}$$\n",
    "\n",
    "Huh. When we write it this way, it looks a lot like the loss function $\\mathcal{L}(\\beta)$, doesn't it? In fact, the loss function is exactly the sum of the squared errors. This means our OLS regression model made the assumption that _$\\epsilon(t)$ is as small as possible_, because we selected $\\beta_{OLS}$ to minimize the size of the loss.\n",
    "\n",
    "This all seems sensible in some situations. We don't know a priori which parts of $y(t)$ are signal (i.e. predictable from $x(t)$) and which parts are noise, so why not try to predict as much as possible? Well, it's time for "
   ]
  },
  {
   "cell_type": "markdown",
   "metadata": {},
   "source": [
    "<span style=\"color:red; font-family:Snell Roundhand, cursive; font-size: 24pt\">**A CAUTIONARY TALE**</span>.\n",
    "\n",
    "<span style=\"color:red; font-style:italic\">\n",
    "A young neuroscientist is performing an experiment.\n",
    "</span>\n",
    "\n",
    "<span style=\"color:red; font-style:italic\">\n",
    "\"I just scanned a brain, and my scanning machine gave me big lists of numbers,\" they said, \"I _know_ that the data from the scanning machine is always noisy, but I'm just going to try to fit a model that makes my total error small. What could be finer than finding small error?\"\n",
    "<span>"
   ]
  },
  {
   "cell_type": "code",
   "execution_count": 2,
   "metadata": {},
   "outputs": [],
   "source": [
    "cautionary_data = np.load(\"/Users/clmnlab/Downloads/data/we_word_embeddings/a_cautionary_tale.npz\")\n",
    "\n",
    "X_train = cautionary_data[\"X_train\"]\n",
    "X_test = cautionary_data[\"X_test\"]\n",
    "Y_train = cautionary_data[\"Y_train\"]\n",
    "Y_test = cautionary_data[\"Y_test\"]\n",
    "beta_true = cautionary_data[\"beta_true\"]"
   ]
  },
  {
   "cell_type": "code",
   "execution_count": 3,
   "metadata": {},
   "outputs": [
    {
     "data": {
      "text/plain": [
       "((100, 98), (25, 98), (100,), (25,), (98,))"
      ]
     },
     "execution_count": 3,
     "metadata": {},
     "output_type": "execute_result"
    }
   ],
   "source": [
    "X_train.shape, X_test.shape, Y_train.shape, Y_test.shape, beta_true.shape"
   ]
  },
  {
   "cell_type": "markdown",
   "metadata": {},
   "source": [
    "<span style=\"color:red; font-style:italic\">\n",
    "The young neuroscientist diligently fired up their Jupyter notebook and ran an ordinary least squares regression using the noisy data. At first, the result was amazing! The loss was tiny! The model explained 99.9% of the variance in the training dataset! This seemed like the breakthrough that the young neuroscientist had been waiting for.\n",
    "</span>"
   ]
  },
  {
   "cell_type": "code",
   "execution_count": 4,
   "metadata": {},
   "outputs": [
    {
     "name": "stdout",
     "output_type": "stream",
     "text": [
      "training loss: 2.5866841305830968\n",
      "training R^2: 0.9997128446796295\n"
     ]
    },
    {
     "name": "stderr",
     "output_type": "stream",
     "text": [
      "/usr/local/anaconda3/envs/sampark/lib/python3.7/site-packages/ipykernel_launcher.py:1: FutureWarning: `rcond` parameter will change to the default of machine precision times ``max(M, N)`` where M and N are the input matrix dimensions.\n",
      "To use the future default and silence this warning we advise to pass `rcond=None`, to keep using the old, explicitly pass `rcond=-1`.\n",
      "  \"\"\"Entry point for launching an IPython kernel.\n"
     ]
    }
   ],
   "source": [
    "beta_estimate = np.linalg.lstsq(X_train, Y_train)[0]\n",
    "\n",
    "training_loss = ((X_train.dot(beta_estimate) - Y_train)**2).sum()\n",
    "print(\"training loss:\", training_loss)\n",
    "print(\"training R^2:\", 1 - training_loss / (Y_train**2).sum())"
   ]
  },
  {
   "cell_type": "markdown",
   "metadata": {},
   "source": [
    "<span style=\"color:red; font-style:italic\">\n",
    "But upon further reflection, the young neuroscientist realized that something was amiss. The result was not as good as it seemed to be. The young neuroscientist exclaimed, \"What's this? Can it be? My regression weights make no sense! Some values are huge, some values are tiny, and if I try to predict on held-out test data, the result is abhorrent! Oh, woe is me! Why did I try to exactly minimize error?? _WHY??_\"\n",
    "</span>"
   ]
  },
  {
   "cell_type": "code",
   "execution_count": 5,
   "metadata": {},
   "outputs": [
    {
     "name": "stdout",
     "output_type": "stream",
     "text": [
      "estimated beta: [ -4594.58174457  -5794.05369566 -16106.83482789   2537.96474564\n",
      " -20926.22612195   6882.38422856   1947.54105308  -8592.97158243\n",
      "   1881.4021397   14220.50340837   7104.77141908   2674.25812034\n",
      "   -556.8779624   -5135.58455923  25405.97398904 -12923.10730094\n",
      "   7244.48361127 -15465.88839356  23843.98434501   5982.93541493\n",
      "    657.83643116    303.09282762   4328.59634515   -720.03371849\n",
      "  -6852.75144497  -5656.20832979   9576.27308336    755.25890776\n",
      " -11696.10420832   2533.25589156   9624.41909331  11002.24874853\n",
      "  -1752.55711419  -4369.5049089  -10505.11711087  12208.6203449\n",
      "   5706.6515336     620.95407088   2800.01839107    781.33987599\n",
      "  12661.99278062  -1137.71995329 -16021.34548968   -834.93342626\n",
      "   -404.27049909    514.11979727   9724.52766708  16061.11955206\n",
      "    969.98874988   4597.33134751   5796.7067284   16107.60840224\n",
      "  -2538.85103563  20926.72555763  -6885.37956355  -1947.84711155\n",
      "   8596.0629129   -1880.72199485 -14219.07811462  -7108.85598295\n",
      "  -2673.14110701    560.15034711   5138.52794271 -25404.9666643\n",
      "  12922.98673293  -7244.84117473  15463.89439615 -23844.2385175\n",
      "  -5983.91415484   -655.94080304   -304.08486003  -4328.29767032\n",
      "    718.67496481   6852.97697615   5656.38143551  -9576.10194558\n",
      "   -755.06424912  11695.26704979  -2533.95463328  -9625.81607722\n",
      " -11000.41607626   1748.43271093   4370.90626439  10504.74037417\n",
      " -12207.80187654  -5707.76014116   -621.9863826   -2797.41776713\n",
      "   -783.98209074 -12664.42368809   1139.28738176  16023.3942347\n",
      "    836.33525096    402.25886819   -513.81172902  -9726.48408825\n",
      " -16061.69357997   -968.86593289]\n",
      "Correlation between true & predicted Y_test: 0.039219441088034664\n"
     ]
    }
   ],
   "source": [
    "print(\"estimated beta:\", beta_estimate)\n",
    "\n",
    "Y_test_pred = X_test.dot(beta_estimate)\n",
    "print(\"Correlation between true & predicted Y_test:\", np.corrcoef(Y_test, Y_test_pred)[0,1])"
   ]
  },
  {
   "cell_type": "markdown",
   "metadata": {},
   "source": [
    "I hope this sorry story has convinced you that perfectly minimizing error can cause problems. And the alternative viewpoint just seems like common sense: if you _know_ that your data are noisy, then it just doesn't make sense to make your noise term as small as possible--especially if \"as small as possible\" might mean that you could have _zero noise_.\n",
    "\n",
    "_(Aside: under what situations would you expect the OLS loss to become exactly zero?)_\n",
    "\n",
    "The solution to this problem is **regularization**, which is a family of techniques for adding extra constraints to regression models that balance against simply minimizing loss. The particular technique that we will discuss in detail today is called **ridge regression** or [**Tikhonov regularization**](https://en.wikipedia.org/wiki/Tikhonov_regularization).\n",
    "\n",
    "### Intuition behind ridge regression\n",
    "The problem with OLS regression is that it is _overconfident_ in its estimation of the weights $\\beta_{OLS}$. While attempting to minimize loss, OLS will allow the weights to take on any values, even extreme and bizarre values that are incredibly unlikely to accurately reflect reality. Ridge regression solves this problem by forcing the values in $\\beta$ to be small (i.e. close to zero).\n",
    "\n",
    "This is roughly equivalent to assuming that the noise term, $\\epsilon(t)$, is large (or, at least, larger than it would have otherwise been). You can see this by thinking about the equation for the noise term: $\\epsilon(t) = y(t) - x(t) \\beta$. We know that $\\epsilon(t)$ really shouldn't be any bigger than $y(t)$--worst case we can set $\\beta=0$ and then we get an exact equivalence. If weights $\\beta_{OLS}$ exactly minimize the size of the noise term, then making the weights smaller will necessarily make the noise term bigger.\n",
    "\n",
    "### Ridge regression\n",
    "The simplest way to describe ridge regression mathematically is including a **penalty** on the size of the weights in the loss function. Specifically, ridge regression penalizes the sum of the squared weights, leading to a new and improved loss function that we'll call $\\mathcal{L}_{ridge}(\\beta)$:\n",
    "\n",
    "$$ \\mathcal{L}_{ridge}(\\beta) = \\sum_{t=1}^T (y(t) - x(t) \\beta)^2 + \\lambda \\sum_{i=1}^p \\beta_i^2 $$\n",
    "\n",
    "or, in fancy linear algebra terms:\n",
    "\n",
    "$$ \\mathcal{L}_{ridge}(\\beta) = (Y - X\\beta)^\\top (Y - X \\beta) + \\lambda \\beta^\\top \\beta $$\n",
    "\n",
    "The first term on the right hand side of this equation is the same squared error loss that we used before for OLS. The second term is the sum of the squares of all the weights in $\\beta$, multiplied by a scalar variable $\\lambda$ that we will call the **ridge coefficient**.\n",
    "\n",
    "The ridge coefficient $\\lambda$ determines the _strength_ of the regularization that's applied in ridge regression: \n",
    "* If you give $\\lambda$ a large value, then the penalty term will be big relative to the loss, and the resulting weights will be very small. (In the limit of very large $\\lambda$ you will force the weights to be almost exactly zero!) \n",
    "* If you give $\\lambda$ a small value, then the penalty term will be small relative to the loss, and the resulting weights will not be too different from the OLS weights. (In the limit of $\\lambda \\rightarrow 0$, the penalty term will be zero and you'll get back exactly the OLS solution!)\n",
    "\n",
    "To get the ridge regression weights, $\\beta_{ridge}$, you minimize the ridge loss function. We don't need to go through the full derivation of the solution (though it's pretty fun, and easy to do based on the matrix calculus we did for the OLS solution!), so let's just take a look at the answer:\n",
    "\n",
    "$$ \\beta_{ridge} = (X^\\top X + \\lambda I)^{-1} X^\\top Y $$\n",
    "\n",
    "The only difference between this and the previous $\\beta_{OLS}$ solution is that we added the factor $\\lambda I$ (where $I$ is the identity matrix, the linear algebra equivalent of the number 1) inside the matrix inverse. Pretty simple! \n",
    "\n",
    "Let's try it out on the data from our cautionary tale."
   ]
  },
  {
   "cell_type": "code",
   "execution_count": 6,
   "metadata": {},
   "outputs": [],
   "source": [
    "# let's start by picking a lambda. THIS IS NOT HOW THIS IS USUALLY DONE! This is just illustrative\n",
    "ridge_lambda = 10.0\n",
    "\n",
    "# then we'll compute the ridge weights using exactly the formula listed above\n",
    "# (as before, this is not used in practice. It's slow and numerically unstable. But simple and clear!)\n",
    "beta_estimate_ridge = np.linalg.inv(X_train.T.dot(X_train) + ridge_lambda * np.eye(98)).dot(X_train.T).dot(Y_train)"
   ]
  },
  {
   "cell_type": "code",
   "execution_count": 7,
   "metadata": {},
   "outputs": [
    {
     "name": "stdout",
     "output_type": "stream",
     "text": [
      "ridge estimated beta: [ 1.20284592  0.54358022 -0.17076853 -0.46913852  0.04712979 -0.43252916\n",
      " -0.46940385  0.75993806 -0.66024964  0.05161744 -1.28231356  0.14639374\n",
      "  1.08433341  1.07531835  0.15202215 -0.43115172  0.42039943  0.19601658\n",
      " -0.25279569 -0.67608631  0.75461698 -0.36126768  0.37316565 -0.57848406\n",
      " -0.29988382 -0.28430522  0.29505655  0.19701606 -0.43751896 -0.30376373\n",
      " -0.42344552  0.34901169 -1.70650378  0.27316785 -0.42136402  0.20792123\n",
      " -0.36047633 -0.72054648  1.11409482 -0.31659404 -0.47916971  0.26895738\n",
      "  0.54207873  0.8692063  -0.00460897 -0.40236788 -1.09188709 -0.45186825\n",
      "  0.88325812  1.20273579  0.54385658 -0.1706784  -0.46920649  0.04702301\n",
      " -0.43253862 -0.46943782  0.75993798 -0.66039318  0.05155487 -1.28224771\n",
      "  0.14634859  1.08420573  1.07530732  0.15183459 -0.43115928  0.42039769\n",
      "  0.19616878 -0.25263899 -0.67629854  0.75444664 -0.36124037  0.37313815\n",
      " -0.57852429 -0.30003918 -0.28429678  0.29506545  0.19694568 -0.4374332\n",
      " -0.30351455 -0.42354956  0.34898442 -1.7065731   0.27308578 -0.42114397\n",
      "  0.20804817 -0.36047132 -0.72055885  1.11412975 -0.31670748 -0.4791946\n",
      "  0.26896252  0.54195274  0.86903458 -0.00458904 -0.4023907  -1.09202277\n",
      " -0.45168365  0.88321332]\n",
      "OLS estimated beta: [ -4594.58174457  -5794.05369566 -16106.83482789   2537.96474564\n",
      " -20926.22612195   6882.38422856   1947.54105308  -8592.97158243\n",
      "   1881.4021397   14220.50340837   7104.77141908   2674.25812034\n",
      "   -556.8779624   -5135.58455923  25405.97398904 -12923.10730094\n",
      "   7244.48361127 -15465.88839356  23843.98434501   5982.93541493\n",
      "    657.83643116    303.09282762   4328.59634515   -720.03371849\n",
      "  -6852.75144497  -5656.20832979   9576.27308336    755.25890776\n",
      " -11696.10420832   2533.25589156   9624.41909331  11002.24874853\n",
      "  -1752.55711419  -4369.5049089  -10505.11711087  12208.6203449\n",
      "   5706.6515336     620.95407088   2800.01839107    781.33987599\n",
      "  12661.99278062  -1137.71995329 -16021.34548968   -834.93342626\n",
      "   -404.27049909    514.11979727   9724.52766708  16061.11955206\n",
      "    969.98874988   4597.33134751   5796.7067284   16107.60840224\n",
      "  -2538.85103563  20926.72555763  -6885.37956355  -1947.84711155\n",
      "   8596.0629129   -1880.72199485 -14219.07811462  -7108.85598295\n",
      "  -2673.14110701    560.15034711   5138.52794271 -25404.9666643\n",
      "  12922.98673293  -7244.84117473  15463.89439615 -23844.2385175\n",
      "  -5983.91415484   -655.94080304   -304.08486003  -4328.29767032\n",
      "    718.67496481   6852.97697615   5656.38143551  -9576.10194558\n",
      "   -755.06424912  11695.26704979  -2533.95463328  -9625.81607722\n",
      " -11000.41607626   1748.43271093   4370.90626439  10504.74037417\n",
      " -12207.80187654  -5707.76014116   -621.9863826   -2797.41776713\n",
      "   -783.98209074 -12664.42368809   1139.28738176  16023.3942347\n",
      "    836.33525096    402.25886819   -513.81172902  -9726.48408825\n",
      " -16061.69357997   -968.86593289]\n",
      "true beta: [ 2.42641206  0.80906111 -0.08258984  0.26412878  0.24586253  0.54893322\n",
      "  0.5108736   1.9330897  -1.18142018  1.28547069  0.01631126 -0.50454241\n",
      "  0.92453126  1.92920279  1.45856365 -0.13693165  1.40792122  2.07326181\n",
      " -0.08187598 -0.04873566  1.44610236  0.06420453  0.2342469  -0.23625903\n",
      " -1.15442273 -1.09620817  0.55339137  0.13782371 -1.13730378  0.91387401\n",
      " -0.73231903  0.21661657 -2.14330352 -0.41920536 -1.59883385  0.26727102\n",
      "  0.1049904  -0.57121147  1.8752228  -0.40389736 -1.82727288  0.45001689\n",
      " -0.94729734  1.65213702 -0.52063363  0.16892646 -0.43913895 -0.68140722\n",
      "  0.12209202  0.117725    0.30856984 -0.46951676 -0.99811458 -0.5127095\n",
      " -1.82958987 -1.47838755 -0.11544498 -0.24354863 -0.92503349 -2.79329756\n",
      "  0.88376489  1.52287388  0.5459564  -1.13256562 -0.77367859 -0.35586903\n",
      " -1.73396326 -0.41357439 -1.41574803  0.2044152  -0.70396315  0.6662901\n",
      " -1.13447711  0.65534858  0.64281776  0.10153661  0.13418845  0.24682213\n",
      " -1.61944238 -0.1450285   0.40419774 -1.42034562  1.13221307  0.64059342\n",
      "  0.12732098 -0.86364711 -0.8896446   0.42050921 -0.16144523  0.99522617\n",
      "  0.20543822  2.20415765  0.28004546  0.4252783  -1.11467745 -1.8142948\n",
      " -0.42932256  1.79400454]\n"
     ]
    }
   ],
   "source": [
    "# before doing more, let's compare the weights we get from ridge to the OLS weights & true weights\n",
    "print(\"ridge estimated beta:\", beta_estimate_ridge)\n",
    "print(\"OLS estimated beta:\", beta_estimate)\n",
    "print(\"true beta:\", beta_true)\n",
    "\n",
    "# you should see that the size of the ridge estimates is much closer to the original weights, which is good!"
   ]
  },
  {
   "cell_type": "code",
   "execution_count": 8,
   "metadata": {},
   "outputs": [
    {
     "name": "stdout",
     "output_type": "stream",
     "text": [
      "training loss: 104.2307280153736\n",
      "training R^2: 0.988429044063854\n"
     ]
    }
   ],
   "source": [
    "# Now let's compute the training loss\n",
    "training_loss_ridge = ((X_train.dot(beta_estimate_ridge) - Y_train)**2).sum()\n",
    "print(\"training loss:\", training_loss_ridge)\n",
    "print(\"training R^2:\", 1 - training_loss_ridge / (Y_train**2).sum())\n",
    "\n",
    "# the loss value should be bigger than before (about 104 vs. 2.5)\n",
    "# and the training R^2 should be smaller than before (about 0.988 instead of 0.999)\n",
    "# why?"
   ]
  },
  {
   "cell_type": "code",
   "execution_count": 9,
   "metadata": {},
   "outputs": [
    {
     "name": "stdout",
     "output_type": "stream",
     "text": [
      "Correlation between true & predicted Y_test: 0.6025282035249678\n"
     ]
    }
   ],
   "source": [
    "# finally let's test how well our model generalizes to the test dataset\n",
    "Y_test_pred = X_test.dot(beta_estimate_ridge)\n",
    "print(\"Correlation between true & predicted Y_test:\", np.corrcoef(Y_test, Y_test_pred)[0,1])\n",
    "\n",
    "# this should be MUCH HIGHER than before! (0.6 vs. 0.03)"
   ]
  },
  {
   "cell_type": "markdown",
   "metadata": {},
   "source": [
    "## Ridge regression for an fMRI analysis\n",
    "\n",
    "Let's try to use this method now for the same [fMRI experiment](https://www.nature.com/articles/nature17637) that we tried with OLS. The model will be essentially identical to the OLS model, the only difference being that we will use ridge regression.\n",
    "\n"
   ]
  },
  {
   "cell_type": "code",
   "execution_count": 10,
   "metadata": {},
   "outputs": [],
   "source": [
    "# let's load up the feature matrices\n",
    "# these were stored as \"sparse\" matrices in order to save space\n",
    "# but we'll convert them back to normal matrices in order to use them in our regression\n",
    "from scipy import sparse\n",
    "training_features = sparse.load_npz('/Users/clmnlab/Downloads/data/we_word_embeddings/indicator_Rstim.npz').todense().A\n",
    "test_features = sparse.load_npz('/Users/clmnlab/Downloads/data/we_word_embeddings/indicator_Pstim.npz').todense().A\n",
    "\n",
    "# and the brain responses\n",
    "import tables\n",
    "response_tf = tables.open_file('/Users/clmnlab/Downloads/data/we_word_embeddings/small-fmri-responses.hdf5')\n",
    "training_resp = response_tf.root.zRresp.read()\n",
    "test_resp = response_tf.root.zPresp.read()\n",
    "brain_mask = response_tf.root.mask.read()\n",
    "response_tf.close()\n",
    "\n",
    "# as before, to accurately predict BOLD responses we need to account for hemodynamic delays\n",
    "# we'll do that here by creating multiple time-shifted versions of the same stimulus\n",
    "# this is called a finite impulse response or FIR model\n",
    "\n",
    "from util import make_delayed\n",
    "delays = [1,2,3,4]\n",
    "\n",
    "del_training_features = make_delayed(training_features, delays)\n",
    "del_test_features = make_delayed(test_features, delays)"
   ]
  },
  {
   "cell_type": "code",
   "execution_count": 11,
   "metadata": {},
   "outputs": [],
   "source": [
    "# # If we were doing this for real, we would run this part, which uses cross-validation\n",
    "# # to find the best lambda for each voxel.\n",
    "# # But that's time-consuming and annoying, so we're going to skip it here.\n",
    "\n",
    "# from ridge import bootstrap_ridge\n",
    "# import logging\n",
    "# logging.basicConfig(level=logging.INFO)\n",
    "\n",
    "# alphas = np.logspace(0, 2, 10) # Equally log-spaced alphas between 10 and 1000\n",
    "\n",
    "# wt, corr, alphas, bscorrs, valinds = bootstrap_ridge(del_training_features, training_resp, \n",
    "#                                                      del_test_features, test_resp,\n",
    "#                                                      alphas, nboots=1, chunklen=40, nchunks=20,\n",
    "#                                                      singcutoff=1e-10, single_alpha=True)"
   ]
  },
  {
   "cell_type": "code",
   "execution_count": 12,
   "metadata": {},
   "outputs": [],
   "source": [
    "# to fit this ridge model we're going to use some code I wrote instead of the simple equation above\n",
    "# this code is part of a package that does the really hard part of ridge regression,\n",
    "# which is choosing the best lambda (called alpha here, apologies)\n",
    "# here we are skipping that step, and just using a value that I know works pretty well\n",
    "# if you want to see how the more complicated procedure works, \n",
    "# check out the `bootstrap_ridge` function in ridge.py\n",
    "\n",
    "from ridge import ridge\n",
    "beta_ridge = ridge(del_training_features, training_resp, alpha=15.)"
   ]
  },
  {
   "cell_type": "code",
   "execution_count": 13,
   "metadata": {},
   "outputs": [
    {
     "data": {
      "text/plain": [
       "(10808, 5156)"
      ]
     },
     "execution_count": 13,
     "metadata": {},
     "output_type": "execute_result"
    }
   ],
   "source": [
    "beta_ridge.shape\n",
    "# as before, should be total number of features (10808) by number of voxels (5156)"
   ]
  },
  {
   "cell_type": "code",
   "execution_count": 14,
   "metadata": {},
   "outputs": [],
   "source": [
    "# now let's test our regression models on the held-out test data\n",
    "pred_test_resp = del_test_features.dot(beta_ridge)\n",
    "\n",
    "import npp # a set of convenience functions I think are missing from numpy :)\n",
    "\n",
    "test_correlations = npp.mcorr(test_resp, pred_test_resp)"
   ]
  },
  {
   "cell_type": "code",
   "execution_count": 15,
   "metadata": {},
   "outputs": [
    {
     "data": {
      "image/png": "[encoded data removed]",
      "text/plain": [
       "<Figure size 432x288 with 1 Axes>"
      ]
     },
     "metadata": {
      "image/png": {
       "height": 261,
       "width": 400
      },
      "needs_background": "light"
     },
     "output_type": "display_data"
    }
   ],
   "source": [
    "# let's look at the histogram of correlations!\n",
    "plt.hist(test_correlations, 50)\n",
    "plt.xlim(-1, 1)\n",
    "plt.xlabel(\"Linear Correlation\")\n",
    "plt.ylabel(\"Num. Voxels\");"
   ]
  },
  {
   "cell_type": "markdown",
   "metadata": {},
   "source": [
    "This looks much better than before! We now have much bigger positive correlations than negative ones. This model kind of works!"
   ]
  },
  {
   "cell_type": "code",
   "execution_count": 16,
   "metadata": {},
   "outputs": [
    {
     "ename": "FileNotFoundError",
     "evalue": "[Errno 2] No such file or directory: 'build/bdist.macosx-10.9-x86_64/wheel/pycortex-1.2.0.data/data/share/pycortex/db/S1/surfaces'",
     "output_type": "error",
     "traceback": [
      "\u001b[0;31m---------------------------------------------------------------------------\u001b[0m",
      "\u001b[0;31mFileNotFoundError\u001b[0m                         Traceback (most recent call last)",
      "\u001b[0;32m<ipython-input-16-b09c9510c102>\u001b[0m in \u001b[0;36m<module>\u001b[0;34m\u001b[0m\n\u001b[1;32m      4\u001b[0m \u001b[0;34m\u001b[0m\u001b[0m\n\u001b[1;32m      5\u001b[0m \u001b[0mcorr_volume\u001b[0m \u001b[0;34m=\u001b[0m \u001b[0mcortex\u001b[0m\u001b[0;34m.\u001b[0m\u001b[0mVolume\u001b[0m\u001b[0;34m(\u001b[0m\u001b[0mtest_correlations\u001b[0m\u001b[0;34m,\u001b[0m \u001b[0;34m'S1'\u001b[0m\u001b[0;34m,\u001b[0m \u001b[0;34m'fullhead'\u001b[0m\u001b[0;34m,\u001b[0m \u001b[0mmask\u001b[0m\u001b[0;34m=\u001b[0m\u001b[0mbrain_mask\u001b[0m\u001b[0;34m,\u001b[0m \u001b[0mvmin\u001b[0m\u001b[0;34m=\u001b[0m\u001b[0;34m-\u001b[0m\u001b[0;36m0.3\u001b[0m\u001b[0;34m,\u001b[0m \u001b[0mvmax\u001b[0m\u001b[0;34m=\u001b[0m\u001b[0;36m0.3\u001b[0m\u001b[0;34m,\u001b[0m \u001b[0mcmap\u001b[0m\u001b[0;34m=\u001b[0m\u001b[0;34m'RdBu_r'\u001b[0m\u001b[0;34m)\u001b[0m\u001b[0;34m\u001b[0m\u001b[0;34m\u001b[0m\u001b[0m\n\u001b[0;32m----> 6\u001b[0;31m \u001b[0mcortex\u001b[0m\u001b[0;34m.\u001b[0m\u001b[0mquickshow\u001b[0m\u001b[0;34m(\u001b[0m\u001b[0mcorr_volume\u001b[0m\u001b[0;34m,\u001b[0m \u001b[0mwith_curvature\u001b[0m\u001b[0;34m=\u001b[0m\u001b[0;32mTrue\u001b[0m\u001b[0;34m)\u001b[0m\u001b[0;34m;\u001b[0m\u001b[0;34m\u001b[0m\u001b[0;34m\u001b[0m\u001b[0m\n\u001b[0m",
      "\u001b[0;32m/usr/local/anaconda3/envs/sampark/lib/python3.7/site-packages/cortex/quickflat/view.py\u001b[0m in \u001b[0;36mmake_figure\u001b[0;34m(braindata, recache, pixelwise, thick, sampler, height, dpi, depth, with_rois, with_sulci, with_labels, with_colorbar, with_borders, with_dropout, with_curvature, extra_disp, with_connected_vertices, overlay_file, linewidth, linecolor, roifill, shadow, labelsize, labelcolor, cutout, curvature_brightness, curvature_contrast, curvature_threshold, fig, extra_hatch, colorbar_ticks, colorbar_location, roi_list, nanmean, **kwargs)\u001b[0m\n\u001b[1;32m    141\u001b[0m     \u001b[0;31m# Add data\u001b[0m\u001b[0;34m\u001b[0m\u001b[0;34m\u001b[0m\u001b[0;34m\u001b[0m\u001b[0m\n\u001b[1;32m    142\u001b[0m     data_im, extents = composite.add_data(ax, dataview, pixelwise=pixelwise, thick=thick, sampler=sampler,\n\u001b[0;32m--> 143\u001b[0;31m                                           height=height, depth=depth, recache=recache, nanmean=nanmean)\n\u001b[0m\u001b[1;32m    144\u001b[0m \u001b[0;34m\u001b[0m\u001b[0m\n\u001b[1;32m    145\u001b[0m     \u001b[0mlayers\u001b[0m \u001b[0;34m=\u001b[0m \u001b[0mdict\u001b[0m\u001b[0;34m(\u001b[0m\u001b[0mdata\u001b[0m\u001b[0;34m=\u001b[0m\u001b[0mdata_im\u001b[0m\u001b[0;34m)\u001b[0m\u001b[0;34m\u001b[0m\u001b[0;34m\u001b[0m\u001b[0m\n",
      "\u001b[0;32m/usr/local/anaconda3/envs/sampark/lib/python3.7/site-packages/cortex/quickflat/composite.py\u001b[0m in \u001b[0;36madd_data\u001b[0;34m(fig, braindata, height, thick, depth, pixelwise, sampler, recache, nanmean)\u001b[0m\n\u001b[1;32m    161\u001b[0m     \u001b[0;31m# Generate image (2D array, maybe 3D array)\u001b[0m\u001b[0;34m\u001b[0m\u001b[0;34m\u001b[0m\u001b[0;34m\u001b[0m\u001b[0m\n\u001b[1;32m    162\u001b[0m     im, extents = make_flatmap_image(dataview, recache=recache, pixelwise=pixelwise, sampler=sampler,\n\u001b[0;32m--> 163\u001b[0;31m                                      height=height, thick=thick, depth=depth, nanmean=nanmean)\n\u001b[0m\u001b[1;32m    164\u001b[0m     \u001b[0;31m# Check whether dataview has a cmap instance\u001b[0m\u001b[0;34m\u001b[0m\u001b[0;34m\u001b[0m\u001b[0;34m\u001b[0m\u001b[0m\n\u001b[1;32m    165\u001b[0m     \u001b[0mcmapdict\u001b[0m \u001b[0;34m=\u001b[0m \u001b[0m_has_cmap\u001b[0m\u001b[0;34m(\u001b[0m\u001b[0mdataview\u001b[0m\u001b[0;34m)\u001b[0m\u001b[0;34m\u001b[0m\u001b[0;34m\u001b[0m\u001b[0m\n",
      "\u001b[0;32m/usr/local/anaconda3/envs/sampark/lib/python3.7/site-packages/cortex/quickflat/utils.py\u001b[0m in \u001b[0;36mmake_flatmap_image\u001b[0;34m(braindata, height, recache, nanmean, **kwargs)\u001b[0m\n\u001b[1;32m     41\u001b[0m \u001b[0;34m\u001b[0m\u001b[0m\n\u001b[1;32m     42\u001b[0m     \"\"\"\n\u001b[0;32m---> 43\u001b[0;31m     \u001b[0mmask\u001b[0m\u001b[0;34m,\u001b[0m \u001b[0mextents\u001b[0m \u001b[0;34m=\u001b[0m \u001b[0mget_flatmask\u001b[0m\u001b[0;34m(\u001b[0m\u001b[0mbraindata\u001b[0m\u001b[0;34m.\u001b[0m\u001b[0msubject\u001b[0m\u001b[0;34m,\u001b[0m \u001b[0mheight\u001b[0m\u001b[0;34m=\u001b[0m\u001b[0mheight\u001b[0m\u001b[0;34m,\u001b[0m \u001b[0mrecache\u001b[0m\u001b[0;34m=\u001b[0m\u001b[0mrecache\u001b[0m\u001b[0;34m)\u001b[0m\u001b[0;34m\u001b[0m\u001b[0;34m\u001b[0m\u001b[0m\n\u001b[0m\u001b[1;32m     44\u001b[0m \u001b[0;34m\u001b[0m\u001b[0m\n\u001b[1;32m     45\u001b[0m     \u001b[0;32mif\u001b[0m \u001b[0;32mnot\u001b[0m \u001b[0mhasattr\u001b[0m\u001b[0;34m(\u001b[0m\u001b[0mbraindata\u001b[0m\u001b[0;34m,\u001b[0m \u001b[0;34m\"xfmname\"\u001b[0m\u001b[0;34m)\u001b[0m\u001b[0;34m:\u001b[0m\u001b[0;34m\u001b[0m\u001b[0;34m\u001b[0m\u001b[0m\n",
      "\u001b[0;32m/usr/local/anaconda3/envs/sampark/lib/python3.7/site-packages/cortex/quickflat/utils.py\u001b[0m in \u001b[0;36mget_flatmask\u001b[0;34m(subject, height, recache)\u001b[0m\n\u001b[1;32m    113\u001b[0m \u001b[0;34m\u001b[0m\u001b[0m\n\u001b[1;32m    114\u001b[0m     \u001b[0;32mif\u001b[0m \u001b[0;32mnot\u001b[0m \u001b[0mos\u001b[0m\u001b[0;34m.\u001b[0m\u001b[0mpath\u001b[0m\u001b[0;34m.\u001b[0m\u001b[0mexists\u001b[0m\u001b[0;34m(\u001b[0m\u001b[0mcachefile\u001b[0m\u001b[0;34m)\u001b[0m \u001b[0;32mor\u001b[0m \u001b[0mrecache\u001b[0m\u001b[0;34m:\u001b[0m\u001b[0;34m\u001b[0m\u001b[0;34m\u001b[0m\u001b[0m\n\u001b[0;32m--> 115\u001b[0;31m         \u001b[0mmask\u001b[0m\u001b[0;34m,\u001b[0m \u001b[0mextents\u001b[0m \u001b[0;34m=\u001b[0m \u001b[0m_make_flatmask\u001b[0m\u001b[0;34m(\u001b[0m\u001b[0msubject\u001b[0m\u001b[0;34m,\u001b[0m \u001b[0mheight\u001b[0m\u001b[0;34m=\u001b[0m\u001b[0mheight\u001b[0m\u001b[0;34m)\u001b[0m\u001b[0;34m\u001b[0m\u001b[0;34m\u001b[0m\u001b[0m\n\u001b[0m\u001b[1;32m    116\u001b[0m         \u001b[0mnp\u001b[0m\u001b[0;34m.\u001b[0m\u001b[0msavez\u001b[0m\u001b[0;34m(\u001b[0m\u001b[0mcachefile\u001b[0m\u001b[0;34m,\u001b[0m \u001b[0mmask\u001b[0m\u001b[0;34m=\u001b[0m\u001b[0mmask\u001b[0m\u001b[0;34m,\u001b[0m \u001b[0mextents\u001b[0m\u001b[0;34m=\u001b[0m\u001b[0mextents\u001b[0m\u001b[0;34m)\u001b[0m\u001b[0;34m\u001b[0m\u001b[0;34m\u001b[0m\u001b[0m\n\u001b[1;32m    117\u001b[0m     \u001b[0;32melse\u001b[0m\u001b[0;34m:\u001b[0m\u001b[0;34m\u001b[0m\u001b[0;34m\u001b[0m\u001b[0m\n",
      "\u001b[0;32m/usr/local/anaconda3/envs/sampark/lib/python3.7/site-packages/cortex/quickflat/utils.py\u001b[0m in \u001b[0;36m_make_flatmask\u001b[0;34m(subject, height)\u001b[0m\n\u001b[1;32m    329\u001b[0m     \u001b[0;32mfrom\u001b[0m \u001b[0;34m.\u001b[0m\u001b[0;34m.\u001b[0m \u001b[0;32mimport\u001b[0m \u001b[0mpolyutils\u001b[0m\u001b[0;34m\u001b[0m\u001b[0;34m\u001b[0m\u001b[0m\n\u001b[1;32m    330\u001b[0m     \u001b[0;32mfrom\u001b[0m \u001b[0mPIL\u001b[0m \u001b[0;32mimport\u001b[0m \u001b[0mImage\u001b[0m\u001b[0;34m,\u001b[0m \u001b[0mImageDraw\u001b[0m\u001b[0;34m\u001b[0m\u001b[0;34m\u001b[0m\u001b[0m\n\u001b[0;32m--> 331\u001b[0;31m     \u001b[0mpts\u001b[0m\u001b[0;34m,\u001b[0m \u001b[0mpolys\u001b[0m \u001b[0;34m=\u001b[0m \u001b[0mdb\u001b[0m\u001b[0;34m.\u001b[0m\u001b[0mget_surf\u001b[0m\u001b[0;34m(\u001b[0m\u001b[0msubject\u001b[0m\u001b[0;34m,\u001b[0m \u001b[0;34m\"flat\"\u001b[0m\u001b[0;34m,\u001b[0m \u001b[0mmerge\u001b[0m\u001b[0;34m=\u001b[0m\u001b[0;32mTrue\u001b[0m\u001b[0;34m,\u001b[0m \u001b[0mnudge\u001b[0m\u001b[0;34m=\u001b[0m\u001b[0;32mTrue\u001b[0m\u001b[0;34m)\u001b[0m\u001b[0;34m\u001b[0m\u001b[0;34m\u001b[0m\u001b[0m\n\u001b[0m\u001b[1;32m    332\u001b[0m     \u001b[0mleft\u001b[0m\u001b[0;34m,\u001b[0m \u001b[0mright\u001b[0m \u001b[0;34m=\u001b[0m \u001b[0mpolyutils\u001b[0m\u001b[0;34m.\u001b[0m\u001b[0mtrace_poly\u001b[0m\u001b[0;34m(\u001b[0m\u001b[0mpolyutils\u001b[0m\u001b[0;34m.\u001b[0m\u001b[0mboundary_edges\u001b[0m\u001b[0;34m(\u001b[0m\u001b[0mpolys\u001b[0m\u001b[0;34m)\u001b[0m\u001b[0;34m)\u001b[0m\u001b[0;34m\u001b[0m\u001b[0;34m\u001b[0m\u001b[0m\n\u001b[1;32m    333\u001b[0m \u001b[0;34m\u001b[0m\u001b[0m\n",
      "\u001b[0;32m/usr/local/anaconda3/envs/sampark/lib/python3.7/site-packages/cortex/database.py\u001b[0m in \u001b[0;36mmemofn\u001b[0;34m(self, *args, **kwargs)\u001b[0m\n\u001b[1;32m     28\u001b[0m         \u001b[0mh\u001b[0m \u001b[0;34m=\u001b[0m \u001b[0mstr\u001b[0m\u001b[0;34m(\u001b[0m\u001b[0;34m(\u001b[0m\u001b[0mid\u001b[0m\u001b[0;34m(\u001b[0m\u001b[0mfn\u001b[0m\u001b[0;34m)\u001b[0m\u001b[0;34m,\u001b[0m \u001b[0margs\u001b[0m\u001b[0;34m,\u001b[0m \u001b[0mkwargs\u001b[0m\u001b[0;34m)\u001b[0m\u001b[0;34m)\u001b[0m\u001b[0;34m\u001b[0m\u001b[0;34m\u001b[0m\u001b[0m\n\u001b[1;32m     29\u001b[0m         \u001b[0;32mif\u001b[0m \u001b[0mh\u001b[0m \u001b[0;32mnot\u001b[0m \u001b[0;32min\u001b[0m \u001b[0mself\u001b[0m\u001b[0;34m.\u001b[0m\u001b[0m_memocache\u001b[0m\u001b[0;34m:\u001b[0m\u001b[0;34m\u001b[0m\u001b[0;34m\u001b[0m\u001b[0m\n\u001b[0;32m---> 30\u001b[0;31m             \u001b[0mself\u001b[0m\u001b[0;34m.\u001b[0m\u001b[0m_memocache\u001b[0m\u001b[0;34m[\u001b[0m\u001b[0mh\u001b[0m\u001b[0;34m]\u001b[0m \u001b[0;34m=\u001b[0m \u001b[0mfn\u001b[0m\u001b[0;34m(\u001b[0m\u001b[0mself\u001b[0m\u001b[0;34m,\u001b[0m \u001b[0;34m*\u001b[0m\u001b[0margs\u001b[0m\u001b[0;34m,\u001b[0m \u001b[0;34m**\u001b[0m\u001b[0mkwargs\u001b[0m\u001b[0;34m)\u001b[0m\u001b[0;34m\u001b[0m\u001b[0;34m\u001b[0m\u001b[0m\n\u001b[0m\u001b[1;32m     31\u001b[0m         \u001b[0;32mreturn\u001b[0m \u001b[0mcopy\u001b[0m\u001b[0;34m.\u001b[0m\u001b[0mdeepcopy\u001b[0m\u001b[0;34m(\u001b[0m\u001b[0mself\u001b[0m\u001b[0;34m.\u001b[0m\u001b[0m_memocache\u001b[0m\u001b[0;34m[\u001b[0m\u001b[0mh\u001b[0m\u001b[0;34m]\u001b[0m\u001b[0;34m)\u001b[0m\u001b[0;34m\u001b[0m\u001b[0;34m\u001b[0m\u001b[0m\n\u001b[1;32m     32\u001b[0m \u001b[0;34m\u001b[0m\u001b[0m\n",
      "\u001b[0;32m/usr/local/anaconda3/envs/sampark/lib/python3.7/site-packages/cortex/database.py\u001b[0m in \u001b[0;36mget_surf\u001b[0;34m(self, subject, type, hemisphere, merge, nudge)\u001b[0m\n\u001b[1;32m    484\u001b[0m             \u001b[0;32mpass\u001b[0m\u001b[0;34m\u001b[0m\u001b[0;34m\u001b[0m\u001b[0m\n\u001b[1;32m    485\u001b[0m \u001b[0;34m\u001b[0m\u001b[0m\n\u001b[0;32m--> 486\u001b[0;31m         \u001b[0mfiles\u001b[0m \u001b[0;34m=\u001b[0m \u001b[0mself\u001b[0m\u001b[0;34m.\u001b[0m\u001b[0mget_paths\u001b[0m\u001b[0;34m(\u001b[0m\u001b[0msubject\u001b[0m\u001b[0;34m)\u001b[0m\u001b[0;34m[\u001b[0m\u001b[0;34m'surfs'\u001b[0m\u001b[0;34m]\u001b[0m\u001b[0;34m\u001b[0m\u001b[0;34m\u001b[0m\u001b[0m\n\u001b[0m\u001b[1;32m    487\u001b[0m \u001b[0;34m\u001b[0m\u001b[0m\n\u001b[1;32m    488\u001b[0m         \u001b[0;32mif\u001b[0m \u001b[0mhemisphere\u001b[0m\u001b[0;34m.\u001b[0m\u001b[0mlower\u001b[0m\u001b[0;34m(\u001b[0m\u001b[0;34m)\u001b[0m \u001b[0;34m==\u001b[0m \u001b[0;34m\"both\"\u001b[0m\u001b[0;34m:\u001b[0m\u001b[0;34m\u001b[0m\u001b[0;34m\u001b[0m\u001b[0m\n",
      "\u001b[0;32m/usr/local/anaconda3/envs/sampark/lib/python3.7/site-packages/cortex/database.py\u001b[0m in \u001b[0;36mget_paths\u001b[0;34m(self, subject)\u001b[0m\n\u001b[1;32m    658\u001b[0m \u001b[0;34m\u001b[0m\u001b[0m\n\u001b[1;32m    659\u001b[0m         \u001b[0msurfs\u001b[0m \u001b[0;34m=\u001b[0m \u001b[0mdict\u001b[0m\u001b[0;34m(\u001b[0m\u001b[0;34m)\u001b[0m\u001b[0;34m\u001b[0m\u001b[0;34m\u001b[0m\u001b[0m\n\u001b[0;32m--> 660\u001b[0;31m         \u001b[0;32mfor\u001b[0m \u001b[0msurf\u001b[0m \u001b[0;32min\u001b[0m \u001b[0mos\u001b[0m\u001b[0;34m.\u001b[0m\u001b[0mlistdir\u001b[0m\u001b[0;34m(\u001b[0m\u001b[0msurfpath\u001b[0m\u001b[0;34m)\u001b[0m\u001b[0;34m:\u001b[0m\u001b[0;34m\u001b[0m\u001b[0;34m\u001b[0m\u001b[0m\n\u001b[0m\u001b[1;32m    661\u001b[0m             \u001b[0mssurf\u001b[0m \u001b[0;34m=\u001b[0m \u001b[0mos\u001b[0m\u001b[0;34m.\u001b[0m\u001b[0mpath\u001b[0m\u001b[0;34m.\u001b[0m\u001b[0msplitext\u001b[0m\u001b[0;34m(\u001b[0m\u001b[0msurf\u001b[0m\u001b[0;34m)\u001b[0m\u001b[0;34m[\u001b[0m\u001b[0;36m0\u001b[0m\u001b[0;34m]\u001b[0m\u001b[0;34m.\u001b[0m\u001b[0msplit\u001b[0m\u001b[0;34m(\u001b[0m\u001b[0;34m'_'\u001b[0m\u001b[0;34m)\u001b[0m\u001b[0;34m\u001b[0m\u001b[0;34m\u001b[0m\u001b[0m\n\u001b[1;32m    662\u001b[0m             \u001b[0mname\u001b[0m \u001b[0;34m=\u001b[0m \u001b[0;34m'_'\u001b[0m\u001b[0;34m.\u001b[0m\u001b[0mjoin\u001b[0m\u001b[0;34m(\u001b[0m\u001b[0mssurf\u001b[0m\u001b[0;34m[\u001b[0m\u001b[0;34m:\u001b[0m\u001b[0;34m-\u001b[0m\u001b[0;36m1\u001b[0m\u001b[0;34m]\u001b[0m\u001b[0;34m)\u001b[0m\u001b[0;34m\u001b[0m\u001b[0;34m\u001b[0m\u001b[0m\n",
      "\u001b[0;31mFileNotFoundError\u001b[0m: [Errno 2] No such file or directory: 'build/bdist.macosx-10.9-x86_64/wheel/pycortex-1.2.0.data/data/share/pycortex/db/S1/surfaces'"
     ]
    },
    {
     "data": {
      "image/png": "[encoded data removed]",
      "text/plain": [
       "<Figure size 432x288 with 1 Axes>"
      ]
     },
     "metadata": {
      "image/png": {
       "height": 322,
       "width": 477
      },
      "needs_background": "light"
     },
     "output_type": "display_data"
    }
   ],
   "source": [
    "# let's also look at a brain map of the correlations!\n",
    "\n",
    "import cortex\n",
    "\n",
    "corr_volume = cortex.Volume(test_correlations, 'S1', 'fullhead', mask=brain_mask, vmin=-0.3, vmax=0.3, cmap='RdBu_r')\n",
    "cortex.quickshow(corr_volume, with_curvature=True);"
   ]
  },
  {
   "cell_type": "code",
   "execution_count": null,
   "metadata": {},
   "outputs": [],
   "source": [
    "# you can also look at it in 3D!\n",
    "\n",
    "cortex.webshow(corr_volume, open_browser=False)"
   ]
  },
  {
   "cell_type": "markdown",
   "metadata": {},
   "source": [
    "### Interpreting ridge regression as a \"Gaussian prior\"\n",
    "\n",
    "So we've introduced ridge regression as a \"penalty\" on the loss function, but there's another way to think about ridge regression that is pretty useful in some situations. I want to note that this second interpretation is _exactly mathematically equivalent_ to what you've already seen, it's just a different way of thinking about it.\n",
    "\n",
    "Remember Bayes' rule? $P(a|b) = \\frac{P(b|a) P(a)}{P(b)}$, right? It turns out we can use Bayes' rule to derive ridge regression if we plug in the right variables in the right places. To do this we kind of have to go back to the beginning, but I think it's a much quicker trip once you've already gotten to this point once.\n",
    "\n",
    "From a Bayesian viewpoint, the goal of regression is to find the most probably set of weights ($\\beta$) given the observed data ($x(t), y(t)$). Mathematically, that means we're trying to find the set of weights $\\beta$ that maximize $P(\\beta | x(t), y(t))$ (read as \"probability of $\\beta$ given $x(t)$ and $y(t)$\").\n",
    "\n",
    "We don't really know what $P(\\beta | x(t),y(t))$ is—that's not how we defined our regression model—but we DO know what $P(y(t) | x(t), \\beta)$ is! The assumptions that we've been working with so far (squared error loss, etc.), imply that $P(y(t) | x(t), \\beta)$ is actually a Gaussian distribution (aka Normal distribution). The mean of this distribution is (we assume) $x(t) \\beta$, and it has some variance that we don't know ahead of time (this is the size of the noise term $\\epsilon(t)$). We can write that like this:\n",
    "\n",
    "$$ P(y(t) | x(t), \\beta) = \\mathcal{N}(x(t) \\beta, \\sigma^2), $$\n",
    "where:\n",
    "* $\\mathcal{N}(x(t) \\beta, \\sigma^2)$ denotes a Normal distribution with mean $x(t) \\beta$ and variance $\\sigma^2$.\n",
    "* $\\sigma^2$ is the size of the noise. We don't know what this is yet!\n",
    "\n",
    "Ok now we kind of know what $P(y(t) | x(t), \\beta)$ is, and we know Bayes' rule. We can combine these things to figure out $P(\\beta | y(t), x(t))$, which is the thing we actually want to maximize! Let's see how that goes..\n",
    "\n",
    "$$ P(\\beta | y(t), x(t)) = \\frac{P(y(t) | x(t), \\beta) P(\\beta)}{P(y(t))} $$\n",
    "\n",
    "Huh ok. Bayes' rule says that in order to get the thing we want ($P(\\beta | y(t), x(t))$), we take the thing we know ($P(y(t) | x(t), \\beta)$), multiply it by some weird new thing ($P(\\beta)$), and then divide it by some other weird new thing ($P(y(t)$). Let's step through these different terms, what they mean, and how we can handle them:\n",
    "* $P(y(t) | x(t), \\beta)$. This is the thing we already know. It's sometimes called the \"likelihood\" function. We're modeling it as a Gaussian distribution. All good!\n",
    "* $P(\\beta)$. This is a new one. It's called the \"prior\" distribution on $\\beta$. Think of it as \"given absolutely no information about any of the data, what values of $\\beta$ do we think are more or less likely?\" (Foreshadowing: _this is where the magic will happen._)\n",
    "* $P(y(t))$. This is also a new one. Fortunately, we can ignore it entirely! It doesn't matter one bit what the value of this function is, because it's independent of $\\beta$, so our choice of the best $\\beta$ is unaffected by it! Whew.\n",
    "\n",
    "So clearly the most important new thing here is the prior, $P(\\beta)$. **Let's suppose that $P(\\beta)$ is another Gaussian distribution.** That is, let's say that $P(\\beta) = \\mathcal{N}(0, \\lambda^{-1} I)$, a multivariate Gaussian distribution (because $\\beta$ typically is a vector containing more than one value) with mean zero and covariance $\\lambda^{-1} I$. You may have an inkling of where this is heading now..\n",
    "\n",
    "Let's go back to our full expression for $P(\\beta | y(t), x(t))$ (which is called the posterior distribution on $\\beta$), plug some things in, and see what happens!\n",
    "\n",
    "$$\\begin{eqnarray}\n",
    "P(\\beta | y(t), x(t)) & = & \\frac{P(y(t) | x(t), \\beta) P(\\beta)}{P(y(t))} \\\\\n",
    "P(\\beta | y(t), x(t)) & \\propto & P(y(t) | x(t), \\beta) P(\\beta) \\;\\mbox{ (dropping the denominator)}\\\\\n",
    "P(\\beta | y(t), x(t)) & \\propto & e^{-\\frac{1}{2 \\sigma^2} (y(t) - x(t)\\beta)^2} e^{-\\frac{1}{2} \\beta^\\top (\\lambda^{-1} I)^{-1} \\beta} \\; \\mbox{ (plugging in the definition of a Gaussian distribution)} \\\\\n",
    "P(\\beta | y(t), x(t)) & \\propto & e^{-\\frac{1}{2 \\sigma^2} (y(t) - x(t)\\beta)^2 -\\frac{1}{2} \\beta^\\top (\\lambda^{-1} I)^{-1} \\beta} \\;\\mbox{ (combining exponentials)}\\\\\n",
    "P(\\beta | y(t), x(t)) & \\propto & e^{-\\frac{1}{2 \\sigma^2} (y(t) - x(t)\\beta)^2 -\\frac{1}{2} \\lambda \\beta^\\top \\beta}\\\\\n",
    "\\end{eqnarray}$$\n",
    "\n",
    "Alright that was a wild ride, but we ended up with something pretty interesting. The most important thing here is to look at the exponent in our new expression.. does it look familiar? It should, because it's pretty much the same as the ridge loss function (or, at least, the negative of the ridge loss function)! Recall that our goal here is to maximize the probability of $\\beta$ given $y(t)$ and $x(t)$. This equation shows us that maximizing that probability is _exactly equivalent_ to minimizing the ridge loss function. The prior $P(\\beta)$ and the penalty term in the loss function $\\lambda \\beta^\\top \\beta$ _mean exactly the same thing_!"
   ]
  },
  {
   "cell_type": "code",
   "execution_count": null,
   "metadata": {},
   "outputs": [],
   "source": []
  }
 ],
 "metadata": {
  "kernelspec": {
   "display_name": "sampark",
   "language": "python",
   "name": "sampark"
  },
  "language_info": {
   "codemirror_mode": {
    "name": "ipython",
    "version": 3
   },
   "file_extension": ".py",
   "mimetype": "text/x-python",
   "name": "python",
   "nbconvert_exporter": "python",
   "pygments_lexer": "ipython3",
   "version": "3.7.10"
  }
 },
 "nbformat": 4,
 "nbformat_minor": 2
}
