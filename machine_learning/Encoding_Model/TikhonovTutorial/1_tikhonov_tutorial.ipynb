{
 "cells": [
  {
   "cell_type": "markdown",
   "metadata": {},
   "source": [
    "# Tutorial on Encoding Models with Word Embeddings\n",
    "originally for NeuroHackademy 2020, by Alex Huth"
   ]
  },
  {
   "cell_type": "code",
   "execution_count": 1,
   "metadata": {},
   "outputs": [],
   "source": [
    "# Load some basic stuff we'll need later\n",
    "%config InlineBackend.figure_format = 'retina'\n",
    "%matplotlib inline\n",
    "import matplotlib.pyplot as plt\n",
    "import numpy as np"
   ]
  },
  {
   "cell_type": "markdown",
   "metadata": {},
   "source": [
    "# Part 1: Regression: what is it? Why would you use it?\n",
    "\n",
    "I'm interested in \"predictive\" models of brain responses. Suppose you do an experiment where you're recording some kind of brain responses, let's call them $y(t)$, while you provide your experimental subject with some kind of stimulus, let's call that $s(t)$. I think you can claim to understand something about what the brain is doing if you can build a model that predicts $y(t)$ from $s(t)$. (I think this claim is especially true if $s(t)$ is a \"natural\" stimulus, i.e. something that you would expect to see in everyday life, rather than something concocted specifically in a laboratory.)\n",
    "\n",
    "How do we build a model that predicts $y(t)$ from $s(t)$? There are lots of approaches! But they all use one core concept: **_regression_**.\n",
    "\n",
    "You do regression like this:\n",
    "### 1. Extract features ###\n",
    "You say \"I can break $s(t)$ into different parts, or features\". This transforms $s(t)$ into some other representation that we'll call $x(t)$. Let's say that the number of features in $x(t)$ is $p$.\n",
    "\n",
    "### 2. Define the model ###\n",
    "You say \"I can predict $y(t)$ from a weighted combination of the features in $x(t)$\". This means you are imagining a model that looks something like this,\n",
    "\n",
    "$$y(t) = \\sum_{i=1}^p x_i(t) \\beta_i + \\epsilon(t),$$\n",
    "where:\n",
    "* $x_i(t)$ refers to the $i$th feature in $x(t)$, \n",
    "* $\\beta_i$ refers to the weight on that feature (we don't know what this weight is yet), and \n",
    "* $\\epsilon(t)$ refers to the noise, i.e. any part of $y(t)$ that you can't predict from $x(t)$ (we don't know what this is yet either).\n",
    "\n",
    "Since this model is just a weighted sum, we can write it more simply using a little linear algebra,\n",
    "$$y(t) = x(t) \\beta + \\epsilon(t),$$\n",
    "where $x(t)$ is now a $1 \\times p$ vector of feature values and $\\beta$ is a $p \\times 1$ vector of weights.\n",
    "\n",
    "To deal with these equations more easily, we'll need to stack the values of $y(t)$ and $x(t)$ into matrices. Let's define those matrices like this:\n",
    "\n",
    "$$Y = \\begin{bmatrix} y(t=1) \\\\ y(t=2) \\\\ \\vdots \\\\ y(t=T) \\end{bmatrix}, \\;\n",
    "X = \\begin{bmatrix} x(t=1) \\\\ x(t=2) \\\\ \\vdots \\\\ x(t=T) \\end{bmatrix} $$\n",
    "\n",
    "So we now have $Y$, which is a $T \\times 1$ matrix of brain responses, and $X$, which is a $T \\times p$ matrix of features that we extracted from the stimuli. If we also define $\\epsilon$ as a vector of the same size as $Y$, then we can re-write the model like this:\n",
    "\n",
    "$$ Y = X \\beta + \\epsilon $$\n",
    "\n",
    "Let's make some fake data using this model!"
   ]
  },
  {
   "cell_type": "code",
   "execution_count": 2,
   "metadata": {},
   "outputs": [
    {
     "name": "stdout",
     "output_type": "stream",
     "text": [
      "X_train (100, 5)\n",
      "beta_true (5,)\n",
      "Y_train (100,)\n"
     ]
    }
   ],
   "source": [
    "# Let's set up a simple regression! First we'll create some fake stimulus & \"true\" weights\n",
    "\n",
    "T_train = 100 # number of timepoints in our model training dataset\n",
    "p = 5 # number of features\n",
    "noise_size = 5.0 # the standard deviation of the noise, epsilon\n",
    "\n",
    "X_train = np.random.randn(T_train, p) # random Gaussian-distributed (normal) numbers\n",
    "print(\"X_train\",X_train.shape)\n",
    "\n",
    "beta_true = np.random.randn(p)\n",
    "print(\"beta_true\",beta_true.shape)\n",
    "\n",
    "Y_train = X_train.dot(beta_true) + noise_size * np.random.randn(T_train) # Y = X beta + epsilon\n",
    "print(\"Y_train\",Y_train.shape)"
   ]
  },
  {
   "cell_type": "markdown",
   "metadata": {},
   "source": [
    "### 3. Estimate the model weights, $\\beta$ ###\n",
    "You say \"I need to find the weights $\\beta$ that make my model good at predicting $y(t)$\". Here's where the magic is! To do this we're first going to define a **_loss function_** $\\mathcal{L}(\\beta)$, which tells us how good our model is for any particular value of the weight vector $\\beta$. (It's called a loss function because bigger values == bigger loss == a worse model. So we want the loss function to be as small as possible.)\n",
    "\n",
    "First, let's start by converting the sum in $\\mathcal{L}(\\beta)$ into a matrix multiplication. \n",
    "\n",
    "The most common loss function (and best, in most situations) is **squared error loss**, which looks like this:\n",
    "$$\\mathcal{L}(\\beta) = \\sum_{t=1}^T (y(t) - x(t) \\beta)^2 $$\n",
    "\n",
    "or, in matrix terms:\n",
    "\n",
    "$$ \\mathcal{L}(\\beta) = (Y - X\\beta)^\\top (Y - X \\beta) $$\n",
    "(If it's not clear why this is equivalent to our first expression for the loss function, try to re-imagine this equation as a summation across timepoints.)\n",
    "\n",
    "Using this function you can now try to find the best values for $\\beta$! Our goal here is to find the value of $\\beta$ that minimizes the loss function. Think back to when you first learned calculus.. do you remember learning how to find the minimum of a function? In particular, our loss function is actually a parabola (why?), which means it has (approximately) one minimum! We can find this minimum by taking the derivative of the loss function with respect to $\\beta$, and then finding the value of $\\beta$ that sets the derivative to zero.\n",
    "\n",
    "We can expand the multiplication in our loss function:\n",
    "$$ \\mathcal{L}(\\beta) = Y^\\top Y - 2 Y^\\top X \\beta + \\beta^\\top X^\\top X \\beta $$\n",
    "Taking the derivative then gives us this expression:\n",
    "$$\\frac{d \\mathcal{L}(\\beta)}{d \\beta} = -2 Y^\\top X + 2 \\beta^\\top X^\\top X $$\n",
    "Here, the $Y^\\top Y$ term disappeared because it didn't depend on $\\beta$. If you want to know how the other terms came about, you might want to peruse the [somewhat baroque rules of matrix calculus](https://en.wikipedia.org/wiki/Matrix_calculus).\n",
    "\n",
    "Now to find the best value of $\\beta$ we need to set $\\frac{d \\mathcal{L}(\\beta)}{d \\beta} = 0$ and then solve for $\\beta$:\n",
    "$$\\begin{eqnarray}\n",
    "\\frac{d \\mathcal{L}(\\beta)}{d \\beta} &=& 0 \\\\\n",
    "-2 Y^\\top X + 2 \\beta^\\top X^\\top X &=& 0 \\\\\n",
    "\\beta^\\top X^\\top X &=& Y^\\top X \\\\\n",
    "X^\\top X \\beta &=& X^\\top Y \\mbox{  (transposed both sides)} \\\\\n",
    "\\beta &=& (X^\\top X)^{-1} X^\\top Y\n",
    "\\end{eqnarray}$$\n",
    "\n",
    "And there we have it! The best possible weights for predicting $y(t)$ from $x(t)$ are given by this neat little expression: $\\beta = (X^\\top X)^{-1} X^\\top Y$.\n",
    "\n",
    "Going forward, we're going to refer to this regression procedure as **_ordinary least squares_** or **_OLS_**, and the solution that we derived as \"the OLS solution\" or $\\beta_{OLS}$.\n",
    "\n",
    "Let's try this procedure out on some fake data, then some real data from an fMRI experiment!"
   ]
  },
  {
   "cell_type": "code",
   "execution_count": 3,
   "metadata": {},
   "outputs": [
    {
     "name": "stdout",
     "output_type": "stream",
     "text": [
      "estimated: [ 1.86579717  0.28402444  0.90892622 -0.21948709 -0.64389185]\n",
      "true: [ 1.43391177  0.43310327  0.70413858 -0.54228685 -1.37902948]\n"
     ]
    }
   ],
   "source": [
    "# First let's solve the regression exactly using the formula from above\n",
    "\n",
    "beta_estimate_1 = np.linalg.inv(X_train.T.dot(X_train)).dot(X_train.T).dot(Y_train)\n",
    "print(\"estimated:\", beta_estimate_1)\n",
    "print(\"true:\", beta_true)"
   ]
  },
  {
   "cell_type": "markdown",
   "metadata": {},
   "source": [
    "## Outrageously important concept: _testing your model on held-out data_\n",
    "How do you know how good your regression model is? The estimated weights look _kind of_ like the true weights, but in the real world you don't know what the real weights are!\n",
    "\n",
    "One option would be to test how well your model fit your original (training) dataset. That would be a bad option. We'll get into why in the next module.\n",
    "\n",
    "The _correct_ option is to test how well your model can predict _new_ data, on which the model was not trained. Let's do that here, by generating some more data using our 'true' weights!"
   ]
  },
  {
   "cell_type": "code",
   "execution_count": 4,
   "metadata": {},
   "outputs": [],
   "source": [
    "# generate new data to test the model on\n",
    "\n",
    "T_test = 25 # number of timepoints for our new test dataset\n",
    "\n",
    "X_test = np.random.randn(T_test, p)\n",
    "Y_test = X_test.dot(beta_true) + noise_size * np.random.randn(T_test)"
   ]
  },
  {
   "cell_type": "markdown",
   "metadata": {},
   "source": [
    "### How do we evaluate our model?\n",
    "There are many ways! We're going to use one: [linear correlation](https://en.wikipedia.org/wiki/Pearson_correlation_coefficient)."
   ]
  },
  {
   "cell_type": "code",
   "execution_count": 5,
   "metadata": {},
   "outputs": [
    {
     "name": "stdout",
     "output_type": "stream",
     "text": [
      "Correlation between true & predicted Y_test: 0.37491783818647706\n"
     ]
    }
   ],
   "source": [
    "# Now let's test how well this model is able to predict the held-out test data\n",
    "Y_test_pred = X_test.dot(beta_estimate_1)\n",
    "\n",
    "print(\"Correlation between true & predicted Y_test:\", np.corrcoef(Y_test, Y_test_pred)[0,1])"
   ]
  },
  {
   "cell_type": "code",
   "execution_count": 6,
   "metadata": {},
   "outputs": [
    {
     "name": "stdout",
     "output_type": "stream",
     "text": [
      "estimated: [ 1.86579717  0.28402444  0.90892622 -0.21948709 -0.64389185]\n",
      "estimated: [ 1.86579717  0.28402444  0.90892622 -0.21948709 -0.64389185]\n",
      "true: [ 1.43391177  0.43310327  0.70413858 -0.54228685 -1.37902948]\n"
     ]
    },
    {
     "name": "stderr",
     "output_type": "stream",
     "text": [
      "/usr/local/anaconda3/envs/sampark/lib/python3.7/site-packages/ipykernel_launcher.py:7: FutureWarning: `rcond` parameter will change to the default of machine precision times ``max(M, N)`` where M and N are the input matrix dimensions.\n",
      "To use the future default and silence this warning we advise to pass `rcond=None`, to keep using the old, explicitly pass `rcond=-1`.\n",
      "  import sys\n"
     ]
    }
   ],
   "source": [
    "# In practice you should really not use the formula that has an explicit inverse for doing OLS\n",
    "# this has to do with numerical stability, something that ideally you shouldn't concern yourself with\n",
    "# instead we'll use a function that numpy includes explicitly for this purpose!\n",
    "# at its core, it uses a singular value decomposition (SVD) instead of explicit matrix inversion\n",
    "# this is much more stable!\n",
    "\n",
    "beta_estimate_2 = np.linalg.lstsq(X_train, Y_train)[0]\n",
    "print(\"estimated:\", beta_estimate_1)\n",
    "print(\"estimated:\", beta_estimate_2)\n",
    "print(\"true:\", beta_true)\n",
    "\n",
    "# (for this simple case, though, the answer should be ~identical to what you found previously)"
   ]
  },
  {
   "cell_type": "markdown",
   "metadata": {},
   "source": [
    "## OLS for an fMRI analysis\n",
    "\n",
    "Let's try to use this method now for an [fMRI experiment](https://www.nature.com/articles/nature17637). In this experiment, each subject listened to 11 different natural, narrative stories over headphones while we recorded BOLD signals continuously (well, every 2 seconds) using fMRI. The first 10 of these stories will comprise the _training set_, on which we will learn our regression models. The last story will comprise the _test set_, on which we will test our models.\n",
    "\n",
    "The model that we are going to fit is quite simple. Our stimulus (what we call $s(t)$) is a set of audio stories. The features that we have extracted from these stories (what we call $x(t)$) are indicator variables that show which words were spoken at each timepoint (here timepoints correspond to the fMRI volumes, so each one represents a 2 second period).\n",
    "\n",
    "We're going to skip a lot of the preprocessing steps here and load data that's _almost_ already set up for regression."
   ]
  },
  {
   "cell_type": "code",
   "execution_count": 8,
   "metadata": {},
   "outputs": [],
   "source": [
    "# first let's load up the list of unique words that appear in the stories\n",
    "import tables\n",
    "word_tf = tables.open_file('/Users/clmnlab/Downloads/data/we_word_embeddings/small_english1000sm.hdf5')\n",
    "words = word_tf.root.vocab.read()\n",
    "word_tf.close()"
   ]
  },
  {
   "cell_type": "code",
   "execution_count": 9,
   "metadata": {},
   "outputs": [
    {
     "data": {
      "text/plain": [
       "array([b'', b'four', b'hanging', ..., b'incredibly', b'june',\n",
       "       b'expletives'], dtype='|S16')"
      ]
     },
     "execution_count": 9,
     "metadata": {},
     "output_type": "execute_result"
    }
   ],
   "source": [
    "words"
   ]
  },
  {
   "cell_type": "code",
   "execution_count": 10,
   "metadata": {},
   "outputs": [],
   "source": [
    "# now let's load up the feature matrices\n",
    "# these were stored as \"sparse\" matrices in order to save space\n",
    "# but we'll convert them back to normal matrices in order to use them in our regression\n",
    "from scipy import sparse\n",
    "training_features = sparse.load_npz('/Users/clmnlab/Downloads/data/we_word_embeddings/indicator_Rstim.npz').todense().A\n",
    "test_features = sparse.load_npz('/Users/clmnlab/Downloads/data/we_word_embeddings/indicator_Pstim.npz').todense().A"
   ]
  },
  {
   "cell_type": "code",
   "execution_count": 11,
   "metadata": {},
   "outputs": [
    {
     "data": {
      "text/plain": [
       "((3737, 2702), (291, 2702))"
      ]
     },
     "execution_count": 11,
     "metadata": {},
     "output_type": "execute_result"
    }
   ],
   "source": [
    "training_features.shape, test_features.shape\n",
    "# these should have different numbers of timepoints (3737 for training, 291 for test)\n",
    "# but the same number of feature dimensions for both (2702)"
   ]
  },
  {
   "cell_type": "code",
   "execution_count": 12,
   "metadata": {},
   "outputs": [
    {
     "data": {
      "text/plain": [
       "array([b'love', b'so', b'really', b'on', b'decided', b'it', b'yes',\n",
       "       b'finally', b'get', b'good', b\"it's\", b'like', b'about'],\n",
       "      dtype='|S16')"
      ]
     },
     "execution_count": 12,
     "metadata": {},
     "output_type": "execute_result"
    }
   ],
   "source": [
    "# we can see which words appeared in each timepoint of the fMRI data like this\n",
    "# (this is a list of all the words appearing in a 2-second segment, out of order!)\n",
    "words[training_features[123] > 0]"
   ]
  },
  {
   "cell_type": "code",
   "execution_count": 13,
   "metadata": {},
   "outputs": [],
   "source": [
    "# now let's load up the brain responses\n",
    "response_tf = tables.open_file('/Users/clmnlab/Downloads/data/we_word_embeddings/small-fmri-responses.hdf5')\n",
    "training_resp = response_tf.root.zRresp.read()\n",
    "test_resp = response_tf.root.zPresp.read()\n",
    "brain_mask = response_tf.root.mask.read()\n",
    "response_tf.close()"
   ]
  },
  {
   "cell_type": "code",
   "execution_count": 14,
   "metadata": {},
   "outputs": [
    {
     "data": {
      "text/plain": [
       "((3737, 5156), (291, 5156))"
      ]
     },
     "execution_count": 14,
     "metadata": {},
     "output_type": "execute_result"
    }
   ],
   "source": [
    "training_resp.shape, test_resp.shape\n",
    "# these should have the same number of timepoints as the features (3737 for training, 291 for test)\n",
    "# the other dimension is the number of voxels (5156 here)"
   ]
  },
  {
   "cell_type": "code",
   "execution_count": 15,
   "metadata": {},
   "outputs": [],
   "source": [
    "# to accurately predict BOLD responses we need to account for hemodynamic delays\n",
    "# we'll do that here by creating multiple time-shifted versions of the same stimulus\n",
    "# this is called a finite impulse response or FIR model\n",
    "\n",
    "from util import make_delayed\n",
    "delays = [1,2,3,4]\n",
    "\n",
    "del_training_features = make_delayed(training_features, delays)\n",
    "del_test_features = make_delayed(test_features, delays)"
   ]
  },
  {
   "cell_type": "code",
   "execution_count": 16,
   "metadata": {},
   "outputs": [
    {
     "data": {
      "text/plain": [
       "((3737, 10808), (291, 10808))"
      ]
     },
     "execution_count": 16,
     "metadata": {},
     "output_type": "execute_result"
    }
   ],
   "source": [
    "del_training_features.shape, del_test_features.shape\n",
    "# these should have the same number of timepoints as before, but now the number of features\n",
    "# should be increased by a factor of 4 (to 10808)"
   ]
  },
  {
   "cell_type": "code",
   "execution_count": 17,
   "metadata": {},
   "outputs": [
    {
     "name": "stderr",
     "output_type": "stream",
     "text": [
      "/usr/local/anaconda3/envs/sampark/lib/python3.7/site-packages/ipykernel_launcher.py:3: FutureWarning: `rcond` parameter will change to the default of machine precision times ``max(M, N)`` where M and N are the input matrix dimensions.\n",
      "To use the future default and silence this warning we advise to pass `rcond=None`, to keep using the old, explicitly pass `rcond=-1`.\n",
      "  This is separate from the ipykernel package so we can avoid doing imports until\n"
     ]
    }
   ],
   "source": [
    "# then we can fit our regression models!\n",
    "\n",
    "beta_ols = np.linalg.lstsq(del_training_features, training_resp)[0]"
   ]
  },
  {
   "cell_type": "code",
   "execution_count": 18,
   "metadata": {},
   "outputs": [
    {
     "data": {
      "text/plain": [
       "(10808, 5156)"
      ]
     },
     "execution_count": 18,
     "metadata": {},
     "output_type": "execute_result"
    }
   ],
   "source": [
    "beta_ols.shape\n",
    "# should be total number of features (10808) by number of voxels (5156)"
   ]
  },
  {
   "cell_type": "code",
   "execution_count": 19,
   "metadata": {},
   "outputs": [],
   "source": [
    "# now let's test our regression models on the held-out test data\n",
    "pred_test_resp = del_test_features.dot(beta_ols)\n",
    "\n",
    "import npp # a set of convenience functions I think are missing from numpy :)\n",
    "\n",
    "test_correlations = npp.mcorr(test_resp, pred_test_resp) # computes the correlation for each voxel"
   ]
  },
  {
   "cell_type": "code",
   "execution_count": 20,
   "metadata": {},
   "outputs": [
    {
     "data": {
      "text/plain": [
       "(5156,)"
      ]
     },
     "execution_count": 20,
     "metadata": {},
     "output_type": "execute_result"
    }
   ],
   "source": [
    "test_correlations.shape\n",
    "# should be a vector with one value per voxel (5156)"
   ]
  },
  {
   "cell_type": "code",
   "execution_count": 21,
   "metadata": {},
   "outputs": [
    {
     "data": {
      "image/png": "[encoded data removed]",
      "text/plain": [
       "<Figure size 432x288 with 1 Axes>"
      ]
     },
     "metadata": {
      "image/png": {
       "height": 261,
       "width": 400
      },
      "needs_background": "light"
     },
     "output_type": "display_data"
    }
   ],
   "source": [
    "# let's look at the histogram of correlations!\n",
    "plt.hist(test_correlations, 50)\n",
    "plt.xlim(-1, 1)\n",
    "plt.xlabel(\"Linear Correlation\")\n",
    "plt.ylabel(\"Num. Voxels\");"
   ]
  },
  {
   "cell_type": "code",
   "execution_count": 27,
   "metadata": {
    "collapsed": true
   },
   "outputs": [
    {
     "ename": "FileNotFoundError",
     "evalue": "[Errno 2] No such file or directory: 'build/bdist.macosx-10.9-x86_64/wheel/pycortex-1.2.0.data/data/share/pycortex/db/S1/surfaces'",
     "output_type": "error",
     "traceback": [
      "\u001b[0;31m---------------------------------------------------------------------------\u001b[0m",
      "\u001b[0;31mFileNotFoundError\u001b[0m                         Traceback (most recent call last)",
      "\u001b[0;32m<ipython-input-27-c5dec689c209>\u001b[0m in \u001b[0;36m<module>\u001b[0;34m\u001b[0m\n\u001b[1;32m      5\u001b[0m \u001b[0;34m\u001b[0m\u001b[0m\n\u001b[1;32m      6\u001b[0m \u001b[0mcorr_volume\u001b[0m \u001b[0;34m=\u001b[0m \u001b[0mcortex\u001b[0m\u001b[0;34m.\u001b[0m\u001b[0mVolume\u001b[0m\u001b[0;34m(\u001b[0m\u001b[0mtest_correlations\u001b[0m\u001b[0;34m,\u001b[0m \u001b[0;34m\"S1\"\u001b[0m\u001b[0;34m,\u001b[0m \u001b[0;34m\"fullhead\"\u001b[0m\u001b[0;34m,\u001b[0m \u001b[0mmask\u001b[0m\u001b[0;34m=\u001b[0m\u001b[0mbrain_mask\u001b[0m\u001b[0;34m,\u001b[0m \u001b[0mvmin\u001b[0m\u001b[0;34m=\u001b[0m\u001b[0;34m-\u001b[0m\u001b[0;36m0.3\u001b[0m\u001b[0;34m,\u001b[0m \u001b[0mvmax\u001b[0m\u001b[0;34m=\u001b[0m\u001b[0;36m0.3\u001b[0m\u001b[0;34m,\u001b[0m \u001b[0mcmap\u001b[0m\u001b[0;34m=\u001b[0m\u001b[0;34m'RdBu_r'\u001b[0m\u001b[0;34m)\u001b[0m\u001b[0;34m\u001b[0m\u001b[0;34m\u001b[0m\u001b[0m\n\u001b[0;32m----> 7\u001b[0;31m \u001b[0mcortex\u001b[0m\u001b[0;34m.\u001b[0m\u001b[0mquickshow\u001b[0m\u001b[0;34m(\u001b[0m\u001b[0mcorr_volume\u001b[0m\u001b[0;34m)\u001b[0m\u001b[0;34m;\u001b[0m\u001b[0;34m\u001b[0m\u001b[0;34m\u001b[0m\u001b[0m\n\u001b[0m",
      "\u001b[0;32m/usr/local/anaconda3/envs/sampark/lib/python3.7/site-packages/cortex/quickflat/view.py\u001b[0m in \u001b[0;36mmake_figure\u001b[0;34m(braindata, recache, pixelwise, thick, sampler, height, dpi, depth, with_rois, with_sulci, with_labels, with_colorbar, with_borders, with_dropout, with_curvature, extra_disp, with_connected_vertices, overlay_file, linewidth, linecolor, roifill, shadow, labelsize, labelcolor, cutout, curvature_brightness, curvature_contrast, curvature_threshold, fig, extra_hatch, colorbar_ticks, colorbar_location, roi_list, nanmean, **kwargs)\u001b[0m\n\u001b[1;32m    141\u001b[0m     \u001b[0;31m# Add data\u001b[0m\u001b[0;34m\u001b[0m\u001b[0;34m\u001b[0m\u001b[0;34m\u001b[0m\u001b[0m\n\u001b[1;32m    142\u001b[0m     data_im, extents = composite.add_data(ax, dataview, pixelwise=pixelwise, thick=thick, sampler=sampler,\n\u001b[0;32m--> 143\u001b[0;31m                                           height=height, depth=depth, recache=recache, nanmean=nanmean)\n\u001b[0m\u001b[1;32m    144\u001b[0m \u001b[0;34m\u001b[0m\u001b[0m\n\u001b[1;32m    145\u001b[0m     \u001b[0mlayers\u001b[0m \u001b[0;34m=\u001b[0m \u001b[0mdict\u001b[0m\u001b[0;34m(\u001b[0m\u001b[0mdata\u001b[0m\u001b[0;34m=\u001b[0m\u001b[0mdata_im\u001b[0m\u001b[0;34m)\u001b[0m\u001b[0;34m\u001b[0m\u001b[0;34m\u001b[0m\u001b[0m\n",
      "\u001b[0;32m/usr/local/anaconda3/envs/sampark/lib/python3.7/site-packages/cortex/quickflat/composite.py\u001b[0m in \u001b[0;36madd_data\u001b[0;34m(fig, braindata, height, thick, depth, pixelwise, sampler, recache, nanmean)\u001b[0m\n\u001b[1;32m    161\u001b[0m     \u001b[0;31m# Generate image (2D array, maybe 3D array)\u001b[0m\u001b[0;34m\u001b[0m\u001b[0;34m\u001b[0m\u001b[0;34m\u001b[0m\u001b[0m\n\u001b[1;32m    162\u001b[0m     im, extents = make_flatmap_image(dataview, recache=recache, pixelwise=pixelwise, sampler=sampler,\n\u001b[0;32m--> 163\u001b[0;31m                                      height=height, thick=thick, depth=depth, nanmean=nanmean)\n\u001b[0m\u001b[1;32m    164\u001b[0m     \u001b[0;31m# Check whether dataview has a cmap instance\u001b[0m\u001b[0;34m\u001b[0m\u001b[0;34m\u001b[0m\u001b[0;34m\u001b[0m\u001b[0m\n\u001b[1;32m    165\u001b[0m     \u001b[0mcmapdict\u001b[0m \u001b[0;34m=\u001b[0m \u001b[0m_has_cmap\u001b[0m\u001b[0;34m(\u001b[0m\u001b[0mdataview\u001b[0m\u001b[0;34m)\u001b[0m\u001b[0;34m\u001b[0m\u001b[0;34m\u001b[0m\u001b[0m\n",
      "\u001b[0;32m/usr/local/anaconda3/envs/sampark/lib/python3.7/site-packages/cortex/quickflat/utils.py\u001b[0m in \u001b[0;36mmake_flatmap_image\u001b[0;34m(braindata, height, recache, nanmean, **kwargs)\u001b[0m\n\u001b[1;32m     41\u001b[0m \u001b[0;34m\u001b[0m\u001b[0m\n\u001b[1;32m     42\u001b[0m     \"\"\"\n\u001b[0;32m---> 43\u001b[0;31m     \u001b[0mmask\u001b[0m\u001b[0;34m,\u001b[0m \u001b[0mextents\u001b[0m \u001b[0;34m=\u001b[0m \u001b[0mget_flatmask\u001b[0m\u001b[0;34m(\u001b[0m\u001b[0mbraindata\u001b[0m\u001b[0;34m.\u001b[0m\u001b[0msubject\u001b[0m\u001b[0;34m,\u001b[0m \u001b[0mheight\u001b[0m\u001b[0;34m=\u001b[0m\u001b[0mheight\u001b[0m\u001b[0;34m,\u001b[0m \u001b[0mrecache\u001b[0m\u001b[0;34m=\u001b[0m\u001b[0mrecache\u001b[0m\u001b[0;34m)\u001b[0m\u001b[0;34m\u001b[0m\u001b[0;34m\u001b[0m\u001b[0m\n\u001b[0m\u001b[1;32m     44\u001b[0m \u001b[0;34m\u001b[0m\u001b[0m\n\u001b[1;32m     45\u001b[0m     \u001b[0;32mif\u001b[0m \u001b[0;32mnot\u001b[0m \u001b[0mhasattr\u001b[0m\u001b[0;34m(\u001b[0m\u001b[0mbraindata\u001b[0m\u001b[0;34m,\u001b[0m \u001b[0;34m\"xfmname\"\u001b[0m\u001b[0;34m)\u001b[0m\u001b[0;34m:\u001b[0m\u001b[0;34m\u001b[0m\u001b[0;34m\u001b[0m\u001b[0m\n",
      "\u001b[0;32m/usr/local/anaconda3/envs/sampark/lib/python3.7/site-packages/cortex/quickflat/utils.py\u001b[0m in \u001b[0;36mget_flatmask\u001b[0;34m(subject, height, recache)\u001b[0m\n\u001b[1;32m    113\u001b[0m \u001b[0;34m\u001b[0m\u001b[0m\n\u001b[1;32m    114\u001b[0m     \u001b[0;32mif\u001b[0m \u001b[0;32mnot\u001b[0m \u001b[0mos\u001b[0m\u001b[0;34m.\u001b[0m\u001b[0mpath\u001b[0m\u001b[0;34m.\u001b[0m\u001b[0mexists\u001b[0m\u001b[0;34m(\u001b[0m\u001b[0mcachefile\u001b[0m\u001b[0;34m)\u001b[0m \u001b[0;32mor\u001b[0m \u001b[0mrecache\u001b[0m\u001b[0;34m:\u001b[0m\u001b[0;34m\u001b[0m\u001b[0;34m\u001b[0m\u001b[0m\n\u001b[0;32m--> 115\u001b[0;31m         \u001b[0mmask\u001b[0m\u001b[0;34m,\u001b[0m \u001b[0mextents\u001b[0m \u001b[0;34m=\u001b[0m \u001b[0m_make_flatmask\u001b[0m\u001b[0;34m(\u001b[0m\u001b[0msubject\u001b[0m\u001b[0;34m,\u001b[0m \u001b[0mheight\u001b[0m\u001b[0;34m=\u001b[0m\u001b[0mheight\u001b[0m\u001b[0;34m)\u001b[0m\u001b[0;34m\u001b[0m\u001b[0;34m\u001b[0m\u001b[0m\n\u001b[0m\u001b[1;32m    116\u001b[0m         \u001b[0mnp\u001b[0m\u001b[0;34m.\u001b[0m\u001b[0msavez\u001b[0m\u001b[0;34m(\u001b[0m\u001b[0mcachefile\u001b[0m\u001b[0;34m,\u001b[0m \u001b[0mmask\u001b[0m\u001b[0;34m=\u001b[0m\u001b[0mmask\u001b[0m\u001b[0;34m,\u001b[0m \u001b[0mextents\u001b[0m\u001b[0;34m=\u001b[0m\u001b[0mextents\u001b[0m\u001b[0;34m)\u001b[0m\u001b[0;34m\u001b[0m\u001b[0;34m\u001b[0m\u001b[0m\n\u001b[1;32m    117\u001b[0m     \u001b[0;32melse\u001b[0m\u001b[0;34m:\u001b[0m\u001b[0;34m\u001b[0m\u001b[0;34m\u001b[0m\u001b[0m\n",
      "\u001b[0;32m/usr/local/anaconda3/envs/sampark/lib/python3.7/site-packages/cortex/quickflat/utils.py\u001b[0m in \u001b[0;36m_make_flatmask\u001b[0;34m(subject, height)\u001b[0m\n\u001b[1;32m    329\u001b[0m     \u001b[0;32mfrom\u001b[0m \u001b[0;34m.\u001b[0m\u001b[0;34m.\u001b[0m \u001b[0;32mimport\u001b[0m \u001b[0mpolyutils\u001b[0m\u001b[0;34m\u001b[0m\u001b[0;34m\u001b[0m\u001b[0m\n\u001b[1;32m    330\u001b[0m     \u001b[0;32mfrom\u001b[0m \u001b[0mPIL\u001b[0m \u001b[0;32mimport\u001b[0m \u001b[0mImage\u001b[0m\u001b[0;34m,\u001b[0m \u001b[0mImageDraw\u001b[0m\u001b[0;34m\u001b[0m\u001b[0;34m\u001b[0m\u001b[0m\n\u001b[0;32m--> 331\u001b[0;31m     \u001b[0mpts\u001b[0m\u001b[0;34m,\u001b[0m \u001b[0mpolys\u001b[0m \u001b[0;34m=\u001b[0m \u001b[0mdb\u001b[0m\u001b[0;34m.\u001b[0m\u001b[0mget_surf\u001b[0m\u001b[0;34m(\u001b[0m\u001b[0msubject\u001b[0m\u001b[0;34m,\u001b[0m \u001b[0;34m\"flat\"\u001b[0m\u001b[0;34m,\u001b[0m \u001b[0mmerge\u001b[0m\u001b[0;34m=\u001b[0m\u001b[0;32mTrue\u001b[0m\u001b[0;34m,\u001b[0m \u001b[0mnudge\u001b[0m\u001b[0;34m=\u001b[0m\u001b[0;32mTrue\u001b[0m\u001b[0;34m)\u001b[0m\u001b[0;34m\u001b[0m\u001b[0;34m\u001b[0m\u001b[0m\n\u001b[0m\u001b[1;32m    332\u001b[0m     \u001b[0mleft\u001b[0m\u001b[0;34m,\u001b[0m \u001b[0mright\u001b[0m \u001b[0;34m=\u001b[0m \u001b[0mpolyutils\u001b[0m\u001b[0;34m.\u001b[0m\u001b[0mtrace_poly\u001b[0m\u001b[0;34m(\u001b[0m\u001b[0mpolyutils\u001b[0m\u001b[0;34m.\u001b[0m\u001b[0mboundary_edges\u001b[0m\u001b[0;34m(\u001b[0m\u001b[0mpolys\u001b[0m\u001b[0;34m)\u001b[0m\u001b[0;34m)\u001b[0m\u001b[0;34m\u001b[0m\u001b[0;34m\u001b[0m\u001b[0m\n\u001b[1;32m    333\u001b[0m \u001b[0;34m\u001b[0m\u001b[0m\n",
      "\u001b[0;32m/usr/local/anaconda3/envs/sampark/lib/python3.7/site-packages/cortex/database.py\u001b[0m in \u001b[0;36mmemofn\u001b[0;34m(self, *args, **kwargs)\u001b[0m\n\u001b[1;32m     28\u001b[0m         \u001b[0mh\u001b[0m \u001b[0;34m=\u001b[0m \u001b[0mstr\u001b[0m\u001b[0;34m(\u001b[0m\u001b[0;34m(\u001b[0m\u001b[0mid\u001b[0m\u001b[0;34m(\u001b[0m\u001b[0mfn\u001b[0m\u001b[0;34m)\u001b[0m\u001b[0;34m,\u001b[0m \u001b[0margs\u001b[0m\u001b[0;34m,\u001b[0m \u001b[0mkwargs\u001b[0m\u001b[0;34m)\u001b[0m\u001b[0;34m)\u001b[0m\u001b[0;34m\u001b[0m\u001b[0;34m\u001b[0m\u001b[0m\n\u001b[1;32m     29\u001b[0m         \u001b[0;32mif\u001b[0m \u001b[0mh\u001b[0m \u001b[0;32mnot\u001b[0m \u001b[0;32min\u001b[0m \u001b[0mself\u001b[0m\u001b[0;34m.\u001b[0m\u001b[0m_memocache\u001b[0m\u001b[0;34m:\u001b[0m\u001b[0;34m\u001b[0m\u001b[0;34m\u001b[0m\u001b[0m\n\u001b[0;32m---> 30\u001b[0;31m             \u001b[0mself\u001b[0m\u001b[0;34m.\u001b[0m\u001b[0m_memocache\u001b[0m\u001b[0;34m[\u001b[0m\u001b[0mh\u001b[0m\u001b[0;34m]\u001b[0m \u001b[0;34m=\u001b[0m \u001b[0mfn\u001b[0m\u001b[0;34m(\u001b[0m\u001b[0mself\u001b[0m\u001b[0;34m,\u001b[0m \u001b[0;34m*\u001b[0m\u001b[0margs\u001b[0m\u001b[0;34m,\u001b[0m \u001b[0;34m**\u001b[0m\u001b[0mkwargs\u001b[0m\u001b[0;34m)\u001b[0m\u001b[0;34m\u001b[0m\u001b[0;34m\u001b[0m\u001b[0m\n\u001b[0m\u001b[1;32m     31\u001b[0m         \u001b[0;32mreturn\u001b[0m \u001b[0mcopy\u001b[0m\u001b[0;34m.\u001b[0m\u001b[0mdeepcopy\u001b[0m\u001b[0;34m(\u001b[0m\u001b[0mself\u001b[0m\u001b[0;34m.\u001b[0m\u001b[0m_memocache\u001b[0m\u001b[0;34m[\u001b[0m\u001b[0mh\u001b[0m\u001b[0;34m]\u001b[0m\u001b[0;34m)\u001b[0m\u001b[0;34m\u001b[0m\u001b[0;34m\u001b[0m\u001b[0m\n\u001b[1;32m     32\u001b[0m \u001b[0;34m\u001b[0m\u001b[0m\n",
      "\u001b[0;32m/usr/local/anaconda3/envs/sampark/lib/python3.7/site-packages/cortex/database.py\u001b[0m in \u001b[0;36mget_surf\u001b[0;34m(self, subject, type, hemisphere, merge, nudge)\u001b[0m\n\u001b[1;32m    484\u001b[0m             \u001b[0;32mpass\u001b[0m\u001b[0;34m\u001b[0m\u001b[0;34m\u001b[0m\u001b[0m\n\u001b[1;32m    485\u001b[0m \u001b[0;34m\u001b[0m\u001b[0m\n\u001b[0;32m--> 486\u001b[0;31m         \u001b[0mfiles\u001b[0m \u001b[0;34m=\u001b[0m \u001b[0mself\u001b[0m\u001b[0;34m.\u001b[0m\u001b[0mget_paths\u001b[0m\u001b[0;34m(\u001b[0m\u001b[0msubject\u001b[0m\u001b[0;34m)\u001b[0m\u001b[0;34m[\u001b[0m\u001b[0;34m'surfs'\u001b[0m\u001b[0;34m]\u001b[0m\u001b[0;34m\u001b[0m\u001b[0;34m\u001b[0m\u001b[0m\n\u001b[0m\u001b[1;32m    487\u001b[0m \u001b[0;34m\u001b[0m\u001b[0m\n\u001b[1;32m    488\u001b[0m         \u001b[0;32mif\u001b[0m \u001b[0mhemisphere\u001b[0m\u001b[0;34m.\u001b[0m\u001b[0mlower\u001b[0m\u001b[0;34m(\u001b[0m\u001b[0;34m)\u001b[0m \u001b[0;34m==\u001b[0m \u001b[0;34m\"both\"\u001b[0m\u001b[0;34m:\u001b[0m\u001b[0;34m\u001b[0m\u001b[0;34m\u001b[0m\u001b[0m\n",
      "\u001b[0;32m/usr/local/anaconda3/envs/sampark/lib/python3.7/site-packages/cortex/database.py\u001b[0m in \u001b[0;36mget_paths\u001b[0;34m(self, subject)\u001b[0m\n\u001b[1;32m    658\u001b[0m \u001b[0;34m\u001b[0m\u001b[0m\n\u001b[1;32m    659\u001b[0m         \u001b[0msurfs\u001b[0m \u001b[0;34m=\u001b[0m \u001b[0mdict\u001b[0m\u001b[0;34m(\u001b[0m\u001b[0;34m)\u001b[0m\u001b[0;34m\u001b[0m\u001b[0;34m\u001b[0m\u001b[0m\n\u001b[0;32m--> 660\u001b[0;31m         \u001b[0;32mfor\u001b[0m \u001b[0msurf\u001b[0m \u001b[0;32min\u001b[0m \u001b[0mos\u001b[0m\u001b[0;34m.\u001b[0m\u001b[0mlistdir\u001b[0m\u001b[0;34m(\u001b[0m\u001b[0msurfpath\u001b[0m\u001b[0;34m)\u001b[0m\u001b[0;34m:\u001b[0m\u001b[0;34m\u001b[0m\u001b[0;34m\u001b[0m\u001b[0m\n\u001b[0m\u001b[1;32m    661\u001b[0m             \u001b[0mssurf\u001b[0m \u001b[0;34m=\u001b[0m \u001b[0mos\u001b[0m\u001b[0;34m.\u001b[0m\u001b[0mpath\u001b[0m\u001b[0;34m.\u001b[0m\u001b[0msplitext\u001b[0m\u001b[0;34m(\u001b[0m\u001b[0msurf\u001b[0m\u001b[0;34m)\u001b[0m\u001b[0;34m[\u001b[0m\u001b[0;36m0\u001b[0m\u001b[0;34m]\u001b[0m\u001b[0;34m.\u001b[0m\u001b[0msplit\u001b[0m\u001b[0;34m(\u001b[0m\u001b[0;34m'_'\u001b[0m\u001b[0;34m)\u001b[0m\u001b[0;34m\u001b[0m\u001b[0;34m\u001b[0m\u001b[0m\n\u001b[1;32m    662\u001b[0m             \u001b[0mname\u001b[0m \u001b[0;34m=\u001b[0m \u001b[0;34m'_'\u001b[0m\u001b[0;34m.\u001b[0m\u001b[0mjoin\u001b[0m\u001b[0;34m(\u001b[0m\u001b[0mssurf\u001b[0m\u001b[0;34m[\u001b[0m\u001b[0;34m:\u001b[0m\u001b[0;34m-\u001b[0m\u001b[0;36m1\u001b[0m\u001b[0;34m]\u001b[0m\u001b[0;34m)\u001b[0m\u001b[0;34m\u001b[0m\u001b[0;34m\u001b[0m\u001b[0m\n",
      "\u001b[0;31mFileNotFoundError\u001b[0m: [Errno 2] No such file or directory: 'build/bdist.macosx-10.9-x86_64/wheel/pycortex-1.2.0.data/data/share/pycortex/db/S1/surfaces'"
     ]
    },
    {
     "data": {
      "image/png": "[encoded data removed]",
      "text/plain": [
       "<Figure size 432x288 with 1 Axes>"
      ]
     },
     "metadata": {
      "image/png": {
       "height": 322,
       "width": 477
      },
      "needs_background": "light"
     },
     "output_type": "display_data"
    }
   ],
   "source": [
    "# Yikes that doesn't look too good! It doesn't seem like we were able to predict much of anything here :(\n",
    "# to be sure, let's look at a brain map of the correlations!\n",
    "\n",
    "import cortex\n",
    "\n",
    "corr_volume = cortex.Volume(test_correlations, 'S1', 'fullhead', mask=brain_mask, vmin=-0.3, vmax=0.3, cmap='RdBu_r')\n",
    "cortex.quickshow(corr_volume);"
   ]
  },
  {
   "cell_type": "code",
   "execution_count": null,
   "metadata": {},
   "outputs": [],
   "source": [
    "# you can also look at it in 3D!\n",
    "\n",
    "cortex.webshow(corr_volume, open_browser=False)"
   ]
  },
  {
   "cell_type": "markdown",
   "metadata": {},
   "source": [
    "# That's it for OLS 👎\n",
    "It did not work well. Let's improve things in the next module!"
   ]
  }
 ],
 "metadata": {
  "kernelspec": {
   "display_name": "sampark",
   "language": "python",
   "name": "sampark"
  },
  "language_info": {
   "codemirror_mode": {
    "name": "ipython",
    "version": 3
   },
   "file_extension": ".py",
   "mimetype": "text/x-python",
   "name": "python",
   "nbconvert_exporter": "python",
   "pygments_lexer": "ipython3",
   "version": "3.7.10"
  }
 },
 "nbformat": 4,
 "nbformat_minor": 2
}
